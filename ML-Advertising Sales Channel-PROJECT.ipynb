{
 "cells": [
  {
   "cell_type": "code",
   "execution_count": 1,
   "id": "8454b472",
   "metadata": {},
   "outputs": [],
   "source": [
    "#  import libaries\n",
    "import pandas as pd\n",
    "import numpy as np\n",
    "import matplotlib.pyplot as plt\n",
    "import seaborn as sns\n",
    "\n",
    "import warnings\n",
    "warnings.filterwarnings('ignore')"
   ]
  },
  {
   "cell_type": "code",
   "execution_count": 2,
   "id": "864ec26c",
   "metadata": {},
   "outputs": [],
   "source": [
    "# import diffrent models\n",
    "import sklearn\n",
    "from sklearn.linear_model import LinearRegression\n",
    "# import regressor\n",
    "from sklearn.tree import DecisionTreeRegressor\n",
    "from sklearn.svm import SVR\n",
    "from sklearn.neighbors import KNeighborsRegressor\n",
    "# import  ensemble regressor\n",
    "from sklearn.ensemble import RandomForestRegressor\n",
    "from sklearn.ensemble import AdaBoostRegressor\n",
    "from sklearn.ensemble import GradientBoostingRegressor"
   ]
  },
  {
   "cell_type": "code",
   "execution_count": 3,
   "id": "3f4f2b76",
   "metadata": {},
   "outputs": [],
   "source": [
    "# import diffrent model selection method\n",
    "from sklearn.model_selection import train_test_split\n",
    "from sklearn.model_selection import cross_val_score\n",
    "from sklearn.model_selection import GridSearchCV\n",
    "from sklearn.model_selection import RandomizedSearchCV"
   ]
  },
  {
   "cell_type": "code",
   "execution_count": 4,
   "id": "d799e2e9",
   "metadata": {},
   "outputs": [],
   "source": [
    "# import error\n",
    "from sklearn.metrics import mean_absolute_error,mean_squared_error,r2_score"
   ]
  },
  {
   "cell_type": "code",
   "execution_count": 5,
   "id": "331a05b9",
   "metadata": {},
   "outputs": [
    {
     "data": {
      "text/html": [
       "<div>\n",
       "<style scoped>\n",
       "    .dataframe tbody tr th:only-of-type {\n",
       "        vertical-align: middle;\n",
       "    }\n",
       "\n",
       "    .dataframe tbody tr th {\n",
       "        vertical-align: top;\n",
       "    }\n",
       "\n",
       "    .dataframe thead th {\n",
       "        text-align: right;\n",
       "    }\n",
       "</style>\n",
       "<table border=\"1\" class=\"dataframe\">\n",
       "  <thead>\n",
       "    <tr style=\"text-align: right;\">\n",
       "      <th></th>\n",
       "      <th>Unnamed: 0</th>\n",
       "      <th>TV</th>\n",
       "      <th>radio</th>\n",
       "      <th>newspaper</th>\n",
       "      <th>sales</th>\n",
       "    </tr>\n",
       "  </thead>\n",
       "  <tbody>\n",
       "    <tr>\n",
       "      <th>0</th>\n",
       "      <td>1</td>\n",
       "      <td>230.1</td>\n",
       "      <td>37.8</td>\n",
       "      <td>69.2</td>\n",
       "      <td>22.1</td>\n",
       "    </tr>\n",
       "    <tr>\n",
       "      <th>1</th>\n",
       "      <td>2</td>\n",
       "      <td>44.5</td>\n",
       "      <td>39.3</td>\n",
       "      <td>45.1</td>\n",
       "      <td>10.4</td>\n",
       "    </tr>\n",
       "    <tr>\n",
       "      <th>2</th>\n",
       "      <td>3</td>\n",
       "      <td>17.2</td>\n",
       "      <td>45.9</td>\n",
       "      <td>69.3</td>\n",
       "      <td>9.3</td>\n",
       "    </tr>\n",
       "    <tr>\n",
       "      <th>3</th>\n",
       "      <td>4</td>\n",
       "      <td>151.5</td>\n",
       "      <td>41.3</td>\n",
       "      <td>58.5</td>\n",
       "      <td>18.5</td>\n",
       "    </tr>\n",
       "    <tr>\n",
       "      <th>4</th>\n",
       "      <td>5</td>\n",
       "      <td>180.8</td>\n",
       "      <td>10.8</td>\n",
       "      <td>58.4</td>\n",
       "      <td>12.9</td>\n",
       "    </tr>\n",
       "    <tr>\n",
       "      <th>...</th>\n",
       "      <td>...</td>\n",
       "      <td>...</td>\n",
       "      <td>...</td>\n",
       "      <td>...</td>\n",
       "      <td>...</td>\n",
       "    </tr>\n",
       "    <tr>\n",
       "      <th>195</th>\n",
       "      <td>196</td>\n",
       "      <td>38.2</td>\n",
       "      <td>3.7</td>\n",
       "      <td>13.8</td>\n",
       "      <td>7.6</td>\n",
       "    </tr>\n",
       "    <tr>\n",
       "      <th>196</th>\n",
       "      <td>197</td>\n",
       "      <td>94.2</td>\n",
       "      <td>4.9</td>\n",
       "      <td>8.1</td>\n",
       "      <td>9.7</td>\n",
       "    </tr>\n",
       "    <tr>\n",
       "      <th>197</th>\n",
       "      <td>198</td>\n",
       "      <td>177.0</td>\n",
       "      <td>9.3</td>\n",
       "      <td>6.4</td>\n",
       "      <td>12.8</td>\n",
       "    </tr>\n",
       "    <tr>\n",
       "      <th>198</th>\n",
       "      <td>199</td>\n",
       "      <td>283.6</td>\n",
       "      <td>42.0</td>\n",
       "      <td>66.2</td>\n",
       "      <td>25.5</td>\n",
       "    </tr>\n",
       "    <tr>\n",
       "      <th>199</th>\n",
       "      <td>200</td>\n",
       "      <td>232.1</td>\n",
       "      <td>8.6</td>\n",
       "      <td>8.7</td>\n",
       "      <td>13.4</td>\n",
       "    </tr>\n",
       "  </tbody>\n",
       "</table>\n",
       "<p>200 rows × 5 columns</p>\n",
       "</div>"
      ],
      "text/plain": [
       "     Unnamed: 0     TV  radio  newspaper  sales\n",
       "0             1  230.1   37.8       69.2   22.1\n",
       "1             2   44.5   39.3       45.1   10.4\n",
       "2             3   17.2   45.9       69.3    9.3\n",
       "3             4  151.5   41.3       58.5   18.5\n",
       "4             5  180.8   10.8       58.4   12.9\n",
       "..          ...    ...    ...        ...    ...\n",
       "195         196   38.2    3.7       13.8    7.6\n",
       "196         197   94.2    4.9        8.1    9.7\n",
       "197         198  177.0    9.3        6.4   12.8\n",
       "198         199  283.6   42.0       66.2   25.5\n",
       "199         200  232.1    8.6        8.7   13.4\n",
       "\n",
       "[200 rows x 5 columns]"
      ]
     },
     "execution_count": 5,
     "metadata": {},
     "output_type": "execute_result"
    }
   ],
   "source": [
    "# loaded dataset\n",
    "ds=pd.read_csv('Advertising Sales Channel.csv')\n",
    "# put into aframe\n",
    "df=pd.DataFrame(data=ds)\n",
    "df"
   ]
  },
  {
   "cell_type": "code",
   "execution_count": 6,
   "id": "2fd2309f",
   "metadata": {},
   "outputs": [],
   "source": [
    "df.drop('Unnamed: 0',axis=1,inplace=True)    #remove unnecessary column"
   ]
  },
  {
   "cell_type": "code",
   "execution_count": 7,
   "id": "526658a1",
   "metadata": {},
   "outputs": [
    {
     "data": {
      "text/html": [
       "<div>\n",
       "<style scoped>\n",
       "    .dataframe tbody tr th:only-of-type {\n",
       "        vertical-align: middle;\n",
       "    }\n",
       "\n",
       "    .dataframe tbody tr th {\n",
       "        vertical-align: top;\n",
       "    }\n",
       "\n",
       "    .dataframe thead th {\n",
       "        text-align: right;\n",
       "    }\n",
       "</style>\n",
       "<table border=\"1\" class=\"dataframe\">\n",
       "  <thead>\n",
       "    <tr style=\"text-align: right;\">\n",
       "      <th></th>\n",
       "      <th>TV</th>\n",
       "      <th>radio</th>\n",
       "      <th>newspaper</th>\n",
       "      <th>sales</th>\n",
       "    </tr>\n",
       "  </thead>\n",
       "  <tbody>\n",
       "    <tr>\n",
       "      <th>0</th>\n",
       "      <td>230.1</td>\n",
       "      <td>37.8</td>\n",
       "      <td>69.2</td>\n",
       "      <td>22.1</td>\n",
       "    </tr>\n",
       "    <tr>\n",
       "      <th>1</th>\n",
       "      <td>44.5</td>\n",
       "      <td>39.3</td>\n",
       "      <td>45.1</td>\n",
       "      <td>10.4</td>\n",
       "    </tr>\n",
       "    <tr>\n",
       "      <th>2</th>\n",
       "      <td>17.2</td>\n",
       "      <td>45.9</td>\n",
       "      <td>69.3</td>\n",
       "      <td>9.3</td>\n",
       "    </tr>\n",
       "    <tr>\n",
       "      <th>3</th>\n",
       "      <td>151.5</td>\n",
       "      <td>41.3</td>\n",
       "      <td>58.5</td>\n",
       "      <td>18.5</td>\n",
       "    </tr>\n",
       "    <tr>\n",
       "      <th>4</th>\n",
       "      <td>180.8</td>\n",
       "      <td>10.8</td>\n",
       "      <td>58.4</td>\n",
       "      <td>12.9</td>\n",
       "    </tr>\n",
       "    <tr>\n",
       "      <th>...</th>\n",
       "      <td>...</td>\n",
       "      <td>...</td>\n",
       "      <td>...</td>\n",
       "      <td>...</td>\n",
       "    </tr>\n",
       "    <tr>\n",
       "      <th>195</th>\n",
       "      <td>38.2</td>\n",
       "      <td>3.7</td>\n",
       "      <td>13.8</td>\n",
       "      <td>7.6</td>\n",
       "    </tr>\n",
       "    <tr>\n",
       "      <th>196</th>\n",
       "      <td>94.2</td>\n",
       "      <td>4.9</td>\n",
       "      <td>8.1</td>\n",
       "      <td>9.7</td>\n",
       "    </tr>\n",
       "    <tr>\n",
       "      <th>197</th>\n",
       "      <td>177.0</td>\n",
       "      <td>9.3</td>\n",
       "      <td>6.4</td>\n",
       "      <td>12.8</td>\n",
       "    </tr>\n",
       "    <tr>\n",
       "      <th>198</th>\n",
       "      <td>283.6</td>\n",
       "      <td>42.0</td>\n",
       "      <td>66.2</td>\n",
       "      <td>25.5</td>\n",
       "    </tr>\n",
       "    <tr>\n",
       "      <th>199</th>\n",
       "      <td>232.1</td>\n",
       "      <td>8.6</td>\n",
       "      <td>8.7</td>\n",
       "      <td>13.4</td>\n",
       "    </tr>\n",
       "  </tbody>\n",
       "</table>\n",
       "<p>200 rows × 4 columns</p>\n",
       "</div>"
      ],
      "text/plain": [
       "        TV  radio  newspaper  sales\n",
       "0    230.1   37.8       69.2   22.1\n",
       "1     44.5   39.3       45.1   10.4\n",
       "2     17.2   45.9       69.3    9.3\n",
       "3    151.5   41.3       58.5   18.5\n",
       "4    180.8   10.8       58.4   12.9\n",
       "..     ...    ...        ...    ...\n",
       "195   38.2    3.7       13.8    7.6\n",
       "196   94.2    4.9        8.1    9.7\n",
       "197  177.0    9.3        6.4   12.8\n",
       "198  283.6   42.0       66.2   25.5\n",
       "199  232.1    8.6        8.7   13.4\n",
       "\n",
       "[200 rows x 4 columns]"
      ]
     },
     "execution_count": 7,
     "metadata": {},
     "output_type": "execute_result"
    }
   ],
   "source": [
    "df   #after removed unnecessary columns "
   ]
  },
  {
   "cell_type": "code",
   "execution_count": 8,
   "id": "fe3f6501",
   "metadata": {},
   "outputs": [
    {
     "data": {
      "text/plain": [
       "(200, 4)"
      ]
     },
     "execution_count": 8,
     "metadata": {},
     "output_type": "execute_result"
    }
   ],
   "source": [
    "df.shape #check shape of dataset"
   ]
  },
  {
   "cell_type": "markdown",
   "id": "921a6ae1",
   "metadata": {},
   "source": [
    "dataset divided into 4 columns and 200 rows"
   ]
  },
  {
   "cell_type": "code",
   "execution_count": 9,
   "id": "e955884b",
   "metadata": {},
   "outputs": [
    {
     "data": {
      "text/html": [
       "<div>\n",
       "<style scoped>\n",
       "    .dataframe tbody tr th:only-of-type {\n",
       "        vertical-align: middle;\n",
       "    }\n",
       "\n",
       "    .dataframe tbody tr th {\n",
       "        vertical-align: top;\n",
       "    }\n",
       "\n",
       "    .dataframe thead th {\n",
       "        text-align: right;\n",
       "    }\n",
       "</style>\n",
       "<table border=\"1\" class=\"dataframe\">\n",
       "  <thead>\n",
       "    <tr style=\"text-align: right;\">\n",
       "      <th></th>\n",
       "      <th>TV</th>\n",
       "      <th>radio</th>\n",
       "      <th>newspaper</th>\n",
       "      <th>sales</th>\n",
       "    </tr>\n",
       "  </thead>\n",
       "  <tbody>\n",
       "    <tr>\n",
       "      <th>0</th>\n",
       "      <td>230.1</td>\n",
       "      <td>37.8</td>\n",
       "      <td>69.2</td>\n",
       "      <td>22.1</td>\n",
       "    </tr>\n",
       "    <tr>\n",
       "      <th>1</th>\n",
       "      <td>44.5</td>\n",
       "      <td>39.3</td>\n",
       "      <td>45.1</td>\n",
       "      <td>10.4</td>\n",
       "    </tr>\n",
       "    <tr>\n",
       "      <th>2</th>\n",
       "      <td>17.2</td>\n",
       "      <td>45.9</td>\n",
       "      <td>69.3</td>\n",
       "      <td>9.3</td>\n",
       "    </tr>\n",
       "    <tr>\n",
       "      <th>3</th>\n",
       "      <td>151.5</td>\n",
       "      <td>41.3</td>\n",
       "      <td>58.5</td>\n",
       "      <td>18.5</td>\n",
       "    </tr>\n",
       "    <tr>\n",
       "      <th>4</th>\n",
       "      <td>180.8</td>\n",
       "      <td>10.8</td>\n",
       "      <td>58.4</td>\n",
       "      <td>12.9</td>\n",
       "    </tr>\n",
       "  </tbody>\n",
       "</table>\n",
       "</div>"
      ],
      "text/plain": [
       "      TV  radio  newspaper  sales\n",
       "0  230.1   37.8       69.2   22.1\n",
       "1   44.5   39.3       45.1   10.4\n",
       "2   17.2   45.9       69.3    9.3\n",
       "3  151.5   41.3       58.5   18.5\n",
       "4  180.8   10.8       58.4   12.9"
      ]
     },
     "execution_count": 9,
     "metadata": {},
     "output_type": "execute_result"
    }
   ],
   "source": [
    "df.head()    #check upper top 5 row of dataset"
   ]
  },
  {
   "cell_type": "markdown",
   "id": "2643601c",
   "metadata": {},
   "source": [
    "By code head parameter ,dataset top 5 row "
   ]
  },
  {
   "cell_type": "code",
   "execution_count": 10,
   "id": "1e03fbef",
   "metadata": {
    "scrolled": true
   },
   "outputs": [
    {
     "data": {
      "text/html": [
       "<div>\n",
       "<style scoped>\n",
       "    .dataframe tbody tr th:only-of-type {\n",
       "        vertical-align: middle;\n",
       "    }\n",
       "\n",
       "    .dataframe tbody tr th {\n",
       "        vertical-align: top;\n",
       "    }\n",
       "\n",
       "    .dataframe thead th {\n",
       "        text-align: right;\n",
       "    }\n",
       "</style>\n",
       "<table border=\"1\" class=\"dataframe\">\n",
       "  <thead>\n",
       "    <tr style=\"text-align: right;\">\n",
       "      <th></th>\n",
       "      <th>TV</th>\n",
       "      <th>radio</th>\n",
       "      <th>newspaper</th>\n",
       "      <th>sales</th>\n",
       "    </tr>\n",
       "  </thead>\n",
       "  <tbody>\n",
       "    <tr>\n",
       "      <th>195</th>\n",
       "      <td>38.2</td>\n",
       "      <td>3.7</td>\n",
       "      <td>13.8</td>\n",
       "      <td>7.6</td>\n",
       "    </tr>\n",
       "    <tr>\n",
       "      <th>196</th>\n",
       "      <td>94.2</td>\n",
       "      <td>4.9</td>\n",
       "      <td>8.1</td>\n",
       "      <td>9.7</td>\n",
       "    </tr>\n",
       "    <tr>\n",
       "      <th>197</th>\n",
       "      <td>177.0</td>\n",
       "      <td>9.3</td>\n",
       "      <td>6.4</td>\n",
       "      <td>12.8</td>\n",
       "    </tr>\n",
       "    <tr>\n",
       "      <th>198</th>\n",
       "      <td>283.6</td>\n",
       "      <td>42.0</td>\n",
       "      <td>66.2</td>\n",
       "      <td>25.5</td>\n",
       "    </tr>\n",
       "    <tr>\n",
       "      <th>199</th>\n",
       "      <td>232.1</td>\n",
       "      <td>8.6</td>\n",
       "      <td>8.7</td>\n",
       "      <td>13.4</td>\n",
       "    </tr>\n",
       "  </tbody>\n",
       "</table>\n",
       "</div>"
      ],
      "text/plain": [
       "        TV  radio  newspaper  sales\n",
       "195   38.2    3.7       13.8    7.6\n",
       "196   94.2    4.9        8.1    9.7\n",
       "197  177.0    9.3        6.4   12.8\n",
       "198  283.6   42.0       66.2   25.5\n",
       "199  232.1    8.6        8.7   13.4"
      ]
     },
     "execution_count": 10,
     "metadata": {},
     "output_type": "execute_result"
    }
   ],
   "source": [
    "df.tail()  #check lower 5 rows of dataset"
   ]
  },
  {
   "cell_type": "markdown",
   "id": "1c98ea68",
   "metadata": {},
   "source": [
    "By code tail parameter see dataset last 5 row"
   ]
  },
  {
   "cell_type": "code",
   "execution_count": 11,
   "id": "8f797c0c",
   "metadata": {},
   "outputs": [
    {
     "data": {
      "text/html": [
       "<div>\n",
       "<style scoped>\n",
       "    .dataframe tbody tr th:only-of-type {\n",
       "        vertical-align: middle;\n",
       "    }\n",
       "\n",
       "    .dataframe tbody tr th {\n",
       "        vertical-align: top;\n",
       "    }\n",
       "\n",
       "    .dataframe thead th {\n",
       "        text-align: right;\n",
       "    }\n",
       "</style>\n",
       "<table border=\"1\" class=\"dataframe\">\n",
       "  <thead>\n",
       "    <tr style=\"text-align: right;\">\n",
       "      <th></th>\n",
       "      <th>TV</th>\n",
       "      <th>radio</th>\n",
       "      <th>newspaper</th>\n",
       "      <th>sales</th>\n",
       "    </tr>\n",
       "  </thead>\n",
       "  <tbody>\n",
       "    <tr>\n",
       "      <th>41</th>\n",
       "      <td>177.0</td>\n",
       "      <td>33.4</td>\n",
       "      <td>38.7</td>\n",
       "      <td>17.1</td>\n",
       "    </tr>\n",
       "  </tbody>\n",
       "</table>\n",
       "</div>"
      ],
      "text/plain": [
       "       TV  radio  newspaper  sales\n",
       "41  177.0   33.4       38.7   17.1"
      ]
     },
     "execution_count": 11,
     "metadata": {},
     "output_type": "execute_result"
    }
   ],
   "source": [
    "df.sample()  #random row"
   ]
  },
  {
   "cell_type": "markdown",
   "id": "a11dce3f",
   "metadata": {},
   "source": [
    "By code sample parameter it generate any random number row into dataset"
   ]
  },
  {
   "cell_type": "code",
   "execution_count": 12,
   "id": "9e754d7f",
   "metadata": {
    "scrolled": true
   },
   "outputs": [
    {
     "name": "stdout",
     "output_type": "stream",
     "text": [
      "<class 'pandas.core.frame.DataFrame'>\n",
      "RangeIndex: 200 entries, 0 to 199\n",
      "Data columns (total 4 columns):\n",
      " #   Column     Non-Null Count  Dtype  \n",
      "---  ------     --------------  -----  \n",
      " 0   TV         200 non-null    float64\n",
      " 1   radio      200 non-null    float64\n",
      " 2   newspaper  200 non-null    float64\n",
      " 3   sales      200 non-null    float64\n",
      "dtypes: float64(4)\n",
      "memory usage: 6.4 KB\n"
     ]
    }
   ],
   "source": [
    "df.info()    #alll information of dataset like null_value,dtype  etc"
   ]
  },
  {
   "cell_type": "markdown",
   "id": "e5dc48c7",
   "metadata": {},
   "source": [
    "By info parameter we get that all 4 variable have float data_type and there is no null value are present"
   ]
  },
  {
   "cell_type": "code",
   "execution_count": 13,
   "id": "7829464d",
   "metadata": {},
   "outputs": [
    {
     "data": {
      "text/plain": [
       "TV           float64\n",
       "radio        float64\n",
       "newspaper    float64\n",
       "sales        float64\n",
       "dtype: object"
      ]
     },
     "execution_count": 13,
     "metadata": {},
     "output_type": "execute_result"
    }
   ],
   "source": [
    "df.dtypes   #check data type separetly"
   ]
  },
  {
   "cell_type": "code",
   "execution_count": 14,
   "id": "b0b393c9",
   "metadata": {},
   "outputs": [
    {
     "data": {
      "text/plain": [
       "pandas.core.frame.DataFrame"
      ]
     },
     "execution_count": 14,
     "metadata": {},
     "output_type": "execute_result"
    }
   ],
   "source": [
    "type(df)  #check full daatset type"
   ]
  },
  {
   "cell_type": "code",
   "execution_count": 15,
   "id": "cfc667f5",
   "metadata": {
    "scrolled": true
   },
   "outputs": [
    {
     "data": {
      "text/plain": [
       "TV           0\n",
       "radio        0\n",
       "newspaper    0\n",
       "sales        0\n",
       "dtype: int64"
      ]
     },
     "execution_count": 15,
     "metadata": {},
     "output_type": "execute_result"
    }
   ],
   "source": [
    "df.isnull().sum()   #check null value in dataset"
   ]
  },
  {
   "cell_type": "markdown",
   "id": "8d4b186a",
   "metadata": {},
   "source": [
    "There is no value are present"
   ]
  },
  {
   "cell_type": "code",
   "execution_count": 16,
   "id": "ff40d216",
   "metadata": {
    "scrolled": true
   },
   "outputs": [
    {
     "data": {
      "text/plain": [
       "<AxesSubplot:>"
      ]
     },
     "execution_count": 16,
     "metadata": {},
     "output_type": "execute_result"
    },
    {
     "data": {
      "image/png": "[encoded data removed]",
      "text/plain": [
       "<Figure size 432x288 with 2 Axes>"
      ]
     },
     "metadata": {
      "needs_background": "light"
     },
     "output_type": "display_data"
    }
   ],
   "source": [
    "sns.heatmap(df.isnull())  #ploting null value in visulaization "
   ]
  },
  {
   "cell_type": "markdown",
   "id": "601c15cf",
   "metadata": {},
   "source": [
    "By the help of ploting analysis of null value"
   ]
  },
  {
   "cell_type": "markdown",
   "id": "ae0b2b81",
   "metadata": {},
   "source": [
    "# UNIQUE VALUE"
   ]
  },
  {
   "cell_type": "code",
   "execution_count": 17,
   "id": "dcfa40ab",
   "metadata": {},
   "outputs": [
    {
     "data": {
      "text/plain": [
       "array([230.1,  44.5,  17.2, 151.5, 180.8,   8.7,  57.5, 120.2,   8.6,\n",
       "       199.8,  66.1, 214.7,  23.8,  97.5, 204.1, 195.4,  67.8, 281.4,\n",
       "        69.2, 147.3, 218.4, 237.4,  13.2, 228.3,  62.3, 262.9, 142.9,\n",
       "       240.1, 248.8,  70.6, 292.9, 112.9,  97.2, 265.6,  95.7, 290.7,\n",
       "       266.9,  74.7,  43.1, 228. , 202.5, 177. , 293.6, 206.9,  25.1,\n",
       "       175.1,  89.7, 239.9, 227.2,  66.9, 100.4, 216.4, 182.6, 262.7,\n",
       "       198.9,   7.3, 136.2, 210.8, 210.7,  53.5, 261.3, 239.3, 102.7,\n",
       "       131.1,  69. ,  31.5, 139.3, 216.8, 199.1, 109.8,  26.8, 129.4,\n",
       "       213.4,  16.9,  27.5, 120.5,   5.4, 116. ,  76.4, 239.8,  75.3,\n",
       "        68.4, 213.5, 193.2,  76.3, 110.7,  88.3, 134.3,  28.6, 217.7,\n",
       "       250.9, 107.4, 163.3, 197.6, 184.9, 289.7, 135.2, 222.4, 296.4,\n",
       "       280.2, 187.9, 238.2, 137.9,  25. ,  90.4,  13.1, 255.4, 225.8,\n",
       "       241.7, 175.7, 209.6,  78.2,  75.1, 139.2, 125.7,  19.4, 141.3,\n",
       "        18.8, 224. , 123.1, 229.5,  87.2,   7.8,  80.2, 220.3,  59.6,\n",
       "         0.7, 265.2,   8.4, 219.8,  36.9,  48.3,  25.6, 273.7,  43. ,\n",
       "        73.4, 193.7, 220.5, 104.6,  96.2, 140.3, 243.2,  38. ,  44.7,\n",
       "       280.7, 121. , 171.3, 187.8,   4.1,  93.9, 149.8,  11.7, 131.7,\n",
       "       172.5,  85.7, 188.4, 163.5, 117.2, 234.5,  17.9, 206.8, 215.4,\n",
       "       284.3,  50. , 164.5,  19.6, 168.4, 276.9, 248.4, 170.2, 276.7,\n",
       "       165.6, 156.6, 218.5,  56.2, 287.6, 253.8, 205. , 139.5, 191.1,\n",
       "       286. ,  18.7,  39.5,  75.5, 166.8, 149.7,  38.2,  94.2, 283.6,\n",
       "       232.1])"
      ]
     },
     "execution_count": 17,
     "metadata": {},
     "output_type": "execute_result"
    }
   ],
   "source": [
    "df['TV'].unique()   #UNIQUE VALUE OF TV"
   ]
  },
  {
   "cell_type": "code",
   "execution_count": 18,
   "id": "ae1444f3",
   "metadata": {},
   "outputs": [
    {
     "data": {
      "text/plain": [
       "array([37.8, 39.3, 45.9, 41.3, 10.8, 48.9, 32.8, 19.6,  2.1,  2.6,  5.8,\n",
       "       24. , 35.1,  7.6, 32.9, 47.7, 36.6, 39.6, 20.5, 23.9, 27.7,  5.1,\n",
       "       15.9, 16.9, 12.6,  3.5, 29.3, 16.7, 27.1, 16. , 28.3, 17.4,  1.5,\n",
       "       20. ,  1.4,  4.1, 43.8, 49.4, 26.7, 37.7, 22.3, 33.4,  8.4, 25.7,\n",
       "       22.5,  9.9, 41.5, 15.8, 11.7,  3.1,  9.6, 41.7, 46.2, 28.8, 28.1,\n",
       "       19.2, 49.6, 29.5,  2. , 42.7, 15.5, 29.6, 42.8,  9.3, 24.6, 14.5,\n",
       "       27.5, 43.9, 30.6, 14.3, 33. ,  5.7, 43.7,  1.6, 28.5, 29.9,  7.7,\n",
       "       20.3, 44.5, 43. , 18.4, 40.6, 25.5, 47.8,  4.9, 33.5, 36.5, 14. ,\n",
       "       31.6, 21. , 42.3,  4.3, 36.3, 10.1, 17.2, 34.3, 46.4, 11. ,  0.3,\n",
       "        0.4, 26.9,  8.2, 38. , 15.4, 20.6, 46.8, 35. ,  0.8, 36.9, 26.8,\n",
       "       21.7,  2.4, 34.6, 32.3, 11.8, 38.9,  0. , 49. , 12. ,  2.9, 27.2,\n",
       "       38.6, 47. , 39. , 28.9, 25.9, 17. , 35.4, 33.2, 14.8,  1.9,  7.3,\n",
       "       40.3, 25.8, 13.9, 23.3, 39.7, 21.1, 11.6, 43.5,  1.3, 18.1, 35.8,\n",
       "       36.8, 14.7,  3.4, 37.6,  5.2, 23.6, 10.6, 20.9, 20.1,  7.1, 30.2,\n",
       "        7.8,  2.3, 10. ,  5.4, 21.3, 45.1, 28.7, 12.1, 41.1, 42. , 35.6,\n",
       "        3.7,  8.6])"
      ]
     },
     "execution_count": 18,
     "metadata": {},
     "output_type": "execute_result"
    }
   ],
   "source": [
    "df['radio'].unique()   #chck unique value of radio variable"
   ]
  },
  {
   "cell_type": "code",
   "execution_count": 19,
   "id": "25f8f66e",
   "metadata": {},
   "outputs": [
    {
     "data": {
      "text/plain": [
       "array([ 69.2,  45.1,  69.3,  58.5,  58.4,  75. ,  23.5,  11.6,   1. ,\n",
       "        21.2,  24.2,   4. ,  65.9,   7.2,  46. ,  52.9, 114. ,  55.8,\n",
       "        18.3,  19.1,  53.4,  49.6,  26.2,  19.5,  12.6,  22.9,  40.8,\n",
       "        43.2,  38.6,  30. ,   0.3,   7.4,   8.5,   5. ,  45.7,  35.1,\n",
       "        32. ,  31.6,  38.7,   1.8,  26.4,  43.3,  31.5,  35.7,  18.5,\n",
       "        49.9,  36.8,  34.6,   3.6,  39.6,  58.7,  15.9,  60. ,  41.4,\n",
       "        16.6,  37.7,   9.3,  21.4,  54.7,  27.3,   8.4,  28.9,   0.9,\n",
       "         2.2,  10.2,  11. ,  27.2,  31.7,  19.3,  31.3,  13.1,  89.4,\n",
       "        20.7,  14.2,   9.4,  23.1,  22.3,  36.9,  32.5,  35.6,  33.8,\n",
       "        65.7,  16. ,  63.2,  73.4,  51.4,  33. ,  59. ,  72.3,  10.9,\n",
       "         5.9,  22. ,  51.2,  45.9,  49.8, 100.9,  17.9,   5.3,  29.7,\n",
       "        23.2,  25.6,   5.5,  56.5,   2.4,  10.7,  34.5,  52.7,  14.8,\n",
       "        79.2,  46.2,  50.4,  15.6,  12.4,  74.2,  25.9,  50.6,   9.2,\n",
       "         3.2,  43.1,   8.7,  43. ,   2.1,  65.6,  59.7,  20.5,   1.7,\n",
       "        12.9,  75.6,  37.9,  34.4,  38.9,   9. ,  44.3,  11.9,  20.6,\n",
       "        37. ,  48.7,   9.5,   5.7,  50.5,  24.3,  45.2,  30.7,  49.3,\n",
       "         5.4,  84.8,  21.6,  19.4,  57.6,   6.4,  18.4,  47.4,  17. ,\n",
       "        12.8,  41.8,  20.3,  35.2,  23.7,  17.6,   8.3,  27.4,  71.8,\n",
       "        19.6,  26.6,  18.2,   3.7,  23.4,   5.8,   6. ,  13.8,   8.1,\n",
       "        66.2])"
      ]
     },
     "execution_count": 19,
     "metadata": {},
     "output_type": "execute_result"
    }
   ],
   "source": [
    "df['newspaper'].unique()   #check unique value of newspaper variable"
   ]
  },
  {
   "cell_type": "code",
   "execution_count": 20,
   "id": "971e4706",
   "metadata": {},
   "outputs": [
    {
     "data": {
      "text/plain": [
       "array([22.1, 10.4,  9.3, 18.5, 12.9,  7.2, 11.8, 13.2,  4.8, 10.6,  8.6,\n",
       "       17.4,  9.2,  9.7, 19. , 22.4, 12.5, 24.4, 11.3, 14.6, 18. ,  5.6,\n",
       "       15.5, 12. , 15. , 15.9, 18.9, 10.5, 21.4, 11.9,  9.6,  9.5, 12.8,\n",
       "       25.4, 14.7, 10.1, 21.5, 16.6, 17.1, 20.7,  8.5, 14.9, 23.2, 14.8,\n",
       "       11.4, 10.7, 22.6, 21.2, 20.2, 23.7,  5.5, 23.8, 18.4,  8.1, 24.2,\n",
       "       15.7, 14. , 13.4, 22.3, 18.3, 12.4,  8.8, 11. , 17. ,  8.7,  6.9,\n",
       "       14.2,  5.3, 12.3, 13.6, 21.7, 15.2, 16. , 16.7, 11.2,  7.3, 19.4,\n",
       "       22.2, 11.5, 16.9, 11.7, 17.2, 19.2, 19.8, 21.8, 14.1, 12.6, 12.2,\n",
       "        9.4,  6.6,  7. , 11.6, 19.7, 24.7,  1.6, 12.7,  5.7, 19.6, 10.8,\n",
       "       20.8, 10.9, 20.1, 10.3, 16.1, 15.6,  3.2, 15.3, 14.4, 13.3,  8. ,\n",
       "        8.4, 14.5,  7.6, 27. , 26.2, 17.6, 17.3,  6.7,  9.9,  5.9, 25.5])"
      ]
     },
     "execution_count": 20,
     "metadata": {},
     "output_type": "execute_result"
    }
   ],
   "source": [
    "df['sales'].unique() #check unique value of sales variable"
   ]
  },
  {
   "cell_type": "markdown",
   "id": "ad78b43a",
   "metadata": {},
   "source": [
    "# DESCRIBE DATASET"
   ]
  },
  {
   "cell_type": "code",
   "execution_count": 21,
   "id": "653e6a77",
   "metadata": {},
   "outputs": [
    {
     "data": {
      "text/html": [
       "<div>\n",
       "<style scoped>\n",
       "    .dataframe tbody tr th:only-of-type {\n",
       "        vertical-align: middle;\n",
       "    }\n",
       "\n",
       "    .dataframe tbody tr th {\n",
       "        vertical-align: top;\n",
       "    }\n",
       "\n",
       "    .dataframe thead th {\n",
       "        text-align: right;\n",
       "    }\n",
       "</style>\n",
       "<table border=\"1\" class=\"dataframe\">\n",
       "  <thead>\n",
       "    <tr style=\"text-align: right;\">\n",
       "      <th></th>\n",
       "      <th>TV</th>\n",
       "      <th>radio</th>\n",
       "      <th>newspaper</th>\n",
       "      <th>sales</th>\n",
       "    </tr>\n",
       "  </thead>\n",
       "  <tbody>\n",
       "    <tr>\n",
       "      <th>count</th>\n",
       "      <td>200.000000</td>\n",
       "      <td>200.000000</td>\n",
       "      <td>200.000000</td>\n",
       "      <td>200.000000</td>\n",
       "    </tr>\n",
       "    <tr>\n",
       "      <th>mean</th>\n",
       "      <td>147.042500</td>\n",
       "      <td>23.264000</td>\n",
       "      <td>30.554000</td>\n",
       "      <td>14.022500</td>\n",
       "    </tr>\n",
       "    <tr>\n",
       "      <th>std</th>\n",
       "      <td>85.854236</td>\n",
       "      <td>14.846809</td>\n",
       "      <td>21.778621</td>\n",
       "      <td>5.217457</td>\n",
       "    </tr>\n",
       "    <tr>\n",
       "      <th>min</th>\n",
       "      <td>0.700000</td>\n",
       "      <td>0.000000</td>\n",
       "      <td>0.300000</td>\n",
       "      <td>1.600000</td>\n",
       "    </tr>\n",
       "    <tr>\n",
       "      <th>25%</th>\n",
       "      <td>74.375000</td>\n",
       "      <td>9.975000</td>\n",
       "      <td>12.750000</td>\n",
       "      <td>10.375000</td>\n",
       "    </tr>\n",
       "    <tr>\n",
       "      <th>50%</th>\n",
       "      <td>149.750000</td>\n",
       "      <td>22.900000</td>\n",
       "      <td>25.750000</td>\n",
       "      <td>12.900000</td>\n",
       "    </tr>\n",
       "    <tr>\n",
       "      <th>75%</th>\n",
       "      <td>218.825000</td>\n",
       "      <td>36.525000</td>\n",
       "      <td>45.100000</td>\n",
       "      <td>17.400000</td>\n",
       "    </tr>\n",
       "    <tr>\n",
       "      <th>max</th>\n",
       "      <td>296.400000</td>\n",
       "      <td>49.600000</td>\n",
       "      <td>114.000000</td>\n",
       "      <td>27.000000</td>\n",
       "    </tr>\n",
       "  </tbody>\n",
       "</table>\n",
       "</div>"
      ],
      "text/plain": [
       "               TV       radio   newspaper       sales\n",
       "count  200.000000  200.000000  200.000000  200.000000\n",
       "mean   147.042500   23.264000   30.554000   14.022500\n",
       "std     85.854236   14.846809   21.778621    5.217457\n",
       "min      0.700000    0.000000    0.300000    1.600000\n",
       "25%     74.375000    9.975000   12.750000   10.375000\n",
       "50%    149.750000   22.900000   25.750000   12.900000\n",
       "75%    218.825000   36.525000   45.100000   17.400000\n",
       "max    296.400000   49.600000  114.000000   27.000000"
      ]
     },
     "execution_count": 21,
     "metadata": {},
     "output_type": "execute_result"
    }
   ],
   "source": [
    "df.describe()     #DESCRIB DATSET for know more featute like mean median outliers etc"
   ]
  },
  {
   "cell_type": "raw",
   "id": "937afa5d",
   "metadata": {},
   "source": [
    "In all variable right skew is present.For better understanding we plot distplot\n",
    "By this we get that in our dataset nespaper have outliers for better understanding we plot boxplot"
   ]
  },
  {
   "cell_type": "markdown",
   "id": "51085d3e",
   "metadata": {},
   "source": [
    "# VIZULAIZATION-  UNI-VARIENT ANALYSIS"
   ]
  },
  {
   "cell_type": "markdown",
   "id": "ff9369ba",
   "metadata": {},
   "source": [
    "BOX-PLOT"
   ]
  },
  {
   "cell_type": "code",
   "execution_count": 22,
   "id": "803b507e",
   "metadata": {},
   "outputs": [],
   "source": [
    "col=df.columns\n",
    "nrow=15     #dimension\n",
    "ncol=30"
   ]
  },
  {
   "cell_type": "code",
   "execution_count": 23,
   "id": "035cd693",
   "metadata": {},
   "outputs": [
    {
     "data": {
      "image/png": "[encoded data removed]",
      "text/plain": [
       "<Figure size 2160x6480 with 4 Axes>"
      ]
     },
     "metadata": {
      "needs_background": "light"
     },
     "output_type": "display_data"
    }
   ],
   "source": [
    "plt.figure(figsize=(ncol,ncol*3))   #plotting box plot for find outliers\n",
    "for i in range(len(col)):\n",
    "    plt.subplot(nrow,ncol,i+1)\n",
    "    plt.title(i)\n",
    "    sns.boxplot(data=df[col[i]],color='g',orient='v')\n",
    "    plt.tight_layout()"
   ]
  },
  {
   "cell_type": "markdown",
   "id": "2be5ba57",
   "metadata": {},
   "source": [
    "Here see that in dataset in only one variable newspaper have outliers,other have no outliers"
   ]
  },
  {
   "cell_type": "markdown",
   "id": "2a80af18",
   "metadata": {},
   "source": [
    "remove outliers from newspaper later"
   ]
  },
  {
   "cell_type": "markdown",
   "id": "07748dfe",
   "metadata": {},
   "source": [
    "HIST-PLOT"
   ]
  },
  {
   "cell_type": "code",
   "execution_count": 24,
   "id": "31458b52",
   "metadata": {},
   "outputs": [
    {
     "data": {
      "text/plain": [
       "<AxesSubplot:xlabel='TV', ylabel='Count'>"
      ]
     },
     "execution_count": 24,
     "metadata": {},
     "output_type": "execute_result"
    },
    {
     "data": {
      "image/png": "[encoded data removed]",
      "text/plain": [
       "<Figure size 432x288 with 1 Axes>"
      ]
     },
     "metadata": {
      "needs_background": "light"
     },
     "output_type": "display_data"
    }
   ],
   "source": [
    "sns.histplot(df.TV)   #find skewness in tv variable columns"
   ]
  },
  {
   "cell_type": "markdown",
   "id": "1cfbec1f",
   "metadata": {},
   "source": [
    "tv variable not set in normal distribution shape"
   ]
  },
  {
   "cell_type": "code",
   "execution_count": 25,
   "id": "6f64da85",
   "metadata": {},
   "outputs": [
    {
     "data": {
      "text/plain": [
       "<AxesSubplot:xlabel='radio', ylabel='Count'>"
      ]
     },
     "execution_count": 25,
     "metadata": {},
     "output_type": "execute_result"
    },
    {
     "data": {
      "image/png": "[encoded data removed]",
      "text/plain": [
       "<Figure size 432x288 with 1 Axes>"
      ]
     },
     "metadata": {
      "needs_background": "light"
     },
     "output_type": "display_data"
    }
   ],
   "source": [
    "sns.histplot(df.radio)   #find skewness in radio variable columns"
   ]
  },
  {
   "cell_type": "markdown",
   "id": "eff93a7e",
   "metadata": {},
   "source": [
    "radio variable not set in normal distribution shape"
   ]
  },
  {
   "cell_type": "code",
   "execution_count": 26,
   "id": "d9b4d327",
   "metadata": {},
   "outputs": [
    {
     "data": {
      "text/plain": [
       "<AxesSubplot:xlabel='newspaper', ylabel='Count'>"
      ]
     },
     "execution_count": 26,
     "metadata": {},
     "output_type": "execute_result"
    },
    {
     "data": {
      "image/png": "[encoded data removed]",
      "text/plain": [
       "<Figure size 432x288 with 1 Axes>"
      ]
     },
     "metadata": {
      "needs_background": "light"
     },
     "output_type": "display_data"
    }
   ],
   "source": [
    "sns.histplot(df.newspaper)  #find skewness in newspaper columns"
   ]
  },
  {
   "cell_type": "markdown",
   "id": "426b2090",
   "metadata": {},
   "source": [
    "newspaper variable not set in normal distribution ,and it have right skewness is present"
   ]
  },
  {
   "cell_type": "code",
   "execution_count": 27,
   "id": "9a0fed1c",
   "metadata": {},
   "outputs": [
    {
     "data": {
      "text/plain": [
       "<AxesSubplot:xlabel='sales', ylabel='Count'>"
      ]
     },
     "execution_count": 27,
     "metadata": {},
     "output_type": "execute_result"
    },
    {
     "data": {
      "image/png": "[encoded data removed]",
      "text/plain": [
       "<Figure size 432x288 with 1 Axes>"
      ]
     },
     "metadata": {
      "needs_background": "light"
     },
     "output_type": "display_data"
    }
   ],
   "source": [
    "sns.histplot(df.sales)  #find skeness in sales columns"
   ]
  },
  {
   "cell_type": "raw",
   "id": "2c919e77",
   "metadata": {},
   "source": [
    "sale variable approx set in normal distribution shape"
   ]
  },
  {
   "cell_type": "raw",
   "id": "480dc1fe",
   "metadata": {},
   "source": [
    "In our dataset skewness is present \n",
    "1.Right skewness-sales\n",
    "2.Left skewness-newspaper\n",
    "3.Tv and radio have more skewness,and not follow normal distribution curve"
   ]
  },
  {
   "cell_type": "markdown",
   "id": "fe613b53",
   "metadata": {},
   "source": [
    "DIST-PLOT"
   ]
  },
  {
   "cell_type": "code",
   "execution_count": 28,
   "id": "9f4b2606",
   "metadata": {},
   "outputs": [
    {
     "data": {
      "image/png": "[encoded data removed]",
      "text/plain": [
       "<Figure size 432x288 with 1 Axes>"
      ]
     },
     "metadata": {
      "needs_background": "light"
     },
     "output_type": "display_data"
    },
    {
     "data": {
      "image/png": "[encoded data removed]",
      "text/plain": [
       "<Figure size 432x288 with 1 Axes>"
      ]
     },
     "metadata": {
      "needs_background": "light"
     },
     "output_type": "display_data"
    },
    {
     "data": {
      "image/png": "[encoded data removed]",
      "text/plain": [
       "<Figure size 432x288 with 1 Axes>"
      ]
     },
     "metadata": {
      "needs_background": "light"
     },
     "output_type": "display_data"
    },
    {
     "data": {
      "image/png": "[encoded data removed]",
      "text/plain": [
       "<Figure size 432x288 with 1 Axes>"
      ]
     },
     "metadata": {
      "needs_background": "light"
     },
     "output_type": "display_data"
    }
   ],
   "source": [
    "for i in col:\n",
    "    plt.figure()\n",
    "    plt.title(i)\n",
    "    sns.distplot(df[i])\n",
    "    plt.show()"
   ]
  },
  {
   "cell_type": "raw",
   "id": "b3d25edd",
   "metadata": {},
   "source": [
    "TV do not have normal distribution\n",
    "Radio do not have normal distribution\n",
    "newspaper have alinke normal distribution but right skewed\n",
    "Sales likly to have normal distribution byt right skewed"
   ]
  },
  {
   "cell_type": "markdown",
   "id": "82d89aeb",
   "metadata": {},
   "source": [
    "# CORELATION IN DATASET VARIABLE"
   ]
  },
  {
   "cell_type": "code",
   "execution_count": 29,
   "id": "06fc7532",
   "metadata": {},
   "outputs": [
    {
     "data": {
      "text/html": [
       "<div>\n",
       "<style scoped>\n",
       "    .dataframe tbody tr th:only-of-type {\n",
       "        vertical-align: middle;\n",
       "    }\n",
       "\n",
       "    .dataframe tbody tr th {\n",
       "        vertical-align: top;\n",
       "    }\n",
       "\n",
       "    .dataframe thead th {\n",
       "        text-align: right;\n",
       "    }\n",
       "</style>\n",
       "<table border=\"1\" class=\"dataframe\">\n",
       "  <thead>\n",
       "    <tr style=\"text-align: right;\">\n",
       "      <th></th>\n",
       "      <th>TV</th>\n",
       "      <th>radio</th>\n",
       "      <th>newspaper</th>\n",
       "      <th>sales</th>\n",
       "    </tr>\n",
       "  </thead>\n",
       "  <tbody>\n",
       "    <tr>\n",
       "      <th>TV</th>\n",
       "      <td>1.000000</td>\n",
       "      <td>0.054809</td>\n",
       "      <td>0.056648</td>\n",
       "      <td>0.782224</td>\n",
       "    </tr>\n",
       "    <tr>\n",
       "      <th>radio</th>\n",
       "      <td>0.054809</td>\n",
       "      <td>1.000000</td>\n",
       "      <td>0.354104</td>\n",
       "      <td>0.576223</td>\n",
       "    </tr>\n",
       "    <tr>\n",
       "      <th>newspaper</th>\n",
       "      <td>0.056648</td>\n",
       "      <td>0.354104</td>\n",
       "      <td>1.000000</td>\n",
       "      <td>0.228299</td>\n",
       "    </tr>\n",
       "    <tr>\n",
       "      <th>sales</th>\n",
       "      <td>0.782224</td>\n",
       "      <td>0.576223</td>\n",
       "      <td>0.228299</td>\n",
       "      <td>1.000000</td>\n",
       "    </tr>\n",
       "  </tbody>\n",
       "</table>\n",
       "</div>"
      ],
      "text/plain": [
       "                 TV     radio  newspaper     sales\n",
       "TV         1.000000  0.054809   0.056648  0.782224\n",
       "radio      0.054809  1.000000   0.354104  0.576223\n",
       "newspaper  0.056648  0.354104   1.000000  0.228299\n",
       "sales      0.782224  0.576223   0.228299  1.000000"
      ]
     },
     "execution_count": 29,
     "metadata": {},
     "output_type": "execute_result"
    }
   ],
   "source": [
    "df.corr()  #check relation between dataset variable"
   ]
  },
  {
   "cell_type": "raw",
   "id": "061310d4",
   "metadata": {},
   "source": [
    "By this relation we don't understand so we plot heatmap for better understanding"
   ]
  },
  {
   "cell_type": "code",
   "execution_count": 30,
   "id": "75f16fd7",
   "metadata": {},
   "outputs": [
    {
     "data": {
      "image/png": "[encoded data removed]",
      "text/plain": [
       "<Figure size 720x360 with 2 Axes>"
      ]
     },
     "metadata": {
      "needs_background": "light"
     },
     "output_type": "display_data"
    }
   ],
   "source": [
    "plt.figure(figsize=(10,5))   #dimension of heatmap\n",
    "sns.heatmap(data=df.corr(),linewidth=2,linecolor='r',annot=True)   #plot heatmap\n",
    "plt.show()"
   ]
  },
  {
   "cell_type": "raw",
   "id": "162b5228",
   "metadata": {},
   "source": [
    "Sales and TV has strong correlation 0.78\n",
    "sales and radio has good correlation 0.58\n",
    "sales and newspaper has low correlation 0.23"
   ]
  },
  {
   "cell_type": "markdown",
   "id": "be9fe839",
   "metadata": {},
   "source": [
    "# BI-VARIENT ANALYSIS"
   ]
  },
  {
   "cell_type": "markdown",
   "id": "b50e64c9",
   "metadata": {},
   "source": [
    "SCATTER-PLOT"
   ]
  },
  {
   "cell_type": "code",
   "execution_count": 31,
   "id": "3004d431",
   "metadata": {},
   "outputs": [
    {
     "data": {
      "text/plain": [
       "<AxesSubplot:xlabel='TV', ylabel='sales'>"
      ]
     },
     "execution_count": 31,
     "metadata": {},
     "output_type": "execute_result"
    },
    {
     "data": {
      "image/png": "[encoded data removed]",
      "text/plain": [
       "<Figure size 432x288 with 1 Axes>"
      ]
     },
     "metadata": {
      "needs_background": "light"
     },
     "output_type": "display_data"
    }
   ],
   "source": [
    "sns.scatterplot(data=df,x='TV',y='sales')    #plot curve between two variable"
   ]
  },
  {
   "cell_type": "markdown",
   "id": "0503a0e9",
   "metadata": {},
   "source": [
    "TV has a positive correlation with sales, as the TV advisement increases, sales increases"
   ]
  },
  {
   "cell_type": "code",
   "execution_count": 32,
   "id": "18dda55e",
   "metadata": {},
   "outputs": [
    {
     "data": {
      "text/plain": [
       "<AxesSubplot:xlabel='radio', ylabel='sales'>"
      ]
     },
     "execution_count": 32,
     "metadata": {},
     "output_type": "execute_result"
    },
    {
     "data": {
      "image/png": "[encoded data removed]",
      "text/plain": [
       "<Figure size 432x288 with 1 Axes>"
      ]
     },
     "metadata": {
      "needs_background": "light"
     },
     "output_type": "display_data"
    }
   ],
   "source": [
    "sns.scatterplot(data=df,x='radio',y='sales')   #plot betwween 2 variable"
   ]
  },
  {
   "cell_type": "markdown",
   "id": "0887ec47",
   "metadata": {},
   "source": [
    "although radio have positive correlation with sales, if radio advertisement increase sales also increase"
   ]
  },
  {
   "cell_type": "code",
   "execution_count": 33,
   "id": "47f405c9",
   "metadata": {},
   "outputs": [
    {
     "data": {
      "text/plain": [
       "<AxesSubplot:xlabel='newspaper', ylabel='sales'>"
      ]
     },
     "execution_count": 33,
     "metadata": {},
     "output_type": "execute_result"
    },
    {
     "data": {
      "image/png": "[encoded data removed]",
      "text/plain": [
       "<Figure size 432x288 with 1 Axes>"
      ]
     },
     "metadata": {
      "needs_background": "light"
     },
     "output_type": "display_data"
    }
   ],
   "source": [
    "sns.scatterplot(data=df,x='newspaper',y='sales')  #plot between nespaper and sales"
   ]
  },
  {
   "cell_type": "markdown",
   "id": "ca69f4c4",
   "metadata": {},
   "source": [
    "data is scattered all over, clearly not visible if newspaper have any good correlation with sales.need to advertisment on newpaper"
   ]
  },
  {
   "cell_type": "markdown",
   "id": "180003b0",
   "metadata": {},
   "source": [
    "# MULTIVARIENT ANALYSIS"
   ]
  },
  {
   "cell_type": "code",
   "execution_count": 34,
   "id": "a39b3a6c",
   "metadata": {},
   "outputs": [
    {
     "data": {
      "text/plain": [
       "<seaborn.axisgrid.PairGrid at 0x268faa19640>"
      ]
     },
     "execution_count": 34,
     "metadata": {},
     "output_type": "execute_result"
    },
    {
     "data": {
      "image/png": "[encoded data removed]",
      "text/plain": [
       "<Figure size 720x720 with 20 Axes>"
      ]
     },
     "metadata": {
      "needs_background": "light"
     },
     "output_type": "display_data"
    }
   ],
   "source": [
    "# multi-varient analysis\n",
    "sns.pairplot(df)"
   ]
  },
  {
   "cell_type": "markdown",
   "id": "22646b62",
   "metadata": {},
   "source": [
    "# CHECK MULTICOLONILITY"
   ]
  },
  {
   "cell_type": "code",
   "execution_count": 35,
   "id": "5f2ea716",
   "metadata": {},
   "outputs": [],
   "source": [
    "x=df.drop('sales',axis=1)  #WE NOT APPLY ANY FEATURE ENGINEERING ON TARGET SO REMOVED IT "
   ]
  },
  {
   "cell_type": "code",
   "execution_count": 36,
   "id": "80e1e76e",
   "metadata": {},
   "outputs": [],
   "source": [
    "from statsmodels.stats.outliers_influence import variance_inflation_factor   #import variance inflation for check multicolonility"
   ]
  },
  {
   "cell_type": "code",
   "execution_count": 37,
   "id": "24addbd4",
   "metadata": {},
   "outputs": [],
   "source": [
    "def vif(x):\n",
    "    VIF= pd.DataFrame()\n",
    "    VIF['features']= x.columns\n",
    "    VIF['VIF_FACTOR']=[variance_inflation_factor(x.values,i) for i in range(x.shape[1])]\n",
    "    return(VIF)"
   ]
  },
  {
   "cell_type": "code",
   "execution_count": 38,
   "id": "042cb8e9",
   "metadata": {},
   "outputs": [
    {
     "data": {
      "text/html": [
       "<div>\n",
       "<style scoped>\n",
       "    .dataframe tbody tr th:only-of-type {\n",
       "        vertical-align: middle;\n",
       "    }\n",
       "\n",
       "    .dataframe tbody tr th {\n",
       "        vertical-align: top;\n",
       "    }\n",
       "\n",
       "    .dataframe thead th {\n",
       "        text-align: right;\n",
       "    }\n",
       "</style>\n",
       "<table border=\"1\" class=\"dataframe\">\n",
       "  <thead>\n",
       "    <tr style=\"text-align: right;\">\n",
       "      <th></th>\n",
       "      <th>features</th>\n",
       "      <th>VIF_FACTOR</th>\n",
       "    </tr>\n",
       "  </thead>\n",
       "  <tbody>\n",
       "    <tr>\n",
       "      <th>0</th>\n",
       "      <td>TV</td>\n",
       "      <td>2.486772</td>\n",
       "    </tr>\n",
       "    <tr>\n",
       "      <th>1</th>\n",
       "      <td>radio</td>\n",
       "      <td>3.285462</td>\n",
       "    </tr>\n",
       "    <tr>\n",
       "      <th>2</th>\n",
       "      <td>newspaper</td>\n",
       "      <td>3.055245</td>\n",
       "    </tr>\n",
       "  </tbody>\n",
       "</table>\n",
       "</div>"
      ],
      "text/plain": [
       "    features  VIF_FACTOR\n",
       "0         TV    2.486772\n",
       "1      radio    3.285462\n",
       "2  newspaper    3.055245"
      ]
     },
     "execution_count": 38,
     "metadata": {},
     "output_type": "execute_result"
    }
   ],
   "source": [
    "vif(x)"
   ]
  },
  {
   "cell_type": "markdown",
   "id": "da41f43a",
   "metadata": {},
   "source": [
    "No multicolonility found between variable"
   ]
  },
  {
   "cell_type": "markdown",
   "id": "c70f0cf0",
   "metadata": {},
   "source": [
    "# CHECK SKEWNESS"
   ]
  },
  {
   "cell_type": "code",
   "execution_count": 39,
   "id": "f783e971",
   "metadata": {},
   "outputs": [
    {
     "data": {
      "text/plain": [
       "TV          -0.069853\n",
       "radio        0.094175\n",
       "newspaper    0.894720\n",
       "sales        0.407571\n",
       "dtype: float64"
      ]
     },
     "execution_count": 39,
     "metadata": {},
     "output_type": "execute_result"
    }
   ],
   "source": [
    "df.skew()"
   ]
  },
  {
   "cell_type": "raw",
   "id": "36b024e0",
   "metadata": {},
   "source": [
    "take safe range of threshold value +/-0.5 for target the skewness \n",
    "1.Newspaper\n",
    "2.Sales(not apply any method on target)\n",
    "so in datset only on eskewness variable present"
   ]
  },
  {
   "cell_type": "markdown",
   "id": "22a4ff87",
   "metadata": {},
   "source": [
    "# OUTLIERS"
   ]
  },
  {
   "cell_type": "code",
   "execution_count": 40,
   "id": "21b80e45",
   "metadata": {},
   "outputs": [],
   "source": [
    "from scipy.stats import zscore   #remove outliers by zscore method"
   ]
  },
  {
   "cell_type": "code",
   "execution_count": 41,
   "id": "0b552a7d",
   "metadata": {},
   "outputs": [],
   "source": [
    "z=np.abs(zscore(df))"
   ]
  },
  {
   "cell_type": "code",
   "execution_count": 42,
   "id": "18dfe97e",
   "metadata": {},
   "outputs": [
    {
     "data": {
      "text/plain": [
       "(array([ 16, 101], dtype=int64), array([2, 2], dtype=int64))"
      ]
     },
     "execution_count": 42,
     "metadata": {},
     "output_type": "execute_result"
    }
   ],
   "source": [
    "threshold=3\n",
    "np.where(z>3)"
   ]
  },
  {
   "cell_type": "code",
   "execution_count": 43,
   "id": "b2950e40",
   "metadata": {},
   "outputs": [
    {
     "data": {
      "text/html": [
       "<div>\n",
       "<style scoped>\n",
       "    .dataframe tbody tr th:only-of-type {\n",
       "        vertical-align: middle;\n",
       "    }\n",
       "\n",
       "    .dataframe tbody tr th {\n",
       "        vertical-align: top;\n",
       "    }\n",
       "\n",
       "    .dataframe thead th {\n",
       "        text-align: right;\n",
       "    }\n",
       "</style>\n",
       "<table border=\"1\" class=\"dataframe\">\n",
       "  <thead>\n",
       "    <tr style=\"text-align: right;\">\n",
       "      <th></th>\n",
       "      <th>TV</th>\n",
       "      <th>radio</th>\n",
       "      <th>newspaper</th>\n",
       "      <th>sales</th>\n",
       "    </tr>\n",
       "  </thead>\n",
       "  <tbody>\n",
       "    <tr>\n",
       "      <th>0</th>\n",
       "      <td>230.1</td>\n",
       "      <td>37.8</td>\n",
       "      <td>69.2</td>\n",
       "      <td>22.1</td>\n",
       "    </tr>\n",
       "    <tr>\n",
       "      <th>1</th>\n",
       "      <td>44.5</td>\n",
       "      <td>39.3</td>\n",
       "      <td>45.1</td>\n",
       "      <td>10.4</td>\n",
       "    </tr>\n",
       "    <tr>\n",
       "      <th>2</th>\n",
       "      <td>17.2</td>\n",
       "      <td>45.9</td>\n",
       "      <td>69.3</td>\n",
       "      <td>9.3</td>\n",
       "    </tr>\n",
       "    <tr>\n",
       "      <th>3</th>\n",
       "      <td>151.5</td>\n",
       "      <td>41.3</td>\n",
       "      <td>58.5</td>\n",
       "      <td>18.5</td>\n",
       "    </tr>\n",
       "    <tr>\n",
       "      <th>4</th>\n",
       "      <td>180.8</td>\n",
       "      <td>10.8</td>\n",
       "      <td>58.4</td>\n",
       "      <td>12.9</td>\n",
       "    </tr>\n",
       "    <tr>\n",
       "      <th>...</th>\n",
       "      <td>...</td>\n",
       "      <td>...</td>\n",
       "      <td>...</td>\n",
       "      <td>...</td>\n",
       "    </tr>\n",
       "    <tr>\n",
       "      <th>195</th>\n",
       "      <td>38.2</td>\n",
       "      <td>3.7</td>\n",
       "      <td>13.8</td>\n",
       "      <td>7.6</td>\n",
       "    </tr>\n",
       "    <tr>\n",
       "      <th>196</th>\n",
       "      <td>94.2</td>\n",
       "      <td>4.9</td>\n",
       "      <td>8.1</td>\n",
       "      <td>9.7</td>\n",
       "    </tr>\n",
       "    <tr>\n",
       "      <th>197</th>\n",
       "      <td>177.0</td>\n",
       "      <td>9.3</td>\n",
       "      <td>6.4</td>\n",
       "      <td>12.8</td>\n",
       "    </tr>\n",
       "    <tr>\n",
       "      <th>198</th>\n",
       "      <td>283.6</td>\n",
       "      <td>42.0</td>\n",
       "      <td>66.2</td>\n",
       "      <td>25.5</td>\n",
       "    </tr>\n",
       "    <tr>\n",
       "      <th>199</th>\n",
       "      <td>232.1</td>\n",
       "      <td>8.6</td>\n",
       "      <td>8.7</td>\n",
       "      <td>13.4</td>\n",
       "    </tr>\n",
       "  </tbody>\n",
       "</table>\n",
       "<p>198 rows × 4 columns</p>\n",
       "</div>"
      ],
      "text/plain": [
       "        TV  radio  newspaper  sales\n",
       "0    230.1   37.8       69.2   22.1\n",
       "1     44.5   39.3       45.1   10.4\n",
       "2     17.2   45.9       69.3    9.3\n",
       "3    151.5   41.3       58.5   18.5\n",
       "4    180.8   10.8       58.4   12.9\n",
       "..     ...    ...        ...    ...\n",
       "195   38.2    3.7       13.8    7.6\n",
       "196   94.2    4.9        8.1    9.7\n",
       "197  177.0    9.3        6.4   12.8\n",
       "198  283.6   42.0       66.2   25.5\n",
       "199  232.1    8.6        8.7   13.4\n",
       "\n",
       "[198 rows x 4 columns]"
      ]
     },
     "execution_count": 43,
     "metadata": {},
     "output_type": "execute_result"
    }
   ],
   "source": [
    "df_new=df[(z<3).all(axis=1)]   #remove outliervalue >3\n",
    "df_new"
   ]
  },
  {
   "cell_type": "code",
   "execution_count": 44,
   "id": "1b04903c",
   "metadata": {},
   "outputs": [
    {
     "data": {
      "text/plain": [
       "(200, 4)"
      ]
     },
     "execution_count": 44,
     "metadata": {},
     "output_type": "execute_result"
    }
   ],
   "source": [
    "df.shape  #check shape before removing outliers"
   ]
  },
  {
   "cell_type": "markdown",
   "id": "d7866b8d",
   "metadata": {},
   "source": [
    "This shape is our dataset before removing outliers have 200 rows and 4 columns"
   ]
  },
  {
   "cell_type": "code",
   "execution_count": 45,
   "id": "243b13f2",
   "metadata": {},
   "outputs": [
    {
     "data": {
      "text/plain": [
       "(198, 4)"
      ]
     },
     "execution_count": 45,
     "metadata": {},
     "output_type": "execute_result"
    }
   ],
   "source": [
    "df_new.shape  #check shape after removing outliers"
   ]
  },
  {
   "cell_type": "markdown",
   "id": "c932b6c2",
   "metadata": {},
   "source": [
    "After removing outliers our dataset new shape have 198 rows and 4 columns"
   ]
  },
  {
   "cell_type": "code",
   "execution_count": 46,
   "id": "5249ff09",
   "metadata": {},
   "outputs": [
    {
     "name": "stdout",
     "output_type": "stream",
     "text": [
      "Data_loss: 1.0\n"
     ]
    }
   ],
   "source": [
    "data_loss=((200-198)/200)*100   #check daatset loss during outluers removing\n",
    "print('Data_loss:',data_loss)"
   ]
  },
  {
   "cell_type": "markdown",
   "id": "7fc323cf",
   "metadata": {},
   "source": [
    "Removing outliers by zscore method our data loss is 1%,it is not good but not bad also. "
   ]
  },
  {
   "cell_type": "code",
   "execution_count": 47,
   "id": "b302d0c0",
   "metadata": {
    "scrolled": true
   },
   "outputs": [
    {
     "data": {
      "text/plain": [
       "<AxesSubplot:xlabel='newspaper'>"
      ]
     },
     "execution_count": 47,
     "metadata": {},
     "output_type": "execute_result"
    },
    {
     "data": {
      "image/png": "[encoded data removed]",
      "text/plain": [
       "<Figure size 432x288 with 1 Axes>"
      ]
     },
     "metadata": {
      "needs_background": "light"
     },
     "output_type": "display_data"
    }
   ],
   "source": [
    "sns.boxplot(df_new.newspaper)  #check outliers by graph"
   ]
  },
  {
   "cell_type": "markdown",
   "id": "3799c0f6",
   "metadata": {},
   "source": [
    "Outliers removed by zscore but here 1% data loss occur so we try another method"
   ]
  },
  {
   "cell_type": "markdown",
   "id": "8443662b",
   "metadata": {},
   "source": [
    "## Try another method to remove outliers.for best result"
   ]
  },
  {
   "cell_type": "markdown",
   "id": "c98dd7ab",
   "metadata": {},
   "source": [
    "# OUTLIERS-IQR METHOD"
   ]
  },
  {
   "cell_type": "markdown",
   "id": "b9bfed93",
   "metadata": {},
   "source": [
    "Outlier is present in only one vaeiable 'NEWSPAPER'"
   ]
  },
  {
   "cell_type": "code",
   "execution_count": 48,
   "id": "6e74ff07",
   "metadata": {},
   "outputs": [
    {
     "data": {
      "text/plain": [
       "12.75"
      ]
     },
     "execution_count": 48,
     "metadata": {},
     "output_type": "execute_result"
    }
   ],
   "source": [
    "Q1=df['newspaper'].quantile(0.25)  #check 25% value\n",
    "Q1"
   ]
  },
  {
   "cell_type": "code",
   "execution_count": 49,
   "id": "c86ca303",
   "metadata": {},
   "outputs": [
    {
     "data": {
      "text/plain": [
       "45.1"
      ]
     },
     "execution_count": 49,
     "metadata": {},
     "output_type": "execute_result"
    }
   ],
   "source": [
    "Q2=df['newspaper'].quantile(0.75)   #check 75% value\n",
    "Q2"
   ]
  },
  {
   "cell_type": "code",
   "execution_count": 50,
   "id": "599e6cc7",
   "metadata": {},
   "outputs": [
    {
     "data": {
      "text/plain": [
       "32.35"
      ]
     },
     "execution_count": 50,
     "metadata": {},
     "output_type": "execute_result"
    }
   ],
   "source": [
    "IQR=Q2-Q1\n",
    "IQR  #get 50% value"
   ]
  },
  {
   "cell_type": "code",
   "execution_count": 51,
   "id": "50da0160",
   "metadata": {},
   "outputs": [],
   "source": [
    "upper = Q2+(1.5*IQR)  #remove outliers\n",
    "lower = Q1-(1.5*IQR)\n",
    "df = df[(df.newspaper>lower) & (df.newspaper<upper)] "
   ]
  },
  {
   "cell_type": "code",
   "execution_count": 52,
   "id": "e1f581f1",
   "metadata": {},
   "outputs": [
    {
     "data": {
      "text/html": [
       "<div>\n",
       "<style scoped>\n",
       "    .dataframe tbody tr th:only-of-type {\n",
       "        vertical-align: middle;\n",
       "    }\n",
       "\n",
       "    .dataframe tbody tr th {\n",
       "        vertical-align: top;\n",
       "    }\n",
       "\n",
       "    .dataframe thead th {\n",
       "        text-align: right;\n",
       "    }\n",
       "</style>\n",
       "<table border=\"1\" class=\"dataframe\">\n",
       "  <thead>\n",
       "    <tr style=\"text-align: right;\">\n",
       "      <th></th>\n",
       "      <th>TV</th>\n",
       "      <th>radio</th>\n",
       "      <th>newspaper</th>\n",
       "      <th>sales</th>\n",
       "    </tr>\n",
       "  </thead>\n",
       "  <tbody>\n",
       "    <tr>\n",
       "      <th>0</th>\n",
       "      <td>230.1</td>\n",
       "      <td>37.8</td>\n",
       "      <td>69.2</td>\n",
       "      <td>22.1</td>\n",
       "    </tr>\n",
       "    <tr>\n",
       "      <th>1</th>\n",
       "      <td>44.5</td>\n",
       "      <td>39.3</td>\n",
       "      <td>45.1</td>\n",
       "      <td>10.4</td>\n",
       "    </tr>\n",
       "    <tr>\n",
       "      <th>2</th>\n",
       "      <td>17.2</td>\n",
       "      <td>45.9</td>\n",
       "      <td>69.3</td>\n",
       "      <td>9.3</td>\n",
       "    </tr>\n",
       "    <tr>\n",
       "      <th>3</th>\n",
       "      <td>151.5</td>\n",
       "      <td>41.3</td>\n",
       "      <td>58.5</td>\n",
       "      <td>18.5</td>\n",
       "    </tr>\n",
       "    <tr>\n",
       "      <th>4</th>\n",
       "      <td>180.8</td>\n",
       "      <td>10.8</td>\n",
       "      <td>58.4</td>\n",
       "      <td>12.9</td>\n",
       "    </tr>\n",
       "    <tr>\n",
       "      <th>...</th>\n",
       "      <td>...</td>\n",
       "      <td>...</td>\n",
       "      <td>...</td>\n",
       "      <td>...</td>\n",
       "    </tr>\n",
       "    <tr>\n",
       "      <th>195</th>\n",
       "      <td>38.2</td>\n",
       "      <td>3.7</td>\n",
       "      <td>13.8</td>\n",
       "      <td>7.6</td>\n",
       "    </tr>\n",
       "    <tr>\n",
       "      <th>196</th>\n",
       "      <td>94.2</td>\n",
       "      <td>4.9</td>\n",
       "      <td>8.1</td>\n",
       "      <td>9.7</td>\n",
       "    </tr>\n",
       "    <tr>\n",
       "      <th>197</th>\n",
       "      <td>177.0</td>\n",
       "      <td>9.3</td>\n",
       "      <td>6.4</td>\n",
       "      <td>12.8</td>\n",
       "    </tr>\n",
       "    <tr>\n",
       "      <th>198</th>\n",
       "      <td>283.6</td>\n",
       "      <td>42.0</td>\n",
       "      <td>66.2</td>\n",
       "      <td>25.5</td>\n",
       "    </tr>\n",
       "    <tr>\n",
       "      <th>199</th>\n",
       "      <td>232.1</td>\n",
       "      <td>8.6</td>\n",
       "      <td>8.7</td>\n",
       "      <td>13.4</td>\n",
       "    </tr>\n",
       "  </tbody>\n",
       "</table>\n",
       "<p>198 rows × 4 columns</p>\n",
       "</div>"
      ],
      "text/plain": [
       "        TV  radio  newspaper  sales\n",
       "0    230.1   37.8       69.2   22.1\n",
       "1     44.5   39.3       45.1   10.4\n",
       "2     17.2   45.9       69.3    9.3\n",
       "3    151.5   41.3       58.5   18.5\n",
       "4    180.8   10.8       58.4   12.9\n",
       "..     ...    ...        ...    ...\n",
       "195   38.2    3.7       13.8    7.6\n",
       "196   94.2    4.9        8.1    9.7\n",
       "197  177.0    9.3        6.4   12.8\n",
       "198  283.6   42.0       66.2   25.5\n",
       "199  232.1    8.6        8.7   13.4\n",
       "\n",
       "[198 rows x 4 columns]"
      ]
     },
     "execution_count": 52,
     "metadata": {},
     "output_type": "execute_result"
    }
   ],
   "source": [
    "df"
   ]
  },
  {
   "cell_type": "code",
   "execution_count": 53,
   "id": "a7ba352b",
   "metadata": {},
   "outputs": [
    {
     "data": {
      "text/plain": [
       "TV           0\n",
       "radio        0\n",
       "newspaper    0\n",
       "sales        0\n",
       "dtype: int64"
      ]
     },
     "execution_count": 53,
     "metadata": {},
     "output_type": "execute_result"
    }
   ],
   "source": [
    "df.isnull().sum()  #no null value present after remove outliers"
   ]
  },
  {
   "cell_type": "code",
   "execution_count": 54,
   "id": "ebcff148",
   "metadata": {},
   "outputs": [
    {
     "data": {
      "text/plain": [
       "<AxesSubplot:xlabel='newspaper'>"
      ]
     },
     "execution_count": 54,
     "metadata": {},
     "output_type": "execute_result"
    },
    {
     "data": {
      "image/png": "[encoded data removed]",
      "text/plain": [
       "<Figure size 432x288 with 1 Axes>"
      ]
     },
     "metadata": {
      "needs_background": "light"
     },
     "output_type": "display_data"
    }
   ],
   "source": [
    "sns.boxplot(df.newspaper)   #check outliers "
   ]
  },
  {
   "cell_type": "markdown",
   "id": "84327008",
   "metadata": {},
   "source": [
    "As we see that our outliers are completery removed with 1% data loss.So we take this method bcoz our data is completery free \n",
    "from outliers and  1% data loss occur"
   ]
  },
  {
   "cell_type": "code",
   "execution_count": 55,
   "id": "ed5e28a3",
   "metadata": {},
   "outputs": [
    {
     "data": {
      "text/plain": [
       "(198, 4)"
      ]
     },
     "execution_count": 55,
     "metadata": {},
     "output_type": "execute_result"
    }
   ],
   "source": [
    "df.shape"
   ]
  },
  {
   "cell_type": "code",
   "execution_count": 56,
   "id": "d46799bc",
   "metadata": {},
   "outputs": [
    {
     "data": {
      "text/plain": [
       "(198, 4)"
      ]
     },
     "execution_count": 56,
     "metadata": {},
     "output_type": "execute_result"
    }
   ],
   "source": [
    "df.shape"
   ]
  },
  {
   "cell_type": "code",
   "execution_count": 57,
   "id": "0a0a023b",
   "metadata": {},
   "outputs": [
    {
     "name": "stdout",
     "output_type": "stream",
     "text": [
      "Data_loss: 1.0\n"
     ]
    }
   ],
   "source": [
    "data_loss=((200-198)/200)*100\n",
    "print('Data_loss:',data_loss)"
   ]
  },
  {
   "cell_type": "markdown",
   "id": "e3334f2b",
   "metadata": {},
   "source": [
    "# SKEWNESS"
   ]
  },
  {
   "cell_type": "code",
   "execution_count": 58,
   "id": "15aab3c6",
   "metadata": {},
   "outputs": [
    {
     "data": {
      "text/plain": [
       "TV          -0.082332\n",
       "radio        0.114842\n",
       "newspaper    0.650112\n",
       "sales        0.407130\n",
       "dtype: float64"
      ]
     },
     "execution_count": 58,
     "metadata": {},
     "output_type": "execute_result"
    }
   ],
   "source": [
    "df.skew()"
   ]
  },
  {
   "cell_type": "markdown",
   "id": "905bee23",
   "metadata": {},
   "source": [
    "Before removing outliers from dataset radio and newwspaper have more skewed in positive side"
   ]
  },
  {
   "cell_type": "code",
   "execution_count": 59,
   "id": "ca8eddca",
   "metadata": {},
   "outputs": [
    {
     "data": {
      "text/plain": [
       "TV          -0.082332\n",
       "radio        0.114842\n",
       "newspaper    0.650112\n",
       "sales        0.407130\n",
       "dtype: float64"
      ]
     },
     "execution_count": 59,
     "metadata": {},
     "output_type": "execute_result"
    }
   ],
   "source": [
    "df_new.skew()  #check oskewness after remove outliers"
   ]
  },
  {
   "cell_type": "markdown",
   "id": "84eb3ecf",
   "metadata": {},
   "source": [
    "After removing outliers by zscore and iqr method , in  dataset  newspaper have skewed in positive side"
   ]
  },
  {
   "cell_type": "code",
   "execution_count": 60,
   "id": "8da53fa5",
   "metadata": {},
   "outputs": [
    {
     "data": {
      "text/plain": [
       "TV          -0.082332\n",
       "radio        0.114842\n",
       "newspaper    0.650112\n",
       "sales        0.407130\n",
       "dtype: float64"
      ]
     },
     "execution_count": 60,
     "metadata": {},
     "output_type": "execute_result"
    }
   ],
   "source": [
    "df.skew()"
   ]
  },
  {
   "cell_type": "markdown",
   "id": "1b33ee7e",
   "metadata": {},
   "source": [
    "After removing outliers by IQR , in  dataset  newspaper have skewed in positive side"
   ]
  },
  {
   "cell_type": "markdown",
   "id": "d3675e2e",
   "metadata": {},
   "source": [
    "Target of the skewness:-Skewness threshold is taken is +/-0.5.Columns which are having skewness"
   ]
  },
  {
   "cell_type": "markdown",
   "id": "5b3c0c72",
   "metadata": {},
   "source": [
    "# Separate independent and dependent variable for further analysis process"
   ]
  },
  {
   "cell_type": "code",
   "execution_count": 61,
   "id": "9cc0077d",
   "metadata": {},
   "outputs": [],
   "source": [
    "x=df.drop('sales',axis=1)   #drop target bcoz not apply any feature engineering"
   ]
  },
  {
   "cell_type": "code",
   "execution_count": 62,
   "id": "1351c4fb",
   "metadata": {},
   "outputs": [],
   "source": [
    "y=df.sales"
   ]
  },
  {
   "cell_type": "code",
   "execution_count": 63,
   "id": "6d7a6faf",
   "metadata": {},
   "outputs": [
    {
     "data": {
      "text/plain": [
       "pandas.core.frame.DataFrame"
      ]
     },
     "execution_count": 63,
     "metadata": {},
     "output_type": "execute_result"
    }
   ],
   "source": [
    "type(x)"
   ]
  },
  {
   "cell_type": "code",
   "execution_count": 64,
   "id": "72ad5d08",
   "metadata": {},
   "outputs": [
    {
     "data": {
      "text/plain": [
       "pandas.core.series.Series"
      ]
     },
     "execution_count": 64,
     "metadata": {},
     "output_type": "execute_result"
    }
   ],
   "source": [
    "type(y)"
   ]
  },
  {
   "cell_type": "markdown",
   "id": "df90a858",
   "metadata": {},
   "source": [
    "dependent variable is not in dataframe,so we convert it"
   ]
  },
  {
   "cell_type": "code",
   "execution_count": 65,
   "id": "c54ab79b",
   "metadata": {},
   "outputs": [],
   "source": [
    "y=pd.DataFrame(y)   #put into frame "
   ]
  },
  {
   "cell_type": "code",
   "execution_count": 66,
   "id": "8c41648a",
   "metadata": {},
   "outputs": [
    {
     "data": {
      "text/plain": [
       "pandas.core.frame.DataFrame"
      ]
     },
     "execution_count": 66,
     "metadata": {},
     "output_type": "execute_result"
    }
   ],
   "source": [
    "type(y)"
   ]
  },
  {
   "cell_type": "markdown",
   "id": "348599e3",
   "metadata": {},
   "source": [
    "# REMOVE SKWENESS "
   ]
  },
  {
   "cell_type": "code",
   "execution_count": 67,
   "id": "8f3e123c",
   "metadata": {},
   "outputs": [],
   "source": [
    "from sklearn.preprocessing import power_transform"
   ]
  },
  {
   "cell_type": "code",
   "execution_count": 68,
   "id": "850ae99e",
   "metadata": {},
   "outputs": [
    {
     "data": {
      "text/plain": [
       "TV          -0.082332\n",
       "radio        0.114842\n",
       "newspaper    0.650112\n",
       "sales        0.407130\n",
       "dtype: float64"
      ]
     },
     "execution_count": 68,
     "metadata": {},
     "output_type": "execute_result"
    }
   ],
   "source": [
    "df.skew()"
   ]
  },
  {
   "cell_type": "markdown",
   "id": "26a09db5",
   "metadata": {},
   "source": [
    "skewness before apply transform method"
   ]
  },
  {
   "cell_type": "markdown",
   "id": "2ed0f914",
   "metadata": {},
   "source": [
    "# Before apply transform method change into scaler form"
   ]
  },
  {
   "cell_type": "code",
   "execution_count": 69,
   "id": "3f7a46eb",
   "metadata": {},
   "outputs": [],
   "source": [
    "from sklearn.preprocessing import StandardScaler"
   ]
  },
  {
   "cell_type": "code",
   "execution_count": 70,
   "id": "d89d2696",
   "metadata": {},
   "outputs": [],
   "source": [
    "st=StandardScaler()"
   ]
  },
  {
   "cell_type": "code",
   "execution_count": 71,
   "id": "65eb910b",
   "metadata": {},
   "outputs": [],
   "source": [
    "x1=st.fit_transform(x)"
   ]
  },
  {
   "cell_type": "code",
   "execution_count": 72,
   "id": "7093db01",
   "metadata": {},
   "outputs": [
    {
     "data": {
      "text/plain": [
       "array([[ 0.97869734,  0.98952135,  1.93299778],\n",
       "       [-1.19901165,  1.09070498,  0.75131275],\n",
       "       [-1.51933199,  1.53591293,  1.93790103],\n",
       "       [ 0.05645636,  1.22561648,  1.40834924],\n",
       "       [ 0.40024339, -0.83178391,  1.40344598],\n",
       "       [-1.61906543,  1.73828018,  2.2173867 ],\n",
       "       [-1.04647815,  0.6522426 , -0.30779084],\n",
       "       [-0.31079737, -0.23817331, -0.89127846],\n",
       "       [-1.62023876, -1.41864895, -1.41102374],\n",
       "       [ 0.62317696, -1.38492107, -0.42056576],\n",
       "       [-0.94557138, -1.16906267, -0.27346804],\n",
       "       [ 0.79800381,  0.05863199, -1.26392602],\n",
       "       [-1.44189191,  0.80739083,  1.77119028],\n",
       "       [-0.57714432, -1.04764232, -1.10702179],\n",
       "       [ 0.67363035,  0.65898817,  0.79544207],\n",
       "       [ 0.57155024,  1.65733328,  1.13376683],\n",
       "       [ 1.58061798,  1.1109417 ,  1.27596129],\n",
       "       [-0.90919801, -0.17746313, -0.56276022],\n",
       "       [ 0.0071763 ,  0.05188642, -0.52353416],\n",
       "       [ 0.84141719,  0.30821827,  1.15828311],\n",
       "       [ 1.06435076, -1.21628169, -0.30779084],\n",
       "       [-1.56626537, -0.48775959,  0.97195933],\n",
       "       [ 0.95757732, -0.42030384, -0.17540289],\n",
       "       [-0.99015809, -0.71036356, -0.56276022],\n",
       "       [ 1.36355108, -1.32421089, -0.50392113],\n",
       "       [-0.04445042,  0.41614747, -0.84224589],\n",
       "       [ 1.0960308 , -0.43379499, -0.33721038],\n",
       "       [ 1.19811091,  0.26774482, -0.33721038],\n",
       "       [-0.89277132, -0.48101401,  0.54047269],\n",
       "       [ 1.71555146,  0.34869172,  0.65815086],\n",
       "       [-0.39645079, -0.38657596,  0.43260102],\n",
       "       [-0.58066432, -1.4591224 ,  0.01092089],\n",
       "       [ 1.39523112, -0.21119101, -1.44534654],\n",
       "       [-0.59826434, -1.46586797, -1.09721527],\n",
       "       [ 1.6897381 , -1.28373744, -1.04327944],\n",
       "       [ 1.41048447,  1.39425586, -1.21489345],\n",
       "       [-0.8446646 ,  1.77200806,  0.7807323 ],\n",
       "       [-1.21543833,  0.24076252,  0.26098702],\n",
       "       [ 0.95405731,  0.98277578,  0.10898604],\n",
       "       [ 0.65485699, -0.05604278,  0.08937301],\n",
       "       [ 0.35565668,  0.69271605,  0.43750428],\n",
       "       [ 1.7237648 ,  0.30821827, -1.37179768],\n",
       "       [ 0.70648372, -0.99367772, -0.16559637],\n",
       "       [-1.42663856,  0.17330677,  0.66305412],\n",
       "       [ 0.33336332, -0.04255163,  0.08446975],\n",
       "       [-0.66866442, -0.89249409,  0.29040656],\n",
       "       [ 1.09368413,  1.23910763, -0.5529537 ],\n",
       "       [ 0.94467064, -0.49450516,  0.98666911],\n",
       "       [-0.9361847 , -0.77107374,  0.34434239],\n",
       "       [ 0.62317696, -1.35119319,  0.23647073],\n",
       "       [-0.54311762, -0.91273082, -1.28353905],\n",
       "       [ 0.8179505 ,  1.25259878,  0.4816336 ],\n",
       "       [ 0.42136341,  1.55614966,  1.41815575],\n",
       "       [ 1.36120441,  0.3824196 , -0.6804384 ],\n",
       "       [ 0.61261695,  1.77200806,  1.4818981 ],\n",
       "       [-1.63549211,  0.33520057,  0.56989223],\n",
       "       [-0.12306383, -0.26515561, -0.64611559],\n",
       "       [ 0.75224376,  1.78549921,  0.38847171],\n",
       "       [ 0.75107043,  0.42963862, -1.00405338],\n",
       "       [-1.09341154, -1.42539452, -0.41075924],\n",
       "       [ 1.34477773,  1.32005453,  1.22202546],\n",
       "       [ 1.08664412, -0.51474189, -0.12146706],\n",
       "       [-0.51613092,  0.4363842 , -1.0481827 ],\n",
       "       [-0.1829039 ,  1.32680011, -0.04301494],\n",
       "       [-0.91154467, -0.93296754, -1.415927  ],\n",
       "       [-1.35154514,  0.09910544, -1.35218465],\n",
       "       [-0.08669046, -0.58219764, -0.95992407],\n",
       "       [ 1.06435076,  0.29472712, -0.92069801],\n",
       "       [ 0.82264384,  1.40100143, -0.12637031],\n",
       "       [ 0.61496362,  0.50383995,  0.43750428],\n",
       "       [-0.43282416, -0.59568879,  0.09427627],\n",
       "       [-1.40669187,  0.66573375, -0.51372765],\n",
       "       [-0.20285059, -1.17580824,  0.07466324],\n",
       "       [ 0.78275046,  0.09910544, -0.8177296 ],\n",
       "       [-1.52285199,  1.38751028,  2.92345576],\n",
       "       [-1.39847853, -1.45237682, -0.44508204],\n",
       "       [-0.30727736,  0.36218287, -0.76379377],\n",
       "       [-1.65778547,  0.45662092, -0.99915012],\n",
       "       [-0.36007742, -1.04089674, -0.32740387],\n",
       "       [-0.82471792,  0.24076252, -0.36662993],\n",
       "       [ 1.09251079, -1.28373744,  0.34924565],\n",
       "       [-0.8376246 , -0.19095428,  0.13350233],\n",
       "       [-0.91858468,  1.44147488,  0.2855033 ],\n",
       "       [ 0.7839238 ,  1.34029126,  0.19724467],\n",
       "       [ 0.54573688, -0.31912021,  1.76138377],\n",
       "       [-0.82589125,  0.29472712, -0.67553514],\n",
       "       [-0.42226415,  1.17839745,  1.63880233],\n",
       "       [-0.6850911 ,  0.15981562,  2.13893458],\n",
       "       [-0.43282416,  1.66407886,  1.06021797],\n",
       "       [-0.14535719, -1.22977284, -1.00405338],\n",
       "       [-1.38557185, -1.4591224 ,  0.15801861],\n",
       "       [ 0.83320385,  0.69946162,  1.43286552],\n",
       "       [ 1.22275093,  0.90182888,  2.08499875],\n",
       "       [-0.46098419, -0.61592551, -0.92560126],\n",
       "       [ 0.19490984,  0.5712957 ,  1.13376683],\n",
       "       [ 0.5973636 , -1.32421089, -1.17076413],\n",
       "       [ 0.44835011, -0.14373526, -0.3813397 ],\n",
       "       [ 1.67800475,  1.29307223,  1.05041145],\n",
       "       [-0.13479718,  1.25259878,  0.79053881],\n",
       "       [ 0.88835058, -1.27024629,  0.98176585],\n",
       "       [ 1.56653796, -0.87900294, -0.41075924],\n",
       "       [ 0.48355014, -0.40006711, -0.58237325],\n",
       "       [ 1.07373744,  0.75342622, -1.20018368],\n",
       "       [-0.10311715,  1.56964081,  1.43286552],\n",
       "       [-1.42781189, -0.81829276, -0.00378888],\n",
       "       [-0.66045107, -1.5400693 , -0.32250061],\n",
       "       [-1.56743871, -1.53332372, -0.20482243],\n",
       "       [ 1.27555099,  0.25425367, -1.19037716],\n",
       "       [ 0.92824395, -1.00716887,  1.31028409],\n",
       "       [ 1.11480415,  1.0030125 , -0.32250061],\n",
       "       [ 0.34040333, -0.52148746, -1.34237814],\n",
       "       [ 0.73816375, -0.17071756, -0.93540778],\n",
       "       [-0.80359789,  1.59662311,  0.23156747],\n",
       "       [-0.83997127,  0.80064525,  1.12396031],\n",
       "       [-0.0878638 , -0.59568879, -0.20482243],\n",
       "       [-0.82471792, -1.50634142, -0.73437423],\n",
       "       [-0.24626397,  0.92881118,  2.42332351],\n",
       "       [-1.49351863, -0.48101401, -0.36662993],\n",
       "       [-0.06322377,  0.2475081 ,  0.80524858],\n",
       "       [-1.50055864, -0.09651623,  1.01118539],\n",
       "       [ 0.90712393, -1.39841222, -0.69514817],\n",
       "       [-0.27677067,  0.77366295, -0.8520524 ],\n",
       "       [ 0.97165733,  0.61851472,  2.17816064],\n",
       "       [-0.69799778, -0.76432816, -0.19011266],\n",
       "       [-1.62962544,  1.06372268,  1.02099191],\n",
       "       [-0.7801312 , -1.56030602, -1.00895664],\n",
       "       [ 0.86371055,  1.74502576, -1.30315208],\n",
       "       [-1.02183813, -0.75083701,  0.65324761],\n",
       "       [-1.7129322 ,  1.1109417 , -1.03347293],\n",
       "       [ 1.39053778, -1.36468434,  0.64834435],\n",
       "       [-1.62258543,  0.2744904 , -1.35708791],\n",
       "       [ 0.85784388,  0.69946162,  0.75131275],\n",
       "       [-1.28818508,  1.04348595,  1.75648051],\n",
       "       [-1.15442493,  1.61011426, -1.04327944],\n",
       "       [-1.42077188,  1.07046825, -1.00405338],\n",
       "       [ 1.49027122,  0.38916517,  1.46718833],\n",
       "       [-1.21661167,  0.18679792, -0.45488856],\n",
       "       [ 0.44835011,  1.40100143, -1.37670094],\n",
       "       [-0.85991795, -0.41355826, -0.82753612],\n",
       "       [ 0.55160355,  0.82762755,  2.24680625],\n",
       "       [ 0.86605722,  0.6792249 ,  0.39827822],\n",
       "       [-0.49383756, -1.17580824,  0.22666422],\n",
       "       [-0.59239767, -0.56196091,  0.4473108 ],\n",
       "       [-0.07495712, -1.4321401 , -1.01876315],\n",
       "       [ 1.0960308 , -1.06787904, -1.03347293],\n",
       "       [ 1.13240417,  1.74502576,  0.71208669],\n",
       "       [-1.2752784 ,  1.15816073, -0.87656869],\n",
       "       [-1.19666498,  0.18005234, -0.4499853 ],\n",
       "       [ 1.57240464, -0.62267109,  0.35414891],\n",
       "       [-0.30141069, -0.99367772,  0.92783002],\n",
       "       [ 0.5973636 ,  0.01141297, -0.76379377],\n",
       "       [ 0.2887766 ,  1.11768728,  0.38847171],\n",
       "       [ 0.48237681, -0.13698968, -0.99424687],\n",
       "       [-1.67303882, -0.77781931, -1.18057065],\n",
       "       [-0.61938436,  1.37401913,  1.01608865],\n",
       "       [ 0.03650967, -1.47261355, -0.26856478],\n",
       "       [-1.58386539,  0.92881118,  0.75621601],\n",
       "       [-0.17586389, -0.31912021,  0.23647073],\n",
       "       [ 0.30285662, -0.33935694,  0.04524369],\n",
       "       [-0.7155978 ,  0.85460985,  0.95724956],\n",
       "       [ 0.48941682, -0.33935694, -0.20482243],\n",
       "       [ 0.19725651,  0.9220656 , -1.09721527],\n",
       "       [-0.34599741, -0.56870649, -1.19528042],\n",
       "       [ 1.03032406, -1.33095647,  2.69790592],\n",
       "       [-1.51111865,  0.9760302 , -0.40095273],\n",
       "       [ 0.70531038, -1.20953612, -0.50882439],\n",
       "       [ 0.80621716,  0.03164969,  1.36421992],\n",
       "       [ 1.61464468, -0.84527507, -1.14624784],\n",
       "       [-1.13447825, -0.77781931, -0.55785696],\n",
       "       [ 0.20898985, -0.15048083,  0.86408767],\n",
       "       [-1.49117196, -0.20444543, -0.62650256],\n",
       "       [ 0.2547499 , -1.08137019, -0.83243937],\n",
       "       [ 0.88835058, -1.33095647, -0.8177296 ],\n",
       "       [ 1.52781792,  1.73828018,  0.58950526],\n",
       "       [ 1.19341757,  0.47685765, -0.46469507],\n",
       "       [ 0.27586992, -1.03415117,  0.26589027],\n",
       "       [ 1.52547125, -1.4051578 , -0.29798432],\n",
       "       [ 0.22189653, -0.88574852, -0.59708302],\n",
       "       [ 0.11629642, -1.38492107, -1.05308596],\n",
       "       [ 0.84259053, -1.19604497, -0.1165638 ],\n",
       "       [-1.0617315 , -1.17580824, -0.00378888],\n",
       "       [ 1.65336472,  1.34029126,  2.06048247],\n",
       "       [ 1.25677764, -0.12349853,  0.01092089],\n",
       "       [ 0.68419036,  1.48194833, -0.49901787],\n",
       "       [-0.08434379, -1.41864895, -0.15578986],\n",
       "       [ 0.52109685,  0.37567402, -0.56766348],\n",
       "       [ 1.63459137, -0.62267109, -1.27863579],\n",
       "       [-1.50173197, -0.74409144, -0.31269409],\n",
       "       [-1.25767838,  1.21212533, -1.17566739],\n",
       "       [-0.83527793, -0.83178391, -1.16586087],\n",
       "       [-1.51933199, -1.28373744,  0.08937301],\n",
       "       [ 0.23597655,  1.2728355 , -1.28353905],\n",
       "       [ 0.03533633,  0.8411187 , -1.16586087],\n",
       "       [-1.27293173, -1.31071974, -0.7834068 ],\n",
       "       [-0.61586436, -1.22977284, -1.06289247],\n",
       "       [ 0.35565668, -0.93296754, -1.14624784],\n",
       "       [ 1.60643134,  1.2728355 ,  1.78590005],\n",
       "       [ 1.00216403, -0.98018657, -1.03347293]])"
      ]
     },
     "execution_count": 72,
     "metadata": {},
     "output_type": "execute_result"
    }
   ],
   "source": [
    "x1"
   ]
  },
  {
   "cell_type": "markdown",
   "id": "db1384bf",
   "metadata": {},
   "source": [
    "Now apply power transform method"
   ]
  },
  {
   "cell_type": "code",
   "execution_count": 73,
   "id": "4391e205",
   "metadata": {
    "scrolled": false
   },
   "outputs": [
    {
     "data": {
      "text/plain": [
       "array([[ 9.80756116e-01,  9.90945814e-01,  1.65837879e+00],\n",
       "       [-1.18627526e+00,  1.08453564e+00,  8.55744818e-01],\n",
       "       [-1.48299995e+00,  1.49066170e+00,  1.66132107e+00],\n",
       "       [ 2.34439444e-02,  1.20854115e+00,  1.32754319e+00],\n",
       "       [ 3.73913645e-01, -8.23792563e-01,  1.32428569e+00],\n",
       "       [-1.57467136e+00,  1.67255264e+00,  1.82506451e+00],\n",
       "       [-1.04363123e+00,  6.74939468e-01, -1.59747191e-01],\n",
       "       [-3.40356586e-01, -2.00436290e-01, -9.31086978e-01],\n",
       "       [-1.57574795e+00, -1.46307816e+00, -1.73124574e+00],\n",
       "       [ 6.05527495e-01, -1.42582015e+00, -2.97353682e-01],\n",
       "       [-9.48741584e-01, -1.18879492e+00, -1.19035138e-01],\n",
       "       [ 7.89207956e-01,  9.96403877e-02, -1.49482006e+00],\n",
       "       [-1.41159397e+00,  8.21118149e-01,  1.55983188e+00],\n",
       "       [-5.98287968e-01, -1.05660653e+00, -1.25116313e+00],\n",
       "       [ 6.58360645e-01,  6.81326008e-01,  8.90014413e-01],\n",
       "       [ 5.51619074e-01,  1.59998293e+00,  1.13957182e+00],\n",
       "       [ 1.62964785e+00,  1.10319214e+00,  1.23836505e+00],\n",
       "       [-9.14429190e-01, -1.38330596e-01, -4.78967334e-01],\n",
       "       [-2.60219421e-02,  9.29242271e-02, -4.27985221e-01],\n",
       "       [ 8.35076945e-01,  3.45032558e-01,  1.15684024e+00],\n",
       "       [ 1.07211791e+00, -1.24042787e+00, -1.59747191e-01],\n",
       "       [-1.52617950e+00, -4.59197427e-01,  1.02296004e+00],\n",
       "       [ 9.58282820e-01, -3.88745591e-01, -5.81303394e-03],\n",
       "       [-9.90723067e-01, -6.94154731e-01, -4.78967334e-01],\n",
       "       [ 1.39387244e+00, -1.35890450e+00, -4.02743830e-01],\n",
       "       [-7.76117444e-02,  4.49472433e-01, -8.60840101e-01],\n",
       "       [ 1.10599689e+00, -4.02806619e-01, -1.95081545e-01],\n",
       "       [ 1.21547421e+00,  3.05622802e-01, -1.95081545e-01],\n",
       "       [-8.98913970e-01, -4.52135898e-01,  6.85555742e-01],\n",
       "       [ 1.77712693e+00,  3.84306293e-01,  7.81916238e-01],\n",
       "       [-4.23778920e-01, -3.53658557e-01,  5.93858708e-01],\n",
       "       [-6.01668881e-01, -1.50786439e+00,  1.96094538e-01],\n",
       "       [ 1.42816520e+00, -1.72790728e-01, -1.78749899e+00],\n",
       "       [-6.18563281e-01, -1.51533681e+00, -1.23623374e+00],\n",
       "       [ 1.74886127e+00, -1.31440213e+00, -1.15476194e+00],\n",
       "       [ 1.44469118e+00,  1.36237653e+00, -1.41771788e+00],\n",
       "       [-8.53406108e-01,  1.70271893e+00,  8.78639590e-01],\n",
       "       [-1.20158254e+00,  2.79271688e-01,  4.40365628e-01],\n",
       "       [ 9.54539393e-01,  9.84687854e-01,  2.95213360e-01],\n",
       "       [ 6.38684753e-01, -1.52071525e-02,  2.75759901e-01],\n",
       "       [ 3.27973671e-01,  7.13215455e-01,  5.98101878e-01],\n",
       "       [ 1.78612565e+00,  3.45032558e-01, -1.66745634e+00],\n",
       "       [ 6.92841333e-01, -9.98133725e-01,  5.25195002e-03],\n",
       "       [-1.39750523e+00,  2.13109922e-01,  7.85854063e-01],\n",
       "       [ 3.05054544e-01, -1.62102120e-03,  2.70868600e-01],\n",
       "       [-6.85974870e-01, -8.88976619e-01,  4.67405325e-01],\n",
       "       [ 1.10348574e+00,  1.22089471e+00, -4.66159713e-01],\n",
       "       [ 9.44559902e-01, -4.66262535e-01,  1.03375870e+00],\n",
       "       [-9.39892364e-01, -7.58849492e-01,  5.16171254e-01],\n",
       "       [ 6.05527495e-01, -1.38862098e+00,  4.17584997e-01],\n",
       "       [-5.65570409e-01, -9.10756988e-01, -1.52590199e+00],\n",
       "       [ 8.10270618e-01,  1.23323995e+00,  6.35961990e-01],\n",
       "       [ 3.95721115e-01,  1.50892181e+00,  1.33404802e+00],\n",
       "       [ 1.39133388e+00,  4.16933780e-01, -6.35835914e-01],\n",
       "       [ 5.94488005e-01,  1.70271893e+00,  1.37600444e+00],\n",
       "       [-1.58973963e+00,  3.71229876e-01,  7.09989204e-01],\n",
       "       [-1.55731300e-01, -2.28149253e-01, -5.89482371e-01],\n",
       "       [ 7.40967804e-01,  1.71477394e+00,  5.55330837e-01],\n",
       "       [ 7.39732361e-01,  4.62463551e-01, -1.09619538e+00],\n",
       "       [-1.08762084e+00, -1.47053675e+00, -2.85158098e-01],\n",
       "       [ 1.37357035e+00,  1.29484335e+00,  1.20127404e+00],\n",
       "       [ 1.09595382e+00, -4.87479185e-01,  5.44534102e-02],\n",
       "       [-5.39575687e-01,  4.68953967e-01, -1.16212352e+00],\n",
       "       [-2.14863134e-01,  1.30099259e+00,  1.39488653e-01],\n",
       "       [-9.16644664e-01, -9.32563120e-01, -1.73925699e+00],\n",
       "       [-1.32802752e+00,  1.39838132e-01, -1.63576291e+00],\n",
       "       [-1.19650013e-01, -5.58428199e-01, -1.03100581e+00],\n",
       "       [ 1.07211791e+00,  3.31911318e-01, -9.73686099e-01],\n",
       "       [ 8.15229581e-01,  1.36850421e+00,  4.90346696e-02],\n",
       "       [ 5.96940662e-01,  5.33673723e-01,  5.98101878e-01],\n",
       "       [-4.59063550e-01, -5.72659077e-01,  2.80639952e-01],\n",
       "       [-1.37906940e+00,  6.87709647e-01, -4.15343611e-01],\n",
       "       [-2.34513078e-01, -1.19616343e+00,  2.61051939e-01],\n",
       "       [ 7.73115440e-01,  1.39838132e-01, -8.26072177e-01],\n",
       "       [-1.48624092e+00,  1.35624692e+00,  2.20884861e+00],\n",
       "       [-1.37147417e+00, -1.50039426e+00, -3.28031093e-01],\n",
       "       [-3.36917938e-01,  3.97368103e-01, -7.50426545e-01],\n",
       "       [-1.61017587e+00,  4.88404856e-01, -1.08891547e+00],\n",
       "       [-3.88411159e-01, -1.04928792e+00, -1.83258773e-01],\n",
       "       [-8.34505687e-01,  2.79271688e-01, -2.30815873e-01],\n",
       "       [ 1.10223026e+00, -1.31440213e+00,  5.20554475e-01],\n",
       "       [-8.46737489e-01, -1.52101589e-01,  3.19284309e-01],\n",
       "       [-9.23289611e-01,  1.40523011e+00,  4.62920778e-01],\n",
       "       [ 7.74352886e-01,  1.31328511e+00,  3.80649901e-01],\n",
       "       [ 5.24724475e-01, -2.83772322e-01,  1.55376590e+00],\n",
       "       [-8.35617991e-01,  3.31911318e-01, -6.29184055e-01],\n",
       "       [-4.48828052e-01,  1.16523742e+00,  1.47699066e+00],\n",
       "       [-7.01666901e-01,  1.99827251e-01,  1.77986211e+00],\n",
       "       [-4.59063550e-01,  1.60603974e+00,  1.08714851e+00],\n",
       "       [-1.77793291e-01, -1.25520284e+00, -1.09619538e+00],\n",
       "       [-1.35953406e+00, -1.50786439e+00,  3.43090353e-01],\n",
       "       [ 8.26391463e-01,  7.19584783e-01,  1.34378001e+00],\n",
       "       [ 1.24196948e+00,  9.09404124e-01,  1.74844933e+00],\n",
       "       [-4.86325055e-01, -5.94030582e-01, -9.80818602e-01],\n",
       "       [ 1.63510765e-01,  5.98069804e-01,  1.13957182e+00],\n",
       "       [ 5.78553610e-01, -1.35890450e+00, -1.34906809e+00],\n",
       "       [ 4.23628789e-01, -1.03980594e-01, -2.48831699e-01],\n",
       "       [ 1.73602133e+00,  1.27022633e+00,  1.08008685e+00],\n",
       "       [-1.67347756e-01,  1.23323995e+00,  8.86228121e-01],\n",
       "       [ 8.84774994e-01, -1.29958751e+00,  1.03016370e+00],\n",
       "       [ 1.61429822e+00, -8.74470806e-01, -2.85158098e-01],\n",
       "       [ 4.60100640e-01, -3.67682056e-01, -5.04705998e-01],\n",
       "       [ 1.08215126e+00,  7.70438769e-01, -1.39475613e+00],\n",
       "       [-1.35958083e-01,  1.52108623e+00,  1.34378001e+00],\n",
       "       [-1.39858926e+00, -8.09339693e-01,  1.80809169e-01],\n",
       "       [-6.78123629e-01, -1.59768300e+00, -1.77364102e-01],\n",
       "       [-1.52725807e+00, -1.59018575e+00, -3.92912002e-02],\n",
       "       [ 1.29883411e+00,  2.92455163e-01, -1.37949183e+00],\n",
       "       [ 9.27106273e-01, -1.01273554e+00,  1.26173468e+00],\n",
       "       [ 1.12609520e+00,  1.00345463e+00, -1.77364102e-01],\n",
       "       [ 3.12288451e-01, -4.94558464e-01, -1.61996676e+00],\n",
       "       [ 7.26147426e-01, -1.31451695e-01, -9.95111490e-01],\n",
       "       [-8.14473119e-01,  1.54539372e+00,  4.13001221e-01],\n",
       "       [-8.48960618e-01,  8.14792574e-01,  1.13263605e+00],\n",
       "       [-1.20815610e-01, -5.72659077e-01, -3.92912002e-02],\n",
       "       [-8.34505687e-01, -1.56021911e+00, -7.09659136e-01],\n",
       "       [-2.77179632e-01,  9.34537757e-01,  1.94110549e+00],\n",
       "       [-1.45922029e+00, -4.52135898e-01, -2.30815873e-01],\n",
       "       [-9.63140201e-02,  2.85865417e-01,  8.97571160e-01],\n",
       "       [-1.46570785e+00, -5.60811268e-02,  1.05166596e+00],\n",
       "       [ 9.04685636e-01, -1.44071634e+00, -6.55851060e-01],\n",
       "       [-3.07081023e-01,  7.89463679e-01, -8.74813862e-01],\n",
       "       [ 9.73262598e-01,  6.42962788e-01,  1.80253466e+00],\n",
       "       [-7.13986656e-01, -7.51648784e-01, -2.24991932e-02],\n",
       "       [-1.58435908e+00,  1.05962885e+00,  1.05879757e+00],\n",
       "       [-7.92189831e-01, -1.62018807e+00, -1.10348440e+00],\n",
       "       [ 8.58669427e-01,  1.67858920e+00, -1.55712079e+00],\n",
       "       [-1.02050031e+00, -7.37256606e-01,  7.77972450e-01],\n",
       "       [-1.66066247e+00,  1.10319214e+00, -1.14006590e+00],\n",
       "       [ 1.42308219e+00, -1.40349354e+00,  7.74022675e-01],\n",
       "       [-1.57790099e+00,  3.12200742e-01, -1.64367364e+00],\n",
       "       [ 8.52458395e-01,  7.19584783e-01,  8.55744818e-01],\n",
       "       [-1.26924985e+00,  1.04092490e+00,  1.55072877e+00],\n",
       "       [-1.14467459e+00,  1.55753687e+00, -1.15476194e+00],\n",
       "       [-1.39208435e+00,  1.06585894e+00, -1.09619538e+00],\n",
       "       [ 1.53128753e+00,  4.23448540e-01,  1.36637158e+00],\n",
       "       [-1.20267553e+00,  2.26375538e-01, -3.40377061e-01],\n",
       "       [ 4.23628789e-01,  1.36850421e+00, -1.67540071e+00],\n",
       "       [-8.67846908e-01, -3.81720663e-01, -8.39950745e-01],\n",
       "       [ 5.30833346e-01,  8.40079093e-01,  1.84186981e+00],\n",
       "       [ 8.61154335e-01,  7.00468275e-01,  5.63946114e-01],\n",
       "       [-5.18070269e-01, -1.19616343e+00,  4.08408100e-01],\n",
       "       [-6.12933691e-01, -5.37107324e-01,  6.06566062e-01],\n",
       "       [-1.07987769e-01, -1.47799767e+00, -1.11808975e+00],\n",
       "       [ 1.10599689e+00, -1.07857852e+00, -1.14006590e+00],\n",
       "       [ 1.14495201e+00,  1.67858920e+00,  8.24910170e-01],\n",
       "       [-1.25725872e+00,  1.14664668e+00, -9.09913884e-01],\n",
       "       [-1.18408766e+00,  2.19744848e-01, -3.34198737e-01],\n",
       "       [ 1.62069298e+00, -6.01161083e-01,  5.24929555e-01],\n",
       "       [-3.31185000e-01, -9.98133725e-01,  9.90314431e-01],\n",
       "       [ 5.78553610e-01,  5.25249400e-02, -7.50426545e-01],\n",
       "       [ 2.59320598e-01,  1.10940653e+00,  5.55330837e-01],\n",
       "       [ 4.58883641e-01, -9.71240597e-02, -1.08164470e+00],\n",
       "       [-1.62414964e+00, -7.66053264e-01, -1.36426246e+00],\n",
       "       [-6.38814404e-01,  1.34398188e+00,  1.05523398e+00],\n",
       "       [ 3.39636187e-03, -1.52281152e+00, -1.13264474e-01],\n",
       "       [-1.54235338e+00,  9.34537757e-01,  8.59574202e-01],\n",
       "       [-2.07920736e-01, -2.83772322e-01,  4.17584997e-01],\n",
       "       [ 2.73747689e-01, -3.04697185e-01,  2.31323762e-01],\n",
       "       [-7.30772708e-01,  8.65323933e-01,  1.01212009e+00],\n",
       "       [ 4.66186936e-01, -3.04697185e-01, -3.92912002e-02],\n",
       "       [ 1.65897947e-01,  9.28258053e-01, -1.23623374e+00],\n",
       "       [-3.74697581e-01, -5.44210873e-01, -1.38711962e+00],\n",
       "       [ 1.03578169e+00, -1.36633002e+00,  2.09040473e+00],\n",
       "       [-1.47543609e+00,  9.78427515e-01, -2.73005808e-01],\n",
       "       [ 6.91608840e-01, -1.23304414e+00, -4.09038484e-01],\n",
       "       [ 7.97878274e-01,  7.27467216e-02,  1.29810236e+00],\n",
       "       [ 1.66677397e+00, -8.38257332e-01, -1.31123578e+00],\n",
       "       [-1.12603866e+00, -7.66053264e-01, -4.72558368e-01],\n",
       "       [ 1.77840186e-01, -1.10841648e-01,  9.42477141e-01],\n",
       "       [-1.45705740e+00, -1.65890024e-01, -5.63215142e-01],\n",
       "       [ 2.24514163e-01, -1.09323987e+00, -8.46904342e-01],\n",
       "       [ 8.84774994e-01, -1.36633002e+00, -8.26072177e-01],\n",
       "       [ 1.57212606e+00,  1.67255264e+00,  7.26148249e-01],\n",
       "       [ 1.21043052e+00,  5.07825574e-01, -3.52765676e-01],\n",
       "       [ 2.46108264e-01, -1.04197201e+00,  4.44894485e-01],\n",
       "       [ 1.56957204e+00, -1.44816794e+00, -1.48058707e-01],\n",
       "       [ 1.90988744e-01, -8.81722263e-01, -5.24117500e-01],\n",
       "       [ 8.37897458e-02, -1.42582015e+00, -1.16949412e+00],\n",
       "       [ 8.36318014e-01, -1.21828426e+00,  5.98600439e-02],\n",
       "       [-1.05793775e+00, -1.19616343e+00,  1.80809169e-01],\n",
       "       [ 1.70907402e+00,  1.31328511e+00,  1.73407794e+00],\n",
       "       [ 1.27860177e+00, -8.34246470e-02,  1.96094538e-01],\n",
       "       [ 6.69437113e-01,  1.44188805e+00, -3.96459667e-01],\n",
       "       [-1.17318478e-01, -1.46307816e+00,  1.62694101e-02],\n",
       "       [ 4.99090170e-01,  4.10415466e-01, -4.85386596e-01],\n",
       "       [ 1.68855789e+00, -6.01161083e-01, -1.51811865e+00],\n",
       "       [-1.46678895e+00, -7.30065156e-01, -1.65608291e-01],\n",
       "       [-1.24089726e+00,  1.19617923e+00, -1.35666089e+00],\n",
       "       [-8.44514104e-01, -8.23792563e-01, -1.34148405e+00],\n",
       "       [-1.48299995e+00, -1.31440213e+00,  2.75759901e-01],\n",
       "       [ 2.05346936e-01,  1.25174234e+00, -1.52590199e+00],\n",
       "       [ 2.21817079e-03,  8.52706681e-01, -1.34148405e+00],\n",
       "       [-1.25507785e+00, -1.34406068e+00, -7.77799092e-01],\n",
       "       [-6.35440882e-01, -1.25520284e+00, -1.18426234e+00],\n",
       "       [ 3.27973671e-01, -9.32563120e-01, -1.31123578e+00],\n",
       "       [ 1.65780847e+00,  1.25174234e+00,  1.56891031e+00],\n",
       "       [ 1.00575186e+00, -9.83542950e-01, -1.14006590e+00]])"
      ]
     },
     "execution_count": 73,
     "metadata": {},
     "output_type": "execute_result"
    }
   ],
   "source": [
    "x=power_transform(x1)\n",
    "x"
   ]
  },
  {
   "cell_type": "markdown",
   "id": "29164e39",
   "metadata": {},
   "source": [
    "Check skewness after apply power transform method"
   ]
  },
  {
   "cell_type": "code",
   "execution_count": 74,
   "id": "4d9651db",
   "metadata": {},
   "outputs": [
    {
     "data": {
      "text/plain": [
       "numpy.ndarray"
      ]
     },
     "execution_count": 74,
     "metadata": {},
     "output_type": "execute_result"
    }
   ],
   "source": [
    "type(x)"
   ]
  },
  {
   "cell_type": "markdown",
   "id": "a1dfcbf4",
   "metadata": {},
   "source": [
    "first convert into dataframe"
   ]
  },
  {
   "cell_type": "code",
   "execution_count": 75,
   "id": "19482b2f",
   "metadata": {},
   "outputs": [
    {
     "data": {
      "text/html": [
       "<div>\n",
       "<style scoped>\n",
       "    .dataframe tbody tr th:only-of-type {\n",
       "        vertical-align: middle;\n",
       "    }\n",
       "\n",
       "    .dataframe tbody tr th {\n",
       "        vertical-align: top;\n",
       "    }\n",
       "\n",
       "    .dataframe thead th {\n",
       "        text-align: right;\n",
       "    }\n",
       "</style>\n",
       "<table border=\"1\" class=\"dataframe\">\n",
       "  <thead>\n",
       "    <tr style=\"text-align: right;\">\n",
       "      <th></th>\n",
       "      <th>0</th>\n",
       "      <th>1</th>\n",
       "      <th>2</th>\n",
       "    </tr>\n",
       "  </thead>\n",
       "  <tbody>\n",
       "    <tr>\n",
       "      <th>0</th>\n",
       "      <td>0.980756</td>\n",
       "      <td>0.990946</td>\n",
       "      <td>1.658379</td>\n",
       "    </tr>\n",
       "    <tr>\n",
       "      <th>1</th>\n",
       "      <td>-1.186275</td>\n",
       "      <td>1.084536</td>\n",
       "      <td>0.855745</td>\n",
       "    </tr>\n",
       "    <tr>\n",
       "      <th>2</th>\n",
       "      <td>-1.483000</td>\n",
       "      <td>1.490662</td>\n",
       "      <td>1.661321</td>\n",
       "    </tr>\n",
       "    <tr>\n",
       "      <th>3</th>\n",
       "      <td>0.023444</td>\n",
       "      <td>1.208541</td>\n",
       "      <td>1.327543</td>\n",
       "    </tr>\n",
       "    <tr>\n",
       "      <th>4</th>\n",
       "      <td>0.373914</td>\n",
       "      <td>-0.823793</td>\n",
       "      <td>1.324286</td>\n",
       "    </tr>\n",
       "    <tr>\n",
       "      <th>...</th>\n",
       "      <td>...</td>\n",
       "      <td>...</td>\n",
       "      <td>...</td>\n",
       "    </tr>\n",
       "    <tr>\n",
       "      <th>193</th>\n",
       "      <td>-1.255078</td>\n",
       "      <td>-1.344061</td>\n",
       "      <td>-0.777799</td>\n",
       "    </tr>\n",
       "    <tr>\n",
       "      <th>194</th>\n",
       "      <td>-0.635441</td>\n",
       "      <td>-1.255203</td>\n",
       "      <td>-1.184262</td>\n",
       "    </tr>\n",
       "    <tr>\n",
       "      <th>195</th>\n",
       "      <td>0.327974</td>\n",
       "      <td>-0.932563</td>\n",
       "      <td>-1.311236</td>\n",
       "    </tr>\n",
       "    <tr>\n",
       "      <th>196</th>\n",
       "      <td>1.657808</td>\n",
       "      <td>1.251742</td>\n",
       "      <td>1.568910</td>\n",
       "    </tr>\n",
       "    <tr>\n",
       "      <th>197</th>\n",
       "      <td>1.005752</td>\n",
       "      <td>-0.983543</td>\n",
       "      <td>-1.140066</td>\n",
       "    </tr>\n",
       "  </tbody>\n",
       "</table>\n",
       "<p>198 rows × 3 columns</p>\n",
       "</div>"
      ],
      "text/plain": [
       "            0         1         2\n",
       "0    0.980756  0.990946  1.658379\n",
       "1   -1.186275  1.084536  0.855745\n",
       "2   -1.483000  1.490662  1.661321\n",
       "3    0.023444  1.208541  1.327543\n",
       "4    0.373914 -0.823793  1.324286\n",
       "..        ...       ...       ...\n",
       "193 -1.255078 -1.344061 -0.777799\n",
       "194 -0.635441 -1.255203 -1.184262\n",
       "195  0.327974 -0.932563 -1.311236\n",
       "196  1.657808  1.251742  1.568910\n",
       "197  1.005752 -0.983543 -1.140066\n",
       "\n",
       "[198 rows x 3 columns]"
      ]
     },
     "execution_count": 75,
     "metadata": {},
     "output_type": "execute_result"
    }
   ],
   "source": [
    "x=pd.DataFrame(x)\n",
    "x"
   ]
  },
  {
   "cell_type": "code",
   "execution_count": 76,
   "id": "380ecbc7",
   "metadata": {},
   "outputs": [
    {
     "data": {
      "text/plain": [
       "0   -0.010409\n",
       "1    0.029721\n",
       "2    0.094454\n",
       "dtype: float64"
      ]
     },
     "execution_count": 76,
     "metadata": {},
     "output_type": "execute_result"
    }
   ],
   "source": [
    "x.skew()"
   ]
  },
  {
   "cell_type": "markdown",
   "id": "c3ecfcbc",
   "metadata": {},
   "source": [
    "As we see skewness is reduced upto requried  range upto  +/-0.5 ."
   ]
  },
  {
   "cell_type": "markdown",
   "id": "8807ee56",
   "metadata": {},
   "source": [
    "# CHANGE INTO SCALER"
   ]
  },
  {
   "cell_type": "code",
   "execution_count": 77,
   "id": "c8a1ba38",
   "metadata": {},
   "outputs": [
    {
     "data": {
      "text/plain": [
       "array([[ 9.80756116e-01,  9.90945814e-01,  1.65837879e+00],\n",
       "       [-1.18627526e+00,  1.08453564e+00,  8.55744818e-01],\n",
       "       [-1.48299995e+00,  1.49066170e+00,  1.66132107e+00],\n",
       "       [ 2.34439444e-02,  1.20854115e+00,  1.32754319e+00],\n",
       "       [ 3.73913645e-01, -8.23792563e-01,  1.32428569e+00],\n",
       "       [-1.57467136e+00,  1.67255264e+00,  1.82506451e+00],\n",
       "       [-1.04363123e+00,  6.74939468e-01, -1.59747191e-01],\n",
       "       [-3.40356586e-01, -2.00436290e-01, -9.31086978e-01],\n",
       "       [-1.57574795e+00, -1.46307816e+00, -1.73124574e+00],\n",
       "       [ 6.05527495e-01, -1.42582015e+00, -2.97353682e-01],\n",
       "       [-9.48741584e-01, -1.18879492e+00, -1.19035138e-01],\n",
       "       [ 7.89207956e-01,  9.96403877e-02, -1.49482006e+00],\n",
       "       [-1.41159397e+00,  8.21118149e-01,  1.55983188e+00],\n",
       "       [-5.98287968e-01, -1.05660653e+00, -1.25116313e+00],\n",
       "       [ 6.58360645e-01,  6.81326008e-01,  8.90014413e-01],\n",
       "       [ 5.51619074e-01,  1.59998293e+00,  1.13957182e+00],\n",
       "       [ 1.62964785e+00,  1.10319214e+00,  1.23836505e+00],\n",
       "       [-9.14429190e-01, -1.38330596e-01, -4.78967334e-01],\n",
       "       [-2.60219421e-02,  9.29242271e-02, -4.27985221e-01],\n",
       "       [ 8.35076945e-01,  3.45032558e-01,  1.15684024e+00],\n",
       "       [ 1.07211791e+00, -1.24042787e+00, -1.59747191e-01],\n",
       "       [-1.52617950e+00, -4.59197427e-01,  1.02296004e+00],\n",
       "       [ 9.58282820e-01, -3.88745591e-01, -5.81303394e-03],\n",
       "       [-9.90723067e-01, -6.94154731e-01, -4.78967334e-01],\n",
       "       [ 1.39387244e+00, -1.35890450e+00, -4.02743830e-01],\n",
       "       [-7.76117444e-02,  4.49472433e-01, -8.60840101e-01],\n",
       "       [ 1.10599689e+00, -4.02806619e-01, -1.95081545e-01],\n",
       "       [ 1.21547421e+00,  3.05622802e-01, -1.95081545e-01],\n",
       "       [-8.98913970e-01, -4.52135898e-01,  6.85555742e-01],\n",
       "       [ 1.77712693e+00,  3.84306293e-01,  7.81916238e-01],\n",
       "       [-4.23778920e-01, -3.53658557e-01,  5.93858708e-01],\n",
       "       [-6.01668881e-01, -1.50786439e+00,  1.96094538e-01],\n",
       "       [ 1.42816520e+00, -1.72790728e-01, -1.78749899e+00],\n",
       "       [-6.18563281e-01, -1.51533681e+00, -1.23623374e+00],\n",
       "       [ 1.74886127e+00, -1.31440213e+00, -1.15476194e+00],\n",
       "       [ 1.44469118e+00,  1.36237653e+00, -1.41771788e+00],\n",
       "       [-8.53406108e-01,  1.70271893e+00,  8.78639590e-01],\n",
       "       [-1.20158254e+00,  2.79271688e-01,  4.40365628e-01],\n",
       "       [ 9.54539393e-01,  9.84687854e-01,  2.95213360e-01],\n",
       "       [ 6.38684753e-01, -1.52071525e-02,  2.75759901e-01],\n",
       "       [ 3.27973671e-01,  7.13215455e-01,  5.98101878e-01],\n",
       "       [ 1.78612565e+00,  3.45032558e-01, -1.66745634e+00],\n",
       "       [ 6.92841333e-01, -9.98133725e-01,  5.25195002e-03],\n",
       "       [-1.39750523e+00,  2.13109922e-01,  7.85854063e-01],\n",
       "       [ 3.05054544e-01, -1.62102120e-03,  2.70868600e-01],\n",
       "       [-6.85974870e-01, -8.88976619e-01,  4.67405325e-01],\n",
       "       [ 1.10348574e+00,  1.22089471e+00, -4.66159713e-01],\n",
       "       [ 9.44559902e-01, -4.66262535e-01,  1.03375870e+00],\n",
       "       [-9.39892364e-01, -7.58849492e-01,  5.16171254e-01],\n",
       "       [ 6.05527495e-01, -1.38862098e+00,  4.17584997e-01],\n",
       "       [-5.65570409e-01, -9.10756988e-01, -1.52590199e+00],\n",
       "       [ 8.10270618e-01,  1.23323995e+00,  6.35961990e-01],\n",
       "       [ 3.95721115e-01,  1.50892181e+00,  1.33404802e+00],\n",
       "       [ 1.39133388e+00,  4.16933780e-01, -6.35835914e-01],\n",
       "       [ 5.94488005e-01,  1.70271893e+00,  1.37600444e+00],\n",
       "       [-1.58973963e+00,  3.71229876e-01,  7.09989204e-01],\n",
       "       [-1.55731300e-01, -2.28149253e-01, -5.89482371e-01],\n",
       "       [ 7.40967804e-01,  1.71477394e+00,  5.55330837e-01],\n",
       "       [ 7.39732361e-01,  4.62463551e-01, -1.09619538e+00],\n",
       "       [-1.08762084e+00, -1.47053675e+00, -2.85158098e-01],\n",
       "       [ 1.37357035e+00,  1.29484335e+00,  1.20127404e+00],\n",
       "       [ 1.09595382e+00, -4.87479185e-01,  5.44534102e-02],\n",
       "       [-5.39575687e-01,  4.68953967e-01, -1.16212352e+00],\n",
       "       [-2.14863134e-01,  1.30099259e+00,  1.39488653e-01],\n",
       "       [-9.16644664e-01, -9.32563120e-01, -1.73925699e+00],\n",
       "       [-1.32802752e+00,  1.39838132e-01, -1.63576291e+00],\n",
       "       [-1.19650013e-01, -5.58428199e-01, -1.03100581e+00],\n",
       "       [ 1.07211791e+00,  3.31911318e-01, -9.73686099e-01],\n",
       "       [ 8.15229581e-01,  1.36850421e+00,  4.90346696e-02],\n",
       "       [ 5.96940662e-01,  5.33673723e-01,  5.98101878e-01],\n",
       "       [-4.59063550e-01, -5.72659077e-01,  2.80639952e-01],\n",
       "       [-1.37906940e+00,  6.87709647e-01, -4.15343611e-01],\n",
       "       [-2.34513078e-01, -1.19616343e+00,  2.61051939e-01],\n",
       "       [ 7.73115440e-01,  1.39838132e-01, -8.26072177e-01],\n",
       "       [-1.48624092e+00,  1.35624692e+00,  2.20884861e+00],\n",
       "       [-1.37147417e+00, -1.50039426e+00, -3.28031093e-01],\n",
       "       [-3.36917938e-01,  3.97368103e-01, -7.50426545e-01],\n",
       "       [-1.61017587e+00,  4.88404856e-01, -1.08891547e+00],\n",
       "       [-3.88411159e-01, -1.04928792e+00, -1.83258773e-01],\n",
       "       [-8.34505687e-01,  2.79271688e-01, -2.30815873e-01],\n",
       "       [ 1.10223026e+00, -1.31440213e+00,  5.20554475e-01],\n",
       "       [-8.46737489e-01, -1.52101589e-01,  3.19284309e-01],\n",
       "       [-9.23289611e-01,  1.40523011e+00,  4.62920778e-01],\n",
       "       [ 7.74352886e-01,  1.31328511e+00,  3.80649901e-01],\n",
       "       [ 5.24724475e-01, -2.83772322e-01,  1.55376590e+00],\n",
       "       [-8.35617991e-01,  3.31911318e-01, -6.29184055e-01],\n",
       "       [-4.48828052e-01,  1.16523742e+00,  1.47699066e+00],\n",
       "       [-7.01666901e-01,  1.99827251e-01,  1.77986211e+00],\n",
       "       [-4.59063550e-01,  1.60603974e+00,  1.08714851e+00],\n",
       "       [-1.77793291e-01, -1.25520284e+00, -1.09619538e+00],\n",
       "       [-1.35953406e+00, -1.50786439e+00,  3.43090353e-01],\n",
       "       [ 8.26391463e-01,  7.19584783e-01,  1.34378001e+00],\n",
       "       [ 1.24196948e+00,  9.09404124e-01,  1.74844933e+00],\n",
       "       [-4.86325055e-01, -5.94030582e-01, -9.80818602e-01],\n",
       "       [ 1.63510765e-01,  5.98069804e-01,  1.13957182e+00],\n",
       "       [ 5.78553610e-01, -1.35890450e+00, -1.34906809e+00],\n",
       "       [ 4.23628789e-01, -1.03980594e-01, -2.48831699e-01],\n",
       "       [ 1.73602133e+00,  1.27022633e+00,  1.08008685e+00],\n",
       "       [-1.67347756e-01,  1.23323995e+00,  8.86228121e-01],\n",
       "       [ 8.84774994e-01, -1.29958751e+00,  1.03016370e+00],\n",
       "       [ 1.61429822e+00, -8.74470806e-01, -2.85158098e-01],\n",
       "       [ 4.60100640e-01, -3.67682056e-01, -5.04705998e-01],\n",
       "       [ 1.08215126e+00,  7.70438769e-01, -1.39475613e+00],\n",
       "       [-1.35958083e-01,  1.52108623e+00,  1.34378001e+00],\n",
       "       [-1.39858926e+00, -8.09339693e-01,  1.80809169e-01],\n",
       "       [-6.78123629e-01, -1.59768300e+00, -1.77364102e-01],\n",
       "       [-1.52725807e+00, -1.59018575e+00, -3.92912002e-02],\n",
       "       [ 1.29883411e+00,  2.92455163e-01, -1.37949183e+00],\n",
       "       [ 9.27106273e-01, -1.01273554e+00,  1.26173468e+00],\n",
       "       [ 1.12609520e+00,  1.00345463e+00, -1.77364102e-01],\n",
       "       [ 3.12288451e-01, -4.94558464e-01, -1.61996676e+00],\n",
       "       [ 7.26147426e-01, -1.31451695e-01, -9.95111490e-01],\n",
       "       [-8.14473119e-01,  1.54539372e+00,  4.13001221e-01],\n",
       "       [-8.48960618e-01,  8.14792574e-01,  1.13263605e+00],\n",
       "       [-1.20815610e-01, -5.72659077e-01, -3.92912002e-02],\n",
       "       [-8.34505687e-01, -1.56021911e+00, -7.09659136e-01],\n",
       "       [-2.77179632e-01,  9.34537757e-01,  1.94110549e+00],\n",
       "       [-1.45922029e+00, -4.52135898e-01, -2.30815873e-01],\n",
       "       [-9.63140201e-02,  2.85865417e-01,  8.97571160e-01],\n",
       "       [-1.46570785e+00, -5.60811268e-02,  1.05166596e+00],\n",
       "       [ 9.04685636e-01, -1.44071634e+00, -6.55851060e-01],\n",
       "       [-3.07081023e-01,  7.89463679e-01, -8.74813862e-01],\n",
       "       [ 9.73262598e-01,  6.42962788e-01,  1.80253466e+00],\n",
       "       [-7.13986656e-01, -7.51648784e-01, -2.24991932e-02],\n",
       "       [-1.58435908e+00,  1.05962885e+00,  1.05879757e+00],\n",
       "       [-7.92189831e-01, -1.62018807e+00, -1.10348440e+00],\n",
       "       [ 8.58669427e-01,  1.67858920e+00, -1.55712079e+00],\n",
       "       [-1.02050031e+00, -7.37256606e-01,  7.77972450e-01],\n",
       "       [-1.66066247e+00,  1.10319214e+00, -1.14006590e+00],\n",
       "       [ 1.42308219e+00, -1.40349354e+00,  7.74022675e-01],\n",
       "       [-1.57790099e+00,  3.12200742e-01, -1.64367364e+00],\n",
       "       [ 8.52458395e-01,  7.19584783e-01,  8.55744818e-01],\n",
       "       [-1.26924985e+00,  1.04092490e+00,  1.55072877e+00],\n",
       "       [-1.14467459e+00,  1.55753687e+00, -1.15476194e+00],\n",
       "       [-1.39208435e+00,  1.06585894e+00, -1.09619538e+00],\n",
       "       [ 1.53128753e+00,  4.23448540e-01,  1.36637158e+00],\n",
       "       [-1.20267553e+00,  2.26375538e-01, -3.40377061e-01],\n",
       "       [ 4.23628789e-01,  1.36850421e+00, -1.67540071e+00],\n",
       "       [-8.67846908e-01, -3.81720663e-01, -8.39950745e-01],\n",
       "       [ 5.30833346e-01,  8.40079093e-01,  1.84186981e+00],\n",
       "       [ 8.61154335e-01,  7.00468275e-01,  5.63946114e-01],\n",
       "       [-5.18070269e-01, -1.19616343e+00,  4.08408100e-01],\n",
       "       [-6.12933691e-01, -5.37107324e-01,  6.06566062e-01],\n",
       "       [-1.07987769e-01, -1.47799767e+00, -1.11808975e+00],\n",
       "       [ 1.10599689e+00, -1.07857852e+00, -1.14006590e+00],\n",
       "       [ 1.14495201e+00,  1.67858920e+00,  8.24910170e-01],\n",
       "       [-1.25725872e+00,  1.14664668e+00, -9.09913884e-01],\n",
       "       [-1.18408766e+00,  2.19744848e-01, -3.34198737e-01],\n",
       "       [ 1.62069298e+00, -6.01161083e-01,  5.24929555e-01],\n",
       "       [-3.31185000e-01, -9.98133725e-01,  9.90314431e-01],\n",
       "       [ 5.78553610e-01,  5.25249400e-02, -7.50426545e-01],\n",
       "       [ 2.59320598e-01,  1.10940653e+00,  5.55330837e-01],\n",
       "       [ 4.58883641e-01, -9.71240597e-02, -1.08164470e+00],\n",
       "       [-1.62414964e+00, -7.66053264e-01, -1.36426246e+00],\n",
       "       [-6.38814404e-01,  1.34398188e+00,  1.05523398e+00],\n",
       "       [ 3.39636187e-03, -1.52281152e+00, -1.13264474e-01],\n",
       "       [-1.54235338e+00,  9.34537757e-01,  8.59574202e-01],\n",
       "       [-2.07920736e-01, -2.83772322e-01,  4.17584997e-01],\n",
       "       [ 2.73747689e-01, -3.04697185e-01,  2.31323762e-01],\n",
       "       [-7.30772708e-01,  8.65323933e-01,  1.01212009e+00],\n",
       "       [ 4.66186936e-01, -3.04697185e-01, -3.92912002e-02],\n",
       "       [ 1.65897947e-01,  9.28258053e-01, -1.23623374e+00],\n",
       "       [-3.74697581e-01, -5.44210873e-01, -1.38711962e+00],\n",
       "       [ 1.03578169e+00, -1.36633002e+00,  2.09040473e+00],\n",
       "       [-1.47543609e+00,  9.78427515e-01, -2.73005808e-01],\n",
       "       [ 6.91608840e-01, -1.23304414e+00, -4.09038484e-01],\n",
       "       [ 7.97878274e-01,  7.27467216e-02,  1.29810236e+00],\n",
       "       [ 1.66677397e+00, -8.38257332e-01, -1.31123578e+00],\n",
       "       [-1.12603866e+00, -7.66053264e-01, -4.72558368e-01],\n",
       "       [ 1.77840186e-01, -1.10841648e-01,  9.42477141e-01],\n",
       "       [-1.45705740e+00, -1.65890024e-01, -5.63215142e-01],\n",
       "       [ 2.24514163e-01, -1.09323987e+00, -8.46904342e-01],\n",
       "       [ 8.84774994e-01, -1.36633002e+00, -8.26072177e-01],\n",
       "       [ 1.57212606e+00,  1.67255264e+00,  7.26148249e-01],\n",
       "       [ 1.21043052e+00,  5.07825574e-01, -3.52765676e-01],\n",
       "       [ 2.46108264e-01, -1.04197201e+00,  4.44894485e-01],\n",
       "       [ 1.56957204e+00, -1.44816794e+00, -1.48058707e-01],\n",
       "       [ 1.90988744e-01, -8.81722263e-01, -5.24117500e-01],\n",
       "       [ 8.37897458e-02, -1.42582015e+00, -1.16949412e+00],\n",
       "       [ 8.36318014e-01, -1.21828426e+00,  5.98600439e-02],\n",
       "       [-1.05793775e+00, -1.19616343e+00,  1.80809169e-01],\n",
       "       [ 1.70907402e+00,  1.31328511e+00,  1.73407794e+00],\n",
       "       [ 1.27860177e+00, -8.34246470e-02,  1.96094538e-01],\n",
       "       [ 6.69437113e-01,  1.44188805e+00, -3.96459667e-01],\n",
       "       [-1.17318478e-01, -1.46307816e+00,  1.62694101e-02],\n",
       "       [ 4.99090170e-01,  4.10415466e-01, -4.85386596e-01],\n",
       "       [ 1.68855789e+00, -6.01161083e-01, -1.51811865e+00],\n",
       "       [-1.46678895e+00, -7.30065156e-01, -1.65608291e-01],\n",
       "       [-1.24089726e+00,  1.19617923e+00, -1.35666089e+00],\n",
       "       [-8.44514104e-01, -8.23792563e-01, -1.34148405e+00],\n",
       "       [-1.48299995e+00, -1.31440213e+00,  2.75759901e-01],\n",
       "       [ 2.05346936e-01,  1.25174234e+00, -1.52590199e+00],\n",
       "       [ 2.21817079e-03,  8.52706681e-01, -1.34148405e+00],\n",
       "       [-1.25507785e+00, -1.34406068e+00, -7.77799092e-01],\n",
       "       [-6.35440882e-01, -1.25520284e+00, -1.18426234e+00],\n",
       "       [ 3.27973671e-01, -9.32563120e-01, -1.31123578e+00],\n",
       "       [ 1.65780847e+00,  1.25174234e+00,  1.56891031e+00],\n",
       "       [ 1.00575186e+00, -9.83542950e-01, -1.14006590e+00]])"
      ]
     },
     "execution_count": 77,
     "metadata": {},
     "output_type": "execute_result"
    }
   ],
   "source": [
    "x=st.fit_transform(x)\n",
    "x"
   ]
  },
  {
   "cell_type": "code",
   "execution_count": 78,
   "id": "065650f7",
   "metadata": {},
   "outputs": [
    {
     "data": {
      "text/plain": [
       "(198, 3)"
      ]
     },
     "execution_count": 78,
     "metadata": {},
     "output_type": "execute_result"
    }
   ],
   "source": [
    "x.shape"
   ]
  },
  {
   "cell_type": "code",
   "execution_count": 79,
   "id": "7fd4951e",
   "metadata": {},
   "outputs": [
    {
     "data": {
      "text/plain": [
       "(198, 1)"
      ]
     },
     "execution_count": 79,
     "metadata": {},
     "output_type": "execute_result"
    }
   ],
   "source": [
    "y.shape"
   ]
  },
  {
   "cell_type": "markdown",
   "id": "223924ce",
   "metadata": {},
   "source": [
    "# MACHINE LEARNING--Apply diffrent model for predict data"
   ]
  },
  {
   "cell_type": "code",
   "execution_count": 80,
   "id": "0db3b23c",
   "metadata": {},
   "outputs": [],
   "source": [
    "LI= LinearRegression()\n",
    "DT= DecisionTreeRegressor()\n",
    "SV= SVR()\n",
    "KNR= KNeighborsRegressor()\n",
    "RF=RandomForestRegressor()\n",
    "AD=AdaBoostRegressor()\n",
    "GR=GradientBoostingRegressor()"
   ]
  },
  {
   "cell_type": "markdown",
   "id": "28816829",
   "metadata": {},
   "source": [
    "# MODEL-LINAER REGRESSION"
   ]
  },
  {
   "cell_type": "code",
   "execution_count": 81,
   "id": "b619f31b",
   "metadata": {},
   "outputs": [],
   "source": [
    "LI=LinearRegression()"
   ]
  },
  {
   "cell_type": "code",
   "execution_count": 82,
   "id": "d73c6c81",
   "metadata": {},
   "outputs": [
    {
     "name": "stdout",
     "output_type": "stream",
     "text": [
      "Accuracy 0.903956289354241 Random_state at 0\n",
      "Max accuracy 0.903956289354241 Max_Random_state 0\n",
      "\n",
      "\n",
      "Accuracy 0.8820389571331082 Random_state at 1\n",
      "Accuracy 0.8315354783811238 Random_state at 2\n",
      "Accuracy 0.8902565998534641 Random_state at 3\n",
      "Accuracy 0.8630764992881643 Random_state at 4\n",
      "Accuracy 0.8494680168936745 Random_state at 5\n",
      "Accuracy 0.8681406766571547 Random_state at 6\n",
      "Accuracy 0.8995185803332276 Random_state at 7\n",
      "Accuracy 0.8545459041014518 Random_state at 8\n",
      "Accuracy 0.9123726070011172 Random_state at 9\n",
      "Max accuracy 0.9123726070011172 Max_Random_state 9\n",
      "\n",
      "\n",
      "Accuracy 0.7732114334289236 Random_state at 10\n",
      "Accuracy 0.9168825006187449 Random_state at 11\n",
      "Max accuracy 0.9168825006187449 Max_Random_state 11\n",
      "\n",
      "\n",
      "Accuracy 0.8926130069205616 Random_state at 12\n",
      "Accuracy 0.8312964067905848 Random_state at 13\n",
      "Accuracy 0.9057386842547559 Random_state at 14\n",
      "Accuracy 0.8966532317012583 Random_state at 15\n",
      "Accuracy 0.9012275545420234 Random_state at 16\n",
      "Accuracy 0.9129131764944154 Random_state at 17\n",
      "Accuracy 0.8228810747775366 Random_state at 18\n",
      "Accuracy 0.8671636274126479 Random_state at 19\n",
      "Accuracy 0.9074487407445712 Random_state at 20\n",
      "Accuracy 0.9253178460359507 Random_state at 21\n",
      "Max accuracy 0.9253178460359507 Max_Random_state 21\n",
      "\n",
      "\n",
      "Accuracy 0.9212000656598824 Random_state at 22\n",
      "Accuracy 0.9237708149316738 Random_state at 23\n",
      "Accuracy 0.9419948305170335 Random_state at 24\n",
      "Max accuracy 0.9419948305170335 Max_Random_state 24\n",
      "\n",
      "\n"
     ]
    }
   ],
   "source": [
    "maxacc=0\n",
    "maxrand=0\n",
    "\n",
    "for i in range(0,25):\n",
    "    x_train,x_test,y_train,y_test= train_test_split(x,y,test_size=0.20,random_state=i)\n",
    "    LI.fit(x_train,y_train)\n",
    "    train_pred=LI.predict(x_train)\n",
    "    test_pred=LI.predict(x_test)\n",
    "    Accuracy=r2_score(y_test,test_pred)\n",
    "    print('Accuracy', Accuracy,'Random_state at',i )\n",
    "    \n",
    "    if Accuracy>maxacc:\n",
    "        maxacc=Accuracy\n",
    "        maxRand=i\n",
    "        print('Max accuracy',maxacc,'Max_Random_state',i)\n",
    "        print('\\n')    "
   ]
  },
  {
   "cell_type": "markdown",
   "id": "f446a7b0",
   "metadata": {},
   "source": [
    "At random state 24 model give me 94.199% accuracy"
   ]
  },
  {
   "cell_type": "code",
   "execution_count": 83,
   "id": "8fdfe7bc",
   "metadata": {},
   "outputs": [
    {
     "name": "stdout",
     "output_type": "stream",
     "text": [
      "Mean_absolute_error--> 0.9927036596307858\n",
      "Mean_square_error--> 1.4925741573110143\n",
      "Root_mean_square_error--> 1.2217095224770143\n",
      "R2 Score of--> 94.19948305170335\n",
      "Data Set accuracy with this model--> 87.2953304988443\n"
     ]
    }
   ],
   "source": [
    "x_train,x_test,y_train,y_test= train_test_split(x,y,test_size=0.20,random_state=24)\n",
    "LI.fit(x_train,y_train)\n",
    "test_pred-LI.predict(x_test)\n",
    "print('Mean_absolute_error-->',mean_absolute_error(y_test,test_pred))\n",
    "print('Mean_square_error-->',mean_squared_error(y_test,test_pred))\n",
    "print('Root_mean_square_error-->',np.sqrt( mean_squared_error(y_test,test_pred)))\n",
    "print('R2 Score of-->',r2_score(y_test,test_pred )*100)\n",
    "print('Data Set accuracy with this model-->',LI.score(x_train,y_train)*100)"
   ]
  },
  {
   "cell_type": "markdown",
   "id": "cd061e7d",
   "metadata": {},
   "source": [
    "By Linear regression we get model accuracy is 94.19 and with this model our dataset working with 87.29%\n",
    "mean_absolut_error is near 0.99 and square error is 1.49"
   ]
  },
  {
   "cell_type": "markdown",
   "id": "266f42f9",
   "metadata": {},
   "source": [
    "# MODEL-DECISION TREE REGREESOR"
   ]
  },
  {
   "cell_type": "code",
   "execution_count": 84,
   "id": "4dea13ca",
   "metadata": {},
   "outputs": [
    {
     "name": "stdout",
     "output_type": "stream",
     "text": [
      "Accuracy 0.9495303609750857 Random_state at 0\n",
      "Max accuracy 0.9495303609750857 Max_Random_state 0\n",
      "\n",
      "\n",
      "Accuracy 0.9552148608908528 Random_state at 1\n",
      "Max accuracy 0.9552148608908528 Max_Random_state 1\n",
      "\n",
      "\n",
      "Accuracy 0.9520121364200341 Random_state at 2\n",
      "Accuracy 0.9320601324860411 Random_state at 3\n",
      "Accuracy 0.9196239989042914 Random_state at 4\n",
      "Accuracy 0.9653875045329742 Random_state at 5\n",
      "Max accuracy 0.9653875045329742 Max_Random_state 5\n",
      "\n",
      "\n",
      "Accuracy 0.9438648261709698 Random_state at 6\n",
      "Accuracy 0.9766204884353785 Random_state at 7\n",
      "Max accuracy 0.9766204884353785 Max_Random_state 7\n",
      "\n",
      "\n",
      "Accuracy 0.9384860642216607 Random_state at 8\n",
      "Accuracy 0.9721759410800049 Random_state at 9\n",
      "Accuracy 0.9687681634831979 Random_state at 10\n",
      "Accuracy 0.9540598223165572 Random_state at 11\n",
      "Accuracy 0.9293463953969388 Random_state at 12\n",
      "Accuracy 0.9308542605709379 Random_state at 13\n",
      "Accuracy 0.9659045067516591 Random_state at 14\n",
      "Accuracy 0.9473677108953946 Random_state at 15\n",
      "Accuracy 0.9669350306793 Random_state at 16\n",
      "Accuracy 0.9731300440395046 Random_state at 17\n",
      "Accuracy 0.9319045005873269 Random_state at 18\n",
      "Accuracy 0.944715127417496 Random_state at 19\n",
      "Accuracy 0.9415023946703592 Random_state at 20\n",
      "Accuracy 0.9786678371890452 Random_state at 21\n",
      "Max accuracy 0.9786678371890452 Max_Random_state 21\n",
      "\n",
      "\n",
      "Accuracy 0.960713130264959 Random_state at 22\n",
      "Accuracy 0.9491679227778563 Random_state at 23\n",
      "Accuracy 0.9774986100582476 Random_state at 24\n"
     ]
    }
   ],
   "source": [
    "maxacc=0\n",
    "maxrand=0\n",
    "\n",
    "for i in range(0,25):\n",
    "    x_train,x_test,y_train,y_test= train_test_split(x,y,test_size=0.20,random_state=i)\n",
    "    DT.fit(x_train,y_train)\n",
    "    test_pred=DT.predict(x_test)\n",
    "    Accuracy=r2_score(y_test,test_pred)\n",
    "    print('Accuracy', Accuracy,'Random_state at',i )\n",
    "    \n",
    "    if Accuracy>maxacc:\n",
    "        maxacc=Accuracy\n",
    "        maxRand=i\n",
    "        print('Max accuracy',maxacc,'Max_Random_state',i)\n",
    "        print('\\n')    "
   ]
  },
  {
   "cell_type": "raw",
   "id": "a386e8fe",
   "metadata": {},
   "source": [
    "At random state 24 model give me 97.47% accuracy"
   ]
  },
  {
   "cell_type": "code",
   "execution_count": 107,
   "id": "630f6102",
   "metadata": {},
   "outputs": [
    {
     "name": "stdout",
     "output_type": "stream",
     "text": [
      "Mean_absolute_error--> 0.5315499999999982\n",
      "Mean_square_error--> 0.4681433999999961\n",
      "Root_mean_square_error--> 0.6842100554654221\n",
      "R2 Score of--> 98.1806775143251\n",
      "Data Set accuracy with this model--> 100.0\n"
     ]
    }
   ],
   "source": [
    "x_train,x_test,y_train,y_test= train_test_split(x,y,test_size=0.20,random_state=24)\n",
    "DT.fit(x_train,y_train)\n",
    "test_pred-DT.predict(x_test)\n",
    "print('Mean_absolute_error-->',mean_absolute_error(y_test,test_pred))\n",
    "print('Mean_square_error-->',mean_squared_error(y_test,test_pred))\n",
    "print('Root_mean_square_error-->',np.sqrt( mean_squared_error(y_test,test_pred)))\n",
    "print('R2 Score of-->',r2_score(y_test,test_pred )*100)\n",
    "print('Data Set accuracy with this model-->',DT.score(x_train,y_train)*100)"
   ]
  },
  {
   "cell_type": "markdown",
   "id": "a9a64a44",
   "metadata": {},
   "source": [
    "By Decision tree regressor we get model accuracy is 98.18% and with this model our dataset working with 100%\n",
    "mean_absolut_error is near 0.53% and square error is 0.46% "
   ]
  },
  {
   "cell_type": "markdown",
   "id": "1cbc49f7",
   "metadata": {},
   "source": [
    "# MODEL-SUPPORT VECTOR CLASSIFIER"
   ]
  },
  {
   "cell_type": "code",
   "execution_count": 86,
   "id": "2fd2b05b",
   "metadata": {},
   "outputs": [
    {
     "name": "stdout",
     "output_type": "stream",
     "text": [
      "Accuracy 0.9144550095292608 Random_state at 0\n",
      "Max accuracy 0.9144550095292608 Max_Random_state 0\n",
      "\n",
      "\n",
      "Accuracy 0.94490449398786 Random_state at 1\n",
      "Max accuracy 0.94490449398786 Max_Random_state 1\n",
      "\n",
      "\n",
      "Accuracy 0.8877187169281597 Random_state at 2\n",
      "Accuracy 0.9390897593059303 Random_state at 3\n",
      "Accuracy 0.9403458839879547 Random_state at 4\n",
      "Accuracy 0.8908007980644748 Random_state at 5\n",
      "Accuracy 0.9111017496722447 Random_state at 6\n",
      "Accuracy 0.8859849966427669 Random_state at 7\n",
      "Accuracy 0.8602490459965346 Random_state at 8\n",
      "Accuracy 0.9495923466411514 Random_state at 9\n",
      "Max accuracy 0.9495923466411514 Max_Random_state 9\n",
      "\n",
      "\n",
      "Accuracy 0.8287803895768 Random_state at 10\n",
      "Accuracy 0.9338549754833433 Random_state at 11\n",
      "Accuracy 0.901673643833458 Random_state at 12\n",
      "Accuracy 0.9092024291375979 Random_state at 13\n",
      "Accuracy 0.8544735905665333 Random_state at 14\n",
      "Accuracy 0.8965131703783029 Random_state at 15\n",
      "Accuracy 0.9063864865058524 Random_state at 16\n",
      "Accuracy 0.9505780137922593 Random_state at 17\n",
      "Max accuracy 0.9505780137922593 Max_Random_state 17\n",
      "\n",
      "\n",
      "Accuracy 0.8459401459689493 Random_state at 18\n",
      "Accuracy 0.9202056294624051 Random_state at 19\n",
      "Accuracy 0.885320780276877 Random_state at 20\n",
      "Accuracy 0.9104025029968912 Random_state at 21\n",
      "Accuracy 0.9415065054767677 Random_state at 22\n",
      "Accuracy 0.9188688278234389 Random_state at 23\n",
      "Accuracy 0.9509480478256404 Random_state at 24\n",
      "Max accuracy 0.9509480478256404 Max_Random_state 24\n",
      "\n",
      "\n"
     ]
    }
   ],
   "source": [
    "maxacc=0\n",
    "maxrand=0\n",
    "\n",
    "for i in range(0,25):\n",
    "    x_train,x_test,y_train,y_test= train_test_split(x,y,test_size=0.20,random_state=i)\n",
    "    SV.fit(x_train,y_train)\n",
    "    test_pred=SV.predict(x_test)\n",
    "    Accuracy=r2_score(y_test,test_pred)\n",
    "    print('Accuracy', Accuracy,'Random_state at',i )\n",
    "    \n",
    "    if Accuracy>maxacc:\n",
    "        maxacc=Accuracy\n",
    "        maxRand=i\n",
    "        print('Max accuracy',maxacc,'Max_Random_state',i)\n",
    "        print('\\n')    "
   ]
  },
  {
   "cell_type": "markdown",
   "id": "4d3055cc",
   "metadata": {},
   "source": [
    "At random state 24 model give me 95.09% accuracy"
   ]
  },
  {
   "cell_type": "code",
   "execution_count": 87,
   "id": "44aa2b37",
   "metadata": {},
   "outputs": [
    {
     "name": "stdout",
     "output_type": "stream",
     "text": [
      "Mean_absolute_error--> 0.6909089947826607\n",
      "Mean_square_error--> 1.2621922637878775\n",
      "Root_mean_square_error--> 1.1234733035492555\n",
      "R2 Score of--> 95.09480478256404\n",
      "Data Set accuracy with this model--> 91.48435623697284\n"
     ]
    }
   ],
   "source": [
    "x_train,x_test,y_train,y_test= train_test_split(x,y,test_size=0.20,random_state=24)\n",
    "SV.fit(x_train,y_train)\n",
    "test_pred-SV.predict(x_test)\n",
    "print('Mean_absolute_error-->',mean_absolute_error(y_test,test_pred))\n",
    "print('Mean_square_error-->',mean_squared_error(y_test,test_pred))\n",
    "print('Root_mean_square_error-->',np.sqrt( mean_squared_error(y_test,test_pred)))\n",
    "print('R2 Score of-->',r2_score(y_test,test_pred )*100)\n",
    "print('Data Set accuracy with this model-->',SV.score(x_train,y_train)*100)"
   ]
  },
  {
   "cell_type": "markdown",
   "id": "ceefe9f3",
   "metadata": {},
   "source": [
    "By Support vector regressor we get model accuracy is 95.09% and with this model our dataset working with 91.48%\n",
    "mean_absolut_error is near 0.69% and square error is 1.26% "
   ]
  },
  {
   "cell_type": "markdown",
   "id": "54ebd986",
   "metadata": {},
   "source": [
    "# MODEL-KNEIGHBOUR REGRESSOR"
   ]
  },
  {
   "cell_type": "code",
   "execution_count": 88,
   "id": "79acf04c",
   "metadata": {},
   "outputs": [
    {
     "name": "stdout",
     "output_type": "stream",
     "text": [
      "Accuracy 0.952492036837557 Random_state at 0\n",
      "Max accuracy 0.952492036837557 Max_Random_state 0\n",
      "\n",
      "\n",
      "Accuracy 0.9650502702120125 Random_state at 1\n",
      "Max accuracy 0.9650502702120125 Max_Random_state 1\n",
      "\n",
      "\n",
      "Accuracy 0.9133469340942345 Random_state at 2\n",
      "Accuracy 0.9694205550386457 Random_state at 3\n",
      "Max accuracy 0.9694205550386457 Max_Random_state 3\n",
      "\n",
      "\n",
      "Accuracy 0.9458708361266697 Random_state at 4\n",
      "Accuracy 0.879959073719111 Random_state at 5\n",
      "Accuracy 0.9223333727119444 Random_state at 6\n",
      "Accuracy 0.9234568096787376 Random_state at 7\n",
      "Accuracy 0.8955149485348844 Random_state at 8\n",
      "Accuracy 0.9538732695070822 Random_state at 9\n",
      "Accuracy 0.8753137943105838 Random_state at 10\n",
      "Accuracy 0.9613875286168084 Random_state at 11\n",
      "Accuracy 0.9421616336354406 Random_state at 12\n",
      "Accuracy 0.911210130929384 Random_state at 13\n",
      "Accuracy 0.9311211911250712 Random_state at 14\n",
      "Accuracy 0.9008172895286707 Random_state at 15\n",
      "Accuracy 0.9270929660680336 Random_state at 16\n",
      "Accuracy 0.9603727161829673 Random_state at 17\n",
      "Accuracy 0.8990816710463894 Random_state at 18\n",
      "Accuracy 0.9332430137668757 Random_state at 19\n",
      "Accuracy 0.933456149958973 Random_state at 20\n",
      "Accuracy 0.9561227256261624 Random_state at 21\n",
      "Accuracy 0.9701216443673175 Random_state at 22\n",
      "Max accuracy 0.9701216443673175 Max_Random_state 22\n",
      "\n",
      "\n",
      "Accuracy 0.9638791250067905 Random_state at 23\n",
      "Accuracy 0.9615428317017963 Random_state at 24\n"
     ]
    }
   ],
   "source": [
    "maxacc=0\n",
    "maxrand=0\n",
    "\n",
    "for i in range(0,25):\n",
    "    x_train,x_test,y_train,y_test= train_test_split(x,y,test_size=0.20,random_state=i)\n",
    "    KNR.fit(x_train,y_train)\n",
    "    test_pred=KNR.predict(x_test)\n",
    "    Accuracy=r2_score(y_test,test_pred)\n",
    "    print('Accuracy', Accuracy,'Random_state at',i )\n",
    "    \n",
    "    if Accuracy>maxacc:\n",
    "        maxacc=Accuracy\n",
    "        maxRand=i\n",
    "        print('Max accuracy',maxacc,'Max_Random_state',i)\n",
    "        print('\\n')    "
   ]
  },
  {
   "cell_type": "markdown",
   "id": "4aee6ed3",
   "metadata": {},
   "source": [
    "At random state 22 model give me 97.01% accuracy"
   ]
  },
  {
   "cell_type": "code",
   "execution_count": 89,
   "id": "2a965714",
   "metadata": {},
   "outputs": [
    {
     "name": "stdout",
     "output_type": "stream",
     "text": [
      "Mean_absolute_error--> 0.7325000000000003\n",
      "Mean_square_error--> 0.9895700000000012\n",
      "Root_mean_square_error--> 0.9947713305076705\n",
      "R2 Score of--> 96.15428317017964\n",
      "Data Set accuracy with this model--> 95.24043104621508\n"
     ]
    }
   ],
   "source": [
    "x_train,x_test,y_train,y_test= train_test_split(x,y,test_size=0.20,random_state=24)\n",
    "KNR.fit(x_train,y_train)\n",
    "test_pred-KNR.predict(x_test)\n",
    "print('Mean_absolute_error-->',mean_absolute_error(y_test,test_pred))\n",
    "print('Mean_square_error-->',mean_squared_error(y_test,test_pred))\n",
    "print('Root_mean_square_error-->',np.sqrt( mean_squared_error(y_test,test_pred)))\n",
    "print('R2 Score of-->',r2_score(y_test,test_pred )*100)\n",
    "print('Data Set accuracy with this model-->',KNR.score(x_train,y_train)*100)"
   ]
  },
  {
   "cell_type": "markdown",
   "id": "a220f09c",
   "metadata": {},
   "source": [
    "By Kneighbors regressor we get model accuracy is 96.15% and with this model our dataset working with 95.24%\n",
    "mean_absolut_error is near 0.73% and square error is 0.98% "
   ]
  },
  {
   "cell_type": "markdown",
   "id": "8c49c161",
   "metadata": {},
   "source": [
    "# MODEL-ADA BOOST REGRESSOR"
   ]
  },
  {
   "cell_type": "code",
   "execution_count": 90,
   "id": "0fbfb987",
   "metadata": {},
   "outputs": [
    {
     "name": "stdout",
     "output_type": "stream",
     "text": [
      "Accuracy 0.9608645452916349 Random_state at 0\n",
      "Max accuracy 0.9608645452916349 Max_Random_state 0\n",
      "\n",
      "\n",
      "Accuracy 0.959563616414547 Random_state at 1\n",
      "Accuracy 0.9458169448349183 Random_state at 2\n",
      "Accuracy 0.9619370701575539 Random_state at 3\n",
      "Max accuracy 0.9619370701575539 Max_Random_state 3\n",
      "\n",
      "\n",
      "Accuracy 0.9403743536540837 Random_state at 4\n",
      "Accuracy 0.956880897252334 Random_state at 5\n",
      "Accuracy 0.9457809916131779 Random_state at 6\n",
      "Accuracy 0.9664469257054347 Random_state at 7\n",
      "Max accuracy 0.9664469257054347 Max_Random_state 7\n",
      "\n",
      "\n",
      "Accuracy 0.961491567008753 Random_state at 8\n",
      "Accuracy 0.9714162575628633 Random_state at 9\n",
      "Max accuracy 0.9714162575628633 Max_Random_state 9\n",
      "\n",
      "\n",
      "Accuracy 0.95827434554622 Random_state at 10\n",
      "Accuracy 0.9624486905706429 Random_state at 11\n",
      "Accuracy 0.9716045655686528 Random_state at 12\n",
      "Max accuracy 0.9716045655686528 Max_Random_state 12\n",
      "\n",
      "\n",
      "Accuracy 0.9526175146288025 Random_state at 13\n",
      "Accuracy 0.9713861511647863 Random_state at 14\n",
      "Accuracy 0.9487605193201876 Random_state at 15\n",
      "Accuracy 0.9542250450083951 Random_state at 16\n",
      "Accuracy 0.9527873365770756 Random_state at 17\n",
      "Accuracy 0.9442072792704118 Random_state at 18\n",
      "Accuracy 0.9403686805206172 Random_state at 19\n",
      "Accuracy 0.9576133216048883 Random_state at 20\n",
      "Accuracy 0.9633465728753074 Random_state at 21\n",
      "Accuracy 0.9638479426104382 Random_state at 22\n",
      "Accuracy 0.9661665877348283 Random_state at 23\n",
      "Accuracy 0.9604318719576168 Random_state at 24\n"
     ]
    }
   ],
   "source": [
    "maxacc=0\n",
    "maxrand=0\n",
    "\n",
    "for i in range(0,25):\n",
    "    x_train,x_test,y_train,y_test= train_test_split(x,y,test_size=0.20,random_state=i)\n",
    "    AD.fit(x_train,y_train)\n",
    "    test_pred=AD.predict(x_test)\n",
    "    Accuracy=r2_score(y_test,test_pred)\n",
    "    print('Accuracy', Accuracy,'Random_state at',i )\n",
    "    \n",
    "    if Accuracy>maxacc:\n",
    "        maxacc=Accuracy\n",
    "        maxRand=i\n",
    "        print('Max accuracy',maxacc,'Max_Random_state',i)\n",
    "        print('\\n')    "
   ]
  },
  {
   "cell_type": "markdown",
   "id": "0b9d1e6d",
   "metadata": {},
   "source": [
    "At random state 24 model give me 96.04% accuracy"
   ]
  },
  {
   "cell_type": "code",
   "execution_count": 91,
   "id": "30d24207",
   "metadata": {},
   "outputs": [
    {
     "name": "stdout",
     "output_type": "stream",
     "text": [
      "Mean_absolute_error--> 0.8071457813098734\n",
      "Mean_square_error--> 1.0181569314537935\n",
      "Root_mean_square_error--> 1.0090376263815901\n",
      "R2 Score of--> 96.04318719576167\n",
      "Data Set accuracy with this model--> 97.80607380076836\n"
     ]
    }
   ],
   "source": [
    "x_train,x_test,y_train,y_test= train_test_split(x,y,test_size=0.20,random_state=24)\n",
    "AD.fit(x_train,y_train)\n",
    "test_pred-AD.predict(x_test)\n",
    "print('Mean_absolute_error-->',mean_absolute_error(y_test,test_pred))\n",
    "print('Mean_square_error-->',mean_squared_error(y_test,test_pred))\n",
    "print('Root_mean_square_error-->',np.sqrt( mean_squared_error(y_test,test_pred)))\n",
    "print('R2 Score of-->',r2_score(y_test,test_pred )*100)\n",
    "print('Data Set accuracy with this model-->',AD.score(x_train,y_train)*100)"
   ]
  },
  {
   "cell_type": "markdown",
   "id": "cb057ce6",
   "metadata": {},
   "source": [
    "By Ada boost regressor we get model accuracy is 96.04% and with this model our dataset working with 97.80%\n",
    "mean_absolut_error is near 0.80% and square error is 1.01% "
   ]
  },
  {
   "cell_type": "markdown",
   "id": "f56c3bf7",
   "metadata": {},
   "source": [
    "# MODEL-GRADIENT BOOSTING REGRESSOR"
   ]
  },
  {
   "cell_type": "code",
   "execution_count": 92,
   "id": "3bc84ef9",
   "metadata": {},
   "outputs": [
    {
     "name": "stdout",
     "output_type": "stream",
     "text": [
      "Accuracy 0.9814415332304267 Random_state at 0\n",
      "Max accuracy 0.9814415332304267 Max_Random_state 0\n",
      "\n",
      "\n",
      "Accuracy 0.9859986192395693 Random_state at 1\n",
      "Max accuracy 0.9859986192395693 Max_Random_state 1\n",
      "\n",
      "\n",
      "Accuracy 0.971909390555159 Random_state at 2\n",
      "Accuracy 0.979132258304435 Random_state at 3\n",
      "Accuracy 0.9753735058435175 Random_state at 4\n",
      "Accuracy 0.9835769302139138 Random_state at 5\n",
      "Accuracy 0.9605314334309811 Random_state at 6\n",
      "Accuracy 0.9855163979943643 Random_state at 7\n",
      "Accuracy 0.9678140376601798 Random_state at 8\n",
      "Accuracy 0.9880097065112937 Random_state at 9\n",
      "Max accuracy 0.9880097065112937 Max_Random_state 9\n",
      "\n",
      "\n",
      "Accuracy 0.9676236866681119 Random_state at 10\n",
      "Accuracy 0.9843844885848105 Random_state at 11\n",
      "Accuracy 0.9815161804177799 Random_state at 12\n",
      "Accuracy 0.9619909816316968 Random_state at 13\n",
      "Accuracy 0.9873896813882278 Random_state at 14\n",
      "Accuracy 0.9710759128069099 Random_state at 15\n",
      "Accuracy 0.9813166595031363 Random_state at 16\n",
      "Accuracy 0.9853713667704658 Random_state at 17\n",
      "Accuracy 0.9612244235097994 Random_state at 18\n",
      "Accuracy 0.9786457673391549 Random_state at 19\n",
      "Accuracy 0.9811883073828116 Random_state at 20\n",
      "Accuracy 0.9875700468273468 Random_state at 21\n",
      "Accuracy 0.984160245856056 Random_state at 22\n",
      "Accuracy 0.9859865845992984 Random_state at 23\n",
      "Accuracy 0.9837495527837063 Random_state at 24\n"
     ]
    }
   ],
   "source": [
    "maxacc=0\n",
    "maxrand=0\n",
    "\n",
    "for i in range(0,25):\n",
    "    x_train,x_test,y_train,y_test= train_test_split(x,y,test_size=0.20,random_state=i)\n",
    "    GR.fit(x_train,y_train)\n",
    "    test_pred=GR.predict(x_test)\n",
    "    Accuracy=r2_score(y_test,test_pred)\n",
    "    print('Accuracy', Accuracy,'Random_state at',i )\n",
    "    \n",
    "    if Accuracy>maxacc:\n",
    "        maxacc=Accuracy\n",
    "        maxRand=i\n",
    "        print('Max accuracy',maxacc,'Max_Random_state',i)\n",
    "        print('\\n')    "
   ]
  },
  {
   "cell_type": "raw",
   "id": "67cd487e",
   "metadata": {},
   "source": [
    "At random state 24 model give me 98.37% accuracy"
   ]
  },
  {
   "cell_type": "code",
   "execution_count": 93,
   "id": "fcf445f6",
   "metadata": {},
   "outputs": [
    {
     "name": "stdout",
     "output_type": "stream",
     "text": [
      "Mean_absolute_error--> 0.5205439502339229\n",
      "Mean_square_error--> 0.4181523435925696\n",
      "Root_mean_square_error--> 0.6466470007605151\n",
      "R2 Score of--> 98.37495527837063\n",
      "Data Set accuracy with this model--> 99.86596198243318\n"
     ]
    }
   ],
   "source": [
    "x_train,x_test,y_train,y_test= train_test_split(x,y,test_size=0.20,random_state=24)\n",
    "GR.fit(x_train,y_train)\n",
    "test_pred-GR.predict(x_test)\n",
    "print('Mean_absolute_error-->',mean_absolute_error(y_test,test_pred))\n",
    "print('Mean_square_error-->',mean_squared_error(y_test,test_pred))\n",
    "print('Root_mean_square_error-->',np.sqrt( mean_squared_error(y_test,test_pred)))\n",
    "print('R2 Score of-->',r2_score(y_test,test_pred )*100)\n",
    "print('Data Set accuracy with this model-->',GR.score(x_train,y_train)*100)"
   ]
  },
  {
   "cell_type": "markdown",
   "id": "5d92f56d",
   "metadata": {},
   "source": [
    "By Gradient boosting regressor we get model accuracy is 98.37% and with this model our dataset working with 99.86%\n",
    "mean_absolut_error is near 0.52% and square error is 0.41% "
   ]
  },
  {
   "cell_type": "markdown",
   "id": "ab472787",
   "metadata": {},
   "source": [
    "# MODEL-RANDOM FOREST REGRESSOR"
   ]
  },
  {
   "cell_type": "code",
   "execution_count": 94,
   "id": "020ee2b3",
   "metadata": {},
   "outputs": [
    {
     "name": "stdout",
     "output_type": "stream",
     "text": [
      "Accuracy 0.979343706670347 Random_state at 0\n",
      "Max accuracy 0.979343706670347 Max_Random_state 0\n",
      "\n",
      "\n",
      "Accuracy 0.9825940247347918 Random_state at 1\n",
      "Max accuracy 0.9825940247347918 Max_Random_state 1\n",
      "\n",
      "\n",
      "Accuracy 0.9689789993361809 Random_state at 2\n",
      "Accuracy 0.9755342994048781 Random_state at 3\n",
      "Accuracy 0.969871813614181 Random_state at 4\n",
      "Accuracy 0.9796247722720131 Random_state at 5\n",
      "Accuracy 0.9675887650344371 Random_state at 6\n",
      "Accuracy 0.9821530985772713 Random_state at 7\n",
      "Accuracy 0.9705542038753411 Random_state at 8\n",
      "Accuracy 0.987384963824278 Random_state at 9\n",
      "Max accuracy 0.987384963824278 Max_Random_state 9\n",
      "\n",
      "\n",
      "Accuracy 0.9744073592717228 Random_state at 10\n",
      "Accuracy 0.9861054514174731 Random_state at 11\n",
      "Accuracy 0.9832727953066828 Random_state at 12\n",
      "Accuracy 0.9662791875939044 Random_state at 13\n",
      "Accuracy 0.9857450955394399 Random_state at 14\n",
      "Accuracy 0.9647930570869026 Random_state at 15\n",
      "Accuracy 0.982762763330998 Random_state at 16\n",
      "Accuracy 0.9860559272417763 Random_state at 17\n",
      "Accuracy 0.9592544651820014 Random_state at 18\n",
      "Accuracy 0.981280542143564 Random_state at 19\n",
      "Accuracy 0.9828210695453903 Random_state at 20\n",
      "Accuracy 0.9847455260553878 Random_state at 21\n",
      "Accuracy 0.9824549049389303 Random_state at 22\n",
      "Accuracy 0.9835188048881486 Random_state at 23\n",
      "Accuracy 0.9804393270082989 Random_state at 24\n"
     ]
    }
   ],
   "source": [
    "maxacc=0\n",
    "maxrand=0\n",
    "\n",
    "for i in range(0,25):\n",
    "    x_train,x_test,y_train,y_test= train_test_split(x,y,test_size=0.20,random_state=i)\n",
    "    RF.fit(x_train,y_train)\n",
    "    test_pred=RF.predict(x_test)\n",
    "    Accuracy=r2_score(y_test,test_pred)\n",
    "    print('Accuracy', Accuracy,'Random_state at',i )\n",
    "    \n",
    "    if Accuracy>maxacc:\n",
    "        maxacc=Accuracy\n",
    "        maxRand=i\n",
    "        print('Max accuracy',maxacc,'Max_Random_state',i)\n",
    "        print('\\n')    "
   ]
  },
  {
   "cell_type": "raw",
   "id": "de7dbc3a",
   "metadata": {},
   "source": [
    "At random state 24 model give me 98.04% accuracy"
   ]
  },
  {
   "cell_type": "code",
   "execution_count": 118,
   "id": "75233605",
   "metadata": {},
   "outputs": [
    {
     "name": "stdout",
     "output_type": "stream",
     "text": [
      "Mean_absolute_error--> 0.5315499999999982\n",
      "Mean_square_error--> 0.4681433999999961\n",
      "Root_mean_square_error--> 0.6842100554654221\n",
      "R2 Score of--> 98.1806775143251\n",
      "Data Set accuracy with this model--> 99.60670881758271\n"
     ]
    }
   ],
   "source": [
    "x_train,x_test,y_train,y_test= train_test_split(x,y,test_size=0.20,random_state=24)\n",
    "RF.fit(x_train,y_train)\n",
    "test_pred-RF.predict(x_test)\n",
    "print('Mean_absolute_error-->',mean_absolute_error(y_test,test_pred))\n",
    "print('Mean_square_error-->',mean_squared_error(y_test,test_pred))\n",
    "print('Root_mean_square_error-->',np.sqrt( mean_squared_error(y_test,test_pred)))\n",
    "print('R2 Score of-->',r2_score(y_test,test_pred )*100)\n",
    "print('Data Set accuracy with this model-->',RF.score(x_train,y_train)*100)"
   ]
  },
  {
   "cell_type": "markdown",
   "id": "183856ce",
   "metadata": {},
   "source": [
    "By Random forest regressor we get model accuracy is 98.18% and with this model our dataset working with 99.66%\n",
    "mean_absolut_error is near 0.54% and square error is 0.46% "
   ]
  },
  {
   "cell_type": "raw",
   "id": "904ec7f6",
   "metadata": {},
   "source": [
    "In all model Gradient boosting regressor give highest accuracy score 98.37 and with this model daatset working with 99.86%.\n",
    "Mean_absolute_error is 0.52 and mean_squared_error is 0.41 this is very least in all model.\n",
    "Root_mean_squared_error is least on all models 0.62.\n",
    "In all models Gradient boosting regressor give best accuracy."
   ]
  },
  {
   "cell_type": "markdown",
   "id": "47cfab0e",
   "metadata": {},
   "source": [
    "## Improve in this accuracy and error with use cross_val_score method"
   ]
  },
  {
   "cell_type": "markdown",
   "id": "1437353c",
   "metadata": {},
   "source": [
    "# CROSS VALIDATION-LINEAR REGRESSION"
   ]
  },
  {
   "cell_type": "code",
   "execution_count": 96,
   "id": "0db77a29",
   "metadata": {
    "scrolled": false
   },
   "outputs": [
    {
     "name": "stdout",
     "output_type": "stream",
     "text": [
      "At cross fold  model 2 the mean_score is:0.882622823735108 and the test accuracy is 0.9419948305170335\n",
      "\n",
      "\n",
      "At cross fold  model 3 the mean_score is:0.8818647976268766 and the test accuracy is 0.9419948305170335\n",
      "\n",
      "\n",
      "At cross fold  model 4 the mean_score is:0.8810762158735431 and the test accuracy is 0.9419948305170335\n",
      "\n",
      "\n",
      "At cross fold  model 5 the mean_score is:0.8786939310034242 and the test accuracy is 0.9419948305170335\n",
      "\n",
      "\n",
      "At cross fold  model 6 the mean_score is:0.8794293330070778 and the test accuracy is 0.9419948305170335\n",
      "\n",
      "\n",
      "At cross fold  model 7 the mean_score is:0.8763050849846443 and the test accuracy is 0.9419948305170335\n",
      "\n",
      "\n",
      "At cross fold  model 8 the mean_score is:0.8809739451492923 and the test accuracy is 0.9419948305170335\n",
      "\n",
      "\n",
      "At cross fold  model 9 the mean_score is:0.8731355781983317 and the test accuracy is 0.9419948305170335\n",
      "\n",
      "\n"
     ]
    }
   ],
   "source": [
    "test_pred=LI.predict(x_test)\n",
    "test_accuracy=r2_score(y_test,test_pred) \n",
    "for i in range(2,10):\n",
    "    cv_score=cross_val_score(LI,x,y,cv=i)\n",
    "    mean_score=cv_score.mean()\n",
    "    std_score=cv_score.std()\n",
    "    print(f'At cross fold  model {i} the mean_score is:{mean_score} and the test accuracy is {test_accuracy}')\n",
    "    print('\\n')   "
   ]
  },
  {
   "cell_type": "raw",
   "id": "73f3d28e",
   "metadata": {},
   "source": [
    "At cv=2 It give accuracy near 94.19%"
   ]
  },
  {
   "cell_type": "markdown",
   "id": "45df637e",
   "metadata": {},
   "source": [
    "# MODEL-DECISION TREE REGRESSOR"
   ]
  },
  {
   "cell_type": "code",
   "execution_count": 97,
   "id": "f8ab5d98",
   "metadata": {},
   "outputs": [
    {
     "name": "stdout",
     "output_type": "stream",
     "text": [
      "At cross fold  model 2 the mean_score is:0.9142646533054452 and the test accuracy is 0.9759538255156144\n",
      "\n",
      "\n",
      "At cross fold  model 3 the mean_score is:0.9447889685941365 and the test accuracy is 0.9759538255156144\n",
      "\n",
      "\n",
      "At cross fold  model 4 the mean_score is:0.9404519864085303 and the test accuracy is 0.9759538255156144\n",
      "\n",
      "\n",
      "At cross fold  model 5 the mean_score is:0.9535154954590246 and the test accuracy is 0.9759538255156144\n",
      "\n",
      "\n",
      "At cross fold  model 6 the mean_score is:0.9448509205763042 and the test accuracy is 0.9759538255156144\n",
      "\n",
      "\n",
      "At cross fold  model 7 the mean_score is:0.9489729024603929 and the test accuracy is 0.9759538255156144\n",
      "\n",
      "\n",
      "At cross fold  model 8 the mean_score is:0.9450692174598012 and the test accuracy is 0.9759538255156144\n",
      "\n",
      "\n",
      "At cross fold  model 9 the mean_score is:0.9391025006150594 and the test accuracy is 0.9759538255156144\n",
      "\n",
      "\n"
     ]
    }
   ],
   "source": [
    "test_pred=DT.predict(x_test)\n",
    "test_accuracy=r2_score(y_test,test_pred) \n",
    "for i in range(2,10):\n",
    "    cv_score=cross_val_score(DT,x,y,cv=i)\n",
    "    mean_score=cv_score.mean()\n",
    "    std_score=cv_score.std()\n",
    "    print(f'At cross fold  model {i} the mean_score is:{mean_score} and the test accuracy is {test_accuracy}')\n",
    "    print('\\n')   "
   ]
  },
  {
   "cell_type": "raw",
   "id": "e01b5458",
   "metadata": {},
   "source": [
    "At cv=5 mean_score is 95.35% and accuracy score is 97.59%"
   ]
  },
  {
   "cell_type": "markdown",
   "id": "77eab2e8",
   "metadata": {},
   "source": [
    "# MODEL=SUPPORT VECTOR REGRESSOR"
   ]
  },
  {
   "cell_type": "code",
   "execution_count": 98,
   "id": "e7396981",
   "metadata": {},
   "outputs": [
    {
     "name": "stdout",
     "output_type": "stream",
     "text": [
      "At cross fold  model 2 the mean_score is:0.8522467874031697 and the test accuracy is 0.9509480478256404\n",
      "\n",
      "\n",
      "At cross fold  model 3 the mean_score is:0.8916836410304713 and the test accuracy is 0.9509480478256404\n",
      "\n",
      "\n",
      "At cross fold  model 4 the mean_score is:0.897199491503716 and the test accuracy is 0.9509480478256404\n",
      "\n",
      "\n",
      "At cross fold  model 5 the mean_score is:0.9047226797314373 and the test accuracy is 0.9509480478256404\n",
      "\n",
      "\n",
      "At cross fold  model 6 the mean_score is:0.9092650791112313 and the test accuracy is 0.9509480478256404\n",
      "\n",
      "\n",
      "At cross fold  model 7 the mean_score is:0.9063528759220337 and the test accuracy is 0.9509480478256404\n",
      "\n",
      "\n",
      "At cross fold  model 8 the mean_score is:0.9088036953521962 and the test accuracy is 0.9509480478256404\n",
      "\n",
      "\n",
      "At cross fold  model 9 the mean_score is:0.9125820422671305 and the test accuracy is 0.9509480478256404\n",
      "\n",
      "\n"
     ]
    }
   ],
   "source": [
    "test_pred=SV.predict(x_test)\n",
    "test_accuracy=r2_score(y_test,test_pred) \n",
    "for i in range(2,10):\n",
    "    cv_score=cross_val_score(SV,x,y,cv=i)\n",
    "    mean_score=cv_score.mean()\n",
    "    std_score=cv_score.std()\n",
    "    print(f'At cross fold  model {i} the mean_score is:{mean_score} and the test accuracy is {test_accuracy}')\n",
    "    print('\\n')   "
   ]
  },
  {
   "cell_type": "raw",
   "id": "9c4f032e",
   "metadata": {},
   "source": [
    "At cv=9 mean_score is 91.25%  and accuracy score is 95.09%"
   ]
  },
  {
   "cell_type": "markdown",
   "id": "3d8d0821",
   "metadata": {},
   "source": [
    "# MODEL=KNEIGHBORS REGRESSOR"
   ]
  },
  {
   "cell_type": "code",
   "execution_count": 99,
   "id": "3e731c04",
   "metadata": {},
   "outputs": [
    {
     "name": "stdout",
     "output_type": "stream",
     "text": [
      "At cross fold  model 2 the mean_score is:0.9172820404958582 and the test accuracy is 0.9615428317017963\n",
      "\n",
      "\n",
      "At cross fold  model 3 the mean_score is:0.9126388076441874 and the test accuracy is 0.9615428317017963\n",
      "\n",
      "\n",
      "At cross fold  model 4 the mean_score is:0.9404239718064459 and the test accuracy is 0.9615428317017963\n",
      "\n",
      "\n",
      "At cross fold  model 5 the mean_score is:0.938558239283401 and the test accuracy is 0.9615428317017963\n",
      "\n",
      "\n",
      "At cross fold  model 6 the mean_score is:0.9331970185649375 and the test accuracy is 0.9615428317017963\n",
      "\n",
      "\n",
      "At cross fold  model 7 the mean_score is:0.9401330063945298 and the test accuracy is 0.9615428317017963\n",
      "\n",
      "\n",
      "At cross fold  model 8 the mean_score is:0.9391553015281419 and the test accuracy is 0.9615428317017963\n",
      "\n",
      "\n",
      "At cross fold  model 9 the mean_score is:0.9300034738202514 and the test accuracy is 0.9615428317017963\n",
      "\n",
      "\n"
     ]
    }
   ],
   "source": [
    "test_pred=KNR.predict(x_test)\n",
    "test_accuracy=r2_score(y_test,test_pred) \n",
    "for i in range(2,10):\n",
    "    cv_score=cross_val_score(KNR,x,y,cv=i)\n",
    "    mean_score=cv_score.mean()\n",
    "    std_score=cv_score.std()\n",
    "    print(f'At cross fold  model {i} the mean_score is:{mean_score} and the test accuracy is {test_accuracy}')\n",
    "    print('\\n')   "
   ]
  },
  {
   "cell_type": "raw",
   "id": "d9de76b9",
   "metadata": {},
   "source": [
    "AT cross value 4 mean_score is 94.04% and accuracy score is 96.15%"
   ]
  },
  {
   "cell_type": "markdown",
   "id": "6a9fee74",
   "metadata": {},
   "source": [
    "# MODEL=ADA BOOST REGRESSOR"
   ]
  },
  {
   "cell_type": "code",
   "execution_count": 100,
   "id": "d76baf90",
   "metadata": {},
   "outputs": [
    {
     "name": "stdout",
     "output_type": "stream",
     "text": [
      "At cross fold  model 2 the mean_score is:0.9482026953690135 and the test accuracy is 0.9556052232362032\n",
      "\n",
      "\n",
      "At cross fold  model 3 the mean_score is:0.9536807971161007 and the test accuracy is 0.9556052232362032\n",
      "\n",
      "\n",
      "At cross fold  model 4 the mean_score is:0.9565071198544493 and the test accuracy is 0.9556052232362032\n",
      "\n",
      "\n",
      "At cross fold  model 5 the mean_score is:0.9525110363411894 and the test accuracy is 0.9556052232362032\n",
      "\n",
      "\n",
      "At cross fold  model 6 the mean_score is:0.9571493656047444 and the test accuracy is 0.9556052232362032\n",
      "\n",
      "\n",
      "At cross fold  model 7 the mean_score is:0.9564609249107496 and the test accuracy is 0.9556052232362032\n",
      "\n",
      "\n",
      "At cross fold  model 8 the mean_score is:0.9545344771336793 and the test accuracy is 0.9556052232362032\n",
      "\n",
      "\n",
      "At cross fold  model 9 the mean_score is:0.9533713959535598 and the test accuracy is 0.9556052232362032\n",
      "\n",
      "\n"
     ]
    }
   ],
   "source": [
    "test_pred=AD.predict(x_test)\n",
    "test_accuracy=r2_score(y_test,test_pred) \n",
    "for i in range(2,10):\n",
    "    cv_score=cross_val_score(AD,x,y,cv=i)\n",
    "    mean_score=cv_score.mean()\n",
    "    std_score=cv_score.std()\n",
    "    print(f'At cross fold  model {i} the mean_score is:{mean_score} and the test accuracy is {test_accuracy}')\n",
    "    print('\\n')   "
   ]
  },
  {
   "cell_type": "raw",
   "id": "96ff87df",
   "metadata": {},
   "source": [
    "At cv=6 mean_score is 95.71% and accuracy score is 95.56%"
   ]
  },
  {
   "cell_type": "markdown",
   "id": "6b2ff7ad",
   "metadata": {},
   "source": [
    "# MODEL-GRADIENT BOOSTING REGRESSOR"
   ]
  },
  {
   "cell_type": "code",
   "execution_count": 101,
   "id": "75a73b1b",
   "metadata": {},
   "outputs": [
    {
     "name": "stdout",
     "output_type": "stream",
     "text": [
      "At cross fold  model 2 the mean_score is:0.9737186204457509 and the test accuracy is 0.983754014396373\n",
      "\n",
      "\n",
      "At cross fold  model 3 the mean_score is:0.9766228606495336 and the test accuracy is 0.983754014396373\n",
      "\n",
      "\n",
      "At cross fold  model 4 the mean_score is:0.9792066501881977 and the test accuracy is 0.983754014396373\n",
      "\n",
      "\n",
      "At cross fold  model 5 the mean_score is:0.978205543248235 and the test accuracy is 0.983754014396373\n",
      "\n",
      "\n",
      "At cross fold  model 6 the mean_score is:0.9768734716844366 and the test accuracy is 0.983754014396373\n",
      "\n",
      "\n",
      "At cross fold  model 7 the mean_score is:0.9771334444665483 and the test accuracy is 0.983754014396373\n",
      "\n",
      "\n",
      "At cross fold  model 8 the mean_score is:0.9791506148853282 and the test accuracy is 0.983754014396373\n",
      "\n",
      "\n",
      "At cross fold  model 9 the mean_score is:0.976772250813035 and the test accuracy is 0.983754014396373\n",
      "\n",
      "\n"
     ]
    }
   ],
   "source": [
    "test_pred=GR.predict(x_test)\n",
    "test_accuracy=r2_score(y_test,test_pred) \n",
    "for i in range(2,10):\n",
    "    cv_score=cross_val_score(GR,x,y,cv=i)\n",
    "    mean_score=cv_score.mean()\n",
    "    std_score=cv_score.std()\n",
    "    print(f'At cross fold  model {i} the mean_score is:{mean_score} and the test accuracy is {test_accuracy}')\n",
    "    print('\\n')   "
   ]
  },
  {
   "cell_type": "raw",
   "id": "b5d853c1",
   "metadata": {},
   "source": [
    "At cv=4 mean_score is 97.92 and accuracy score is 98.37"
   ]
  },
  {
   "cell_type": "markdown",
   "id": "89b9febc",
   "metadata": {},
   "source": [
    "# MODEL-RANDOM FOREST REGRESSOR"
   ]
  },
  {
   "cell_type": "code",
   "execution_count": 102,
   "id": "2ae05fe2",
   "metadata": {},
   "outputs": [
    {
     "name": "stdout",
     "output_type": "stream",
     "text": [
      "At cross fold  model 2 the mean_score is:0.9708948088162226 and the test accuracy is 0.981806775143251\n",
      "\n",
      "\n",
      "At cross fold  model 3 the mean_score is:0.9739736947146311 and the test accuracy is 0.981806775143251\n",
      "\n",
      "\n",
      "At cross fold  model 4 the mean_score is:0.9766604788229711 and the test accuracy is 0.981806775143251\n",
      "\n",
      "\n",
      "At cross fold  model 5 the mean_score is:0.9767163004257838 and the test accuracy is 0.981806775143251\n",
      "\n",
      "\n",
      "At cross fold  model 6 the mean_score is:0.9770581623849431 and the test accuracy is 0.981806775143251\n",
      "\n",
      "\n",
      "At cross fold  model 7 the mean_score is:0.976058121519462 and the test accuracy is 0.981806775143251\n",
      "\n",
      "\n",
      "At cross fold  model 8 the mean_score is:0.9785645995821282 and the test accuracy is 0.981806775143251\n",
      "\n",
      "\n",
      "At cross fold  model 9 the mean_score is:0.9772098782934984 and the test accuracy is 0.981806775143251\n",
      "\n",
      "\n"
     ]
    }
   ],
   "source": [
    "test_pred=RF.predict(x_test)\n",
    "test_accuracy=r2_score(y_test,test_pred) \n",
    "for i in range(2,10):\n",
    "    cv_score=cross_val_score(RF,x,y,cv=i)\n",
    "    mean_score=cv_score.mean()\n",
    "    std_score=cv_score.std()\n",
    "    print(f'At cross fold  model {i} the mean_score is:{mean_score} and the test accuracy is {test_accuracy}')\n",
    "    print('\\n')   "
   ]
  },
  {
   "cell_type": "raw",
   "id": "b9f80168",
   "metadata": {},
   "source": [
    "At cv=4 mean_score is 97.85% and accuracy score is 98.18"
   ]
  },
  {
   "cell_type": "markdown",
   "id": "91908b5b",
   "metadata": {},
   "source": [
    "## In cv score Gradient boosting regressor value is  give highest accuracy 98.18% and it little bit high with spliting data formate"
   ]
  },
  {
   "cell_type": "markdown",
   "id": "856338a0",
   "metadata": {},
   "source": [
    "# Hyperparameter tuning of Grandient Boosting Regressor"
   ]
  },
  {
   "cell_type": "code",
   "execution_count": 103,
   "id": "0c6539d2",
   "metadata": {},
   "outputs": [],
   "source": [
    "dict1={'max_features':['auto','sqrt','log2'],'n_estimators':[100,200,300,400,500],\n",
    "      'criterion':['friedman_mse','squared_error','mse'],'max_depth':[3,4,5,6,7]}"
   ]
  },
  {
   "cell_type": "code",
   "execution_count": 104,
   "id": "a53ce04a",
   "metadata": {},
   "outputs": [],
   "source": [
    "GR=GradientBoostingRegressor()"
   ]
  },
  {
   "cell_type": "code",
   "execution_count": 119,
   "id": "94e56ffe",
   "metadata": {},
   "outputs": [],
   "source": [
    "GS=GridSearchCV(estimator=GR,param_grid=dict1,cv=4)"
   ]
  },
  {
   "cell_type": "code",
   "execution_count": 120,
   "id": "b59118a7",
   "metadata": {},
   "outputs": [
    {
     "data": {
      "text/html": [
       "<style>#sk-container-id-1 {color: black;background-color: white;}#sk-container-id-1 pre{padding: 0;}#sk-container-id-1 div.sk-toggleable {background-color: white;}#sk-container-id-1 label.sk-toggleable__label {cursor: pointer;display: block;width: 100%;margin-bottom: 0;padding: 0.3em;box-sizing: border-box;text-align: center;}#sk-container-id-1 label.sk-toggleable__label-arrow:before {content: \"▸\";float: left;margin-right: 0.25em;color: #696969;}#sk-container-id-1 label.sk-toggleable__label-arrow:hover:before {color: black;}#sk-container-id-1 div.sk-estimator:hover label.sk-toggleable__label-arrow:before {color: black;}#sk-container-id-1 div.sk-toggleable__content {max-height: 0;max-width: 0;overflow: hidden;text-align: left;background-color: #f0f8ff;}#sk-container-id-1 div.sk-toggleable__content pre {margin: 0.2em;color: black;border-radius: 0.25em;background-color: #f0f8ff;}#sk-container-id-1 input.sk-toggleable__control:checked~div.sk-toggleable__content {max-height: 200px;max-width: 100%;overflow: auto;}#sk-container-id-1 input.sk-toggleable__control:checked~label.sk-toggleable__label-arrow:before {content: \"▾\";}#sk-container-id-1 div.sk-estimator input.sk-toggleable__control:checked~label.sk-toggleable__label {background-color: #d4ebff;}#sk-container-id-1 div.sk-label input.sk-toggleable__control:checked~label.sk-toggleable__label {background-color: #d4ebff;}#sk-container-id-1 input.sk-hidden--visually {border: 0;clip: rect(1px 1px 1px 1px);clip: rect(1px, 1px, 1px, 1px);height: 1px;margin: -1px;overflow: hidden;padding: 0;position: absolute;width: 1px;}#sk-container-id-1 div.sk-estimator {font-family: monospace;background-color: #f0f8ff;border: 1px dotted black;border-radius: 0.25em;box-sizing: border-box;margin-bottom: 0.5em;}#sk-container-id-1 div.sk-estimator:hover {background-color: #d4ebff;}#sk-container-id-1 div.sk-parallel-item::after {content: \"\";width: 100%;border-bottom: 1px solid gray;flex-grow: 1;}#sk-container-id-1 div.sk-label:hover label.sk-toggleable__label {background-color: #d4ebff;}#sk-container-id-1 div.sk-serial::before {content: \"\";position: absolute;border-left: 1px solid gray;box-sizing: border-box;top: 0;bottom: 0;left: 50%;z-index: 0;}#sk-container-id-1 div.sk-serial {display: flex;flex-direction: column;align-items: center;background-color: white;padding-right: 0.2em;padding-left: 0.2em;position: relative;}#sk-container-id-1 div.sk-item {position: relative;z-index: 1;}#sk-container-id-1 div.sk-parallel {display: flex;align-items: stretch;justify-content: center;background-color: white;position: relative;}#sk-container-id-1 div.sk-item::before, #sk-container-id-1 div.sk-parallel-item::before {content: \"\";position: absolute;border-left: 1px solid gray;box-sizing: border-box;top: 0;bottom: 0;left: 50%;z-index: -1;}#sk-container-id-1 div.sk-parallel-item {display: flex;flex-direction: column;z-index: 1;position: relative;background-color: white;}#sk-container-id-1 div.sk-parallel-item:first-child::after {align-self: flex-end;width: 50%;}#sk-container-id-1 div.sk-parallel-item:last-child::after {align-self: flex-start;width: 50%;}#sk-container-id-1 div.sk-parallel-item:only-child::after {width: 0;}#sk-container-id-1 div.sk-dashed-wrapped {border: 1px dashed gray;margin: 0 0.4em 0.5em 0.4em;box-sizing: border-box;padding-bottom: 0.4em;background-color: white;}#sk-container-id-1 div.sk-label label {font-family: monospace;font-weight: bold;display: inline-block;line-height: 1.2em;}#sk-container-id-1 div.sk-label-container {text-align: center;}#sk-container-id-1 div.sk-container {/* jupyter's `normalize.less` sets `[hidden] { display: none; }` but bootstrap.min.css set `[hidden] { display: none !important; }` so we also need the `!important` here to be able to override the default hidden behavior on the sphinx rendered scikit-learn.org. See: https://github.com/scikit-learn/scikit-learn/issues/21755 */display: inline-block !important;position: relative;}#sk-container-id-1 div.sk-text-repr-fallback {display: none;}</style><div id=\"sk-container-id-1\" class=\"sk-top-container\"><div class=\"sk-text-repr-fallback\"><pre>GridSearchCV(cv=4, estimator=GradientBoostingRegressor(),\n",
       "             param_grid={&#x27;criterion&#x27;: [&#x27;friedman_mse&#x27;, &#x27;squared_error&#x27;, &#x27;mse&#x27;],\n",
       "                         &#x27;max_depth&#x27;: [3, 4, 5, 6, 7],\n",
       "                         &#x27;max_features&#x27;: [&#x27;auto&#x27;, &#x27;sqrt&#x27;, &#x27;log2&#x27;],\n",
       "                         &#x27;n_estimators&#x27;: [100, 200, 300, 400, 500]})</pre><b>In a Jupyter environment, please rerun this cell to show the HTML representation or trust the notebook. <br />On GitHub, the HTML representation is unable to render, please try loading this page with nbviewer.org.</b></div><div class=\"sk-container\" hidden><div class=\"sk-item sk-dashed-wrapped\"><div class=\"sk-label-container\"><div class=\"sk-label sk-toggleable\"><input class=\"sk-toggleable__control sk-hidden--visually\" id=\"sk-estimator-id-1\" type=\"checkbox\" ><label for=\"sk-estimator-id-1\" class=\"sk-toggleable__label sk-toggleable__label-arrow\">GridSearchCV</label><div class=\"sk-toggleable__content\"><pre>GridSearchCV(cv=4, estimator=GradientBoostingRegressor(),\n",
       "             param_grid={&#x27;criterion&#x27;: [&#x27;friedman_mse&#x27;, &#x27;squared_error&#x27;, &#x27;mse&#x27;],\n",
       "                         &#x27;max_depth&#x27;: [3, 4, 5, 6, 7],\n",
       "                         &#x27;max_features&#x27;: [&#x27;auto&#x27;, &#x27;sqrt&#x27;, &#x27;log2&#x27;],\n",
       "                         &#x27;n_estimators&#x27;: [100, 200, 300, 400, 500]})</pre></div></div></div><div class=\"sk-parallel\"><div class=\"sk-parallel-item\"><div class=\"sk-item\"><div class=\"sk-label-container\"><div class=\"sk-label sk-toggleable\"><input class=\"sk-toggleable__control sk-hidden--visually\" id=\"sk-estimator-id-2\" type=\"checkbox\" ><label for=\"sk-estimator-id-2\" class=\"sk-toggleable__label sk-toggleable__label-arrow\">estimator: GradientBoostingRegressor</label><div class=\"sk-toggleable__content\"><pre>GradientBoostingRegressor()</pre></div></div></div><div class=\"sk-serial\"><div class=\"sk-item\"><div class=\"sk-estimator sk-toggleable\"><input class=\"sk-toggleable__control sk-hidden--visually\" id=\"sk-estimator-id-3\" type=\"checkbox\" ><label for=\"sk-estimator-id-3\" class=\"sk-toggleable__label sk-toggleable__label-arrow\">GradientBoostingRegressor</label><div class=\"sk-toggleable__content\"><pre>GradientBoostingRegressor()</pre></div></div></div></div></div></div></div></div></div></div>"
      ],
      "text/plain": [
       "GridSearchCV(cv=4, estimator=GradientBoostingRegressor(),\n",
       "             param_grid={'criterion': ['friedman_mse', 'squared_error', 'mse'],\n",
       "                         'max_depth': [3, 4, 5, 6, 7],\n",
       "                         'max_features': ['auto', 'sqrt', 'log2'],\n",
       "                         'n_estimators': [100, 200, 300, 400, 500]})"
      ]
     },
     "execution_count": 120,
     "metadata": {},
     "output_type": "execute_result"
    }
   ],
   "source": [
    "GS"
   ]
  },
  {
   "cell_type": "code",
   "execution_count": 121,
   "id": "254574b0",
   "metadata": {},
   "outputs": [
    {
     "data": {
      "text/html": [
       "<style>#sk-container-id-2 {color: black;background-color: white;}#sk-container-id-2 pre{padding: 0;}#sk-container-id-2 div.sk-toggleable {background-color: white;}#sk-container-id-2 label.sk-toggleable__label {cursor: pointer;display: block;width: 100%;margin-bottom: 0;padding: 0.3em;box-sizing: border-box;text-align: center;}#sk-container-id-2 label.sk-toggleable__label-arrow:before {content: \"▸\";float: left;margin-right: 0.25em;color: #696969;}#sk-container-id-2 label.sk-toggleable__label-arrow:hover:before {color: black;}#sk-container-id-2 div.sk-estimator:hover label.sk-toggleable__label-arrow:before {color: black;}#sk-container-id-2 div.sk-toggleable__content {max-height: 0;max-width: 0;overflow: hidden;text-align: left;background-color: #f0f8ff;}#sk-container-id-2 div.sk-toggleable__content pre {margin: 0.2em;color: black;border-radius: 0.25em;background-color: #f0f8ff;}#sk-container-id-2 input.sk-toggleable__control:checked~div.sk-toggleable__content {max-height: 200px;max-width: 100%;overflow: auto;}#sk-container-id-2 input.sk-toggleable__control:checked~label.sk-toggleable__label-arrow:before {content: \"▾\";}#sk-container-id-2 div.sk-estimator input.sk-toggleable__control:checked~label.sk-toggleable__label {background-color: #d4ebff;}#sk-container-id-2 div.sk-label input.sk-toggleable__control:checked~label.sk-toggleable__label {background-color: #d4ebff;}#sk-container-id-2 input.sk-hidden--visually {border: 0;clip: rect(1px 1px 1px 1px);clip: rect(1px, 1px, 1px, 1px);height: 1px;margin: -1px;overflow: hidden;padding: 0;position: absolute;width: 1px;}#sk-container-id-2 div.sk-estimator {font-family: monospace;background-color: #f0f8ff;border: 1px dotted black;border-radius: 0.25em;box-sizing: border-box;margin-bottom: 0.5em;}#sk-container-id-2 div.sk-estimator:hover {background-color: #d4ebff;}#sk-container-id-2 div.sk-parallel-item::after {content: \"\";width: 100%;border-bottom: 1px solid gray;flex-grow: 1;}#sk-container-id-2 div.sk-label:hover label.sk-toggleable__label {background-color: #d4ebff;}#sk-container-id-2 div.sk-serial::before {content: \"\";position: absolute;border-left: 1px solid gray;box-sizing: border-box;top: 0;bottom: 0;left: 50%;z-index: 0;}#sk-container-id-2 div.sk-serial {display: flex;flex-direction: column;align-items: center;background-color: white;padding-right: 0.2em;padding-left: 0.2em;position: relative;}#sk-container-id-2 div.sk-item {position: relative;z-index: 1;}#sk-container-id-2 div.sk-parallel {display: flex;align-items: stretch;justify-content: center;background-color: white;position: relative;}#sk-container-id-2 div.sk-item::before, #sk-container-id-2 div.sk-parallel-item::before {content: \"\";position: absolute;border-left: 1px solid gray;box-sizing: border-box;top: 0;bottom: 0;left: 50%;z-index: -1;}#sk-container-id-2 div.sk-parallel-item {display: flex;flex-direction: column;z-index: 1;position: relative;background-color: white;}#sk-container-id-2 div.sk-parallel-item:first-child::after {align-self: flex-end;width: 50%;}#sk-container-id-2 div.sk-parallel-item:last-child::after {align-self: flex-start;width: 50%;}#sk-container-id-2 div.sk-parallel-item:only-child::after {width: 0;}#sk-container-id-2 div.sk-dashed-wrapped {border: 1px dashed gray;margin: 0 0.4em 0.5em 0.4em;box-sizing: border-box;padding-bottom: 0.4em;background-color: white;}#sk-container-id-2 div.sk-label label {font-family: monospace;font-weight: bold;display: inline-block;line-height: 1.2em;}#sk-container-id-2 div.sk-label-container {text-align: center;}#sk-container-id-2 div.sk-container {/* jupyter's `normalize.less` sets `[hidden] { display: none; }` but bootstrap.min.css set `[hidden] { display: none !important; }` so we also need the `!important` here to be able to override the default hidden behavior on the sphinx rendered scikit-learn.org. See: https://github.com/scikit-learn/scikit-learn/issues/21755 */display: inline-block !important;position: relative;}#sk-container-id-2 div.sk-text-repr-fallback {display: none;}</style><div id=\"sk-container-id-2\" class=\"sk-top-container\"><div class=\"sk-text-repr-fallback\"><pre>GridSearchCV(cv=4, estimator=GradientBoostingRegressor(),\n",
       "             param_grid={&#x27;criterion&#x27;: [&#x27;friedman_mse&#x27;, &#x27;squared_error&#x27;, &#x27;mse&#x27;],\n",
       "                         &#x27;max_depth&#x27;: [3, 4, 5, 6, 7],\n",
       "                         &#x27;max_features&#x27;: [&#x27;auto&#x27;, &#x27;sqrt&#x27;, &#x27;log2&#x27;],\n",
       "                         &#x27;n_estimators&#x27;: [100, 200, 300, 400, 500]})</pre><b>In a Jupyter environment, please rerun this cell to show the HTML representation or trust the notebook. <br />On GitHub, the HTML representation is unable to render, please try loading this page with nbviewer.org.</b></div><div class=\"sk-container\" hidden><div class=\"sk-item sk-dashed-wrapped\"><div class=\"sk-label-container\"><div class=\"sk-label sk-toggleable\"><input class=\"sk-toggleable__control sk-hidden--visually\" id=\"sk-estimator-id-4\" type=\"checkbox\" ><label for=\"sk-estimator-id-4\" class=\"sk-toggleable__label sk-toggleable__label-arrow\">GridSearchCV</label><div class=\"sk-toggleable__content\"><pre>GridSearchCV(cv=4, estimator=GradientBoostingRegressor(),\n",
       "             param_grid={&#x27;criterion&#x27;: [&#x27;friedman_mse&#x27;, &#x27;squared_error&#x27;, &#x27;mse&#x27;],\n",
       "                         &#x27;max_depth&#x27;: [3, 4, 5, 6, 7],\n",
       "                         &#x27;max_features&#x27;: [&#x27;auto&#x27;, &#x27;sqrt&#x27;, &#x27;log2&#x27;],\n",
       "                         &#x27;n_estimators&#x27;: [100, 200, 300, 400, 500]})</pre></div></div></div><div class=\"sk-parallel\"><div class=\"sk-parallel-item\"><div class=\"sk-item\"><div class=\"sk-label-container\"><div class=\"sk-label sk-toggleable\"><input class=\"sk-toggleable__control sk-hidden--visually\" id=\"sk-estimator-id-5\" type=\"checkbox\" ><label for=\"sk-estimator-id-5\" class=\"sk-toggleable__label sk-toggleable__label-arrow\">estimator: GradientBoostingRegressor</label><div class=\"sk-toggleable__content\"><pre>GradientBoostingRegressor()</pre></div></div></div><div class=\"sk-serial\"><div class=\"sk-item\"><div class=\"sk-estimator sk-toggleable\"><input class=\"sk-toggleable__control sk-hidden--visually\" id=\"sk-estimator-id-6\" type=\"checkbox\" ><label for=\"sk-estimator-id-6\" class=\"sk-toggleable__label sk-toggleable__label-arrow\">GradientBoostingRegressor</label><div class=\"sk-toggleable__content\"><pre>GradientBoostingRegressor()</pre></div></div></div></div></div></div></div></div></div></div>"
      ],
      "text/plain": [
       "GridSearchCV(cv=4, estimator=GradientBoostingRegressor(),\n",
       "             param_grid={'criterion': ['friedman_mse', 'squared_error', 'mse'],\n",
       "                         'max_depth': [3, 4, 5, 6, 7],\n",
       "                         'max_features': ['auto', 'sqrt', 'log2'],\n",
       "                         'n_estimators': [100, 200, 300, 400, 500]})"
      ]
     },
     "execution_count": 121,
     "metadata": {},
     "output_type": "execute_result"
    }
   ],
   "source": [
    "GS.fit(x,y)"
   ]
  },
  {
   "cell_type": "code",
   "execution_count": 122,
   "id": "5707599a",
   "metadata": {},
   "outputs": [
    {
     "data": {
      "text/plain": [
       "{'criterion': 'mse',\n",
       " 'max_depth': 3,\n",
       " 'max_features': 'auto',\n",
       " 'n_estimators': 200}"
      ]
     },
     "execution_count": 122,
     "metadata": {},
     "output_type": "execute_result"
    }
   ],
   "source": [
    "GS.best_params_"
   ]
  },
  {
   "cell_type": "code",
   "execution_count": 123,
   "id": "d8d1b3f8",
   "metadata": {},
   "outputs": [
    {
     "data": {
      "text/plain": [
       "0.9795126950493291"
      ]
     },
     "execution_count": 123,
     "metadata": {},
     "output_type": "execute_result"
    }
   ],
   "source": [
    "GS.best_score_"
   ]
  },
  {
   "cell_type": "code",
   "execution_count": 124,
   "id": "04786c27",
   "metadata": {},
   "outputs": [
    {
     "name": "stdout",
     "output_type": "stream",
     "text": [
      "Mean_absolute_error of model 0.5316587824573382\n",
      "Mean_square_error of model 0.4213396196430571\n",
      "Root_mean_square_error of model 0.649106786009095\n",
      "R2 Score of model 98.36256872547528\n"
     ]
    }
   ],
   "source": [
    "GR=GradientBoostingRegressor(criterion='mse',max_features='auto',n_estimators=200,max_depth=3)\n",
    "GR.fit(x_train,y_train)\n",
    "print('Mean_absolute_error of model', mean_absolute_error(y_test,GR.predict(x_test)))\n",
    "print('Mean_square_error of model' , mean_squared_error(y_test,GR.predict(x_test)))\n",
    "print('Root_mean_square_error of model' ,np.sqrt( mean_squared_error(y_test,GR.predict(x_test))))\n",
    "print('R2 Score of model', r2_score(y_test,GR.predict(x_test) )*100)"
   ]
  },
  {
   "cell_type": "code",
   "execution_count": 125,
   "id": "52592f14",
   "metadata": {},
   "outputs": [],
   "source": [
    "# WHile Grid Search CV result is:\n",
    "\n",
    "#mean_square_error of GrieSearchCV model 0.53\n",
    "# mean_squared_error of grid search cv is 0.42\n",
    "# R2 Score of Grid Search CV for gradient boosting regressor 98.36"
   ]
  },
  {
   "cell_type": "markdown",
   "id": "00423dfb",
   "metadata": {},
   "source": [
    "# HYPER TUNING BY RANDMOIZED CV"
   ]
  },
  {
   "cell_type": "code",
   "execution_count": 126,
   "id": "ab5c7102",
   "metadata": {},
   "outputs": [],
   "source": [
    "RF= RandomizedSearchCV(estimator=GR,param_distributions=dict1,cv=4)"
   ]
  },
  {
   "cell_type": "code",
   "execution_count": 127,
   "id": "fcff1333",
   "metadata": {},
   "outputs": [
    {
     "data": {
      "text/html": [
       "<style>#sk-container-id-3 {color: black;background-color: white;}#sk-container-id-3 pre{padding: 0;}#sk-container-id-3 div.sk-toggleable {background-color: white;}#sk-container-id-3 label.sk-toggleable__label {cursor: pointer;display: block;width: 100%;margin-bottom: 0;padding: 0.3em;box-sizing: border-box;text-align: center;}#sk-container-id-3 label.sk-toggleable__label-arrow:before {content: \"▸\";float: left;margin-right: 0.25em;color: #696969;}#sk-container-id-3 label.sk-toggleable__label-arrow:hover:before {color: black;}#sk-container-id-3 div.sk-estimator:hover label.sk-toggleable__label-arrow:before {color: black;}#sk-container-id-3 div.sk-toggleable__content {max-height: 0;max-width: 0;overflow: hidden;text-align: left;background-color: #f0f8ff;}#sk-container-id-3 div.sk-toggleable__content pre {margin: 0.2em;color: black;border-radius: 0.25em;background-color: #f0f8ff;}#sk-container-id-3 input.sk-toggleable__control:checked~div.sk-toggleable__content {max-height: 200px;max-width: 100%;overflow: auto;}#sk-container-id-3 input.sk-toggleable__control:checked~label.sk-toggleable__label-arrow:before {content: \"▾\";}#sk-container-id-3 div.sk-estimator input.sk-toggleable__control:checked~label.sk-toggleable__label {background-color: #d4ebff;}#sk-container-id-3 div.sk-label input.sk-toggleable__control:checked~label.sk-toggleable__label {background-color: #d4ebff;}#sk-container-id-3 input.sk-hidden--visually {border: 0;clip: rect(1px 1px 1px 1px);clip: rect(1px, 1px, 1px, 1px);height: 1px;margin: -1px;overflow: hidden;padding: 0;position: absolute;width: 1px;}#sk-container-id-3 div.sk-estimator {font-family: monospace;background-color: #f0f8ff;border: 1px dotted black;border-radius: 0.25em;box-sizing: border-box;margin-bottom: 0.5em;}#sk-container-id-3 div.sk-estimator:hover {background-color: #d4ebff;}#sk-container-id-3 div.sk-parallel-item::after {content: \"\";width: 100%;border-bottom: 1px solid gray;flex-grow: 1;}#sk-container-id-3 div.sk-label:hover label.sk-toggleable__label {background-color: #d4ebff;}#sk-container-id-3 div.sk-serial::before {content: \"\";position: absolute;border-left: 1px solid gray;box-sizing: border-box;top: 0;bottom: 0;left: 50%;z-index: 0;}#sk-container-id-3 div.sk-serial {display: flex;flex-direction: column;align-items: center;background-color: white;padding-right: 0.2em;padding-left: 0.2em;position: relative;}#sk-container-id-3 div.sk-item {position: relative;z-index: 1;}#sk-container-id-3 div.sk-parallel {display: flex;align-items: stretch;justify-content: center;background-color: white;position: relative;}#sk-container-id-3 div.sk-item::before, #sk-container-id-3 div.sk-parallel-item::before {content: \"\";position: absolute;border-left: 1px solid gray;box-sizing: border-box;top: 0;bottom: 0;left: 50%;z-index: -1;}#sk-container-id-3 div.sk-parallel-item {display: flex;flex-direction: column;z-index: 1;position: relative;background-color: white;}#sk-container-id-3 div.sk-parallel-item:first-child::after {align-self: flex-end;width: 50%;}#sk-container-id-3 div.sk-parallel-item:last-child::after {align-self: flex-start;width: 50%;}#sk-container-id-3 div.sk-parallel-item:only-child::after {width: 0;}#sk-container-id-3 div.sk-dashed-wrapped {border: 1px dashed gray;margin: 0 0.4em 0.5em 0.4em;box-sizing: border-box;padding-bottom: 0.4em;background-color: white;}#sk-container-id-3 div.sk-label label {font-family: monospace;font-weight: bold;display: inline-block;line-height: 1.2em;}#sk-container-id-3 div.sk-label-container {text-align: center;}#sk-container-id-3 div.sk-container {/* jupyter's `normalize.less` sets `[hidden] { display: none; }` but bootstrap.min.css set `[hidden] { display: none !important; }` so we also need the `!important` here to be able to override the default hidden behavior on the sphinx rendered scikit-learn.org. See: https://github.com/scikit-learn/scikit-learn/issues/21755 */display: inline-block !important;position: relative;}#sk-container-id-3 div.sk-text-repr-fallback {display: none;}</style><div id=\"sk-container-id-3\" class=\"sk-top-container\"><div class=\"sk-text-repr-fallback\"><pre>RandomizedSearchCV(cv=4,\n",
       "                   estimator=GradientBoostingRegressor(criterion=&#x27;mse&#x27;,\n",
       "                                                       max_features=&#x27;auto&#x27;,\n",
       "                                                       n_estimators=200),\n",
       "                   param_distributions={&#x27;criterion&#x27;: [&#x27;friedman_mse&#x27;,\n",
       "                                                      &#x27;squared_error&#x27;, &#x27;mse&#x27;],\n",
       "                                        &#x27;max_depth&#x27;: [3, 4, 5, 6, 7],\n",
       "                                        &#x27;max_features&#x27;: [&#x27;auto&#x27;, &#x27;sqrt&#x27;,\n",
       "                                                         &#x27;log2&#x27;],\n",
       "                                        &#x27;n_estimators&#x27;: [100, 200, 300, 400,\n",
       "                                                         500]})</pre><b>In a Jupyter environment, please rerun this cell to show the HTML representation or trust the notebook. <br />On GitHub, the HTML representation is unable to render, please try loading this page with nbviewer.org.</b></div><div class=\"sk-container\" hidden><div class=\"sk-item sk-dashed-wrapped\"><div class=\"sk-label-container\"><div class=\"sk-label sk-toggleable\"><input class=\"sk-toggleable__control sk-hidden--visually\" id=\"sk-estimator-id-7\" type=\"checkbox\" ><label for=\"sk-estimator-id-7\" class=\"sk-toggleable__label sk-toggleable__label-arrow\">RandomizedSearchCV</label><div class=\"sk-toggleable__content\"><pre>RandomizedSearchCV(cv=4,\n",
       "                   estimator=GradientBoostingRegressor(criterion=&#x27;mse&#x27;,\n",
       "                                                       max_features=&#x27;auto&#x27;,\n",
       "                                                       n_estimators=200),\n",
       "                   param_distributions={&#x27;criterion&#x27;: [&#x27;friedman_mse&#x27;,\n",
       "                                                      &#x27;squared_error&#x27;, &#x27;mse&#x27;],\n",
       "                                        &#x27;max_depth&#x27;: [3, 4, 5, 6, 7],\n",
       "                                        &#x27;max_features&#x27;: [&#x27;auto&#x27;, &#x27;sqrt&#x27;,\n",
       "                                                         &#x27;log2&#x27;],\n",
       "                                        &#x27;n_estimators&#x27;: [100, 200, 300, 400,\n",
       "                                                         500]})</pre></div></div></div><div class=\"sk-parallel\"><div class=\"sk-parallel-item\"><div class=\"sk-item\"><div class=\"sk-label-container\"><div class=\"sk-label sk-toggleable\"><input class=\"sk-toggleable__control sk-hidden--visually\" id=\"sk-estimator-id-8\" type=\"checkbox\" ><label for=\"sk-estimator-id-8\" class=\"sk-toggleable__label sk-toggleable__label-arrow\">estimator: GradientBoostingRegressor</label><div class=\"sk-toggleable__content\"><pre>GradientBoostingRegressor(criterion=&#x27;mse&#x27;, max_features=&#x27;auto&#x27;,\n",
       "                          n_estimators=200)</pre></div></div></div><div class=\"sk-serial\"><div class=\"sk-item\"><div class=\"sk-estimator sk-toggleable\"><input class=\"sk-toggleable__control sk-hidden--visually\" id=\"sk-estimator-id-9\" type=\"checkbox\" ><label for=\"sk-estimator-id-9\" class=\"sk-toggleable__label sk-toggleable__label-arrow\">GradientBoostingRegressor</label><div class=\"sk-toggleable__content\"><pre>GradientBoostingRegressor(criterion=&#x27;mse&#x27;, max_features=&#x27;auto&#x27;,\n",
       "                          n_estimators=200)</pre></div></div></div></div></div></div></div></div></div></div>"
      ],
      "text/plain": [
       "RandomizedSearchCV(cv=4,\n",
       "                   estimator=GradientBoostingRegressor(criterion='mse',\n",
       "                                                       max_features='auto',\n",
       "                                                       n_estimators=200),\n",
       "                   param_distributions={'criterion': ['friedman_mse',\n",
       "                                                      'squared_error', 'mse'],\n",
       "                                        'max_depth': [3, 4, 5, 6, 7],\n",
       "                                        'max_features': ['auto', 'sqrt',\n",
       "                                                         'log2'],\n",
       "                                        'n_estimators': [100, 200, 300, 400,\n",
       "                                                         500]})"
      ]
     },
     "execution_count": 127,
     "metadata": {},
     "output_type": "execute_result"
    }
   ],
   "source": [
    "RF.fit(x,y)"
   ]
  },
  {
   "cell_type": "code",
   "execution_count": 128,
   "id": "aea55e47",
   "metadata": {},
   "outputs": [
    {
     "data": {
      "text/html": [
       "<style>#sk-container-id-4 {color: black;background-color: white;}#sk-container-id-4 pre{padding: 0;}#sk-container-id-4 div.sk-toggleable {background-color: white;}#sk-container-id-4 label.sk-toggleable__label {cursor: pointer;display: block;width: 100%;margin-bottom: 0;padding: 0.3em;box-sizing: border-box;text-align: center;}#sk-container-id-4 label.sk-toggleable__label-arrow:before {content: \"▸\";float: left;margin-right: 0.25em;color: #696969;}#sk-container-id-4 label.sk-toggleable__label-arrow:hover:before {color: black;}#sk-container-id-4 div.sk-estimator:hover label.sk-toggleable__label-arrow:before {color: black;}#sk-container-id-4 div.sk-toggleable__content {max-height: 0;max-width: 0;overflow: hidden;text-align: left;background-color: #f0f8ff;}#sk-container-id-4 div.sk-toggleable__content pre {margin: 0.2em;color: black;border-radius: 0.25em;background-color: #f0f8ff;}#sk-container-id-4 input.sk-toggleable__control:checked~div.sk-toggleable__content {max-height: 200px;max-width: 100%;overflow: auto;}#sk-container-id-4 input.sk-toggleable__control:checked~label.sk-toggleable__label-arrow:before {content: \"▾\";}#sk-container-id-4 div.sk-estimator input.sk-toggleable__control:checked~label.sk-toggleable__label {background-color: #d4ebff;}#sk-container-id-4 div.sk-label input.sk-toggleable__control:checked~label.sk-toggleable__label {background-color: #d4ebff;}#sk-container-id-4 input.sk-hidden--visually {border: 0;clip: rect(1px 1px 1px 1px);clip: rect(1px, 1px, 1px, 1px);height: 1px;margin: -1px;overflow: hidden;padding: 0;position: absolute;width: 1px;}#sk-container-id-4 div.sk-estimator {font-family: monospace;background-color: #f0f8ff;border: 1px dotted black;border-radius: 0.25em;box-sizing: border-box;margin-bottom: 0.5em;}#sk-container-id-4 div.sk-estimator:hover {background-color: #d4ebff;}#sk-container-id-4 div.sk-parallel-item::after {content: \"\";width: 100%;border-bottom: 1px solid gray;flex-grow: 1;}#sk-container-id-4 div.sk-label:hover label.sk-toggleable__label {background-color: #d4ebff;}#sk-container-id-4 div.sk-serial::before {content: \"\";position: absolute;border-left: 1px solid gray;box-sizing: border-box;top: 0;bottom: 0;left: 50%;z-index: 0;}#sk-container-id-4 div.sk-serial {display: flex;flex-direction: column;align-items: center;background-color: white;padding-right: 0.2em;padding-left: 0.2em;position: relative;}#sk-container-id-4 div.sk-item {position: relative;z-index: 1;}#sk-container-id-4 div.sk-parallel {display: flex;align-items: stretch;justify-content: center;background-color: white;position: relative;}#sk-container-id-4 div.sk-item::before, #sk-container-id-4 div.sk-parallel-item::before {content: \"\";position: absolute;border-left: 1px solid gray;box-sizing: border-box;top: 0;bottom: 0;left: 50%;z-index: -1;}#sk-container-id-4 div.sk-parallel-item {display: flex;flex-direction: column;z-index: 1;position: relative;background-color: white;}#sk-container-id-4 div.sk-parallel-item:first-child::after {align-self: flex-end;width: 50%;}#sk-container-id-4 div.sk-parallel-item:last-child::after {align-self: flex-start;width: 50%;}#sk-container-id-4 div.sk-parallel-item:only-child::after {width: 0;}#sk-container-id-4 div.sk-dashed-wrapped {border: 1px dashed gray;margin: 0 0.4em 0.5em 0.4em;box-sizing: border-box;padding-bottom: 0.4em;background-color: white;}#sk-container-id-4 div.sk-label label {font-family: monospace;font-weight: bold;display: inline-block;line-height: 1.2em;}#sk-container-id-4 div.sk-label-container {text-align: center;}#sk-container-id-4 div.sk-container {/* jupyter's `normalize.less` sets `[hidden] { display: none; }` but bootstrap.min.css set `[hidden] { display: none !important; }` so we also need the `!important` here to be able to override the default hidden behavior on the sphinx rendered scikit-learn.org. See: https://github.com/scikit-learn/scikit-learn/issues/21755 */display: inline-block !important;position: relative;}#sk-container-id-4 div.sk-text-repr-fallback {display: none;}</style><div id=\"sk-container-id-4\" class=\"sk-top-container\"><div class=\"sk-text-repr-fallback\"><pre>GradientBoostingRegressor(criterion=&#x27;mse&#x27;, max_features=&#x27;auto&#x27;,\n",
       "                          n_estimators=400)</pre><b>In a Jupyter environment, please rerun this cell to show the HTML representation or trust the notebook. <br />On GitHub, the HTML representation is unable to render, please try loading this page with nbviewer.org.</b></div><div class=\"sk-container\" hidden><div class=\"sk-item\"><div class=\"sk-estimator sk-toggleable\"><input class=\"sk-toggleable__control sk-hidden--visually\" id=\"sk-estimator-id-10\" type=\"checkbox\" checked><label for=\"sk-estimator-id-10\" class=\"sk-toggleable__label sk-toggleable__label-arrow\">GradientBoostingRegressor</label><div class=\"sk-toggleable__content\"><pre>GradientBoostingRegressor(criterion=&#x27;mse&#x27;, max_features=&#x27;auto&#x27;,\n",
       "                          n_estimators=400)</pre></div></div></div></div></div>"
      ],
      "text/plain": [
       "GradientBoostingRegressor(criterion='mse', max_features='auto',\n",
       "                          n_estimators=400)"
      ]
     },
     "execution_count": 128,
     "metadata": {},
     "output_type": "execute_result"
    }
   ],
   "source": [
    "RF.best_estimator_"
   ]
  },
  {
   "cell_type": "code",
   "execution_count": 129,
   "id": "934e91f3",
   "metadata": {},
   "outputs": [
    {
     "data": {
      "text/plain": [
       "0.9791962313446325"
      ]
     },
     "execution_count": 129,
     "metadata": {},
     "output_type": "execute_result"
    }
   ],
   "source": [
    "RF.best_score_"
   ]
  },
  {
   "cell_type": "code",
   "execution_count": 130,
   "id": "5b04ced2",
   "metadata": {},
   "outputs": [
    {
     "data": {
      "text/plain": [
       "{'n_estimators': 400,\n",
       " 'max_features': 'auto',\n",
       " 'max_depth': 3,\n",
       " 'criterion': 'mse'}"
      ]
     },
     "execution_count": 130,
     "metadata": {},
     "output_type": "execute_result"
    }
   ],
   "source": [
    "RF.best_params_"
   ]
  },
  {
   "cell_type": "code",
   "execution_count": 131,
   "id": "37c96e76",
   "metadata": {},
   "outputs": [
    {
     "name": "stdout",
     "output_type": "stream",
     "text": [
      "Mean_absolute_error of model 0.5338093103683965\n",
      "Mean_square_error of model 0.4338568484846849\n",
      "Root_mean_square_error of model 0.6586781068812633\n",
      "R2 Score ofnmodel 98.31392363961076\n"
     ]
    }
   ],
   "source": [
    "GR=GradientBoostingRegressor(criterion='mse',max_features='auto',n_estimators=400,max_depth=3)\n",
    "GR.fit(x_train,y_train)\n",
    "print('Mean_absolute_error of model', mean_absolute_error(y_test,GR.predict(x_test)))\n",
    "print('Mean_square_error of model' , mean_squared_error(y_test,GR.predict(x_test)))\n",
    "print('Root_mean_square_error of model' ,np.sqrt( mean_squared_error(y_test,GR.predict(x_test))))\n",
    "print('R2 Score ofnmodel', r2_score(y_test,GR.predict(x_test) )*100)"
   ]
  },
  {
   "cell_type": "code",
   "execution_count": 133,
   "id": "3223aa48",
   "metadata": {},
   "outputs": [],
   "source": [
    "# By both hypertuning we get same result i.e. r2 score and mse both are same\n",
    "# Accuracy is 98.37%.It is higher comparision to another model accuracy give by grid search cv"
   ]
  },
  {
   "cell_type": "markdown",
   "id": "1e78b89d",
   "metadata": {},
   "source": [
    "# Saving the model with Grid Search CV"
   ]
  },
  {
   "cell_type": "code",
   "execution_count": 134,
   "id": "f476e7a6",
   "metadata": {},
   "outputs": [],
   "source": [
    "import joblib"
   ]
  },
  {
   "cell_type": "code",
   "execution_count": 137,
   "id": "802b4141",
   "metadata": {},
   "outputs": [
    {
     "data": {
      "text/plain": [
       "['Advertising.pkl']"
      ]
     },
     "execution_count": 137,
     "metadata": {},
     "output_type": "execute_result"
    }
   ],
   "source": [
    "joblib.dump(GS.best_estimator_,'Advertising.pkl')"
   ]
  },
  {
   "cell_type": "code",
   "execution_count": 136,
   "id": "09496d62",
   "metadata": {},
   "outputs": [],
   "source": [
    "# Save the best model whoes mse are very less compare to other variable"
   ]
  },
  {
   "cell_type": "code",
   "execution_count": null,
   "id": "7946beee",
   "metadata": {},
   "outputs": [],
   "source": []
  }
 ],
 "metadata": {
  "kernelspec": {
   "display_name": "Python 3 (ipykernel)",
   "language": "python",
   "name": "python3"
  },
  "language_info": {
   "codemirror_mode": {
    "name": "ipython",
    "version": 3
   },
   "file_extension": ".py",
   "mimetype": "text/x-python",
   "name": "python",
   "nbconvert_exporter": "python",
   "pygments_lexer": "ipython3",
   "version": "3.9.7"
  }
 },
 "nbformat": 4,
 "nbformat_minor": 5
}
