{
 "cells": [
  {
   "cell_type": "code",
   "execution_count": 1,
   "id": "b4aedbd1",
   "metadata": {},
   "outputs": [],
   "source": [
    "# import laibary\n",
    "import pandas as pd\n",
    "import numpy as np\n",
    "import matplotlib.pyplot as plt\n",
    "import seaborn as sns\n",
    "# import warning\n",
    "import warnings \n",
    "warnings.filterwarnings('ignore')"
   ]
  },
  {
   "cell_type": "code",
   "execution_count": 2,
   "id": "44e5d70a",
   "metadata": {},
   "outputs": [],
   "source": [
    "import sklearn\n",
    "# Linear  model\n",
    "from sklearn.linear_model import LogisticRegression\n",
    "from sklearn.linear_model import Ridge,Lasso\n",
    "# error\n",
    "from sklearn.metrics import classification_report,confusion_matrix,accuracy_score"
   ]
  },
  {
   "cell_type": "code",
   "execution_count": 3,
   "id": "56250e9d",
   "metadata": {},
   "outputs": [],
   "source": [
    "# diffrent model selection\n",
    "from sklearn.model_selection import cross_val_score\n",
    "from sklearn.model_selection import train_test_split\n",
    "from sklearn.model_selection import GridSearchCV"
   ]
  },
  {
   "cell_type": "code",
   "execution_count": 4,
   "id": "3f6cbb0a",
   "metadata": {},
   "outputs": [],
   "source": [
    "# classifiers method\n",
    "from sklearn.tree import DecisionTreeClassifier\n",
    "from sklearn.neighbors import KNeighborsClassifier\n",
    "from sklearn.svm import SVC\n",
    "from sklearn.naive_bayes import GaussianNB,MultinomialNB"
   ]
  },
  {
   "cell_type": "code",
   "execution_count": 5,
   "id": "769a5ce0",
   "metadata": {},
   "outputs": [],
   "source": [
    "# Ensemble method\n",
    "from sklearn.ensemble import RandomForestClassifier\n",
    "from sklearn.ensemble import AdaBoostClassifier\n",
    "from sklearn.ensemble import GradientBoostingClassifier"
   ]
  },
  {
   "cell_type": "code",
   "execution_count": 6,
   "id": "84dfe181",
   "metadata": {},
   "outputs": [],
   "source": [
    "# object to int \n",
    "from sklearn.preprocessing import LabelEncoder\n",
    "# fill ull value\n",
    "from sklearn.impute import SimpleImputer"
   ]
  },
  {
   "cell_type": "code",
   "execution_count": 7,
   "id": "7705aeb3",
   "metadata": {},
   "outputs": [
    {
     "data": {
      "text/html": [
       "<div>\n",
       "<style scoped>\n",
       "    .dataframe tbody tr th:only-of-type {\n",
       "        vertical-align: middle;\n",
       "    }\n",
       "\n",
       "    .dataframe tbody tr th {\n",
       "        vertical-align: top;\n",
       "    }\n",
       "\n",
       "    .dataframe thead th {\n",
       "        text-align: right;\n",
       "    }\n",
       "</style>\n",
       "<table border=\"1\" class=\"dataframe\">\n",
       "  <thead>\n",
       "    <tr style=\"text-align: right;\">\n",
       "      <th></th>\n",
       "      <th>PassengerId</th>\n",
       "      <th>Survived</th>\n",
       "      <th>Pclass</th>\n",
       "      <th>Name</th>\n",
       "      <th>Sex</th>\n",
       "      <th>Age</th>\n",
       "      <th>SibSp</th>\n",
       "      <th>Parch</th>\n",
       "      <th>Ticket</th>\n",
       "      <th>Fare</th>\n",
       "      <th>Cabin</th>\n",
       "      <th>Embarked</th>\n",
       "    </tr>\n",
       "  </thead>\n",
       "  <tbody>\n",
       "    <tr>\n",
       "      <th>0</th>\n",
       "      <td>1</td>\n",
       "      <td>0</td>\n",
       "      <td>3</td>\n",
       "      <td>Braund, Mr. Owen Harris</td>\n",
       "      <td>male</td>\n",
       "      <td>22.0</td>\n",
       "      <td>1</td>\n",
       "      <td>0</td>\n",
       "      <td>A/5 21171</td>\n",
       "      <td>7.2500</td>\n",
       "      <td>NaN</td>\n",
       "      <td>S</td>\n",
       "    </tr>\n",
       "    <tr>\n",
       "      <th>1</th>\n",
       "      <td>2</td>\n",
       "      <td>1</td>\n",
       "      <td>1</td>\n",
       "      <td>Cumings, Mrs. John Bradley (Florence Briggs Th...</td>\n",
       "      <td>female</td>\n",
       "      <td>38.0</td>\n",
       "      <td>1</td>\n",
       "      <td>0</td>\n",
       "      <td>PC 17599</td>\n",
       "      <td>71.2833</td>\n",
       "      <td>C85</td>\n",
       "      <td>C</td>\n",
       "    </tr>\n",
       "    <tr>\n",
       "      <th>2</th>\n",
       "      <td>3</td>\n",
       "      <td>1</td>\n",
       "      <td>3</td>\n",
       "      <td>Heikkinen, Miss. Laina</td>\n",
       "      <td>female</td>\n",
       "      <td>26.0</td>\n",
       "      <td>0</td>\n",
       "      <td>0</td>\n",
       "      <td>STON/O2. 3101282</td>\n",
       "      <td>7.9250</td>\n",
       "      <td>NaN</td>\n",
       "      <td>S</td>\n",
       "    </tr>\n",
       "    <tr>\n",
       "      <th>3</th>\n",
       "      <td>4</td>\n",
       "      <td>1</td>\n",
       "      <td>1</td>\n",
       "      <td>Futrelle, Mrs. Jacques Heath (Lily May Peel)</td>\n",
       "      <td>female</td>\n",
       "      <td>35.0</td>\n",
       "      <td>1</td>\n",
       "      <td>0</td>\n",
       "      <td>113803</td>\n",
       "      <td>53.1000</td>\n",
       "      <td>C123</td>\n",
       "      <td>S</td>\n",
       "    </tr>\n",
       "    <tr>\n",
       "      <th>4</th>\n",
       "      <td>5</td>\n",
       "      <td>0</td>\n",
       "      <td>3</td>\n",
       "      <td>Allen, Mr. William Henry</td>\n",
       "      <td>male</td>\n",
       "      <td>35.0</td>\n",
       "      <td>0</td>\n",
       "      <td>0</td>\n",
       "      <td>373450</td>\n",
       "      <td>8.0500</td>\n",
       "      <td>NaN</td>\n",
       "      <td>S</td>\n",
       "    </tr>\n",
       "    <tr>\n",
       "      <th>...</th>\n",
       "      <td>...</td>\n",
       "      <td>...</td>\n",
       "      <td>...</td>\n",
       "      <td>...</td>\n",
       "      <td>...</td>\n",
       "      <td>...</td>\n",
       "      <td>...</td>\n",
       "      <td>...</td>\n",
       "      <td>...</td>\n",
       "      <td>...</td>\n",
       "      <td>...</td>\n",
       "      <td>...</td>\n",
       "    </tr>\n",
       "    <tr>\n",
       "      <th>886</th>\n",
       "      <td>887</td>\n",
       "      <td>0</td>\n",
       "      <td>2</td>\n",
       "      <td>Montvila, Rev. Juozas</td>\n",
       "      <td>male</td>\n",
       "      <td>27.0</td>\n",
       "      <td>0</td>\n",
       "      <td>0</td>\n",
       "      <td>211536</td>\n",
       "      <td>13.0000</td>\n",
       "      <td>NaN</td>\n",
       "      <td>S</td>\n",
       "    </tr>\n",
       "    <tr>\n",
       "      <th>887</th>\n",
       "      <td>888</td>\n",
       "      <td>1</td>\n",
       "      <td>1</td>\n",
       "      <td>Graham, Miss. Margaret Edith</td>\n",
       "      <td>female</td>\n",
       "      <td>19.0</td>\n",
       "      <td>0</td>\n",
       "      <td>0</td>\n",
       "      <td>112053</td>\n",
       "      <td>30.0000</td>\n",
       "      <td>B42</td>\n",
       "      <td>S</td>\n",
       "    </tr>\n",
       "    <tr>\n",
       "      <th>888</th>\n",
       "      <td>889</td>\n",
       "      <td>0</td>\n",
       "      <td>3</td>\n",
       "      <td>Johnston, Miss. Catherine Helen \"Carrie\"</td>\n",
       "      <td>female</td>\n",
       "      <td>NaN</td>\n",
       "      <td>1</td>\n",
       "      <td>2</td>\n",
       "      <td>W./C. 6607</td>\n",
       "      <td>23.4500</td>\n",
       "      <td>NaN</td>\n",
       "      <td>S</td>\n",
       "    </tr>\n",
       "    <tr>\n",
       "      <th>889</th>\n",
       "      <td>890</td>\n",
       "      <td>1</td>\n",
       "      <td>1</td>\n",
       "      <td>Behr, Mr. Karl Howell</td>\n",
       "      <td>male</td>\n",
       "      <td>26.0</td>\n",
       "      <td>0</td>\n",
       "      <td>0</td>\n",
       "      <td>111369</td>\n",
       "      <td>30.0000</td>\n",
       "      <td>C148</td>\n",
       "      <td>C</td>\n",
       "    </tr>\n",
       "    <tr>\n",
       "      <th>890</th>\n",
       "      <td>891</td>\n",
       "      <td>0</td>\n",
       "      <td>3</td>\n",
       "      <td>Dooley, Mr. Patrick</td>\n",
       "      <td>male</td>\n",
       "      <td>32.0</td>\n",
       "      <td>0</td>\n",
       "      <td>0</td>\n",
       "      <td>370376</td>\n",
       "      <td>7.7500</td>\n",
       "      <td>NaN</td>\n",
       "      <td>Q</td>\n",
       "    </tr>\n",
       "  </tbody>\n",
       "</table>\n",
       "<p>891 rows × 12 columns</p>\n",
       "</div>"
      ],
      "text/plain": [
       "     PassengerId  Survived  Pclass  \\\n",
       "0              1         0       3   \n",
       "1              2         1       1   \n",
       "2              3         1       3   \n",
       "3              4         1       1   \n",
       "4              5         0       3   \n",
       "..           ...       ...     ...   \n",
       "886          887         0       2   \n",
       "887          888         1       1   \n",
       "888          889         0       3   \n",
       "889          890         1       1   \n",
       "890          891         0       3   \n",
       "\n",
       "                                                  Name     Sex   Age  SibSp  \\\n",
       "0                              Braund, Mr. Owen Harris    male  22.0      1   \n",
       "1    Cumings, Mrs. John Bradley (Florence Briggs Th...  female  38.0      1   \n",
       "2                               Heikkinen, Miss. Laina  female  26.0      0   \n",
       "3         Futrelle, Mrs. Jacques Heath (Lily May Peel)  female  35.0      1   \n",
       "4                             Allen, Mr. William Henry    male  35.0      0   \n",
       "..                                                 ...     ...   ...    ...   \n",
       "886                              Montvila, Rev. Juozas    male  27.0      0   \n",
       "887                       Graham, Miss. Margaret Edith  female  19.0      0   \n",
       "888           Johnston, Miss. Catherine Helen \"Carrie\"  female   NaN      1   \n",
       "889                              Behr, Mr. Karl Howell    male  26.0      0   \n",
       "890                                Dooley, Mr. Patrick    male  32.0      0   \n",
       "\n",
       "     Parch            Ticket     Fare Cabin Embarked  \n",
       "0        0         A/5 21171   7.2500   NaN        S  \n",
       "1        0          PC 17599  71.2833   C85        C  \n",
       "2        0  STON/O2. 3101282   7.9250   NaN        S  \n",
       "3        0            113803  53.1000  C123        S  \n",
       "4        0            373450   8.0500   NaN        S  \n",
       "..     ...               ...      ...   ...      ...  \n",
       "886      0            211536  13.0000   NaN        S  \n",
       "887      0            112053  30.0000   B42        S  \n",
       "888      2        W./C. 6607  23.4500   NaN        S  \n",
       "889      0            111369  30.0000  C148        C  \n",
       "890      0            370376   7.7500   NaN        Q  \n",
       "\n",
       "[891 rows x 12 columns]"
      ]
     },
     "execution_count": 7,
     "metadata": {},
     "output_type": "execute_result"
    }
   ],
   "source": [
    "# loaded dataset\n",
    "ds=pd.read_csv('taitanic.csv')\n",
    "# frame dataset\n",
    "df=pd.DataFrame(ds)\n",
    "df"
   ]
  },
  {
   "cell_type": "code",
   "execution_count": 8,
   "id": "ad6543c8",
   "metadata": {
    "scrolled": true
   },
   "outputs": [
    {
     "data": {
      "text/html": [
       "<div>\n",
       "<style scoped>\n",
       "    .dataframe tbody tr th:only-of-type {\n",
       "        vertical-align: middle;\n",
       "    }\n",
       "\n",
       "    .dataframe tbody tr th {\n",
       "        vertical-align: top;\n",
       "    }\n",
       "\n",
       "    .dataframe thead th {\n",
       "        text-align: right;\n",
       "    }\n",
       "</style>\n",
       "<table border=\"1\" class=\"dataframe\">\n",
       "  <thead>\n",
       "    <tr style=\"text-align: right;\">\n",
       "      <th></th>\n",
       "      <th>PassengerId</th>\n",
       "      <th>Survived</th>\n",
       "      <th>Pclass</th>\n",
       "      <th>Name</th>\n",
       "      <th>Sex</th>\n",
       "      <th>Age</th>\n",
       "      <th>SibSp</th>\n",
       "      <th>Parch</th>\n",
       "      <th>Ticket</th>\n",
       "      <th>Fare</th>\n",
       "      <th>Cabin</th>\n",
       "      <th>Embarked</th>\n",
       "    </tr>\n",
       "  </thead>\n",
       "  <tbody>\n",
       "    <tr>\n",
       "      <th>0</th>\n",
       "      <td>1</td>\n",
       "      <td>0</td>\n",
       "      <td>3</td>\n",
       "      <td>Braund, Mr. Owen Harris</td>\n",
       "      <td>male</td>\n",
       "      <td>22.0</td>\n",
       "      <td>1</td>\n",
       "      <td>0</td>\n",
       "      <td>A/5 21171</td>\n",
       "      <td>7.2500</td>\n",
       "      <td>NaN</td>\n",
       "      <td>S</td>\n",
       "    </tr>\n",
       "    <tr>\n",
       "      <th>1</th>\n",
       "      <td>2</td>\n",
       "      <td>1</td>\n",
       "      <td>1</td>\n",
       "      <td>Cumings, Mrs. John Bradley (Florence Briggs Th...</td>\n",
       "      <td>female</td>\n",
       "      <td>38.0</td>\n",
       "      <td>1</td>\n",
       "      <td>0</td>\n",
       "      <td>PC 17599</td>\n",
       "      <td>71.2833</td>\n",
       "      <td>C85</td>\n",
       "      <td>C</td>\n",
       "    </tr>\n",
       "    <tr>\n",
       "      <th>2</th>\n",
       "      <td>3</td>\n",
       "      <td>1</td>\n",
       "      <td>3</td>\n",
       "      <td>Heikkinen, Miss. Laina</td>\n",
       "      <td>female</td>\n",
       "      <td>26.0</td>\n",
       "      <td>0</td>\n",
       "      <td>0</td>\n",
       "      <td>STON/O2. 3101282</td>\n",
       "      <td>7.9250</td>\n",
       "      <td>NaN</td>\n",
       "      <td>S</td>\n",
       "    </tr>\n",
       "    <tr>\n",
       "      <th>3</th>\n",
       "      <td>4</td>\n",
       "      <td>1</td>\n",
       "      <td>1</td>\n",
       "      <td>Futrelle, Mrs. Jacques Heath (Lily May Peel)</td>\n",
       "      <td>female</td>\n",
       "      <td>35.0</td>\n",
       "      <td>1</td>\n",
       "      <td>0</td>\n",
       "      <td>113803</td>\n",
       "      <td>53.1000</td>\n",
       "      <td>C123</td>\n",
       "      <td>S</td>\n",
       "    </tr>\n",
       "    <tr>\n",
       "      <th>4</th>\n",
       "      <td>5</td>\n",
       "      <td>0</td>\n",
       "      <td>3</td>\n",
       "      <td>Allen, Mr. William Henry</td>\n",
       "      <td>male</td>\n",
       "      <td>35.0</td>\n",
       "      <td>0</td>\n",
       "      <td>0</td>\n",
       "      <td>373450</td>\n",
       "      <td>8.0500</td>\n",
       "      <td>NaN</td>\n",
       "      <td>S</td>\n",
       "    </tr>\n",
       "  </tbody>\n",
       "</table>\n",
       "</div>"
      ],
      "text/plain": [
       "   PassengerId  Survived  Pclass  \\\n",
       "0            1         0       3   \n",
       "1            2         1       1   \n",
       "2            3         1       3   \n",
       "3            4         1       1   \n",
       "4            5         0       3   \n",
       "\n",
       "                                                Name     Sex   Age  SibSp  \\\n",
       "0                            Braund, Mr. Owen Harris    male  22.0      1   \n",
       "1  Cumings, Mrs. John Bradley (Florence Briggs Th...  female  38.0      1   \n",
       "2                             Heikkinen, Miss. Laina  female  26.0      0   \n",
       "3       Futrelle, Mrs. Jacques Heath (Lily May Peel)  female  35.0      1   \n",
       "4                           Allen, Mr. William Henry    male  35.0      0   \n",
       "\n",
       "   Parch            Ticket     Fare Cabin Embarked  \n",
       "0      0         A/5 21171   7.2500   NaN        S  \n",
       "1      0          PC 17599  71.2833   C85        C  \n",
       "2      0  STON/O2. 3101282   7.9250   NaN        S  \n",
       "3      0            113803  53.1000  C123        S  \n",
       "4      0            373450   8.0500   NaN        S  "
      ]
     },
     "execution_count": 8,
     "metadata": {},
     "output_type": "execute_result"
    }
   ],
   "source": [
    "df.head()"
   ]
  },
  {
   "cell_type": "markdown",
   "id": "771c5b6a",
   "metadata": {},
   "source": [
    "upper top 5 row"
   ]
  },
  {
   "cell_type": "code",
   "execution_count": 9,
   "id": "5478ceb8",
   "metadata": {},
   "outputs": [
    {
     "data": {
      "text/html": [
       "<div>\n",
       "<style scoped>\n",
       "    .dataframe tbody tr th:only-of-type {\n",
       "        vertical-align: middle;\n",
       "    }\n",
       "\n",
       "    .dataframe tbody tr th {\n",
       "        vertical-align: top;\n",
       "    }\n",
       "\n",
       "    .dataframe thead th {\n",
       "        text-align: right;\n",
       "    }\n",
       "</style>\n",
       "<table border=\"1\" class=\"dataframe\">\n",
       "  <thead>\n",
       "    <tr style=\"text-align: right;\">\n",
       "      <th></th>\n",
       "      <th>PassengerId</th>\n",
       "      <th>Survived</th>\n",
       "      <th>Pclass</th>\n",
       "      <th>Name</th>\n",
       "      <th>Sex</th>\n",
       "      <th>Age</th>\n",
       "      <th>SibSp</th>\n",
       "      <th>Parch</th>\n",
       "      <th>Ticket</th>\n",
       "      <th>Fare</th>\n",
       "      <th>Cabin</th>\n",
       "      <th>Embarked</th>\n",
       "    </tr>\n",
       "  </thead>\n",
       "  <tbody>\n",
       "    <tr>\n",
       "      <th>886</th>\n",
       "      <td>887</td>\n",
       "      <td>0</td>\n",
       "      <td>2</td>\n",
       "      <td>Montvila, Rev. Juozas</td>\n",
       "      <td>male</td>\n",
       "      <td>27.0</td>\n",
       "      <td>0</td>\n",
       "      <td>0</td>\n",
       "      <td>211536</td>\n",
       "      <td>13.00</td>\n",
       "      <td>NaN</td>\n",
       "      <td>S</td>\n",
       "    </tr>\n",
       "    <tr>\n",
       "      <th>887</th>\n",
       "      <td>888</td>\n",
       "      <td>1</td>\n",
       "      <td>1</td>\n",
       "      <td>Graham, Miss. Margaret Edith</td>\n",
       "      <td>female</td>\n",
       "      <td>19.0</td>\n",
       "      <td>0</td>\n",
       "      <td>0</td>\n",
       "      <td>112053</td>\n",
       "      <td>30.00</td>\n",
       "      <td>B42</td>\n",
       "      <td>S</td>\n",
       "    </tr>\n",
       "    <tr>\n",
       "      <th>888</th>\n",
       "      <td>889</td>\n",
       "      <td>0</td>\n",
       "      <td>3</td>\n",
       "      <td>Johnston, Miss. Catherine Helen \"Carrie\"</td>\n",
       "      <td>female</td>\n",
       "      <td>NaN</td>\n",
       "      <td>1</td>\n",
       "      <td>2</td>\n",
       "      <td>W./C. 6607</td>\n",
       "      <td>23.45</td>\n",
       "      <td>NaN</td>\n",
       "      <td>S</td>\n",
       "    </tr>\n",
       "    <tr>\n",
       "      <th>889</th>\n",
       "      <td>890</td>\n",
       "      <td>1</td>\n",
       "      <td>1</td>\n",
       "      <td>Behr, Mr. Karl Howell</td>\n",
       "      <td>male</td>\n",
       "      <td>26.0</td>\n",
       "      <td>0</td>\n",
       "      <td>0</td>\n",
       "      <td>111369</td>\n",
       "      <td>30.00</td>\n",
       "      <td>C148</td>\n",
       "      <td>C</td>\n",
       "    </tr>\n",
       "    <tr>\n",
       "      <th>890</th>\n",
       "      <td>891</td>\n",
       "      <td>0</td>\n",
       "      <td>3</td>\n",
       "      <td>Dooley, Mr. Patrick</td>\n",
       "      <td>male</td>\n",
       "      <td>32.0</td>\n",
       "      <td>0</td>\n",
       "      <td>0</td>\n",
       "      <td>370376</td>\n",
       "      <td>7.75</td>\n",
       "      <td>NaN</td>\n",
       "      <td>Q</td>\n",
       "    </tr>\n",
       "  </tbody>\n",
       "</table>\n",
       "</div>"
      ],
      "text/plain": [
       "     PassengerId  Survived  Pclass                                      Name  \\\n",
       "886          887         0       2                     Montvila, Rev. Juozas   \n",
       "887          888         1       1              Graham, Miss. Margaret Edith   \n",
       "888          889         0       3  Johnston, Miss. Catherine Helen \"Carrie\"   \n",
       "889          890         1       1                     Behr, Mr. Karl Howell   \n",
       "890          891         0       3                       Dooley, Mr. Patrick   \n",
       "\n",
       "        Sex   Age  SibSp  Parch      Ticket   Fare Cabin Embarked  \n",
       "886    male  27.0      0      0      211536  13.00   NaN        S  \n",
       "887  female  19.0      0      0      112053  30.00   B42        S  \n",
       "888  female   NaN      1      2  W./C. 6607  23.45   NaN        S  \n",
       "889    male  26.0      0      0      111369  30.00  C148        C  \n",
       "890    male  32.0      0      0      370376   7.75   NaN        Q  "
      ]
     },
     "execution_count": 9,
     "metadata": {},
     "output_type": "execute_result"
    }
   ],
   "source": [
    "ds.tail()"
   ]
  },
  {
   "cell_type": "markdown",
   "id": "0b650740",
   "metadata": {},
   "source": [
    "lower 5 rows"
   ]
  },
  {
   "cell_type": "code",
   "execution_count": 10,
   "id": "6f316cdd",
   "metadata": {},
   "outputs": [
    {
     "data": {
      "text/html": [
       "<div>\n",
       "<style scoped>\n",
       "    .dataframe tbody tr th:only-of-type {\n",
       "        vertical-align: middle;\n",
       "    }\n",
       "\n",
       "    .dataframe tbody tr th {\n",
       "        vertical-align: top;\n",
       "    }\n",
       "\n",
       "    .dataframe thead th {\n",
       "        text-align: right;\n",
       "    }\n",
       "</style>\n",
       "<table border=\"1\" class=\"dataframe\">\n",
       "  <thead>\n",
       "    <tr style=\"text-align: right;\">\n",
       "      <th></th>\n",
       "      <th>PassengerId</th>\n",
       "      <th>Survived</th>\n",
       "      <th>Pclass</th>\n",
       "      <th>Name</th>\n",
       "      <th>Sex</th>\n",
       "      <th>Age</th>\n",
       "      <th>SibSp</th>\n",
       "      <th>Parch</th>\n",
       "      <th>Ticket</th>\n",
       "      <th>Fare</th>\n",
       "      <th>Cabin</th>\n",
       "      <th>Embarked</th>\n",
       "    </tr>\n",
       "  </thead>\n",
       "  <tbody>\n",
       "    <tr>\n",
       "      <th>114</th>\n",
       "      <td>115</td>\n",
       "      <td>0</td>\n",
       "      <td>3</td>\n",
       "      <td>Attalah, Miss. Malake</td>\n",
       "      <td>female</td>\n",
       "      <td>17.0</td>\n",
       "      <td>0</td>\n",
       "      <td>0</td>\n",
       "      <td>2627</td>\n",
       "      <td>14.4583</td>\n",
       "      <td>NaN</td>\n",
       "      <td>C</td>\n",
       "    </tr>\n",
       "  </tbody>\n",
       "</table>\n",
       "</div>"
      ],
      "text/plain": [
       "     PassengerId  Survived  Pclass                   Name     Sex   Age  \\\n",
       "114          115         0       3  Attalah, Miss. Malake  female  17.0   \n",
       "\n",
       "     SibSp  Parch Ticket     Fare Cabin Embarked  \n",
       "114      0      0   2627  14.4583   NaN        C  "
      ]
     },
     "execution_count": 10,
     "metadata": {},
     "output_type": "execute_result"
    }
   ],
   "source": [
    "ds.sample()"
   ]
  },
  {
   "cell_type": "markdown",
   "id": "b1212972",
   "metadata": {},
   "source": [
    "random rows"
   ]
  },
  {
   "cell_type": "code",
   "execution_count": 11,
   "id": "11bde8f6",
   "metadata": {
    "scrolled": true
   },
   "outputs": [
    {
     "data": {
      "text/plain": [
       "(891, 12)"
      ]
     },
     "execution_count": 11,
     "metadata": {},
     "output_type": "execute_result"
    }
   ],
   "source": [
    "ds.shape"
   ]
  },
  {
   "cell_type": "markdown",
   "id": "0971deaa",
   "metadata": {},
   "source": [
    "in dataset 891 rows and 12 columns"
   ]
  },
  {
   "cell_type": "code",
   "execution_count": 12,
   "id": "18ffdd7b",
   "metadata": {
    "scrolled": true
   },
   "outputs": [
    {
     "name": "stdout",
     "output_type": "stream",
     "text": [
      "<class 'pandas.core.frame.DataFrame'>\n",
      "RangeIndex: 891 entries, 0 to 890\n",
      "Data columns (total 12 columns):\n",
      " #   Column       Non-Null Count  Dtype  \n",
      "---  ------       --------------  -----  \n",
      " 0   PassengerId  891 non-null    int64  \n",
      " 1   Survived     891 non-null    int64  \n",
      " 2   Pclass       891 non-null    int64  \n",
      " 3   Name         891 non-null    object \n",
      " 4   Sex          891 non-null    object \n",
      " 5   Age          714 non-null    float64\n",
      " 6   SibSp        891 non-null    int64  \n",
      " 7   Parch        891 non-null    int64  \n",
      " 8   Ticket       891 non-null    object \n",
      " 9   Fare         891 non-null    float64\n",
      " 10  Cabin        204 non-null    object \n",
      " 11  Embarked     889 non-null    object \n",
      "dtypes: float64(2), int64(5), object(5)\n",
      "memory usage: 83.7+ KB\n"
     ]
    }
   ],
   "source": [
    "ds.info()"
   ]
  },
  {
   "cell_type": "markdown",
   "id": "a84a879b",
   "metadata": {},
   "source": [
    "2 variables are float type and s are int type and 5 object variable"
   ]
  },
  {
   "cell_type": "code",
   "execution_count": 13,
   "id": "56d86256",
   "metadata": {
    "scrolled": true
   },
   "outputs": [
    {
     "data": {
      "text/plain": [
       "pandas.core.frame.DataFrame"
      ]
     },
     "execution_count": 13,
     "metadata": {},
     "output_type": "execute_result"
    }
   ],
   "source": [
    "type(df)"
   ]
  },
  {
   "cell_type": "markdown",
   "id": "0a95e7a7",
   "metadata": {},
   "source": [
    "dataset in dataframe"
   ]
  },
  {
   "cell_type": "code",
   "execution_count": 14,
   "id": "24a1c5e4",
   "metadata": {},
   "outputs": [
    {
     "data": {
      "text/plain": [
       "PassengerId      int64\n",
       "Survived         int64\n",
       "Pclass           int64\n",
       "Name            object\n",
       "Sex             object\n",
       "Age            float64\n",
       "SibSp            int64\n",
       "Parch            int64\n",
       "Ticket          object\n",
       "Fare           float64\n",
       "Cabin           object\n",
       "Embarked        object\n",
       "dtype: object"
      ]
     },
     "execution_count": 14,
     "metadata": {},
     "output_type": "execute_result"
    }
   ],
   "source": [
    "df.dtypes   #check variables type"
   ]
  },
  {
   "cell_type": "code",
   "execution_count": 15,
   "id": "eb55be5c",
   "metadata": {},
   "outputs": [
    {
     "data": {
      "text/plain": [
       "866"
      ]
     },
     "execution_count": 15,
     "metadata": {},
     "output_type": "execute_result"
    }
   ],
   "source": [
    "df.isnull().sum().sum()  #check total null value"
   ]
  },
  {
   "cell_type": "markdown",
   "id": "ea97b930",
   "metadata": {},
   "source": [
    "in dataset tatal null value are 866"
   ]
  },
  {
   "cell_type": "code",
   "execution_count": 16,
   "id": "e4b97685",
   "metadata": {
    "scrolled": true
   },
   "outputs": [
    {
     "data": {
      "text/plain": [
       "PassengerId      0\n",
       "Survived         0\n",
       "Pclass           0\n",
       "Name             0\n",
       "Sex              0\n",
       "Age            177\n",
       "SibSp            0\n",
       "Parch            0\n",
       "Ticket           0\n",
       "Fare             0\n",
       "Cabin          687\n",
       "Embarked         2\n",
       "dtype: int64"
      ]
     },
     "execution_count": 16,
     "metadata": {},
     "output_type": "execute_result"
    }
   ],
   "source": [
    "df.isnull().sum()"
   ]
  },
  {
   "cell_type": "markdown",
   "id": "97552a71",
   "metadata": {},
   "source": [
    "age have 177 and cabin 687 and embarked have 2 null value "
   ]
  },
  {
   "cell_type": "code",
   "execution_count": 17,
   "id": "1445bd50",
   "metadata": {},
   "outputs": [
    {
     "data": {
      "text/plain": [
       "<AxesSubplot:>"
      ]
     },
     "execution_count": 17,
     "metadata": {},
     "output_type": "execute_result"
    },
    {
     "data": {
      "image/png": "[encoded data removed]",
      "text/plain": [
       "<Figure size 432x288 with 2 Axes>"
      ]
     },
     "metadata": {
      "needs_background": "light"
     },
     "output_type": "display_data"
    }
   ],
   "source": [
    "sns.heatmap(df.isnull())    #check null value by ploting graph"
   ]
  },
  {
   "cell_type": "code",
   "execution_count": 18,
   "id": "991fb0e2",
   "metadata": {},
   "outputs": [],
   "source": [
    "df.drop(['Name','PassengerId'],axis=1,inplace=True) #remove these variable ,its not use more in daatset "
   ]
  },
  {
   "cell_type": "code",
   "execution_count": 19,
   "id": "6b812aa7",
   "metadata": {},
   "outputs": [
    {
     "data": {
      "text/html": [
       "<div>\n",
       "<style scoped>\n",
       "    .dataframe tbody tr th:only-of-type {\n",
       "        vertical-align: middle;\n",
       "    }\n",
       "\n",
       "    .dataframe tbody tr th {\n",
       "        vertical-align: top;\n",
       "    }\n",
       "\n",
       "    .dataframe thead th {\n",
       "        text-align: right;\n",
       "    }\n",
       "</style>\n",
       "<table border=\"1\" class=\"dataframe\">\n",
       "  <thead>\n",
       "    <tr style=\"text-align: right;\">\n",
       "      <th></th>\n",
       "      <th>Survived</th>\n",
       "      <th>Pclass</th>\n",
       "      <th>Sex</th>\n",
       "      <th>Age</th>\n",
       "      <th>SibSp</th>\n",
       "      <th>Parch</th>\n",
       "      <th>Ticket</th>\n",
       "      <th>Fare</th>\n",
       "      <th>Cabin</th>\n",
       "      <th>Embarked</th>\n",
       "    </tr>\n",
       "  </thead>\n",
       "  <tbody>\n",
       "    <tr>\n",
       "      <th>0</th>\n",
       "      <td>0</td>\n",
       "      <td>3</td>\n",
       "      <td>male</td>\n",
       "      <td>22.0</td>\n",
       "      <td>1</td>\n",
       "      <td>0</td>\n",
       "      <td>A/5 21171</td>\n",
       "      <td>7.2500</td>\n",
       "      <td>NaN</td>\n",
       "      <td>S</td>\n",
       "    </tr>\n",
       "    <tr>\n",
       "      <th>1</th>\n",
       "      <td>1</td>\n",
       "      <td>1</td>\n",
       "      <td>female</td>\n",
       "      <td>38.0</td>\n",
       "      <td>1</td>\n",
       "      <td>0</td>\n",
       "      <td>PC 17599</td>\n",
       "      <td>71.2833</td>\n",
       "      <td>C85</td>\n",
       "      <td>C</td>\n",
       "    </tr>\n",
       "    <tr>\n",
       "      <th>2</th>\n",
       "      <td>1</td>\n",
       "      <td>3</td>\n",
       "      <td>female</td>\n",
       "      <td>26.0</td>\n",
       "      <td>0</td>\n",
       "      <td>0</td>\n",
       "      <td>STON/O2. 3101282</td>\n",
       "      <td>7.9250</td>\n",
       "      <td>NaN</td>\n",
       "      <td>S</td>\n",
       "    </tr>\n",
       "    <tr>\n",
       "      <th>3</th>\n",
       "      <td>1</td>\n",
       "      <td>1</td>\n",
       "      <td>female</td>\n",
       "      <td>35.0</td>\n",
       "      <td>1</td>\n",
       "      <td>0</td>\n",
       "      <td>113803</td>\n",
       "      <td>53.1000</td>\n",
       "      <td>C123</td>\n",
       "      <td>S</td>\n",
       "    </tr>\n",
       "    <tr>\n",
       "      <th>4</th>\n",
       "      <td>0</td>\n",
       "      <td>3</td>\n",
       "      <td>male</td>\n",
       "      <td>35.0</td>\n",
       "      <td>0</td>\n",
       "      <td>0</td>\n",
       "      <td>373450</td>\n",
       "      <td>8.0500</td>\n",
       "      <td>NaN</td>\n",
       "      <td>S</td>\n",
       "    </tr>\n",
       "    <tr>\n",
       "      <th>...</th>\n",
       "      <td>...</td>\n",
       "      <td>...</td>\n",
       "      <td>...</td>\n",
       "      <td>...</td>\n",
       "      <td>...</td>\n",
       "      <td>...</td>\n",
       "      <td>...</td>\n",
       "      <td>...</td>\n",
       "      <td>...</td>\n",
       "      <td>...</td>\n",
       "    </tr>\n",
       "    <tr>\n",
       "      <th>886</th>\n",
       "      <td>0</td>\n",
       "      <td>2</td>\n",
       "      <td>male</td>\n",
       "      <td>27.0</td>\n",
       "      <td>0</td>\n",
       "      <td>0</td>\n",
       "      <td>211536</td>\n",
       "      <td>13.0000</td>\n",
       "      <td>NaN</td>\n",
       "      <td>S</td>\n",
       "    </tr>\n",
       "    <tr>\n",
       "      <th>887</th>\n",
       "      <td>1</td>\n",
       "      <td>1</td>\n",
       "      <td>female</td>\n",
       "      <td>19.0</td>\n",
       "      <td>0</td>\n",
       "      <td>0</td>\n",
       "      <td>112053</td>\n",
       "      <td>30.0000</td>\n",
       "      <td>B42</td>\n",
       "      <td>S</td>\n",
       "    </tr>\n",
       "    <tr>\n",
       "      <th>888</th>\n",
       "      <td>0</td>\n",
       "      <td>3</td>\n",
       "      <td>female</td>\n",
       "      <td>NaN</td>\n",
       "      <td>1</td>\n",
       "      <td>2</td>\n",
       "      <td>W./C. 6607</td>\n",
       "      <td>23.4500</td>\n",
       "      <td>NaN</td>\n",
       "      <td>S</td>\n",
       "    </tr>\n",
       "    <tr>\n",
       "      <th>889</th>\n",
       "      <td>1</td>\n",
       "      <td>1</td>\n",
       "      <td>male</td>\n",
       "      <td>26.0</td>\n",
       "      <td>0</td>\n",
       "      <td>0</td>\n",
       "      <td>111369</td>\n",
       "      <td>30.0000</td>\n",
       "      <td>C148</td>\n",
       "      <td>C</td>\n",
       "    </tr>\n",
       "    <tr>\n",
       "      <th>890</th>\n",
       "      <td>0</td>\n",
       "      <td>3</td>\n",
       "      <td>male</td>\n",
       "      <td>32.0</td>\n",
       "      <td>0</td>\n",
       "      <td>0</td>\n",
       "      <td>370376</td>\n",
       "      <td>7.7500</td>\n",
       "      <td>NaN</td>\n",
       "      <td>Q</td>\n",
       "    </tr>\n",
       "  </tbody>\n",
       "</table>\n",
       "<p>891 rows × 10 columns</p>\n",
       "</div>"
      ],
      "text/plain": [
       "     Survived  Pclass     Sex   Age  SibSp  Parch            Ticket     Fare  \\\n",
       "0           0       3    male  22.0      1      0         A/5 21171   7.2500   \n",
       "1           1       1  female  38.0      1      0          PC 17599  71.2833   \n",
       "2           1       3  female  26.0      0      0  STON/O2. 3101282   7.9250   \n",
       "3           1       1  female  35.0      1      0            113803  53.1000   \n",
       "4           0       3    male  35.0      0      0            373450   8.0500   \n",
       "..        ...     ...     ...   ...    ...    ...               ...      ...   \n",
       "886         0       2    male  27.0      0      0            211536  13.0000   \n",
       "887         1       1  female  19.0      0      0            112053  30.0000   \n",
       "888         0       3  female   NaN      1      2        W./C. 6607  23.4500   \n",
       "889         1       1    male  26.0      0      0            111369  30.0000   \n",
       "890         0       3    male  32.0      0      0            370376   7.7500   \n",
       "\n",
       "    Cabin Embarked  \n",
       "0     NaN        S  \n",
       "1     C85        C  \n",
       "2     NaN        S  \n",
       "3    C123        S  \n",
       "4     NaN        S  \n",
       "..    ...      ...  \n",
       "886   NaN        S  \n",
       "887   B42        S  \n",
       "888   NaN        S  \n",
       "889  C148        C  \n",
       "890   NaN        Q  \n",
       "\n",
       "[891 rows x 10 columns]"
      ]
     },
     "execution_count": 19,
     "metadata": {},
     "output_type": "execute_result"
    }
   ],
   "source": [
    "df"
   ]
  },
  {
   "cell_type": "markdown",
   "id": "d3d41cb5",
   "metadata": {},
   "source": [
    "# Simple Imputer"
   ]
  },
  {
   "cell_type": "code",
   "execution_count": 20,
   "id": "66168316",
   "metadata": {},
   "outputs": [],
   "source": [
    "imp=SimpleImputer(strategy='most_frequent')    #fill null value"
   ]
  },
  {
   "cell_type": "code",
   "execution_count": 21,
   "id": "03d1f2da",
   "metadata": {},
   "outputs": [],
   "source": [
    "for i in (['Embarked','Cabin']):\n",
    "    df[i]=imp.fit_transform(df[i].values.reshape(-1,1))"
   ]
  },
  {
   "cell_type": "code",
   "execution_count": 22,
   "id": "384e486c",
   "metadata": {},
   "outputs": [],
   "source": [
    "impu=SimpleImputer(strategy='median')"
   ]
  },
  {
   "cell_type": "code",
   "execution_count": 23,
   "id": "8b33f313",
   "metadata": {},
   "outputs": [],
   "source": [
    "df['Age']=impu.fit_transform(df['Age'].values.reshape(-1,1))"
   ]
  },
  {
   "cell_type": "code",
   "execution_count": 24,
   "id": "eb50ba96",
   "metadata": {},
   "outputs": [
    {
     "data": {
      "text/html": [
       "<div>\n",
       "<style scoped>\n",
       "    .dataframe tbody tr th:only-of-type {\n",
       "        vertical-align: middle;\n",
       "    }\n",
       "\n",
       "    .dataframe tbody tr th {\n",
       "        vertical-align: top;\n",
       "    }\n",
       "\n",
       "    .dataframe thead th {\n",
       "        text-align: right;\n",
       "    }\n",
       "</style>\n",
       "<table border=\"1\" class=\"dataframe\">\n",
       "  <thead>\n",
       "    <tr style=\"text-align: right;\">\n",
       "      <th></th>\n",
       "      <th>Survived</th>\n",
       "      <th>Pclass</th>\n",
       "      <th>Sex</th>\n",
       "      <th>Age</th>\n",
       "      <th>SibSp</th>\n",
       "      <th>Parch</th>\n",
       "      <th>Ticket</th>\n",
       "      <th>Fare</th>\n",
       "      <th>Cabin</th>\n",
       "      <th>Embarked</th>\n",
       "    </tr>\n",
       "  </thead>\n",
       "  <tbody>\n",
       "    <tr>\n",
       "      <th>0</th>\n",
       "      <td>0</td>\n",
       "      <td>3</td>\n",
       "      <td>male</td>\n",
       "      <td>22.0</td>\n",
       "      <td>1</td>\n",
       "      <td>0</td>\n",
       "      <td>A/5 21171</td>\n",
       "      <td>7.2500</td>\n",
       "      <td>B96 B98</td>\n",
       "      <td>S</td>\n",
       "    </tr>\n",
       "    <tr>\n",
       "      <th>1</th>\n",
       "      <td>1</td>\n",
       "      <td>1</td>\n",
       "      <td>female</td>\n",
       "      <td>38.0</td>\n",
       "      <td>1</td>\n",
       "      <td>0</td>\n",
       "      <td>PC 17599</td>\n",
       "      <td>71.2833</td>\n",
       "      <td>C85</td>\n",
       "      <td>C</td>\n",
       "    </tr>\n",
       "    <tr>\n",
       "      <th>2</th>\n",
       "      <td>1</td>\n",
       "      <td>3</td>\n",
       "      <td>female</td>\n",
       "      <td>26.0</td>\n",
       "      <td>0</td>\n",
       "      <td>0</td>\n",
       "      <td>STON/O2. 3101282</td>\n",
       "      <td>7.9250</td>\n",
       "      <td>B96 B98</td>\n",
       "      <td>S</td>\n",
       "    </tr>\n",
       "    <tr>\n",
       "      <th>3</th>\n",
       "      <td>1</td>\n",
       "      <td>1</td>\n",
       "      <td>female</td>\n",
       "      <td>35.0</td>\n",
       "      <td>1</td>\n",
       "      <td>0</td>\n",
       "      <td>113803</td>\n",
       "      <td>53.1000</td>\n",
       "      <td>C123</td>\n",
       "      <td>S</td>\n",
       "    </tr>\n",
       "    <tr>\n",
       "      <th>4</th>\n",
       "      <td>0</td>\n",
       "      <td>3</td>\n",
       "      <td>male</td>\n",
       "      <td>35.0</td>\n",
       "      <td>0</td>\n",
       "      <td>0</td>\n",
       "      <td>373450</td>\n",
       "      <td>8.0500</td>\n",
       "      <td>B96 B98</td>\n",
       "      <td>S</td>\n",
       "    </tr>\n",
       "    <tr>\n",
       "      <th>...</th>\n",
       "      <td>...</td>\n",
       "      <td>...</td>\n",
       "      <td>...</td>\n",
       "      <td>...</td>\n",
       "      <td>...</td>\n",
       "      <td>...</td>\n",
       "      <td>...</td>\n",
       "      <td>...</td>\n",
       "      <td>...</td>\n",
       "      <td>...</td>\n",
       "    </tr>\n",
       "    <tr>\n",
       "      <th>886</th>\n",
       "      <td>0</td>\n",
       "      <td>2</td>\n",
       "      <td>male</td>\n",
       "      <td>27.0</td>\n",
       "      <td>0</td>\n",
       "      <td>0</td>\n",
       "      <td>211536</td>\n",
       "      <td>13.0000</td>\n",
       "      <td>B96 B98</td>\n",
       "      <td>S</td>\n",
       "    </tr>\n",
       "    <tr>\n",
       "      <th>887</th>\n",
       "      <td>1</td>\n",
       "      <td>1</td>\n",
       "      <td>female</td>\n",
       "      <td>19.0</td>\n",
       "      <td>0</td>\n",
       "      <td>0</td>\n",
       "      <td>112053</td>\n",
       "      <td>30.0000</td>\n",
       "      <td>B42</td>\n",
       "      <td>S</td>\n",
       "    </tr>\n",
       "    <tr>\n",
       "      <th>888</th>\n",
       "      <td>0</td>\n",
       "      <td>3</td>\n",
       "      <td>female</td>\n",
       "      <td>28.0</td>\n",
       "      <td>1</td>\n",
       "      <td>2</td>\n",
       "      <td>W./C. 6607</td>\n",
       "      <td>23.4500</td>\n",
       "      <td>B96 B98</td>\n",
       "      <td>S</td>\n",
       "    </tr>\n",
       "    <tr>\n",
       "      <th>889</th>\n",
       "      <td>1</td>\n",
       "      <td>1</td>\n",
       "      <td>male</td>\n",
       "      <td>26.0</td>\n",
       "      <td>0</td>\n",
       "      <td>0</td>\n",
       "      <td>111369</td>\n",
       "      <td>30.0000</td>\n",
       "      <td>C148</td>\n",
       "      <td>C</td>\n",
       "    </tr>\n",
       "    <tr>\n",
       "      <th>890</th>\n",
       "      <td>0</td>\n",
       "      <td>3</td>\n",
       "      <td>male</td>\n",
       "      <td>32.0</td>\n",
       "      <td>0</td>\n",
       "      <td>0</td>\n",
       "      <td>370376</td>\n",
       "      <td>7.7500</td>\n",
       "      <td>B96 B98</td>\n",
       "      <td>Q</td>\n",
       "    </tr>\n",
       "  </tbody>\n",
       "</table>\n",
       "<p>891 rows × 10 columns</p>\n",
       "</div>"
      ],
      "text/plain": [
       "     Survived  Pclass     Sex   Age  SibSp  Parch            Ticket     Fare  \\\n",
       "0           0       3    male  22.0      1      0         A/5 21171   7.2500   \n",
       "1           1       1  female  38.0      1      0          PC 17599  71.2833   \n",
       "2           1       3  female  26.0      0      0  STON/O2. 3101282   7.9250   \n",
       "3           1       1  female  35.0      1      0            113803  53.1000   \n",
       "4           0       3    male  35.0      0      0            373450   8.0500   \n",
       "..        ...     ...     ...   ...    ...    ...               ...      ...   \n",
       "886         0       2    male  27.0      0      0            211536  13.0000   \n",
       "887         1       1  female  19.0      0      0            112053  30.0000   \n",
       "888         0       3  female  28.0      1      2        W./C. 6607  23.4500   \n",
       "889         1       1    male  26.0      0      0            111369  30.0000   \n",
       "890         0       3    male  32.0      0      0            370376   7.7500   \n",
       "\n",
       "       Cabin Embarked  \n",
       "0    B96 B98        S  \n",
       "1        C85        C  \n",
       "2    B96 B98        S  \n",
       "3       C123        S  \n",
       "4    B96 B98        S  \n",
       "..       ...      ...  \n",
       "886  B96 B98        S  \n",
       "887      B42        S  \n",
       "888  B96 B98        S  \n",
       "889     C148        C  \n",
       "890  B96 B98        Q  \n",
       "\n",
       "[891 rows x 10 columns]"
      ]
     },
     "execution_count": 24,
     "metadata": {},
     "output_type": "execute_result"
    }
   ],
   "source": [
    "df"
   ]
  },
  {
   "cell_type": "code",
   "execution_count": 25,
   "id": "0ea9a876",
   "metadata": {
    "scrolled": true
   },
   "outputs": [
    {
     "data": {
      "text/plain": [
       "0"
      ]
     },
     "execution_count": 25,
     "metadata": {},
     "output_type": "execute_result"
    }
   ],
   "source": [
    "df.isnull().sum().sum()"
   ]
  },
  {
   "cell_type": "code",
   "execution_count": 26,
   "id": "80769f8b",
   "metadata": {},
   "outputs": [],
   "source": [
    "# By imputer method thetr is no null value"
   ]
  },
  {
   "cell_type": "code",
   "execution_count": 27,
   "id": "8714916d",
   "metadata": {},
   "outputs": [
    {
     "data": {
      "text/plain": [
       "pandas.core.frame.DataFrame"
      ]
     },
     "execution_count": 27,
     "metadata": {},
     "output_type": "execute_result"
    }
   ],
   "source": [
    "type(df)"
   ]
  },
  {
   "cell_type": "code",
   "execution_count": 28,
   "id": "f48d1d9b",
   "metadata": {
    "scrolled": true
   },
   "outputs": [
    {
     "data": {
      "text/plain": [
       "S    646\n",
       "C    168\n",
       "Q     77\n",
       "Name: Embarked, dtype: int64"
      ]
     },
     "execution_count": 28,
     "metadata": {},
     "output_type": "execute_result"
    },
    {
     "data": {
      "image/png": "[encoded data removed]",
      "text/plain": [
       "<Figure size 432x288 with 1 Axes>"
      ]
     },
     "metadata": {
      "needs_background": "light"
     },
     "output_type": "display_data"
    }
   ],
   "source": [
    "sns.countplot(df.Embarked)\n",
    "df['Embarked'].value_counts()"
   ]
  },
  {
   "cell_type": "raw",
   "id": "d7dbdbaa",
   "metadata": {},
   "source": [
    "in embarked 3 item\n",
    "1.s class-->646\n",
    "2.c class-->168\n",
    "3.q class-->77"
   ]
  },
  {
   "cell_type": "code",
   "execution_count": 29,
   "id": "4d9541df",
   "metadata": {},
   "outputs": [
    {
     "data": {
      "text/plain": [
       "male      577\n",
       "female    314\n",
       "Name: Sex, dtype: int64"
      ]
     },
     "execution_count": 29,
     "metadata": {},
     "output_type": "execute_result"
    },
    {
     "data": {
      "image/png": "[encoded data removed]",
      "text/plain": [
       "<Figure size 432x288 with 1 Axes>"
      ]
     },
     "metadata": {
      "needs_background": "light"
     },
     "output_type": "display_data"
    }
   ],
   "source": [
    "sns.countplot(df.Sex)\n",
    "df['Sex'].value_counts()"
   ]
  },
  {
   "cell_type": "raw",
   "id": "853c437d",
   "metadata": {},
   "source": [
    "in sex variable total no. of male and female passenger\n",
    "1.male-->577\n",
    "2.feamle-->314"
   ]
  },
  {
   "cell_type": "code",
   "execution_count": 30,
   "id": "965d79ae",
   "metadata": {},
   "outputs": [
    {
     "data": {
      "text/plain": [
       "<seaborn.axisgrid.FacetGrid at 0x127c97d8910>"
      ]
     },
     "execution_count": 30,
     "metadata": {},
     "output_type": "execute_result"
    },
    {
     "data": {
      "image/png": "[encoded data removed]",
      "text/plain": [
       "<Figure size 430.5x360 with 1 Axes>"
      ]
     },
     "metadata": {
      "needs_background": "light"
     },
     "output_type": "display_data"
    }
   ],
   "source": [
    "sns.catplot(kind='bar',y='Survived',x='Embarked',hue='Sex',data=df)"
   ]
  },
  {
   "cell_type": "raw",
   "id": "8171cdf1",
   "metadata": {},
   "source": [
    "total no.of survived passsenger have more part taken by female passenger compare to male passenger"
   ]
  },
  {
   "cell_type": "code",
   "execution_count": 31,
   "id": "f383a916",
   "metadata": {},
   "outputs": [
    {
     "data": {
      "text/plain": [
       "3    491\n",
       "1    216\n",
       "2    184\n",
       "Name: Pclass, dtype: int64"
      ]
     },
     "execution_count": 31,
     "metadata": {},
     "output_type": "execute_result"
    },
    {
     "data": {
      "image/png": "[encoded data removed]",
      "text/plain": [
       "<Figure size 432x288 with 1 Axes>"
      ]
     },
     "metadata": {
      "needs_background": "light"
     },
     "output_type": "display_data"
    }
   ],
   "source": [
    "sns.countplot(df.Pclass)\n",
    "df['Pclass'].value_counts()"
   ]
  },
  {
   "cell_type": "code",
   "execution_count": 32,
   "id": "f2c43ffd",
   "metadata": {},
   "outputs": [
    {
     "data": {
      "text/plain": [
       "0    549\n",
       "1    342\n",
       "Name: Survived, dtype: int64"
      ]
     },
     "execution_count": 32,
     "metadata": {},
     "output_type": "execute_result"
    },
    {
     "data": {
      "image/png": "[encoded data removed]",
      "text/plain": [
       "<Figure size 432x288 with 1 Axes>"
      ]
     },
     "metadata": {
      "needs_background": "light"
     },
     "output_type": "display_data"
    }
   ],
   "source": [
    "sns.countplot(df.Survived)\n",
    "df['Survived'].value_counts()"
   ]
  },
  {
   "cell_type": "markdown",
   "id": "7f0d49ff",
   "metadata": {},
   "source": [
    "# Label Encoder"
   ]
  },
  {
   "cell_type": "code",
   "execution_count": 33,
   "id": "22f2b133",
   "metadata": {},
   "outputs": [],
   "source": [
    "le=LabelEncoder()    #change object to int form"
   ]
  },
  {
   "cell_type": "code",
   "execution_count": 34,
   "id": "f78959a8",
   "metadata": {},
   "outputs": [],
   "source": [
    "list1=['Sex','Embarked','Cabin','Ticket']\n",
    "for i in list1:\n",
    "    df[i]=le.fit_transform(df[i].astype(str))"
   ]
  },
  {
   "cell_type": "code",
   "execution_count": 35,
   "id": "c6bab5c1",
   "metadata": {},
   "outputs": [
    {
     "data": {
      "text/html": [
       "<div>\n",
       "<style scoped>\n",
       "    .dataframe tbody tr th:only-of-type {\n",
       "        vertical-align: middle;\n",
       "    }\n",
       "\n",
       "    .dataframe tbody tr th {\n",
       "        vertical-align: top;\n",
       "    }\n",
       "\n",
       "    .dataframe thead th {\n",
       "        text-align: right;\n",
       "    }\n",
       "</style>\n",
       "<table border=\"1\" class=\"dataframe\">\n",
       "  <thead>\n",
       "    <tr style=\"text-align: right;\">\n",
       "      <th></th>\n",
       "      <th>Survived</th>\n",
       "      <th>Pclass</th>\n",
       "      <th>Sex</th>\n",
       "      <th>Age</th>\n",
       "      <th>SibSp</th>\n",
       "      <th>Parch</th>\n",
       "      <th>Ticket</th>\n",
       "      <th>Fare</th>\n",
       "      <th>Cabin</th>\n",
       "      <th>Embarked</th>\n",
       "    </tr>\n",
       "  </thead>\n",
       "  <tbody>\n",
       "    <tr>\n",
       "      <th>0</th>\n",
       "      <td>0</td>\n",
       "      <td>3</td>\n",
       "      <td>1</td>\n",
       "      <td>22.0</td>\n",
       "      <td>1</td>\n",
       "      <td>0</td>\n",
       "      <td>523</td>\n",
       "      <td>7.2500</td>\n",
       "      <td>47</td>\n",
       "      <td>2</td>\n",
       "    </tr>\n",
       "    <tr>\n",
       "      <th>1</th>\n",
       "      <td>1</td>\n",
       "      <td>1</td>\n",
       "      <td>0</td>\n",
       "      <td>38.0</td>\n",
       "      <td>1</td>\n",
       "      <td>0</td>\n",
       "      <td>596</td>\n",
       "      <td>71.2833</td>\n",
       "      <td>81</td>\n",
       "      <td>0</td>\n",
       "    </tr>\n",
       "    <tr>\n",
       "      <th>2</th>\n",
       "      <td>1</td>\n",
       "      <td>3</td>\n",
       "      <td>0</td>\n",
       "      <td>26.0</td>\n",
       "      <td>0</td>\n",
       "      <td>0</td>\n",
       "      <td>669</td>\n",
       "      <td>7.9250</td>\n",
       "      <td>47</td>\n",
       "      <td>2</td>\n",
       "    </tr>\n",
       "    <tr>\n",
       "      <th>3</th>\n",
       "      <td>1</td>\n",
       "      <td>1</td>\n",
       "      <td>0</td>\n",
       "      <td>35.0</td>\n",
       "      <td>1</td>\n",
       "      <td>0</td>\n",
       "      <td>49</td>\n",
       "      <td>53.1000</td>\n",
       "      <td>55</td>\n",
       "      <td>2</td>\n",
       "    </tr>\n",
       "    <tr>\n",
       "      <th>4</th>\n",
       "      <td>0</td>\n",
       "      <td>3</td>\n",
       "      <td>1</td>\n",
       "      <td>35.0</td>\n",
       "      <td>0</td>\n",
       "      <td>0</td>\n",
       "      <td>472</td>\n",
       "      <td>8.0500</td>\n",
       "      <td>47</td>\n",
       "      <td>2</td>\n",
       "    </tr>\n",
       "    <tr>\n",
       "      <th>...</th>\n",
       "      <td>...</td>\n",
       "      <td>...</td>\n",
       "      <td>...</td>\n",
       "      <td>...</td>\n",
       "      <td>...</td>\n",
       "      <td>...</td>\n",
       "      <td>...</td>\n",
       "      <td>...</td>\n",
       "      <td>...</td>\n",
       "      <td>...</td>\n",
       "    </tr>\n",
       "    <tr>\n",
       "      <th>886</th>\n",
       "      <td>0</td>\n",
       "      <td>2</td>\n",
       "      <td>1</td>\n",
       "      <td>27.0</td>\n",
       "      <td>0</td>\n",
       "      <td>0</td>\n",
       "      <td>101</td>\n",
       "      <td>13.0000</td>\n",
       "      <td>47</td>\n",
       "      <td>2</td>\n",
       "    </tr>\n",
       "    <tr>\n",
       "      <th>887</th>\n",
       "      <td>1</td>\n",
       "      <td>1</td>\n",
       "      <td>0</td>\n",
       "      <td>19.0</td>\n",
       "      <td>0</td>\n",
       "      <td>0</td>\n",
       "      <td>14</td>\n",
       "      <td>30.0000</td>\n",
       "      <td>30</td>\n",
       "      <td>2</td>\n",
       "    </tr>\n",
       "    <tr>\n",
       "      <th>888</th>\n",
       "      <td>0</td>\n",
       "      <td>3</td>\n",
       "      <td>0</td>\n",
       "      <td>28.0</td>\n",
       "      <td>1</td>\n",
       "      <td>2</td>\n",
       "      <td>675</td>\n",
       "      <td>23.4500</td>\n",
       "      <td>47</td>\n",
       "      <td>2</td>\n",
       "    </tr>\n",
       "    <tr>\n",
       "      <th>889</th>\n",
       "      <td>1</td>\n",
       "      <td>1</td>\n",
       "      <td>1</td>\n",
       "      <td>26.0</td>\n",
       "      <td>0</td>\n",
       "      <td>0</td>\n",
       "      <td>8</td>\n",
       "      <td>30.0000</td>\n",
       "      <td>60</td>\n",
       "      <td>0</td>\n",
       "    </tr>\n",
       "    <tr>\n",
       "      <th>890</th>\n",
       "      <td>0</td>\n",
       "      <td>3</td>\n",
       "      <td>1</td>\n",
       "      <td>32.0</td>\n",
       "      <td>0</td>\n",
       "      <td>0</td>\n",
       "      <td>466</td>\n",
       "      <td>7.7500</td>\n",
       "      <td>47</td>\n",
       "      <td>1</td>\n",
       "    </tr>\n",
       "  </tbody>\n",
       "</table>\n",
       "<p>891 rows × 10 columns</p>\n",
       "</div>"
      ],
      "text/plain": [
       "     Survived  Pclass  Sex   Age  SibSp  Parch  Ticket     Fare  Cabin  \\\n",
       "0           0       3    1  22.0      1      0     523   7.2500     47   \n",
       "1           1       1    0  38.0      1      0     596  71.2833     81   \n",
       "2           1       3    0  26.0      0      0     669   7.9250     47   \n",
       "3           1       1    0  35.0      1      0      49  53.1000     55   \n",
       "4           0       3    1  35.0      0      0     472   8.0500     47   \n",
       "..        ...     ...  ...   ...    ...    ...     ...      ...    ...   \n",
       "886         0       2    1  27.0      0      0     101  13.0000     47   \n",
       "887         1       1    0  19.0      0      0      14  30.0000     30   \n",
       "888         0       3    0  28.0      1      2     675  23.4500     47   \n",
       "889         1       1    1  26.0      0      0       8  30.0000     60   \n",
       "890         0       3    1  32.0      0      0     466   7.7500     47   \n",
       "\n",
       "     Embarked  \n",
       "0           2  \n",
       "1           0  \n",
       "2           2  \n",
       "3           2  \n",
       "4           2  \n",
       "..        ...  \n",
       "886         2  \n",
       "887         2  \n",
       "888         2  \n",
       "889         0  \n",
       "890         1  \n",
       "\n",
       "[891 rows x 10 columns]"
      ]
     },
     "execution_count": 35,
     "metadata": {},
     "output_type": "execute_result"
    }
   ],
   "source": [
    "df  #after apply label encoder method"
   ]
  },
  {
   "cell_type": "code",
   "execution_count": 36,
   "id": "bace769e",
   "metadata": {},
   "outputs": [
    {
     "name": "stdout",
     "output_type": "stream",
     "text": [
      "<class 'pandas.core.frame.DataFrame'>\n",
      "RangeIndex: 891 entries, 0 to 890\n",
      "Data columns (total 10 columns):\n",
      " #   Column    Non-Null Count  Dtype  \n",
      "---  ------    --------------  -----  \n",
      " 0   Survived  891 non-null    int64  \n",
      " 1   Pclass    891 non-null    int64  \n",
      " 2   Sex       891 non-null    int32  \n",
      " 3   Age       891 non-null    float64\n",
      " 4   SibSp     891 non-null    int64  \n",
      " 5   Parch     891 non-null    int64  \n",
      " 6   Ticket    891 non-null    int32  \n",
      " 7   Fare      891 non-null    float64\n",
      " 8   Cabin     891 non-null    int32  \n",
      " 9   Embarked  891 non-null    int32  \n",
      "dtypes: float64(2), int32(4), int64(4)\n",
      "memory usage: 55.8 KB\n"
     ]
    }
   ],
   "source": [
    "df.info()"
   ]
  },
  {
   "cell_type": "markdown",
   "id": "74b18425",
   "metadata": {},
   "source": [
    "# Describe Dataset"
   ]
  },
  {
   "cell_type": "code",
   "execution_count": 37,
   "id": "033ee2b5",
   "metadata": {},
   "outputs": [
    {
     "data": {
      "text/html": [
       "<div>\n",
       "<style scoped>\n",
       "    .dataframe tbody tr th:only-of-type {\n",
       "        vertical-align: middle;\n",
       "    }\n",
       "\n",
       "    .dataframe tbody tr th {\n",
       "        vertical-align: top;\n",
       "    }\n",
       "\n",
       "    .dataframe thead th {\n",
       "        text-align: right;\n",
       "    }\n",
       "</style>\n",
       "<table border=\"1\" class=\"dataframe\">\n",
       "  <thead>\n",
       "    <tr style=\"text-align: right;\">\n",
       "      <th></th>\n",
       "      <th>Survived</th>\n",
       "      <th>Pclass</th>\n",
       "      <th>Sex</th>\n",
       "      <th>Age</th>\n",
       "      <th>SibSp</th>\n",
       "      <th>Parch</th>\n",
       "      <th>Ticket</th>\n",
       "      <th>Fare</th>\n",
       "      <th>Cabin</th>\n",
       "      <th>Embarked</th>\n",
       "    </tr>\n",
       "  </thead>\n",
       "  <tbody>\n",
       "    <tr>\n",
       "      <th>count</th>\n",
       "      <td>891.000000</td>\n",
       "      <td>891.000000</td>\n",
       "      <td>891.000000</td>\n",
       "      <td>891.000000</td>\n",
       "      <td>891.000000</td>\n",
       "      <td>891.000000</td>\n",
       "      <td>891.000000</td>\n",
       "      <td>891.000000</td>\n",
       "      <td>891.000000</td>\n",
       "      <td>891.000000</td>\n",
       "    </tr>\n",
       "    <tr>\n",
       "      <th>mean</th>\n",
       "      <td>0.383838</td>\n",
       "      <td>2.308642</td>\n",
       "      <td>0.647587</td>\n",
       "      <td>29.361582</td>\n",
       "      <td>0.523008</td>\n",
       "      <td>0.381594</td>\n",
       "      <td>338.528620</td>\n",
       "      <td>32.204208</td>\n",
       "      <td>53.639731</td>\n",
       "      <td>1.536476</td>\n",
       "    </tr>\n",
       "    <tr>\n",
       "      <th>std</th>\n",
       "      <td>0.486592</td>\n",
       "      <td>0.836071</td>\n",
       "      <td>0.477990</td>\n",
       "      <td>13.019697</td>\n",
       "      <td>1.102743</td>\n",
       "      <td>0.806057</td>\n",
       "      <td>200.850657</td>\n",
       "      <td>49.693429</td>\n",
       "      <td>23.568293</td>\n",
       "      <td>0.791503</td>\n",
       "    </tr>\n",
       "    <tr>\n",
       "      <th>min</th>\n",
       "      <td>0.000000</td>\n",
       "      <td>1.000000</td>\n",
       "      <td>0.000000</td>\n",
       "      <td>0.420000</td>\n",
       "      <td>0.000000</td>\n",
       "      <td>0.000000</td>\n",
       "      <td>0.000000</td>\n",
       "      <td>0.000000</td>\n",
       "      <td>0.000000</td>\n",
       "      <td>0.000000</td>\n",
       "    </tr>\n",
       "    <tr>\n",
       "      <th>25%</th>\n",
       "      <td>0.000000</td>\n",
       "      <td>2.000000</td>\n",
       "      <td>0.000000</td>\n",
       "      <td>22.000000</td>\n",
       "      <td>0.000000</td>\n",
       "      <td>0.000000</td>\n",
       "      <td>158.500000</td>\n",
       "      <td>7.910400</td>\n",
       "      <td>47.000000</td>\n",
       "      <td>1.000000</td>\n",
       "    </tr>\n",
       "    <tr>\n",
       "      <th>50%</th>\n",
       "      <td>0.000000</td>\n",
       "      <td>3.000000</td>\n",
       "      <td>1.000000</td>\n",
       "      <td>28.000000</td>\n",
       "      <td>0.000000</td>\n",
       "      <td>0.000000</td>\n",
       "      <td>337.000000</td>\n",
       "      <td>14.454200</td>\n",
       "      <td>47.000000</td>\n",
       "      <td>2.000000</td>\n",
       "    </tr>\n",
       "    <tr>\n",
       "      <th>75%</th>\n",
       "      <td>1.000000</td>\n",
       "      <td>3.000000</td>\n",
       "      <td>1.000000</td>\n",
       "      <td>35.000000</td>\n",
       "      <td>1.000000</td>\n",
       "      <td>0.000000</td>\n",
       "      <td>519.500000</td>\n",
       "      <td>31.000000</td>\n",
       "      <td>47.000000</td>\n",
       "      <td>2.000000</td>\n",
       "    </tr>\n",
       "    <tr>\n",
       "      <th>max</th>\n",
       "      <td>1.000000</td>\n",
       "      <td>3.000000</td>\n",
       "      <td>1.000000</td>\n",
       "      <td>80.000000</td>\n",
       "      <td>8.000000</td>\n",
       "      <td>6.000000</td>\n",
       "      <td>680.000000</td>\n",
       "      <td>512.329200</td>\n",
       "      <td>146.000000</td>\n",
       "      <td>2.000000</td>\n",
       "    </tr>\n",
       "  </tbody>\n",
       "</table>\n",
       "</div>"
      ],
      "text/plain": [
       "         Survived      Pclass         Sex         Age       SibSp       Parch  \\\n",
       "count  891.000000  891.000000  891.000000  891.000000  891.000000  891.000000   \n",
       "mean     0.383838    2.308642    0.647587   29.361582    0.523008    0.381594   \n",
       "std      0.486592    0.836071    0.477990   13.019697    1.102743    0.806057   \n",
       "min      0.000000    1.000000    0.000000    0.420000    0.000000    0.000000   \n",
       "25%      0.000000    2.000000    0.000000   22.000000    0.000000    0.000000   \n",
       "50%      0.000000    3.000000    1.000000   28.000000    0.000000    0.000000   \n",
       "75%      1.000000    3.000000    1.000000   35.000000    1.000000    0.000000   \n",
       "max      1.000000    3.000000    1.000000   80.000000    8.000000    6.000000   \n",
       "\n",
       "           Ticket        Fare       Cabin    Embarked  \n",
       "count  891.000000  891.000000  891.000000  891.000000  \n",
       "mean   338.528620   32.204208   53.639731    1.536476  \n",
       "std    200.850657   49.693429   23.568293    0.791503  \n",
       "min      0.000000    0.000000    0.000000    0.000000  \n",
       "25%    158.500000    7.910400   47.000000    1.000000  \n",
       "50%    337.000000   14.454200   47.000000    2.000000  \n",
       "75%    519.500000   31.000000   47.000000    2.000000  \n",
       "max    680.000000  512.329200  146.000000    2.000000  "
      ]
     },
     "execution_count": 37,
     "metadata": {},
     "output_type": "execute_result"
    }
   ],
   "source": [
    "df.describe()"
   ]
  },
  {
   "cell_type": "raw",
   "id": "31be5a02",
   "metadata": {},
   "source": [
    "Key Observation:-\n",
    "Skewness \n",
    "1.mean>median(Right side)->Survived,Age,Sib sp,Parch,Fare\n",
    "2.median>mean(Left side)->Pclass\n",
    "\n",
    "Outliers-->Age,Fare,Sib sp"
   ]
  },
  {
   "cell_type": "code",
   "execution_count": 38,
   "id": "68a82f06",
   "metadata": {},
   "outputs": [],
   "source": [
    "# For more understanding ploting hist,and box daigram for outliers and skewness --> -->"
   ]
  },
  {
   "cell_type": "markdown",
   "id": "bafaa6ea",
   "metadata": {},
   "source": [
    "# Visulaization"
   ]
  },
  {
   "cell_type": "markdown",
   "id": "e209b0bb",
   "metadata": {},
   "source": [
    "##### Box plot"
   ]
  },
  {
   "cell_type": "code",
   "execution_count": 39,
   "id": "a8c3bebe",
   "metadata": {},
   "outputs": [],
   "source": [
    "col=df.columns\n",
    "ncol=30    #dimension \n",
    "nrow=15"
   ]
  },
  {
   "cell_type": "code",
   "execution_count": 40,
   "id": "1ae4b42b",
   "metadata": {},
   "outputs": [
    {
     "data": {
      "image/png": "[encoded data removed]",
      "text/plain": [
       "<Figure size 2160x6480 with 10 Axes>"
      ]
     },
     "metadata": {
      "needs_background": "light"
     },
     "output_type": "display_data"
    }
   ],
   "source": [
    "plt.figure(figsize=(ncol,3*ncol))\n",
    "for i in range(len(col)):\n",
    "    plt.subplot(nrow,ncol,i+1)\n",
    "    plt.title(i)\n",
    "    sns.boxplot(data=df[col[i]],color='r',orient='v')\n",
    "    plt.savefig('TITANIC')\n",
    "    plt.tight_layout()"
   ]
  },
  {
   "cell_type": "raw",
   "id": "c400e807",
   "metadata": {},
   "source": [
    "Here analysis that outliers are present in Age,Sib Sp,Parch,Fare\n",
    "1.Outliers are present in Age are both positive and negative type.\n",
    "2.Outliers are present in Sib Sp,Parch and Fare are only positive side."
   ]
  },
  {
   "cell_type": "markdown",
   "id": "904a2ff2",
   "metadata": {},
   "source": [
    "##### DIST PLOT"
   ]
  },
  {
   "cell_type": "code",
   "execution_count": 41,
   "id": "ec01173c",
   "metadata": {
    "scrolled": false
   },
   "outputs": [
    {
     "data": {
      "text/plain": [
       "<AxesSubplot:xlabel='Survived', ylabel='Density'>"
      ]
     },
     "execution_count": 41,
     "metadata": {},
     "output_type": "execute_result"
    },
    {
     "data": {
      "image/png": "[encoded data removed]",
      "text/plain": [
       "<Figure size 432x288 with 1 Axes>"
      ]
     },
     "metadata": {
      "needs_background": "light"
     },
     "output_type": "display_data"
    }
   ],
   "source": [
    "sns.distplot(df['Survived'])"
   ]
  },
  {
   "cell_type": "raw",
   "id": "b50da631",
   "metadata": {},
   "source": [
    "Skewness is present in right side"
   ]
  },
  {
   "cell_type": "code",
   "execution_count": 42,
   "id": "017f54bf",
   "metadata": {},
   "outputs": [
    {
     "data": {
      "text/plain": [
       "<AxesSubplot:xlabel='Pclass', ylabel='Density'>"
      ]
     },
     "execution_count": 42,
     "metadata": {},
     "output_type": "execute_result"
    },
    {
     "data": {
      "image/png": "[encoded data removed]",
      "text/plain": [
       "<Figure size 432x288 with 1 Axes>"
      ]
     },
     "metadata": {
      "needs_background": "light"
     },
     "output_type": "display_data"
    }
   ],
   "source": [
    "sns.distplot(df['Pclass'])"
   ]
  },
  {
   "cell_type": "raw",
   "id": "95a27bc3",
   "metadata": {},
   "source": [
    "In pclass skewness is present in Right side"
   ]
  },
  {
   "cell_type": "code",
   "execution_count": 43,
   "id": "30c6da69",
   "metadata": {},
   "outputs": [
    {
     "data": {
      "text/plain": [
       "<AxesSubplot:xlabel='Sex', ylabel='Density'>"
      ]
     },
     "execution_count": 43,
     "metadata": {},
     "output_type": "execute_result"
    },
    {
     "data": {
      "image/png": "[encoded data removed]",
      "text/plain": [
       "<Figure size 432x288 with 1 Axes>"
      ]
     },
     "metadata": {
      "needs_background": "light"
     },
     "output_type": "display_data"
    }
   ],
   "source": [
    "sns.distplot(df['Sex'])"
   ]
  },
  {
   "cell_type": "raw",
   "id": "a25c976a",
   "metadata": {},
   "source": [
    "Noraml distribution,no skewness is present"
   ]
  },
  {
   "cell_type": "code",
   "execution_count": 44,
   "id": "7f4c3ba4",
   "metadata": {},
   "outputs": [
    {
     "data": {
      "text/plain": [
       "<AxesSubplot:xlabel='Age', ylabel='Density'>"
      ]
     },
     "execution_count": 44,
     "metadata": {},
     "output_type": "execute_result"
    },
    {
     "data": {
      "image/png": "[encoded data removed]",
      "text/plain": [
       "<Figure size 432x288 with 1 Axes>"
      ]
     },
     "metadata": {
      "needs_background": "light"
     },
     "output_type": "display_data"
    }
   ],
   "source": [
    "sns.distplot(df['Age'])"
   ]
  },
  {
   "cell_type": "raw",
   "id": "273b297f",
   "metadata": {},
   "source": [
    "Skewness is present in Age variable"
   ]
  },
  {
   "cell_type": "code",
   "execution_count": 45,
   "id": "523cc3e2",
   "metadata": {},
   "outputs": [
    {
     "data": {
      "text/plain": [
       "<AxesSubplot:xlabel='SibSp', ylabel='Density'>"
      ]
     },
     "execution_count": 45,
     "metadata": {},
     "output_type": "execute_result"
    },
    {
     "data": {
      "image/png": "[encoded data removed]",
      "text/plain": [
       "<Figure size 432x288 with 1 Axes>"
      ]
     },
     "metadata": {
      "needs_background": "light"
     },
     "output_type": "display_data"
    }
   ],
   "source": [
    "sns.distplot(df['SibSp'])"
   ]
  },
  {
   "cell_type": "raw",
   "id": "ea4a01f1",
   "metadata": {},
   "source": [
    " Right side skewness  are present in sibsp"
   ]
  },
  {
   "cell_type": "code",
   "execution_count": 46,
   "id": "1f2d2cc9",
   "metadata": {},
   "outputs": [
    {
     "data": {
      "text/plain": [
       "<AxesSubplot:xlabel='Parch', ylabel='Density'>"
      ]
     },
     "execution_count": 46,
     "metadata": {},
     "output_type": "execute_result"
    },
    {
     "data": {
      "image/png": "[encoded data removed]",
      "text/plain": [
       "<Figure size 432x288 with 1 Axes>"
      ]
     },
     "metadata": {
      "needs_background": "light"
     },
     "output_type": "display_data"
    }
   ],
   "source": [
    "sns.distplot(df['Parch'])"
   ]
  },
  {
   "cell_type": "raw",
   "id": "200ee171",
   "metadata": {},
   "source": [
    "Right side skewness are present in Parch"
   ]
  },
  {
   "cell_type": "code",
   "execution_count": 47,
   "id": "aef1b21c",
   "metadata": {},
   "outputs": [
    {
     "data": {
      "text/plain": [
       "<AxesSubplot:xlabel='Fare', ylabel='Density'>"
      ]
     },
     "execution_count": 47,
     "metadata": {},
     "output_type": "execute_result"
    },
    {
     "data": {
      "image/png": "[encoded data removed]",
      "text/plain": [
       "<Figure size 432x288 with 1 Axes>"
      ]
     },
     "metadata": {
      "needs_background": "light"
     },
     "output_type": "display_data"
    }
   ],
   "source": [
    "sns.distplot(df['Fare'])"
   ]
  },
  {
   "cell_type": "raw",
   "id": "cf9d6614",
   "metadata": {},
   "source": [
    "Right side skewness are present in fare"
   ]
  },
  {
   "cell_type": "markdown",
   "id": "56c4331e",
   "metadata": {},
   "source": [
    "# Check Correlation"
   ]
  },
  {
   "cell_type": "code",
   "execution_count": 48,
   "id": "68869756",
   "metadata": {},
   "outputs": [
    {
     "data": {
      "text/html": [
       "<div>\n",
       "<style scoped>\n",
       "    .dataframe tbody tr th:only-of-type {\n",
       "        vertical-align: middle;\n",
       "    }\n",
       "\n",
       "    .dataframe tbody tr th {\n",
       "        vertical-align: top;\n",
       "    }\n",
       "\n",
       "    .dataframe thead th {\n",
       "        text-align: right;\n",
       "    }\n",
       "</style>\n",
       "<table border=\"1\" class=\"dataframe\">\n",
       "  <thead>\n",
       "    <tr style=\"text-align: right;\">\n",
       "      <th></th>\n",
       "      <th>Survived</th>\n",
       "      <th>Pclass</th>\n",
       "      <th>Sex</th>\n",
       "      <th>Age</th>\n",
       "      <th>SibSp</th>\n",
       "      <th>Parch</th>\n",
       "      <th>Ticket</th>\n",
       "      <th>Fare</th>\n",
       "      <th>Cabin</th>\n",
       "      <th>Embarked</th>\n",
       "    </tr>\n",
       "  </thead>\n",
       "  <tbody>\n",
       "    <tr>\n",
       "      <th>Survived</th>\n",
       "      <td>1.000000</td>\n",
       "      <td>-0.338481</td>\n",
       "      <td>-0.543351</td>\n",
       "      <td>-0.064910</td>\n",
       "      <td>-0.035322</td>\n",
       "      <td>0.081629</td>\n",
       "      <td>-0.164549</td>\n",
       "      <td>0.257307</td>\n",
       "      <td>0.175690</td>\n",
       "      <td>-0.167675</td>\n",
       "    </tr>\n",
       "    <tr>\n",
       "      <th>Pclass</th>\n",
       "      <td>-0.338481</td>\n",
       "      <td>1.000000</td>\n",
       "      <td>0.131900</td>\n",
       "      <td>-0.339898</td>\n",
       "      <td>0.083081</td>\n",
       "      <td>0.018443</td>\n",
       "      <td>0.319869</td>\n",
       "      <td>-0.549500</td>\n",
       "      <td>-0.248495</td>\n",
       "      <td>0.162098</td>\n",
       "    </tr>\n",
       "    <tr>\n",
       "      <th>Sex</th>\n",
       "      <td>-0.543351</td>\n",
       "      <td>0.131900</td>\n",
       "      <td>1.000000</td>\n",
       "      <td>0.081163</td>\n",
       "      <td>-0.114631</td>\n",
       "      <td>-0.245489</td>\n",
       "      <td>0.059372</td>\n",
       "      <td>-0.182333</td>\n",
       "      <td>-0.102643</td>\n",
       "      <td>0.108262</td>\n",
       "    </tr>\n",
       "    <tr>\n",
       "      <th>Age</th>\n",
       "      <td>-0.064910</td>\n",
       "      <td>-0.339898</td>\n",
       "      <td>0.081163</td>\n",
       "      <td>1.000000</td>\n",
       "      <td>-0.233296</td>\n",
       "      <td>-0.172482</td>\n",
       "      <td>-0.070382</td>\n",
       "      <td>0.096688</td>\n",
       "      <td>0.060534</td>\n",
       "      <td>-0.018754</td>\n",
       "    </tr>\n",
       "    <tr>\n",
       "      <th>SibSp</th>\n",
       "      <td>-0.035322</td>\n",
       "      <td>0.083081</td>\n",
       "      <td>-0.114631</td>\n",
       "      <td>-0.233296</td>\n",
       "      <td>1.000000</td>\n",
       "      <td>0.414838</td>\n",
       "      <td>0.079461</td>\n",
       "      <td>0.159651</td>\n",
       "      <td>-0.005539</td>\n",
       "      <td>0.068230</td>\n",
       "    </tr>\n",
       "    <tr>\n",
       "      <th>Parch</th>\n",
       "      <td>0.081629</td>\n",
       "      <td>0.018443</td>\n",
       "      <td>-0.245489</td>\n",
       "      <td>-0.172482</td>\n",
       "      <td>0.414838</td>\n",
       "      <td>1.000000</td>\n",
       "      <td>0.020003</td>\n",
       "      <td>0.216225</td>\n",
       "      <td>0.022682</td>\n",
       "      <td>0.039798</td>\n",
       "    </tr>\n",
       "    <tr>\n",
       "      <th>Ticket</th>\n",
       "      <td>-0.164549</td>\n",
       "      <td>0.319869</td>\n",
       "      <td>0.059372</td>\n",
       "      <td>-0.070382</td>\n",
       "      <td>0.079461</td>\n",
       "      <td>0.020003</td>\n",
       "      <td>1.000000</td>\n",
       "      <td>-0.013885</td>\n",
       "      <td>-0.072200</td>\n",
       "      <td>-0.001729</td>\n",
       "    </tr>\n",
       "    <tr>\n",
       "      <th>Fare</th>\n",
       "      <td>0.257307</td>\n",
       "      <td>-0.549500</td>\n",
       "      <td>-0.182333</td>\n",
       "      <td>0.096688</td>\n",
       "      <td>0.159651</td>\n",
       "      <td>0.216225</td>\n",
       "      <td>-0.013885</td>\n",
       "      <td>1.000000</td>\n",
       "      <td>0.090516</td>\n",
       "      <td>-0.224719</td>\n",
       "    </tr>\n",
       "    <tr>\n",
       "      <th>Cabin</th>\n",
       "      <td>0.175690</td>\n",
       "      <td>-0.248495</td>\n",
       "      <td>-0.102643</td>\n",
       "      <td>0.060534</td>\n",
       "      <td>-0.005539</td>\n",
       "      <td>0.022682</td>\n",
       "      <td>-0.072200</td>\n",
       "      <td>0.090516</td>\n",
       "      <td>1.000000</td>\n",
       "      <td>0.023804</td>\n",
       "    </tr>\n",
       "    <tr>\n",
       "      <th>Embarked</th>\n",
       "      <td>-0.167675</td>\n",
       "      <td>0.162098</td>\n",
       "      <td>0.108262</td>\n",
       "      <td>-0.018754</td>\n",
       "      <td>0.068230</td>\n",
       "      <td>0.039798</td>\n",
       "      <td>-0.001729</td>\n",
       "      <td>-0.224719</td>\n",
       "      <td>0.023804</td>\n",
       "      <td>1.000000</td>\n",
       "    </tr>\n",
       "  </tbody>\n",
       "</table>\n",
       "</div>"
      ],
      "text/plain": [
       "          Survived    Pclass       Sex       Age     SibSp     Parch  \\\n",
       "Survived  1.000000 -0.338481 -0.543351 -0.064910 -0.035322  0.081629   \n",
       "Pclass   -0.338481  1.000000  0.131900 -0.339898  0.083081  0.018443   \n",
       "Sex      -0.543351  0.131900  1.000000  0.081163 -0.114631 -0.245489   \n",
       "Age      -0.064910 -0.339898  0.081163  1.000000 -0.233296 -0.172482   \n",
       "SibSp    -0.035322  0.083081 -0.114631 -0.233296  1.000000  0.414838   \n",
       "Parch     0.081629  0.018443 -0.245489 -0.172482  0.414838  1.000000   \n",
       "Ticket   -0.164549  0.319869  0.059372 -0.070382  0.079461  0.020003   \n",
       "Fare      0.257307 -0.549500 -0.182333  0.096688  0.159651  0.216225   \n",
       "Cabin     0.175690 -0.248495 -0.102643  0.060534 -0.005539  0.022682   \n",
       "Embarked -0.167675  0.162098  0.108262 -0.018754  0.068230  0.039798   \n",
       "\n",
       "            Ticket      Fare     Cabin  Embarked  \n",
       "Survived -0.164549  0.257307  0.175690 -0.167675  \n",
       "Pclass    0.319869 -0.549500 -0.248495  0.162098  \n",
       "Sex       0.059372 -0.182333 -0.102643  0.108262  \n",
       "Age      -0.070382  0.096688  0.060534 -0.018754  \n",
       "SibSp     0.079461  0.159651 -0.005539  0.068230  \n",
       "Parch     0.020003  0.216225  0.022682  0.039798  \n",
       "Ticket    1.000000 -0.013885 -0.072200 -0.001729  \n",
       "Fare     -0.013885  1.000000  0.090516 -0.224719  \n",
       "Cabin    -0.072200  0.090516  1.000000  0.023804  \n",
       "Embarked -0.001729 -0.224719  0.023804  1.000000  "
      ]
     },
     "execution_count": 48,
     "metadata": {},
     "output_type": "execute_result"
    }
   ],
   "source": [
    "df.corr()   #check relation between variable"
   ]
  },
  {
   "cell_type": "raw",
   "id": "64b3a7f8",
   "metadata": {},
   "source": [
    "CORELATION WITH TARGET:\n",
    "1.Pclass corelated with target is -33.84% i.e. it is good bond with target.\n",
    "2.Sex corelated with target is -54.33% i.e. it is strong bond with target.\n",
    "3.Age corelated with target is -6.49% i.e. it is weak bond with target.\n",
    "4.SibSP corelated with target is -3.53% i.e. it is weak bond with target.\n",
    "5.Parch corelated with target is 8.169% i.e. it is good bond with target.\n",
    "6.Fare corelated with target is 25.73% i.e. it is good bond with target.\n",
    "7.Embarked corelated with target is -16.75% i.e. it is good bond with target."
   ]
  },
  {
   "cell_type": "code",
   "execution_count": 49,
   "id": "4b952ed2",
   "metadata": {},
   "outputs": [
    {
     "data": {
      "image/png": "[encoded data removed]",
      "text/plain": [
       "<Figure size 720x360 with 2 Axes>"
      ]
     },
     "metadata": {
      "needs_background": "light"
     },
     "output_type": "display_data"
    }
   ],
   "source": [
    "plt.figure(figsize=(10,5))\n",
    "sns.heatmap(data=df.corr(),linewidth=1,linecolor='y',annot=True)\n",
    "plt.savefig('TITANIC_CORR')\n",
    "plt.show()"
   ]
  },
  {
   "cell_type": "raw",
   "id": "3bb283fe",
   "metadata": {},
   "source": [
    "By ploting heatmap of correlation we find that SibSp and Parch are high Coarelated.\n",
    "Here SibSp have low correlated with target so we drop it"
   ]
  },
  {
   "cell_type": "markdown",
   "id": "6fee25cf",
   "metadata": {},
   "source": [
    "# Check Skew"
   ]
  },
  {
   "cell_type": "code",
   "execution_count": 50,
   "id": "aeea79a6",
   "metadata": {},
   "outputs": [
    {
     "data": {
      "text/plain": [
       "Survived    0.478523\n",
       "Pclass     -0.630548\n",
       "Sex        -0.618921\n",
       "Age         0.510245\n",
       "SibSp       3.695352\n",
       "Parch       2.749117\n",
       "Ticket      0.000246\n",
       "Fare        4.787317\n",
       "Cabin       2.268926\n",
       "Embarked   -1.264823\n",
       "dtype: float64"
      ]
     },
     "execution_count": 50,
     "metadata": {},
     "output_type": "execute_result"
    }
   ],
   "source": [
    "df.skew()"
   ]
  },
  {
   "cell_type": "code",
   "execution_count": 51,
   "id": "97f9f89f",
   "metadata": {},
   "outputs": [],
   "source": [
    "# here we take safe threshold skewness value range is +/-0.65"
   ]
  },
  {
   "cell_type": "raw",
   "id": "9ef11039",
   "metadata": {},
   "source": [
    "Skewness is present:\n",
    "1.Parch\n",
    "2.Fare\n",
    "3.Embarked(category)"
   ]
  },
  {
   "cell_type": "code",
   "execution_count": 52,
   "id": "32a9353e",
   "metadata": {},
   "outputs": [],
   "source": [
    "# here we removed only skewness of Parch and Fare because they are int and floating data and we dont apply laber encoder method on it"
   ]
  },
  {
   "cell_type": "markdown",
   "id": "386e4703",
   "metadata": {},
   "source": [
    "# Outliers"
   ]
  },
  {
   "cell_type": "markdown",
   "id": "842c123c",
   "metadata": {},
   "source": [
    "### Here we don't remove outliers because we have category data also with int data, There is no any method whoes remove outliers from category data."
   ]
  },
  {
   "cell_type": "code",
   "execution_count": 53,
   "id": "8fa79559",
   "metadata": {},
   "outputs": [
    {
     "data": {
      "text/html": [
       "<div>\n",
       "<style scoped>\n",
       "    .dataframe tbody tr th:only-of-type {\n",
       "        vertical-align: middle;\n",
       "    }\n",
       "\n",
       "    .dataframe tbody tr th {\n",
       "        vertical-align: top;\n",
       "    }\n",
       "\n",
       "    .dataframe thead th {\n",
       "        text-align: right;\n",
       "    }\n",
       "</style>\n",
       "<table border=\"1\" class=\"dataframe\">\n",
       "  <thead>\n",
       "    <tr style=\"text-align: right;\">\n",
       "      <th></th>\n",
       "      <th>Survived</th>\n",
       "      <th>Pclass</th>\n",
       "      <th>Sex</th>\n",
       "      <th>Age</th>\n",
       "      <th>SibSp</th>\n",
       "      <th>Parch</th>\n",
       "      <th>Ticket</th>\n",
       "      <th>Fare</th>\n",
       "      <th>Cabin</th>\n",
       "      <th>Embarked</th>\n",
       "    </tr>\n",
       "  </thead>\n",
       "  <tbody>\n",
       "    <tr>\n",
       "      <th>0</th>\n",
       "      <td>0</td>\n",
       "      <td>3</td>\n",
       "      <td>1</td>\n",
       "      <td>22.0</td>\n",
       "      <td>1</td>\n",
       "      <td>0</td>\n",
       "      <td>523</td>\n",
       "      <td>7.2500</td>\n",
       "      <td>47</td>\n",
       "      <td>2</td>\n",
       "    </tr>\n",
       "    <tr>\n",
       "      <th>1</th>\n",
       "      <td>1</td>\n",
       "      <td>1</td>\n",
       "      <td>0</td>\n",
       "      <td>38.0</td>\n",
       "      <td>1</td>\n",
       "      <td>0</td>\n",
       "      <td>596</td>\n",
       "      <td>71.2833</td>\n",
       "      <td>81</td>\n",
       "      <td>0</td>\n",
       "    </tr>\n",
       "    <tr>\n",
       "      <th>2</th>\n",
       "      <td>1</td>\n",
       "      <td>3</td>\n",
       "      <td>0</td>\n",
       "      <td>26.0</td>\n",
       "      <td>0</td>\n",
       "      <td>0</td>\n",
       "      <td>669</td>\n",
       "      <td>7.9250</td>\n",
       "      <td>47</td>\n",
       "      <td>2</td>\n",
       "    </tr>\n",
       "    <tr>\n",
       "      <th>3</th>\n",
       "      <td>1</td>\n",
       "      <td>1</td>\n",
       "      <td>0</td>\n",
       "      <td>35.0</td>\n",
       "      <td>1</td>\n",
       "      <td>0</td>\n",
       "      <td>49</td>\n",
       "      <td>53.1000</td>\n",
       "      <td>55</td>\n",
       "      <td>2</td>\n",
       "    </tr>\n",
       "    <tr>\n",
       "      <th>4</th>\n",
       "      <td>0</td>\n",
       "      <td>3</td>\n",
       "      <td>1</td>\n",
       "      <td>35.0</td>\n",
       "      <td>0</td>\n",
       "      <td>0</td>\n",
       "      <td>472</td>\n",
       "      <td>8.0500</td>\n",
       "      <td>47</td>\n",
       "      <td>2</td>\n",
       "    </tr>\n",
       "    <tr>\n",
       "      <th>...</th>\n",
       "      <td>...</td>\n",
       "      <td>...</td>\n",
       "      <td>...</td>\n",
       "      <td>...</td>\n",
       "      <td>...</td>\n",
       "      <td>...</td>\n",
       "      <td>...</td>\n",
       "      <td>...</td>\n",
       "      <td>...</td>\n",
       "      <td>...</td>\n",
       "    </tr>\n",
       "    <tr>\n",
       "      <th>886</th>\n",
       "      <td>0</td>\n",
       "      <td>2</td>\n",
       "      <td>1</td>\n",
       "      <td>27.0</td>\n",
       "      <td>0</td>\n",
       "      <td>0</td>\n",
       "      <td>101</td>\n",
       "      <td>13.0000</td>\n",
       "      <td>47</td>\n",
       "      <td>2</td>\n",
       "    </tr>\n",
       "    <tr>\n",
       "      <th>887</th>\n",
       "      <td>1</td>\n",
       "      <td>1</td>\n",
       "      <td>0</td>\n",
       "      <td>19.0</td>\n",
       "      <td>0</td>\n",
       "      <td>0</td>\n",
       "      <td>14</td>\n",
       "      <td>30.0000</td>\n",
       "      <td>30</td>\n",
       "      <td>2</td>\n",
       "    </tr>\n",
       "    <tr>\n",
       "      <th>888</th>\n",
       "      <td>0</td>\n",
       "      <td>3</td>\n",
       "      <td>0</td>\n",
       "      <td>28.0</td>\n",
       "      <td>1</td>\n",
       "      <td>2</td>\n",
       "      <td>675</td>\n",
       "      <td>23.4500</td>\n",
       "      <td>47</td>\n",
       "      <td>2</td>\n",
       "    </tr>\n",
       "    <tr>\n",
       "      <th>889</th>\n",
       "      <td>1</td>\n",
       "      <td>1</td>\n",
       "      <td>1</td>\n",
       "      <td>26.0</td>\n",
       "      <td>0</td>\n",
       "      <td>0</td>\n",
       "      <td>8</td>\n",
       "      <td>30.0000</td>\n",
       "      <td>60</td>\n",
       "      <td>0</td>\n",
       "    </tr>\n",
       "    <tr>\n",
       "      <th>890</th>\n",
       "      <td>0</td>\n",
       "      <td>3</td>\n",
       "      <td>1</td>\n",
       "      <td>32.0</td>\n",
       "      <td>0</td>\n",
       "      <td>0</td>\n",
       "      <td>466</td>\n",
       "      <td>7.7500</td>\n",
       "      <td>47</td>\n",
       "      <td>1</td>\n",
       "    </tr>\n",
       "  </tbody>\n",
       "</table>\n",
       "<p>891 rows × 10 columns</p>\n",
       "</div>"
      ],
      "text/plain": [
       "     Survived  Pclass  Sex   Age  SibSp  Parch  Ticket     Fare  Cabin  \\\n",
       "0           0       3    1  22.0      1      0     523   7.2500     47   \n",
       "1           1       1    0  38.0      1      0     596  71.2833     81   \n",
       "2           1       3    0  26.0      0      0     669   7.9250     47   \n",
       "3           1       1    0  35.0      1      0      49  53.1000     55   \n",
       "4           0       3    1  35.0      0      0     472   8.0500     47   \n",
       "..        ...     ...  ...   ...    ...    ...     ...      ...    ...   \n",
       "886         0       2    1  27.0      0      0     101  13.0000     47   \n",
       "887         1       1    0  19.0      0      0      14  30.0000     30   \n",
       "888         0       3    0  28.0      1      2     675  23.4500     47   \n",
       "889         1       1    1  26.0      0      0       8  30.0000     60   \n",
       "890         0       3    1  32.0      0      0     466   7.7500     47   \n",
       "\n",
       "     Embarked  \n",
       "0           2  \n",
       "1           0  \n",
       "2           2  \n",
       "3           2  \n",
       "4           2  \n",
       "..        ...  \n",
       "886         2  \n",
       "887         2  \n",
       "888         2  \n",
       "889         0  \n",
       "890         1  \n",
       "\n",
       "[891 rows x 10 columns]"
      ]
     },
     "execution_count": 53,
     "metadata": {},
     "output_type": "execute_result"
    }
   ],
   "source": [
    "df"
   ]
  },
  {
   "cell_type": "markdown",
   "id": "da61b3fd",
   "metadata": {},
   "source": [
    "# Split data into x and y form"
   ]
  },
  {
   "cell_type": "code",
   "execution_count": 54,
   "id": "4bc6257c",
   "metadata": {},
   "outputs": [],
   "source": [
    "x=df.drop('Survived',axis=1)"
   ]
  },
  {
   "cell_type": "code",
   "execution_count": 55,
   "id": "38c525ab",
   "metadata": {},
   "outputs": [],
   "source": [
    "y=df.Survived"
   ]
  },
  {
   "cell_type": "markdown",
   "id": "9d970a3b",
   "metadata": {},
   "source": [
    "# Imblearn-SMOTE"
   ]
  },
  {
   "cell_type": "code",
   "execution_count": 56,
   "id": "6fee64ef",
   "metadata": {},
   "outputs": [
    {
     "data": {
      "text/plain": [
       "0    549\n",
       "1    342\n",
       "Name: Survived, dtype: int64"
      ]
     },
     "execution_count": 56,
     "metadata": {},
     "output_type": "execute_result"
    }
   ],
   "source": [
    "y.value_counts()   #our target variable contain diffrent value.for doind equal we use smote method"
   ]
  },
  {
   "cell_type": "code",
   "execution_count": 57,
   "id": "fb21de29",
   "metadata": {},
   "outputs": [],
   "source": [
    "from imblearn.over_sampling import SMOTE"
   ]
  },
  {
   "cell_type": "code",
   "execution_count": 58,
   "id": "e63d56b6",
   "metadata": {},
   "outputs": [],
   "source": [
    "sm=SMOTE()\n",
    "x,y=sm.fit_resample(x,y)"
   ]
  },
  {
   "cell_type": "code",
   "execution_count": 59,
   "id": "ec1a9f24",
   "metadata": {},
   "outputs": [
    {
     "data": {
      "text/plain": [
       "Pclass  Sex  Age        SibSp  Parch  Ticket  Fare       Cabin  Embarked\n",
       "3       1    28.000000  8      2      568     69.550000  47     2           4\n",
       "                        0      0      80      56.495800  47     2           4\n",
       "        0    28.000000  3      1      488     25.466700  47     2           3\n",
       "1       0    24.000000  0      0      581     69.300000  24     0           3\n",
       "2       1    28.000000  0      0      135     0.000000   47     2           3\n",
       "                                                                           ..\n",
       "        0    27.225867  0      0      154     31.645268  47     2           1\n",
       "             27.455326  0      0      82      62.583678  47     2           1\n",
       "             27.483004  0      0      574     19.864033  47     0           1\n",
       "             27.796214  0      1      115     25.067929  47     2           1\n",
       "3       1    74.000000  0      0      317     7.775000   47     2           1\n",
       "Length: 1078, dtype: int64"
      ]
     },
     "execution_count": 59,
     "metadata": {},
     "output_type": "execute_result"
    }
   ],
   "source": [
    "x.value_counts()"
   ]
  },
  {
   "cell_type": "code",
   "execution_count": 60,
   "id": "60e2f00e",
   "metadata": {},
   "outputs": [
    {
     "data": {
      "text/plain": [
       "0    549\n",
       "1    549\n",
       "Name: Survived, dtype: int64"
      ]
     },
     "execution_count": 60,
     "metadata": {},
     "output_type": "execute_result"
    }
   ],
   "source": [
    "y.value_counts()"
   ]
  },
  {
   "cell_type": "markdown",
   "id": "592afe2e",
   "metadata": {},
   "source": [
    "# Standard Scaler"
   ]
  },
  {
   "cell_type": "code",
   "execution_count": 61,
   "id": "6dbc0aea",
   "metadata": {},
   "outputs": [],
   "source": [
    "from sklearn.preprocessing import StandardScaler"
   ]
  },
  {
   "cell_type": "code",
   "execution_count": 62,
   "id": "464ced63",
   "metadata": {},
   "outputs": [],
   "source": [
    "st=StandardScaler()"
   ]
  },
  {
   "cell_type": "code",
   "execution_count": 63,
   "id": "708db7fe",
   "metadata": {},
   "outputs": [
    {
     "data": {
      "text/plain": [
       "array([[ 0.90502692,  0.92621165, -0.5523986 , ..., -0.53114091,\n",
       "        -0.29430503,  0.65397713],\n",
       "       [-1.45535207, -1.07966683,  0.69603695, ...,  0.71271149,\n",
       "         1.12943418, -1.7967631 ],\n",
       "       [ 0.90502692, -1.07966683, -0.24028971, ..., -0.51802898,\n",
       "        -0.29430503,  0.65397713],\n",
       "       ...,\n",
       "       [-0.27516258, -1.07966683, -0.39753645, ..., -0.53291237,\n",
       "        -0.29430503,  0.65397713],\n",
       "       [ 0.90502692, -1.07966683, -0.08423527, ..., -0.51891865,\n",
       "        -0.29430503, -0.57139299],\n",
       "       [-0.27516258, -1.07966683, -0.56249845, ..., -0.41061931,\n",
       "         1.12943418, -1.7967631 ]])"
      ]
     },
     "execution_count": 63,
     "metadata": {},
     "output_type": "execute_result"
    }
   ],
   "source": [
    "x=st.fit_transform(x)\n",
    "x"
   ]
  },
  {
   "cell_type": "code",
   "execution_count": 64,
   "id": "6fa52663",
   "metadata": {},
   "outputs": [
    {
     "data": {
      "text/plain": [
       "(1098, 9)"
      ]
     },
     "execution_count": 64,
     "metadata": {},
     "output_type": "execute_result"
    }
   ],
   "source": [
    "x.shape"
   ]
  },
  {
   "cell_type": "code",
   "execution_count": 65,
   "id": "e41d3734",
   "metadata": {},
   "outputs": [
    {
     "data": {
      "text/plain": [
       "(1098,)"
      ]
     },
     "execution_count": 65,
     "metadata": {},
     "output_type": "execute_result"
    }
   ],
   "source": [
    "y.shape"
   ]
  },
  {
   "cell_type": "markdown",
   "id": "eb810ede",
   "metadata": {},
   "source": [
    "# Apply model fro prediction by best model"
   ]
  },
  {
   "cell_type": "code",
   "execution_count": 66,
   "id": "9ae0fab2",
   "metadata": {},
   "outputs": [],
   "source": [
    "LO= LogisticRegression()\n",
    "GN=GaussianNB()\n",
    "MN=MultinomialNB()\n",
    "DT= DecisionTreeClassifier()\n",
    "SV= SVC()\n",
    "KN= KNeighborsClassifier()\n",
    "RF=RandomForestClassifier()\n",
    "AD=AdaBoostClassifier()\n",
    "GB=GradientBoostingClassifier()"
   ]
  },
  {
   "cell_type": "markdown",
   "id": "18d9d255",
   "metadata": {},
   "source": [
    "# MODEL-LOGISTIC REGRESSSION"
   ]
  },
  {
   "cell_type": "code",
   "execution_count": 67,
   "id": "6ea49b48",
   "metadata": {},
   "outputs": [
    {
     "name": "stdout",
     "output_type": "stream",
     "text": [
      "Accuracy 0.8181818181818182 Random_state at 0\n",
      "Max accuracy 0.8181818181818182 Max_Random_state 0\n",
      "\n",
      "\n",
      "Accuracy 0.8181818181818182 Random_state at 1\n",
      "Accuracy 0.8454545454545455 Random_state at 2\n",
      "Max accuracy 0.8454545454545455 Max_Random_state 2\n",
      "\n",
      "\n",
      "Accuracy 0.8272727272727273 Random_state at 3\n",
      "Accuracy 0.85 Random_state at 4\n",
      "Max accuracy 0.85 Max_Random_state 4\n",
      "\n",
      "\n",
      "Accuracy 0.8409090909090909 Random_state at 5\n",
      "Accuracy 0.8681818181818182 Random_state at 6\n",
      "Max accuracy 0.8681818181818182 Max_Random_state 6\n",
      "\n",
      "\n",
      "Accuracy 0.7863636363636364 Random_state at 7\n",
      "Accuracy 0.8136363636363636 Random_state at 8\n",
      "Accuracy 0.85 Random_state at 9\n",
      "Accuracy 0.85 Random_state at 10\n",
      "Accuracy 0.8272727272727273 Random_state at 11\n",
      "Accuracy 0.8227272727272728 Random_state at 12\n",
      "Accuracy 0.8181818181818182 Random_state at 13\n",
      "Accuracy 0.8090909090909091 Random_state at 14\n",
      "Accuracy 0.8136363636363636 Random_state at 15\n",
      "Accuracy 0.8409090909090909 Random_state at 16\n",
      "Accuracy 0.8318181818181818 Random_state at 17\n",
      "Accuracy 0.8454545454545455 Random_state at 18\n",
      "Accuracy 0.8045454545454546 Random_state at 19\n"
     ]
    }
   ],
   "source": [
    "maxAcc=0      #maximum accuracy\n",
    "maxRand=0\n",
    "\n",
    "\n",
    "for i in range(0,20):\n",
    "    x_train,x_test,y_train,y_test=train_test_split(x,y,test_size=0.20,random_state=i)\n",
    "    LO.fit(x_train,y_train)\n",
    "    pred_test=LO.predict(x_test)\n",
    "    Accuracy=accuracy_score(y_test,pred_test)\n",
    "    print('Accuracy', Accuracy,'Random_state at',i )\n",
    "    \n",
    "    if Accuracy>maxAcc:\n",
    "        maxAcc=Accuracy\n",
    "        maxRand=i\n",
    "        print('Max accuracy',maxAcc,'Max_Random_state',i)\n",
    "        print('\\n')"
   ]
  },
  {
   "cell_type": "raw",
   "id": "9d41e389",
   "metadata": {},
   "source": [
    "My max accuracy 86.81% at random state 6"
   ]
  },
  {
   "cell_type": "code",
   "execution_count": 68,
   "id": "5d01fbdf",
   "metadata": {},
   "outputs": [
    {
     "name": "stdout",
     "output_type": "stream",
     "text": [
      "Confusion Matrix : [[98 17]\n",
      " [12 93]]\n",
      "Classification Report :               precision    recall  f1-score   support\n",
      "\n",
      "           0       0.89      0.85      0.87       115\n",
      "           1       0.85      0.89      0.87       105\n",
      "\n",
      "    accuracy                           0.87       220\n",
      "   macro avg       0.87      0.87      0.87       220\n",
      "weighted avg       0.87      0.87      0.87       220\n",
      "\n",
      "Accuracy Score  : 86.81818181818181\n",
      "Dataset Score : 82.11845102505694\n"
     ]
    }
   ],
   "source": [
    "x_train,x_test,y_train,y_test=train_test_split(x,y,test_size=0.20,random_state=6)\n",
    "LO.fit(x_train,y_train)\n",
    "pred_test=LO.predict(x_test)\n",
    "print(f\"Confusion Matrix : {confusion_matrix(y_test,pred_test)}\")\n",
    "print(f\"Classification Report : {classification_report(y_test,pred_test)}\")\n",
    "print(f\"Accuracy Score  : {(accuracy_score(y_test,pred_test)*100)}\")\n",
    "print(f\"Dataset Score : {(LO.score(x_train,y_train))*100}\")"
   ]
  },
  {
   "cell_type": "raw",
   "id": "fe9572a0",
   "metadata": {},
   "source": [
    "Accuracy score og Logistic regression is 86.81%\n",
    "Dataset working with this regression is 82.11%\n",
    "By classification report chances of not saving people is only 89% and chances is 85%\n",
    "Total Avg is only 87%"
   ]
  },
  {
   "cell_type": "markdown",
   "id": "922f22fa",
   "metadata": {},
   "source": [
    "# MODEL-GAUSSIAN NB"
   ]
  },
  {
   "cell_type": "code",
   "execution_count": 69,
   "id": "88ceddd3",
   "metadata": {},
   "outputs": [
    {
     "name": "stdout",
     "output_type": "stream",
     "text": [
      "Accuracy 0.8181818181818182 Random_state at 0\n",
      "Max accuracy 0.8181818181818182 Max_Random_state 0\n",
      "\n",
      "\n",
      "Accuracy 0.7636363636363637 Random_state at 1\n",
      "Accuracy 0.85 Random_state at 2\n",
      "Max accuracy 0.85 Max_Random_state 2\n",
      "\n",
      "\n",
      "Accuracy 0.8045454545454546 Random_state at 3\n",
      "Accuracy 0.8363636363636363 Random_state at 4\n",
      "Accuracy 0.8363636363636363 Random_state at 5\n",
      "Accuracy 0.85 Random_state at 6\n",
      "Accuracy 0.7772727272727272 Random_state at 7\n",
      "Accuracy 0.7863636363636364 Random_state at 8\n",
      "Accuracy 0.8409090909090909 Random_state at 9\n",
      "Accuracy 0.8363636363636363 Random_state at 10\n",
      "Accuracy 0.8272727272727273 Random_state at 11\n",
      "Accuracy 0.8181818181818182 Random_state at 12\n",
      "Accuracy 0.8272727272727273 Random_state at 13\n",
      "Accuracy 0.8363636363636363 Random_state at 14\n",
      "Accuracy 0.8318181818181818 Random_state at 15\n",
      "Accuracy 0.8318181818181818 Random_state at 16\n",
      "Accuracy 0.8318181818181818 Random_state at 17\n",
      "Accuracy 0.8318181818181818 Random_state at 18\n",
      "Accuracy 0.7909090909090909 Random_state at 19\n"
     ]
    }
   ],
   "source": [
    "maxAcc=0      #maximum accuracy\n",
    "maxRand=0\n",
    "\n",
    "\n",
    "for i in range(0,20):\n",
    "    x_train,x_test,y_train,y_test=train_test_split(x,y,test_size=0.20,random_state=i)\n",
    "    GN.fit(x_train,y_train)\n",
    "    pred_test=GN.predict(x_test)\n",
    "    Accuracy=accuracy_score(y_test,pred_test)\n",
    "    print('Accuracy', Accuracy,'Random_state at',i )\n",
    "    \n",
    "    if Accuracy>maxAcc:\n",
    "        maxAcc=Accuracy\n",
    "        maxRand=i\n",
    "        print('Max accuracy',maxAcc,'Max_Random_state',i)\n",
    "        print('\\n')"
   ]
  },
  {
   "cell_type": "raw",
   "id": "3bedeb1f",
   "metadata": {},
   "source": [
    "BY GaussianNB give max accuracy is 85.0% at random state 6"
   ]
  },
  {
   "cell_type": "code",
   "execution_count": 70,
   "id": "7c482af2",
   "metadata": {},
   "outputs": [
    {
     "name": "stdout",
     "output_type": "stream",
     "text": [
      "Confusion Matrix : [[92 23]\n",
      " [10 95]]\n",
      "Classification Report :               precision    recall  f1-score   support\n",
      "\n",
      "           0       0.90      0.80      0.85       115\n",
      "           1       0.81      0.90      0.85       105\n",
      "\n",
      "    accuracy                           0.85       220\n",
      "   macro avg       0.85      0.85      0.85       220\n",
      "weighted avg       0.86      0.85      0.85       220\n",
      "\n",
      "Accuracy Score  : 85.0\n",
      "Dataset Score : 80.6378132118451\n"
     ]
    }
   ],
   "source": [
    "x_train,x_test,y_train,y_test=train_test_split(x,y,test_size=0.20,random_state=6)\n",
    "GN.fit(x_train,y_train)\n",
    "pred_test=GN.predict(x_test)\n",
    "print(f\"Confusion Matrix : {confusion_matrix(y_test,pred_test)}\")\n",
    "print(f\"Classification Report : {classification_report(y_test,pred_test)}\")\n",
    "print(f\"Accuracy Score  : {(accuracy_score(y_test,pred_test)*100)}\")\n",
    "print(f\"Dataset Score : {(GN.score(x_train,y_train))*100}\")"
   ]
  },
  {
   "cell_type": "raw",
   "id": "347f03b8",
   "metadata": {},
   "source": [
    "Accuracy score og GaussianNB classifier is 85.0%\n",
    "Dataset working with this model is only 80.63%\n",
    "By classification report chances of not saving people is only 90% and chances is 81%\n",
    "Total Avg is only 85%"
   ]
  },
  {
   "cell_type": "markdown",
   "id": "2fe8e1bb",
   "metadata": {},
   "source": [
    "# MODEL-DECISION TREE REGRESSOR"
   ]
  },
  {
   "cell_type": "code",
   "execution_count": 71,
   "id": "25b05793",
   "metadata": {},
   "outputs": [
    {
     "name": "stdout",
     "output_type": "stream",
     "text": [
      "Accuracy 0.8454545454545455 Random_state at 0\n",
      "Max accuracy 0.8454545454545455 Max_Random_state 0\n",
      "\n",
      "\n",
      "Accuracy 0.8 Random_state at 1\n",
      "Accuracy 0.8909090909090909 Random_state at 2\n",
      "Max accuracy 0.8909090909090909 Max_Random_state 2\n",
      "\n",
      "\n",
      "Accuracy 0.8227272727272728 Random_state at 3\n",
      "Accuracy 0.8409090909090909 Random_state at 4\n",
      "Accuracy 0.8181818181818182 Random_state at 5\n",
      "Accuracy 0.7863636363636364 Random_state at 6\n",
      "Accuracy 0.8363636363636363 Random_state at 7\n",
      "Accuracy 0.8045454545454546 Random_state at 8\n",
      "Accuracy 0.8136363636363636 Random_state at 9\n",
      "Accuracy 0.8909090909090909 Random_state at 10\n",
      "Accuracy 0.8045454545454546 Random_state at 11\n",
      "Accuracy 0.8090909090909091 Random_state at 12\n",
      "Accuracy 0.7545454545454545 Random_state at 13\n",
      "Accuracy 0.8181818181818182 Random_state at 14\n",
      "Accuracy 0.8272727272727273 Random_state at 15\n",
      "Accuracy 0.8363636363636363 Random_state at 16\n",
      "Accuracy 0.8136363636363636 Random_state at 17\n",
      "Accuracy 0.7954545454545454 Random_state at 18\n",
      "Accuracy 0.7954545454545454 Random_state at 19\n"
     ]
    }
   ],
   "source": [
    "maxAcc=0      #maximum accuracy\n",
    "maxRand=0\n",
    "\n",
    "\n",
    "for i in range(0,20):\n",
    "    x_train,x_test,y_train,y_test=train_test_split(x,y,test_size=0.20,random_state=i)\n",
    "    DT.fit(x_train,y_train)\n",
    "    pred_test=DT.predict(x_test)\n",
    "    Accuracy=accuracy_score(y_test,pred_test)\n",
    "    print('Accuracy', Accuracy,'Random_state at',i )\n",
    "    \n",
    "    if Accuracy>maxAcc:\n",
    "        maxAcc=Accuracy\n",
    "        maxRand=i\n",
    "        print('Max accuracy',maxAcc,'Max_Random_state',i)\n",
    "        print('\\n')"
   ]
  },
  {
   "cell_type": "raw",
   "id": "3dad786c",
   "metadata": {},
   "source": [
    "BY Decisiontree regressor give max accuracy is 89.09% at random state 10"
   ]
  },
  {
   "cell_type": "code",
   "execution_count": 72,
   "id": "26a91f23",
   "metadata": {},
   "outputs": [
    {
     "name": "stdout",
     "output_type": "stream",
     "text": [
      "Confusion Matrix : [[ 80  16]\n",
      " [ 10 114]]\n",
      "Classification Report :               precision    recall  f1-score   support\n",
      "\n",
      "           0       0.89      0.83      0.86        96\n",
      "           1       0.88      0.92      0.90       124\n",
      "\n",
      "    accuracy                           0.88       220\n",
      "   macro avg       0.88      0.88      0.88       220\n",
      "weighted avg       0.88      0.88      0.88       220\n",
      "\n",
      "Accuracy Score  : 88.18181818181819\n",
      "Dataset Score : 99.88610478359908\n"
     ]
    }
   ],
   "source": [
    "x_train,x_test,y_train,y_test=train_test_split(x,y,test_size=0.20,random_state=10)\n",
    "DT.fit(x_train,y_train)\n",
    "pred_test=DT.predict(x_test)\n",
    "print(f\"Confusion Matrix : {confusion_matrix(y_test,pred_test)}\")\n",
    "print(f\"Classification Report : {classification_report(y_test,pred_test)}\")\n",
    "print(f\"Accuracy Score  : {(accuracy_score(y_test,pred_test)*100)}\")\n",
    "print(f\"Dataset Score : {(DT.score(x_train,y_train))*100}\")"
   ]
  },
  {
   "cell_type": "raw",
   "id": "3ec68277",
   "metadata": {},
   "source": [
    "Accuracy score of Decision tree classifier is 88.18%\n",
    "Dataset working with this model is only 99.88%\n",
    "By classification report chances of not saving people is only 89% and chances is 88%\n",
    "Total Avg is only 88%"
   ]
  },
  {
   "cell_type": "markdown",
   "id": "3c02c4e8",
   "metadata": {},
   "source": [
    "# MODEL-SUPPORT VECTOR CLASSIFIER"
   ]
  },
  {
   "cell_type": "code",
   "execution_count": 73,
   "id": "d5bfac0d",
   "metadata": {},
   "outputs": [
    {
     "name": "stdout",
     "output_type": "stream",
     "text": [
      "Accuracy 0.8590909090909091 Random_state at 0\n",
      "Max accuracy 0.8590909090909091 Max_Random_state 0\n",
      "\n",
      "\n",
      "Accuracy 0.8318181818181818 Random_state at 1\n",
      "Accuracy 0.8590909090909091 Random_state at 2\n",
      "Accuracy 0.8772727272727273 Random_state at 3\n",
      "Max accuracy 0.8772727272727273 Max_Random_state 3\n",
      "\n",
      "\n",
      "Accuracy 0.8727272727272727 Random_state at 4\n",
      "Accuracy 0.8681818181818182 Random_state at 5\n",
      "Accuracy 0.8545454545454545 Random_state at 6\n",
      "Accuracy 0.8 Random_state at 7\n",
      "Accuracy 0.8272727272727273 Random_state at 8\n",
      "Accuracy 0.8772727272727273 Random_state at 9\n",
      "Accuracy 0.8863636363636364 Random_state at 10\n",
      "Max accuracy 0.8863636363636364 Max_Random_state 10\n",
      "\n",
      "\n",
      "Accuracy 0.8318181818181818 Random_state at 11\n",
      "Accuracy 0.8363636363636363 Random_state at 12\n",
      "Accuracy 0.8409090909090909 Random_state at 13\n",
      "Accuracy 0.8409090909090909 Random_state at 14\n",
      "Accuracy 0.8454545454545455 Random_state at 15\n",
      "Accuracy 0.8454545454545455 Random_state at 16\n",
      "Accuracy 0.8454545454545455 Random_state at 17\n",
      "Accuracy 0.8590909090909091 Random_state at 18\n",
      "Accuracy 0.8090909090909091 Random_state at 19\n"
     ]
    }
   ],
   "source": [
    "maxAcc=0      #maximum accuracy\n",
    "maxRand=0\n",
    "\n",
    "\n",
    "for i in range(0,20):\n",
    "    x_train,x_test,y_train,y_test=train_test_split(x,y,test_size=0.20,random_state=i)\n",
    "    SV.fit(x_train,y_train)\n",
    "    pred_test=SV.predict(x_test)\n",
    "    Accuracy=accuracy_score(y_test,pred_test)\n",
    "    print('Accuracy', Accuracy,'Random_state at',i )\n",
    "    \n",
    "    if Accuracy>maxAcc:\n",
    "        maxAcc=Accuracy\n",
    "        maxRand=i\n",
    "        print('Max accuracy',maxAcc,'Max_Random_state',i)\n",
    "        print('\\n')"
   ]
  },
  {
   "cell_type": "raw",
   "id": "dbb05278",
   "metadata": {},
   "source": [
    "BY  Support vector classifier give max accuracy is 88.63% at random state 10"
   ]
  },
  {
   "cell_type": "code",
   "execution_count": 103,
   "id": "a6852ede",
   "metadata": {},
   "outputs": [
    {
     "name": "stdout",
     "output_type": "stream",
     "text": [
      "Confusion Matrix : [[ 89   7]\n",
      " [ 18 106]]\n",
      "Classification Report :               precision    recall  f1-score   support\n",
      "\n",
      "           0       0.83      0.93      0.88        96\n",
      "           1       0.94      0.85      0.89       124\n",
      "\n",
      "    accuracy                           0.89       220\n",
      "   macro avg       0.88      0.89      0.89       220\n",
      "weighted avg       0.89      0.89      0.89       220\n",
      "\n",
      "Accuracy Score  : 88.63636363636364\n",
      "Dataset Score : 85.7630979498861\n"
     ]
    }
   ],
   "source": [
    "x_train,x_test,y_train,y_test=train_test_split(x,y,test_size=0.20,random_state=10)\n",
    "SV.fit(x_train,y_train)\n",
    "pred_test=SV.predict(x_test)\n",
    "print(f\"Confusion Matrix : {confusion_matrix(y_test,pred_test)}\")\n",
    "print(f\"Classification Report : {classification_report(y_test,pred_test)}\")\n",
    "print(f\"Accuracy Score  : {(accuracy_score(y_test,pred_test)*100)}\")\n",
    "print(f\"Dataset Score : {(SV.score(x_train,y_train))*100}\")"
   ]
  },
  {
   "cell_type": "raw",
   "id": "8fb46375",
   "metadata": {},
   "source": [
    "Accuracy score of Support vector classifier is 88.63%\n",
    "Dataset working with this model is only 85.76%\n",
    "By classification report chances of saving people is only 83% and chances is 94%\n",
    "Total Avg is only 88%"
   ]
  },
  {
   "cell_type": "markdown",
   "id": "37698249",
   "metadata": {},
   "source": [
    "# MODEL-KNEIGHBORS CLASSIFIER"
   ]
  },
  {
   "cell_type": "code",
   "execution_count": 75,
   "id": "041e0bc2",
   "metadata": {},
   "outputs": [
    {
     "name": "stdout",
     "output_type": "stream",
     "text": [
      "Accuracy 0.8272727272727273 Random_state at 0\n",
      "Max accuracy 0.8272727272727273 Max_Random_state 0\n",
      "\n",
      "\n",
      "Accuracy 0.8090909090909091 Random_state at 1\n",
      "Accuracy 0.85 Random_state at 2\n",
      "Max accuracy 0.85 Max_Random_state 2\n",
      "\n",
      "\n",
      "Accuracy 0.8272727272727273 Random_state at 3\n",
      "Accuracy 0.8681818181818182 Random_state at 4\n",
      "Max accuracy 0.8681818181818182 Max_Random_state 4\n",
      "\n",
      "\n",
      "Accuracy 0.8454545454545455 Random_state at 5\n",
      "Accuracy 0.8272727272727273 Random_state at 6\n",
      "Accuracy 0.8090909090909091 Random_state at 7\n",
      "Accuracy 0.8181818181818182 Random_state at 8\n",
      "Accuracy 0.85 Random_state at 9\n",
      "Accuracy 0.9 Random_state at 10\n",
      "Max accuracy 0.9 Max_Random_state 10\n",
      "\n",
      "\n",
      "Accuracy 0.8090909090909091 Random_state at 11\n",
      "Accuracy 0.8181818181818182 Random_state at 12\n",
      "Accuracy 0.8227272727272728 Random_state at 13\n",
      "Accuracy 0.8136363636363636 Random_state at 14\n",
      "Accuracy 0.8363636363636363 Random_state at 15\n",
      "Accuracy 0.8318181818181818 Random_state at 16\n",
      "Accuracy 0.8454545454545455 Random_state at 17\n",
      "Accuracy 0.8636363636363636 Random_state at 18\n",
      "Accuracy 0.8045454545454546 Random_state at 19\n"
     ]
    }
   ],
   "source": [
    "maxAcc=0      #maximum accuracy\n",
    "maxRand=0\n",
    "\n",
    "\n",
    "for i in range(0,20):\n",
    "    x_train,x_test,y_train,y_test=train_test_split(x,y,test_size=0.20,random_state=i)\n",
    "    KN.fit(x_train,y_train)\n",
    "    pred_test=KN.predict(x_test)\n",
    "    Accuracy=accuracy_score(y_test,pred_test)\n",
    "    print('Accuracy', Accuracy,'Random_state at',i )\n",
    "    \n",
    "    if Accuracy>maxAcc:\n",
    "        maxAcc=Accuracy\n",
    "        maxRand=i\n",
    "        print('Max accuracy',maxAcc,'Max_Random_state',i)\n",
    "        print('\\n')"
   ]
  },
  {
   "cell_type": "raw",
   "id": "d4396a97",
   "metadata": {},
   "source": [
    "BY Kneighbors classifier give max accuracy is 90% at random state 10"
   ]
  },
  {
   "cell_type": "code",
   "execution_count": 76,
   "id": "d0c46da4",
   "metadata": {},
   "outputs": [
    {
     "name": "stdout",
     "output_type": "stream",
     "text": [
      "Confusion Matrix : [[ 91   5]\n",
      " [ 17 107]]\n",
      "Classification Report :               precision    recall  f1-score   support\n",
      "\n",
      "           0       0.84      0.95      0.89        96\n",
      "           1       0.96      0.86      0.91       124\n",
      "\n",
      "    accuracy                           0.90       220\n",
      "   macro avg       0.90      0.91      0.90       220\n",
      "weighted avg       0.91      0.90      0.90       220\n",
      "\n",
      "Accuracy Score  : 90.0\n",
      "Dataset Score : 86.56036446469248\n"
     ]
    }
   ],
   "source": [
    "x_train,x_test,y_train,y_test=train_test_split(x,y,test_size=0.20,random_state=10)\n",
    "KN.fit(x_train,y_train)\n",
    "pred_test=KN.predict(x_test)\n",
    "print(f\"Confusion Matrix : {confusion_matrix(y_test,pred_test)}\")\n",
    "print(f\"Classification Report : {classification_report(y_test,pred_test)}\")\n",
    "print(f\"Accuracy Score  : {(accuracy_score(y_test,pred_test)*100)}\")\n",
    "print(f\"Dataset Score : {(KN.score(x_train,y_train))*100}\")"
   ]
  },
  {
   "cell_type": "raw",
   "id": "8cbe497f",
   "metadata": {},
   "source": [
    "Accuracy score oF Kneighbors classifier is 90.0%\n",
    "Dataset working with this model is only 86.56%\n",
    "By classification report chances of not saving people is only 84% and chances is 96%\n",
    "Total Avg is only 90%"
   ]
  },
  {
   "cell_type": "markdown",
   "id": "078ebf1a",
   "metadata": {},
   "source": [
    "# MODEL-RANDOM FOREST CLASSIFIER"
   ]
  },
  {
   "cell_type": "code",
   "execution_count": 77,
   "id": "6ef4ed75",
   "metadata": {},
   "outputs": [
    {
     "name": "stdout",
     "output_type": "stream",
     "text": [
      "Accuracy 0.8590909090909091 Random_state at 0\n",
      "Max accuracy 0.8590909090909091 Max_Random_state 0\n",
      "\n",
      "\n",
      "Accuracy 0.8727272727272727 Random_state at 1\n",
      "Max accuracy 0.8727272727272727 Max_Random_state 1\n",
      "\n",
      "\n",
      "Accuracy 0.8681818181818182 Random_state at 2\n",
      "Accuracy 0.8818181818181818 Random_state at 3\n",
      "Max accuracy 0.8818181818181818 Max_Random_state 3\n",
      "\n",
      "\n",
      "Accuracy 0.8863636363636364 Random_state at 4\n",
      "Max accuracy 0.8863636363636364 Max_Random_state 4\n",
      "\n",
      "\n",
      "Accuracy 0.85 Random_state at 5\n",
      "Accuracy 0.8545454545454545 Random_state at 6\n",
      "Accuracy 0.8363636363636363 Random_state at 7\n",
      "Accuracy 0.8363636363636363 Random_state at 8\n",
      "Accuracy 0.8818181818181818 Random_state at 9\n",
      "Accuracy 0.9181818181818182 Random_state at 10\n",
      "Max accuracy 0.9181818181818182 Max_Random_state 10\n",
      "\n",
      "\n",
      "Accuracy 0.8272727272727273 Random_state at 11\n",
      "Accuracy 0.8636363636363636 Random_state at 12\n",
      "Accuracy 0.8863636363636364 Random_state at 13\n",
      "Accuracy 0.8772727272727273 Random_state at 14\n",
      "Accuracy 0.85 Random_state at 15\n",
      "Accuracy 0.8545454545454545 Random_state at 16\n",
      "Accuracy 0.85 Random_state at 17\n",
      "Accuracy 0.9045454545454545 Random_state at 18\n",
      "Accuracy 0.8636363636363636 Random_state at 19\n"
     ]
    }
   ],
   "source": [
    "maxAcc=0      #maximum accuracy\n",
    "maxRand=0\n",
    "\n",
    "\n",
    "for i in range(0,20):\n",
    "    x_train,x_test,y_train,y_test=train_test_split(x,y,test_size=0.20,random_state=i)\n",
    "    RF.fit(x_train,y_train)\n",
    "    pred_test=RF.predict(x_test)\n",
    "    Accuracy=accuracy_score(y_test,pred_test)\n",
    "    print('Accuracy', Accuracy,'Random_state at',i )\n",
    "    \n",
    "    if Accuracy>maxAcc:\n",
    "        maxAcc=Accuracy\n",
    "        maxRand=i\n",
    "        print('Max accuracy',maxAcc,'Max_Random_state',i)\n",
    "        print('\\n')"
   ]
  },
  {
   "cell_type": "raw",
   "id": "a3d65e89",
   "metadata": {},
   "source": [
    "BY Random forest classifier give max accuracy is 91.81% at random state 10"
   ]
  },
  {
   "cell_type": "code",
   "execution_count": 104,
   "id": "7e71c875",
   "metadata": {},
   "outputs": [
    {
     "name": "stdout",
     "output_type": "stream",
     "text": [
      "Confusion Matrix : [[ 90   6]\n",
      " [ 12 112]]\n",
      "Classification Report :               precision    recall  f1-score   support\n",
      "\n",
      "           0       0.88      0.94      0.91        96\n",
      "           1       0.95      0.90      0.93       124\n",
      "\n",
      "    accuracy                           0.92       220\n",
      "   macro avg       0.92      0.92      0.92       220\n",
      "weighted avg       0.92      0.92      0.92       220\n",
      "\n",
      "Accuracy Score  : 91.81818181818183\n",
      "Dataset Score : 99.88610478359908\n"
     ]
    }
   ],
   "source": [
    "x_train,x_test,y_train,y_test=train_test_split(x,y,test_size=0.20,random_state=10)\n",
    "RF.fit(x_train,y_train)\n",
    "pred_test=RF.predict(x_test)\n",
    "print(f\"Confusion Matrix : {confusion_matrix(y_test,pred_test)}\")\n",
    "print(f\"Classification Report : {classification_report(y_test,pred_test)}\")\n",
    "print(f\"Accuracy Score  : {(accuracy_score(y_test,pred_test)*100)}\")\n",
    "print(f\"Dataset Score : {(RF.score(x_train,y_train))*100}\")"
   ]
  },
  {
   "cell_type": "raw",
   "id": "460196f4",
   "metadata": {},
   "source": [
    "Accuracy score oF Random forest classifier is 91.81%\n",
    "Dataset working with this model is only 99.88%\n",
    "By classification report chances of saving people is only 88% and chances is 95%\n",
    "Total Avg is only 92%"
   ]
  },
  {
   "cell_type": "markdown",
   "id": "62cee208",
   "metadata": {},
   "source": [
    "# MODEL-ADA BOOST CLASSIFIER"
   ]
  },
  {
   "cell_type": "code",
   "execution_count": 79,
   "id": "b1e80ec8",
   "metadata": {},
   "outputs": [
    {
     "name": "stdout",
     "output_type": "stream",
     "text": [
      "Accuracy 0.8454545454545455 Random_state at 0\n",
      "Max accuracy 0.8454545454545455 Max_Random_state 0\n",
      "\n",
      "\n",
      "Accuracy 0.8136363636363636 Random_state at 1\n",
      "Accuracy 0.8818181818181818 Random_state at 2\n",
      "Max accuracy 0.8818181818181818 Max_Random_state 2\n",
      "\n",
      "\n",
      "Accuracy 0.8409090909090909 Random_state at 3\n",
      "Accuracy 0.85 Random_state at 4\n",
      "Accuracy 0.8409090909090909 Random_state at 5\n",
      "Accuracy 0.8545454545454545 Random_state at 6\n",
      "Accuracy 0.7909090909090909 Random_state at 7\n",
      "Accuracy 0.8181818181818182 Random_state at 8\n",
      "Accuracy 0.8590909090909091 Random_state at 9\n",
      "Accuracy 0.8681818181818182 Random_state at 10\n",
      "Accuracy 0.8454545454545455 Random_state at 11\n",
      "Accuracy 0.8545454545454545 Random_state at 12\n",
      "Accuracy 0.8545454545454545 Random_state at 13\n",
      "Accuracy 0.8590909090909091 Random_state at 14\n",
      "Accuracy 0.8454545454545455 Random_state at 15\n",
      "Accuracy 0.8318181818181818 Random_state at 16\n",
      "Accuracy 0.8409090909090909 Random_state at 17\n",
      "Accuracy 0.8681818181818182 Random_state at 18\n",
      "Accuracy 0.8 Random_state at 19\n"
     ]
    }
   ],
   "source": [
    "maxAcc=0      #maximum accuracy\n",
    "maxRand=0\n",
    "\n",
    "\n",
    "for i in range(0,20):\n",
    "    x_train,x_test,y_train,y_test=train_test_split(x,y,test_size=0.20,random_state=i)\n",
    "    AD.fit(x_train,y_train)\n",
    "    pred_test=AD.predict(x_test)\n",
    "    Accuracy=accuracy_score(y_test,pred_test)\n",
    "    print('Accuracy', Accuracy,'Random_state at',i )\n",
    "    \n",
    "    if Accuracy>maxAcc:\n",
    "        maxAcc=Accuracy\n",
    "        maxRand=i\n",
    "        print('Max accuracy',maxAcc,'Max_Random_state',i)\n",
    "        print('\\n')"
   ]
  },
  {
   "cell_type": "raw",
   "id": "a4ce2a56",
   "metadata": {},
   "source": [
    "BY Ada boost classifier give max accuracy is 88.18% at random state 2"
   ]
  },
  {
   "cell_type": "code",
   "execution_count": 80,
   "id": "a9da64fd",
   "metadata": {},
   "outputs": [
    {
     "name": "stdout",
     "output_type": "stream",
     "text": [
      "Confusion Matrix : [[ 90  12]\n",
      " [ 14 104]]\n",
      "Classification Report :               precision    recall  f1-score   support\n",
      "\n",
      "           0       0.87      0.88      0.87       102\n",
      "           1       0.90      0.88      0.89       118\n",
      "\n",
      "    accuracy                           0.88       220\n",
      "   macro avg       0.88      0.88      0.88       220\n",
      "weighted avg       0.88      0.88      0.88       220\n",
      "\n",
      "Accuracy Score  : 88.18181818181819\n",
      "Dataset Score : 87.47152619589977\n"
     ]
    }
   ],
   "source": [
    "x_train,x_test,y_train,y_test=train_test_split(x,y,test_size=0.20,random_state=2)\n",
    "AD.fit(x_train,y_train)\n",
    "pred_test=AD.predict(x_test)\n",
    "print(f\"Confusion Matrix : {confusion_matrix(y_test,pred_test)}\")\n",
    "print(f\"Classification Report : {classification_report(y_test,pred_test)}\")\n",
    "print(f\"Accuracy Score  : {(accuracy_score(y_test,pred_test)*100)}\")\n",
    "print(f\"Dataset Score : {(AD.score(x_train,y_train))*100}\")"
   ]
  },
  {
   "cell_type": "raw",
   "id": "2425c680",
   "metadata": {},
   "source": [
    "Accuracy score oF Ada boost classifier is 88.18%\n",
    "Dataset working with this model is only 87.47%\n",
    "By classification report chances of saving people is only 87% and not chances is 90%\n",
    "Total Avg is only 88%"
   ]
  },
  {
   "cell_type": "markdown",
   "id": "0c5b834d",
   "metadata": {},
   "source": [
    "# MODEL-GRADIENT CLASSIFIER"
   ]
  },
  {
   "cell_type": "code",
   "execution_count": 81,
   "id": "370a2023",
   "metadata": {},
   "outputs": [
    {
     "name": "stdout",
     "output_type": "stream",
     "text": [
      "Accuracy 0.8590909090909091 Random_state at 0\n",
      "Max accuracy 0.8590909090909091 Max_Random_state 0\n",
      "\n",
      "\n",
      "Accuracy 0.8636363636363636 Random_state at 1\n",
      "Max accuracy 0.8636363636363636 Max_Random_state 1\n",
      "\n",
      "\n",
      "Accuracy 0.8818181818181818 Random_state at 2\n",
      "Max accuracy 0.8818181818181818 Max_Random_state 2\n",
      "\n",
      "\n",
      "Accuracy 0.8818181818181818 Random_state at 3\n",
      "Accuracy 0.8681818181818182 Random_state at 4\n",
      "Accuracy 0.8681818181818182 Random_state at 5\n",
      "Accuracy 0.8727272727272727 Random_state at 6\n",
      "Accuracy 0.8181818181818182 Random_state at 7\n",
      "Accuracy 0.8318181818181818 Random_state at 8\n",
      "Accuracy 0.8772727272727273 Random_state at 9\n",
      "Accuracy 0.9045454545454545 Random_state at 10\n",
      "Max accuracy 0.9045454545454545 Max_Random_state 10\n",
      "\n",
      "\n",
      "Accuracy 0.8590909090909091 Random_state at 11\n",
      "Accuracy 0.85 Random_state at 12\n",
      "Accuracy 0.8636363636363636 Random_state at 13\n",
      "Accuracy 0.8727272727272727 Random_state at 14\n",
      "Accuracy 0.8636363636363636 Random_state at 15\n",
      "Accuracy 0.8454545454545455 Random_state at 16\n",
      "Accuracy 0.85 Random_state at 17\n",
      "Accuracy 0.9 Random_state at 18\n",
      "Accuracy 0.85 Random_state at 19\n"
     ]
    }
   ],
   "source": [
    "maxAcc=0      #maximum accuracy\n",
    "maxRand=0\n",
    "\n",
    "for i in range(0,20):\n",
    "    x_train,x_test,y_train,y_test=train_test_split(x,y,test_size=0.20,random_state=i)\n",
    "    GB.fit(x_train,y_train)\n",
    "    pred_test=GB.predict(x_test)\n",
    "    Accuracy=accuracy_score(y_test,pred_test)\n",
    "    print('Accuracy', Accuracy,'Random_state at',i )\n",
    "    \n",
    "    if Accuracy>maxAcc:\n",
    "        maxAcc=Accuracy\n",
    "        maxRand=i\n",
    "        print('Max accuracy',maxAcc,'Max_Random_state',i)\n",
    "        print('\\n')"
   ]
  },
  {
   "cell_type": "raw",
   "id": "9d47118d",
   "metadata": {},
   "source": [
    "BY Gradient boosting classifier give max accuracy is 90.45% at random state 10"
   ]
  },
  {
   "cell_type": "code",
   "execution_count": 82,
   "id": "1d0b1aec",
   "metadata": {},
   "outputs": [
    {
     "name": "stdout",
     "output_type": "stream",
     "text": [
      "Confusion Matrix : [[ 88   8]\n",
      " [ 13 111]]\n",
      "Classification Report :               precision    recall  f1-score   support\n",
      "\n",
      "           0       0.87      0.92      0.89        96\n",
      "           1       0.93      0.90      0.91       124\n",
      "\n",
      "    accuracy                           0.90       220\n",
      "   macro avg       0.90      0.91      0.90       220\n",
      "weighted avg       0.91      0.90      0.90       220\n",
      "\n",
      "Accuracy Score  : 90.45454545454545\n",
      "Dataset Score : 91.34396355353076\n"
     ]
    }
   ],
   "source": [
    "x_train,x_test,y_train,y_test=train_test_split(x,y,test_size=0.20,random_state=10)\n",
    "GB.fit(x_train,y_train)\n",
    "pred_test=GB.predict(x_test)\n",
    "print(f\"Confusion Matrix : {confusion_matrix(y_test,pred_test)}\")\n",
    "print(f\"Classification Report : {classification_report(y_test,pred_test)}\")\n",
    "print(f\"Accuracy Score  : {(accuracy_score(y_test,pred_test)*100)}\")\n",
    "print(f\"Dataset Score : {(GB.score(x_train,y_train))*100}\")"
   ]
  },
  {
   "cell_type": "raw",
   "id": "6163ddfa",
   "metadata": {},
   "source": [
    "Accuracy score oF Gradient boosting classifier is 90.45%\n",
    "Dataset working with this model is only 91.34%\n",
    "By classification report chances of not saving people is only 87% and  chances is 93%\n",
    "Total Avg is only 90%"
   ]
  },
  {
   "cell_type": "markdown",
   "id": "a70b45b8",
   "metadata": {},
   "source": [
    "### Find accuracy of diffrent model by train_test_split method we get that forest boosting classifier gives highest acccuracy is 91.81%."
   ]
  },
  {
   "cell_type": "markdown",
   "id": "0ed04251",
   "metadata": {},
   "source": [
    "### With this model dataset working with highest accuracy is 99.88%. It gives highest avg 92%"
   ]
  },
  {
   "cell_type": "markdown",
   "id": "2c2ef13e",
   "metadata": {},
   "source": [
    "# Now apply another linear model for find best model-CROSS VALIDATION SCORE"
   ]
  },
  {
   "cell_type": "code",
   "execution_count": 83,
   "id": "32c7c990",
   "metadata": {},
   "outputs": [
    {
     "name": "stdout",
     "output_type": "stream",
     "text": [
      "At cross fold  CV 2,and the mean_score is:0.8224043715846994 and the test accuracy is 0.8636363636363636\n",
      "\n",
      "\n",
      "At cross fold  CV 3,and the mean_score is:0.8233151183970856 and the test accuracy is 0.8636363636363636\n",
      "\n",
      "\n",
      "At cross fold  CV 4,and the mean_score is:0.8252289316522894 and the test accuracy is 0.8636363636363636\n",
      "\n",
      "\n",
      "At cross fold  CV 5,and the mean_score is:0.82071398920714 and the test accuracy is 0.8636363636363636\n",
      "\n",
      "\n",
      "At cross fold  CV 6,and the mean_score is:0.8260473588342441 and the test accuracy is 0.8636363636363636\n",
      "\n",
      "\n",
      "At cross fold  CV 7,and the mean_score is:0.8242924803434358 and the test accuracy is 0.8636363636363636\n",
      "\n",
      "\n",
      "At cross fold  CV 8,and the mean_score is:0.8261067914947636 and the test accuracy is 0.8636363636363636\n",
      "\n",
      "\n",
      "At cross fold  CV 9,and the mean_score is:0.8269581056466302 and the test accuracy is 0.8636363636363636\n",
      "\n",
      "\n"
     ]
    }
   ],
   "source": [
    "pred_lo=LO.predict(x_test)\n",
    "for i in range(2,10):\n",
    "    test_accuracy=accuracy_score(y_test,pred_lo) \n",
    "    cv_score=cross_val_score(LO,x,y,cv=i)\n",
    "    Accuracy=cv_score.mean()\n",
    "    std_score=cv_score.std()\n",
    "    print(f'At cross fold  CV {i},and the mean_score is:{Accuracy} and the test accuracy is {test_accuracy}')\n",
    "    print('\\n')"
   ]
  },
  {
   "cell_type": "raw",
   "id": "d9efd07e",
   "metadata": {},
   "source": [
    "CV=9 Logistic regression give accuracy 82.69% with mean_score is 86.36%"
   ]
  },
  {
   "cell_type": "markdown",
   "id": "65db4880",
   "metadata": {},
   "source": [
    "PLOT ROC-AUC CURVE FOR LOGISTIC REGRESSION"
   ]
  },
  {
   "cell_type": "code",
   "execution_count": 84,
   "id": "1e73ff1a",
   "metadata": {},
   "outputs": [],
   "source": [
    "from sklearn.metrics import plot_roc_curve"
   ]
  },
  {
   "cell_type": "code",
   "execution_count": 85,
   "id": "673bd99a",
   "metadata": {},
   "outputs": [
    {
     "data": {
      "text/html": [
       "<style>#sk-container-id-1 {color: black;background-color: white;}#sk-container-id-1 pre{padding: 0;}#sk-container-id-1 div.sk-toggleable {background-color: white;}#sk-container-id-1 label.sk-toggleable__label {cursor: pointer;display: block;width: 100%;margin-bottom: 0;padding: 0.3em;box-sizing: border-box;text-align: center;}#sk-container-id-1 label.sk-toggleable__label-arrow:before {content: \"▸\";float: left;margin-right: 0.25em;color: #696969;}#sk-container-id-1 label.sk-toggleable__label-arrow:hover:before {color: black;}#sk-container-id-1 div.sk-estimator:hover label.sk-toggleable__label-arrow:before {color: black;}#sk-container-id-1 div.sk-toggleable__content {max-height: 0;max-width: 0;overflow: hidden;text-align: left;background-color: #f0f8ff;}#sk-container-id-1 div.sk-toggleable__content pre {margin: 0.2em;color: black;border-radius: 0.25em;background-color: #f0f8ff;}#sk-container-id-1 input.sk-toggleable__control:checked~div.sk-toggleable__content {max-height: 200px;max-width: 100%;overflow: auto;}#sk-container-id-1 input.sk-toggleable__control:checked~label.sk-toggleable__label-arrow:before {content: \"▾\";}#sk-container-id-1 div.sk-estimator input.sk-toggleable__control:checked~label.sk-toggleable__label {background-color: #d4ebff;}#sk-container-id-1 div.sk-label input.sk-toggleable__control:checked~label.sk-toggleable__label {background-color: #d4ebff;}#sk-container-id-1 input.sk-hidden--visually {border: 0;clip: rect(1px 1px 1px 1px);clip: rect(1px, 1px, 1px, 1px);height: 1px;margin: -1px;overflow: hidden;padding: 0;position: absolute;width: 1px;}#sk-container-id-1 div.sk-estimator {font-family: monospace;background-color: #f0f8ff;border: 1px dotted black;border-radius: 0.25em;box-sizing: border-box;margin-bottom: 0.5em;}#sk-container-id-1 div.sk-estimator:hover {background-color: #d4ebff;}#sk-container-id-1 div.sk-parallel-item::after {content: \"\";width: 100%;border-bottom: 1px solid gray;flex-grow: 1;}#sk-container-id-1 div.sk-label:hover label.sk-toggleable__label {background-color: #d4ebff;}#sk-container-id-1 div.sk-serial::before {content: \"\";position: absolute;border-left: 1px solid gray;box-sizing: border-box;top: 0;bottom: 0;left: 50%;z-index: 0;}#sk-container-id-1 div.sk-serial {display: flex;flex-direction: column;align-items: center;background-color: white;padding-right: 0.2em;padding-left: 0.2em;position: relative;}#sk-container-id-1 div.sk-item {position: relative;z-index: 1;}#sk-container-id-1 div.sk-parallel {display: flex;align-items: stretch;justify-content: center;background-color: white;position: relative;}#sk-container-id-1 div.sk-item::before, #sk-container-id-1 div.sk-parallel-item::before {content: \"\";position: absolute;border-left: 1px solid gray;box-sizing: border-box;top: 0;bottom: 0;left: 50%;z-index: -1;}#sk-container-id-1 div.sk-parallel-item {display: flex;flex-direction: column;z-index: 1;position: relative;background-color: white;}#sk-container-id-1 div.sk-parallel-item:first-child::after {align-self: flex-end;width: 50%;}#sk-container-id-1 div.sk-parallel-item:last-child::after {align-self: flex-start;width: 50%;}#sk-container-id-1 div.sk-parallel-item:only-child::after {width: 0;}#sk-container-id-1 div.sk-dashed-wrapped {border: 1px dashed gray;margin: 0 0.4em 0.5em 0.4em;box-sizing: border-box;padding-bottom: 0.4em;background-color: white;}#sk-container-id-1 div.sk-label label {font-family: monospace;font-weight: bold;display: inline-block;line-height: 1.2em;}#sk-container-id-1 div.sk-label-container {text-align: center;}#sk-container-id-1 div.sk-container {/* jupyter's `normalize.less` sets `[hidden] { display: none; }` but bootstrap.min.css set `[hidden] { display: none !important; }` so we also need the `!important` here to be able to override the default hidden behavior on the sphinx rendered scikit-learn.org. See: https://github.com/scikit-learn/scikit-learn/issues/21755 */display: inline-block !important;position: relative;}#sk-container-id-1 div.sk-text-repr-fallback {display: none;}</style><div id=\"sk-container-id-1\" class=\"sk-top-container\"><div class=\"sk-text-repr-fallback\"><pre>LogisticRegression()</pre><b>In a Jupyter environment, please rerun this cell to show the HTML representation or trust the notebook. <br />On GitHub, the HTML representation is unable to render, please try loading this page with nbviewer.org.</b></div><div class=\"sk-container\" hidden><div class=\"sk-item\"><div class=\"sk-estimator sk-toggleable\"><input class=\"sk-toggleable__control sk-hidden--visually\" id=\"sk-estimator-id-1\" type=\"checkbox\" checked><label for=\"sk-estimator-id-1\" class=\"sk-toggleable__label sk-toggleable__label-arrow\">LogisticRegression</label><div class=\"sk-toggleable__content\"><pre>LogisticRegression()</pre></div></div></div></div></div>"
      ],
      "text/plain": [
       "LogisticRegression()"
      ]
     },
     "execution_count": 85,
     "metadata": {},
     "output_type": "execute_result"
    }
   ],
   "source": [
    "LO.fit(x_train,y_train)"
   ]
  },
  {
   "cell_type": "code",
   "execution_count": 86,
   "id": "32b756e1",
   "metadata": {},
   "outputs": [
    {
     "data": {
      "image/png": "[encoded data removed]",
      "text/plain": [
       "<Figure size 432x288 with 1 Axes>"
      ]
     },
     "metadata": {
      "needs_background": "light"
     },
     "output_type": "display_data"
    }
   ],
   "source": [
    "plot_roc_curve(LO,x_test,y_test)\n",
    "plt.title('ROC AUC CURVE')\n",
    "plt.show()"
   ]
  },
  {
   "cell_type": "raw",
   "id": "d17e4108",
   "metadata": {},
   "source": [
    "By this it give 90% auc score for logistic regression and it show high imbalance"
   ]
  },
  {
   "cell_type": "markdown",
   "id": "e5520567",
   "metadata": {},
   "source": [
    "# MOdel-GAUSSIAN NB CV SCORE"
   ]
  },
  {
   "cell_type": "code",
   "execution_count": 87,
   "id": "a2b70123",
   "metadata": {},
   "outputs": [
    {
     "name": "stdout",
     "output_type": "stream",
     "text": [
      "At cross fold  CV 2,and the mean_score is:0.8123861566484518 and the test accuracy is 0.8363636363636363\n",
      "\n",
      "\n",
      "At cross fold  CV 3,and the mean_score is:0.8060109289617486 and the test accuracy is 0.8363636363636363\n",
      "\n",
      "\n",
      "At cross fold  CV 4,and the mean_score is:0.8151924353019243 and the test accuracy is 0.8363636363636363\n",
      "\n",
      "\n",
      "At cross fold  CV 5,and the mean_score is:0.8161643835616438 and the test accuracy is 0.8363636363636363\n",
      "\n",
      "\n",
      "At cross fold  CV 6,and the mean_score is:0.8169398907103825 and the test accuracy is 0.8363636363636363\n",
      "\n",
      "\n",
      "At cross fold  CV 7,and the mean_score is:0.8115302956067288 and the test accuracy is 0.8363636363636363\n",
      "\n",
      "\n",
      "At cross fold  CV 8,and the mean_score is:0.815210779646673 and the test accuracy is 0.8363636363636363\n",
      "\n",
      "\n",
      "At cross fold  CV 9,and the mean_score is:0.8160291438979964 and the test accuracy is 0.8363636363636363\n",
      "\n",
      "\n"
     ]
    }
   ],
   "source": [
    "pred_gn=GN.predict(x_test)\n",
    "for i in range(2,10):\n",
    "    test_accuracy=accuracy_score(y_test,pred_gn) \n",
    "    cv_score=cross_val_score(GN,x,y,cv=i)\n",
    "    Accuracy=cv_score.mean()\n",
    "    std_score=cv_score.std()\n",
    "    print(f'At cross fold  CV {i},and the mean_score is:{Accuracy} and the test accuracy is {test_accuracy}')\n",
    "    print('\\n')"
   ]
  },
  {
   "cell_type": "raw",
   "id": "0e246e92",
   "metadata": {},
   "source": [
    "CV=6 Gaussian nb give accuracy 81.69% with mean_score is 83.63%"
   ]
  },
  {
   "cell_type": "code",
   "execution_count": 88,
   "id": "12006e5b",
   "metadata": {},
   "outputs": [
    {
     "data": {
      "image/png": "[encoded data removed]",
      "text/plain": [
       "<Figure size 432x288 with 1 Axes>"
      ]
     },
     "metadata": {
      "needs_background": "light"
     },
     "output_type": "display_data"
    }
   ],
   "source": [
    "plot_roc_curve(GN,x_test,y_test)\n",
    "plt.title('ROC AUC CURVE')\n",
    "plt.show()"
   ]
  },
  {
   "cell_type": "raw",
   "id": "d88fa4c6",
   "metadata": {},
   "source": [
    "By this it give 88% auc score for gaussian nb and it show high imbalance"
   ]
  },
  {
   "cell_type": "markdown",
   "id": "3a9d4583",
   "metadata": {},
   "source": [
    "# CV SCORE-DECISION TREE CLASSIFIER"
   ]
  },
  {
   "cell_type": "code",
   "execution_count": 89,
   "id": "26951f44",
   "metadata": {},
   "outputs": [
    {
     "name": "stdout",
     "output_type": "stream",
     "text": [
      "At cross fold  CV 2,and the mean_score is:0.825136612021858 and the test accuracy is 0.8818181818181818\n",
      "\n",
      "\n",
      "At cross fold  CV 3,and the mean_score is:0.8151183970856102 and the test accuracy is 0.8818181818181818\n",
      "\n",
      "\n",
      "At cross fold  CV 4,and the mean_score is:0.8079130723291308 and the test accuracy is 0.8818181818181818\n",
      "\n",
      "\n",
      "At cross fold  CV 5,and the mean_score is:0.8316106268161063 and the test accuracy is 0.8818181818181818\n",
      "\n",
      "\n",
      "At cross fold  CV 6,and the mean_score is:0.8187613843351548 and the test accuracy is 0.8818181818181818\n",
      "\n",
      "\n",
      "At cross fold  CV 7,and the mean_score is:0.8224784769370758 and the test accuracy is 0.8818181818181818\n",
      "\n",
      "\n",
      "At cross fold  CV 8,and the mean_score is:0.8352771606897282 and the test accuracy is 0.8818181818181818\n",
      "\n",
      "\n",
      "At cross fold  CV 9,and the mean_score is:0.8187613843351548 and the test accuracy is 0.8818181818181818\n",
      "\n",
      "\n"
     ]
    }
   ],
   "source": [
    "pred_dt=DT.predict(x_test)\n",
    "for i in range(2,10):\n",
    "    test_accuracy=accuracy_score(y_test,pred_dt) \n",
    "    cv_score=cross_val_score(DT,x,y,cv=i)\n",
    "    Accuracy=cv_score.mean()\n",
    "    std_score=cv_score.std()\n",
    "    print(f'At cross fold  CV {i},and the mean_score is:{Accuracy} and the test accuracy is {test_accuracy}')\n",
    "    print('\\n')"
   ]
  },
  {
   "cell_type": "raw",
   "id": "73752009",
   "metadata": {},
   "source": [
    "CV=8 Decision tree classifier give accuracy 83.52% with mean_score is 88.18%"
   ]
  },
  {
   "cell_type": "code",
   "execution_count": 90,
   "id": "65433c4c",
   "metadata": {},
   "outputs": [
    {
     "data": {
      "image/png": "[encoded data removed]",
      "text/plain": [
       "<Figure size 432x288 with 1 Axes>"
      ]
     },
     "metadata": {
      "needs_background": "light"
     },
     "output_type": "display_data"
    }
   ],
   "source": [
    "plot_roc_curve(DT,x_test,y_test)\n",
    "plt.title('ROC AUC CURVE')\n",
    "plt.show()"
   ]
  },
  {
   "cell_type": "raw",
   "id": "187a5a36",
   "metadata": {},
   "source": [
    "In auc roc curv the true false value in confusion matrix in imbalance form. So we get auc score is 88%"
   ]
  },
  {
   "cell_type": "markdown",
   "id": "2fefb3c2",
   "metadata": {},
   "source": [
    "# CV SCORE-SUPPORT VECTOR CLASSIFIER"
   ]
  },
  {
   "cell_type": "code",
   "execution_count": 91,
   "id": "7ad73ad8",
   "metadata": {},
   "outputs": [
    {
     "name": "stdout",
     "output_type": "stream",
     "text": [
      "At cross fold  CV 2,and the mean_score is:0.8515482695810566 and the test accuracy is 0.9045454545454545\n",
      "\n",
      "\n",
      "At cross fold  CV 3,and the mean_score is:0.8397085610200364 and the test accuracy is 0.9045454545454545\n",
      "\n",
      "\n",
      "At cross fold  CV 4,and the mean_score is:0.8389017916390179 and the test accuracy is 0.9045454545454545\n",
      "\n",
      "\n",
      "At cross fold  CV 5,and the mean_score is:0.846222498962225 and the test accuracy is 0.9045454545454545\n",
      "\n",
      "\n",
      "At cross fold  CV 6,and the mean_score is:0.8442622950819674 and the test accuracy is 0.9045454545454545\n",
      "\n",
      "\n",
      "At cross fold  CV 7,and the mean_score is:0.845243928046476 and the test accuracy is 0.9045454545454545\n",
      "\n",
      "\n",
      "At cross fold  CV 8,and the mean_score is:0.8425103141859727 and the test accuracy is 0.9045454545454545\n",
      "\n",
      "\n",
      "At cross fold  CV 9,and the mean_score is:0.843351548269581 and the test accuracy is 0.9045454545454545\n",
      "\n",
      "\n"
     ]
    }
   ],
   "source": [
    "pred_sv=SV.predict(x_test)\n",
    "for i in range(2,10):\n",
    "    test_accuracy=accuracy_score(y_test,pred_sv) \n",
    "    cv_score=cross_val_score(SV,x,y,cv=i)\n",
    "    Accuracy=cv_score.mean()\n",
    "    std_score=cv_score.std()\n",
    "    print(f'At cross fold  CV {i},and the mean_score is:{Accuracy} and the test accuracy is {test_accuracy}')\n",
    "    print('\\n')"
   ]
  },
  {
   "cell_type": "raw",
   "id": "646cbe5b",
   "metadata": {},
   "source": [
    "CV=2 Support vector classifier give accuracy 85.15% with mean_score is 90.45%"
   ]
  },
  {
   "cell_type": "code",
   "execution_count": 92,
   "id": "357bf063",
   "metadata": {},
   "outputs": [
    {
     "data": {
      "image/png": "[encoded data removed]",
      "text/plain": [
       "<Figure size 432x288 with 1 Axes>"
      ]
     },
     "metadata": {
      "needs_background": "light"
     },
     "output_type": "display_data"
    }
   ],
   "source": [
    "plot_roc_curve(SV,x_test,y_test)\n",
    "plt.title('ROC AUC CURVE')\n",
    "plt.show()"
   ]
  },
  {
   "cell_type": "raw",
   "id": "ad28f83c",
   "metadata": {},
   "source": [
    "In auc roc curv the true false value in confusion matrix in imbalance form. So we get auc score is 95%"
   ]
  },
  {
   "cell_type": "markdown",
   "id": "411bbf16",
   "metadata": {},
   "source": [
    "# CV SCORE-KNEIGHBORS CLASSIFIER"
   ]
  },
  {
   "cell_type": "code",
   "execution_count": 93,
   "id": "1222958c",
   "metadata": {},
   "outputs": [
    {
     "name": "stdout",
     "output_type": "stream",
     "text": [
      "At cross fold  CV 2,and the mean_score is:0.825136612021858 and the test accuracy is 0.9\n",
      "\n",
      "\n",
      "At cross fold  CV 3,and the mean_score is:0.8260473588342441 and the test accuracy is 0.9\n",
      "\n",
      "\n",
      "At cross fold  CV 4,and the mean_score is:0.8152156602521566 and the test accuracy is 0.9\n",
      "\n",
      "\n",
      "At cross fold  CV 5,and the mean_score is:0.8289082606890826 and the test accuracy is 0.9\n",
      "\n",
      "\n",
      "At cross fold  CV 6,and the mean_score is:0.8287795992714025 and the test accuracy is 0.9\n",
      "\n",
      "\n",
      "At cross fold  CV 7,and the mean_score is:0.8297811530295608 and the test accuracy is 0.9\n",
      "\n",
      "\n",
      "At cross fold  CV 8,and the mean_score is:0.8334391198561303 and the test accuracy is 0.9\n",
      "\n",
      "\n",
      "At cross fold  CV 9,and the mean_score is:0.8287795992714025 and the test accuracy is 0.9\n",
      "\n",
      "\n"
     ]
    }
   ],
   "source": [
    "pred_kn=KN.predict(x_test)\n",
    "for i in range(2,10):\n",
    "    test_accuracy=accuracy_score(y_test,pred_kn) \n",
    "    cv_score=cross_val_score(KN,x,y,cv=i)\n",
    "    Accuracy=cv_score.mean()\n",
    "    std_score=cv_score.std()\n",
    "    print(f'At cross fold  CV {i},and the mean_score is:{Accuracy} and the test accuracy is {test_accuracy}')\n",
    "    print('\\n')"
   ]
  },
  {
   "cell_type": "raw",
   "id": "2492f2e4",
   "metadata": {},
   "source": [
    "CV=8 Kneighbors classifier give accuracy 83.34% with mean_score is 90%"
   ]
  },
  {
   "cell_type": "code",
   "execution_count": 94,
   "id": "44ad872b",
   "metadata": {},
   "outputs": [
    {
     "data": {
      "image/png": "[encoded data removed]",
      "text/plain": [
       "<Figure size 432x288 with 1 Axes>"
      ]
     },
     "metadata": {
      "needs_background": "light"
     },
     "output_type": "display_data"
    }
   ],
   "source": [
    "plot_roc_curve(KN,x_test,y_test)\n",
    "plt.title('ROC AUC CURVE')\n",
    "plt.show()"
   ]
  },
  {
   "cell_type": "raw",
   "id": "8960181f",
   "metadata": {},
   "source": [
    "In auc roc curv the true false value in confusion matrix in imbalance form. So we get auc score is 93%"
   ]
  },
  {
   "cell_type": "markdown",
   "id": "cc304824",
   "metadata": {},
   "source": [
    "# CV SCORE- ADA BOOST CLASSIFIER"
   ]
  },
  {
   "cell_type": "code",
   "execution_count": 95,
   "id": "be171e1f",
   "metadata": {},
   "outputs": [
    {
     "name": "stdout",
     "output_type": "stream",
     "text": [
      "At cross fold  CV 2,and the mean_score is:0.8269581056466302 and the test accuracy is 0.9272727272727272\n",
      "\n",
      "\n",
      "At cross fold  CV 3,and the mean_score is:0.8351548269581056 and the test accuracy is 0.9272727272727272\n",
      "\n",
      "\n",
      "At cross fold  CV 4,and the mean_score is:0.8398042468480426 and the test accuracy is 0.9272727272727272\n",
      "\n",
      "\n",
      "At cross fold  CV 5,and the mean_score is:0.8370859277708593 and the test accuracy is 0.9272727272727272\n",
      "\n",
      "\n",
      "At cross fold  CV 6,and the mean_score is:0.8387978142076502 and the test accuracy is 0.9272727272727272\n",
      "\n",
      "\n",
      "At cross fold  CV 7,and the mean_score is:0.8370313338466205 and the test accuracy is 0.9272727272727272\n",
      "\n",
      "\n",
      "At cross fold  CV 8,and the mean_score is:0.8380209986247752 and the test accuracy is 0.9272727272727272\n",
      "\n",
      "\n",
      "At cross fold  CV 9,and the mean_score is:0.8406193078324226 and the test accuracy is 0.9272727272727272\n",
      "\n",
      "\n"
     ]
    }
   ],
   "source": [
    "pred_ad=AD.predict(x_test)\n",
    "for i in range(2,10):\n",
    "    test_accuracy=accuracy_score(y_test,pred_ad) \n",
    "    cv_score=cross_val_score(AD,x,y,cv=i)\n",
    "    Accuracy=cv_score.mean()\n",
    "    std_score=cv_score.std()\n",
    "    print(f'At cross fold  CV {i},and the mean_score is:{Accuracy} and the test accuracy is {test_accuracy}')\n",
    "    print('\\n')"
   ]
  },
  {
   "cell_type": "raw",
   "id": "ac49ee2f",
   "metadata": {},
   "source": [
    "CV=9 Ada boost classifier give accuracy 84.06% with mean_score is 92.72%"
   ]
  },
  {
   "cell_type": "code",
   "execution_count": 96,
   "id": "dc3c9588",
   "metadata": {},
   "outputs": [
    {
     "data": {
      "image/png": "[encoded data removed]",
      "text/plain": [
       "<Figure size 432x288 with 1 Axes>"
      ]
     },
     "metadata": {
      "needs_background": "light"
     },
     "output_type": "display_data"
    }
   ],
   "source": [
    "plot_roc_curve(AD,x_test,y_test)\n",
    "plt.title('ROC AUC CURVE')\n",
    "plt.show()"
   ]
  },
  {
   "cell_type": "raw",
   "id": "dac84def",
   "metadata": {},
   "source": [
    "In auc roc curv the true false value in confusion matrix in imbalance form. So we get auc score is 97%"
   ]
  },
  {
   "cell_type": "markdown",
   "id": "504d54a1",
   "metadata": {},
   "source": [
    "# CV SCORE - GRADIENT BOOSTING CLASSFIER"
   ]
  },
  {
   "cell_type": "code",
   "execution_count": 97,
   "id": "48f43cb7",
   "metadata": {},
   "outputs": [
    {
     "name": "stdout",
     "output_type": "stream",
     "text": [
      "At cross fold  CV 2,and the mean_score is:0.8497267759562841 and the test accuracy is 0.9045454545454545\n",
      "\n",
      "\n",
      "At cross fold  CV 3,and the mean_score is:0.8451730418943534 and the test accuracy is 0.9045454545454545\n",
      "\n",
      "\n",
      "At cross fold  CV 4,and the mean_score is:0.853457199734572 and the test accuracy is 0.9045454545454545\n",
      "\n",
      "\n",
      "At cross fold  CV 5,and the mean_score is:0.8625861353258614 and the test accuracy is 0.9045454545454545\n",
      "\n",
      "\n",
      "At cross fold  CV 6,and the mean_score is:0.8488160291438981 and the test accuracy is 0.9045454545454545\n",
      "\n",
      "\n",
      "At cross fold  CV 7,and the mean_score is:0.8589043652737921 and the test accuracy is 0.9045454545454545\n",
      "\n",
      "\n",
      "At cross fold  CV 8,and the mean_score is:0.8662064952924997 and the test accuracy is 0.9045454545454545\n",
      "\n",
      "\n",
      "At cross fold  CV 9,and the mean_score is:0.859744990892532 and the test accuracy is 0.9045454545454545\n",
      "\n",
      "\n"
     ]
    }
   ],
   "source": [
    "pred_gb=GB.predict(x_test)\n",
    "for i in range(2,10):\n",
    "    test_accuracy=accuracy_score(y_test,pred_gb) \n",
    "    cv_score=cross_val_score(GB,x,y,cv=i)\n",
    "    Accuracy=cv_score.mean()\n",
    "    std_score=cv_score.std()\n",
    "    print(f'At cross fold  CV {i},and the mean_score is:{Accuracy} and the test accuracy is {test_accuracy}')\n",
    "    print('\\n')"
   ]
  },
  {
   "cell_type": "raw",
   "id": "904a7424",
   "metadata": {},
   "source": [
    "CV=8 Gradient boosting classifier give accuracy 86.62% with mean_score is 90.45%"
   ]
  },
  {
   "cell_type": "code",
   "execution_count": 98,
   "id": "f91e5857",
   "metadata": {},
   "outputs": [
    {
     "data": {
      "image/png": "[encoded data removed]",
      "text/plain": [
       "<Figure size 432x288 with 1 Axes>"
      ]
     },
     "metadata": {
      "needs_background": "light"
     },
     "output_type": "display_data"
    }
   ],
   "source": [
    "plot_roc_curve(GB,x_test,y_test)\n",
    "plt.title('ROC AUC CURVE')\n",
    "plt.show()"
   ]
  },
  {
   "cell_type": "raw",
   "id": "8731d426",
   "metadata": {},
   "source": [
    "In auc roc curv the true false value in confusion matrix in imbalance form. So we get auc score is 94%"
   ]
  },
  {
   "cell_type": "markdown",
   "id": "7b8cfb40",
   "metadata": {},
   "source": [
    "# CV SCORE-RANDOM FOREST CLASSIFIER"
   ]
  },
  {
   "cell_type": "code",
   "execution_count": 99,
   "id": "e154c622",
   "metadata": {},
   "outputs": [
    {
     "name": "stdout",
     "output_type": "stream",
     "text": [
      "At cross fold  CV 2,and the mean_score is:0.8460837887067395 and the test accuracy is 0.9681818181818181\n",
      "\n",
      "\n",
      "At cross fold  CV 3,and the mean_score is:0.8588342440801457 and the test accuracy is 0.9681818181818181\n",
      "\n",
      "\n",
      "At cross fold  CV 4,and the mean_score is:0.8580126078301261 and the test accuracy is 0.9681818181818181\n",
      "\n",
      "\n",
      "At cross fold  CV 5,and the mean_score is:0.8635035284350352 and the test accuracy is 0.9681818181818181\n",
      "\n",
      "\n",
      "At cross fold  CV 6,and the mean_score is:0.8615664845173042 and the test accuracy is 0.9681818181818181\n",
      "\n",
      "\n",
      "At cross fold  CV 7,and the mean_score is:0.8680152119642566 and the test accuracy is 0.9681818181818181\n",
      "\n",
      "\n",
      "At cross fold  CV 8,and the mean_score is:0.8680445361260976 and the test accuracy is 0.9681818181818181\n",
      "\n",
      "\n",
      "At cross fold  CV 9,and the mean_score is:0.866120218579235 and the test accuracy is 0.9681818181818181\n",
      "\n",
      "\n"
     ]
    }
   ],
   "source": [
    "pred_rf=RF.predict(x_test)\n",
    "for i in range(2,10):\n",
    "    test_accuracy=accuracy_score(y_test,pred_rf) \n",
    "    cv_score=cross_val_score(RF,x,y,cv=i)\n",
    "    Accuracy=cv_score.mean()\n",
    "    std_score=cv_score.std()\n",
    "    print(f'At cross fold  CV {i},and the mean_score is:{Accuracy} and the test accuracy is {test_accuracy}')\n",
    "    print('\\n')"
   ]
  },
  {
   "cell_type": "raw",
   "id": "c5284d31",
   "metadata": {},
   "source": [
    "CV=8 Random forest classifier give accuracy 86.80% with mean_score is 96.81%"
   ]
  },
  {
   "cell_type": "code",
   "execution_count": 100,
   "id": "e920bac2",
   "metadata": {
    "scrolled": true
   },
   "outputs": [
    {
     "data": {
      "image/png": "[encoded data removed]",
      "text/plain": [
       "<Figure size 432x288 with 1 Axes>"
      ]
     },
     "metadata": {
      "needs_background": "light"
     },
     "output_type": "display_data"
    }
   ],
   "source": [
    "plot_roc_curve(RF,x_test,y_test)\n",
    "plt.title('ROC AUC CURVE')\n",
    "plt.show()"
   ]
  },
  {
   "cell_type": "raw",
   "id": "4e42a9a3",
   "metadata": {},
   "source": [
    "In auc roc curv the true false value in confusion matrix in imbalance form. So we get auc score is 99%"
   ]
  },
  {
   "cell_type": "markdown",
   "id": "aa222065",
   "metadata": {},
   "source": [
    "## Random forest classifier give highest accuracy 97%"
   ]
  },
  {
   "cell_type": "markdown",
   "id": "5d3834c3",
   "metadata": {},
   "source": [
    "# Hyperparameter tuning by GridsearchCV for Random Forest Classifier"
   ]
  },
  {
   "cell_type": "code",
   "execution_count": 101,
   "id": "1a637a16",
   "metadata": {},
   "outputs": [],
   "source": [
    "dict1={'criterion':['gini','entropy','log_loss'],'n_estimators':[100,200,300,400,500],'max_depth':[3,4,5,6,7],\n",
    "       'max_features':['sqrt','log2','None']}"
   ]
  },
  {
   "cell_type": "code",
   "execution_count": 113,
   "id": "e5c7cbe9",
   "metadata": {},
   "outputs": [
    {
     "data": {
      "text/html": [
       "<style>#sk-container-id-5 {color: black;background-color: white;}#sk-container-id-5 pre{padding: 0;}#sk-container-id-5 div.sk-toggleable {background-color: white;}#sk-container-id-5 label.sk-toggleable__label {cursor: pointer;display: block;width: 100%;margin-bottom: 0;padding: 0.3em;box-sizing: border-box;text-align: center;}#sk-container-id-5 label.sk-toggleable__label-arrow:before {content: \"▸\";float: left;margin-right: 0.25em;color: #696969;}#sk-container-id-5 label.sk-toggleable__label-arrow:hover:before {color: black;}#sk-container-id-5 div.sk-estimator:hover label.sk-toggleable__label-arrow:before {color: black;}#sk-container-id-5 div.sk-toggleable__content {max-height: 0;max-width: 0;overflow: hidden;text-align: left;background-color: #f0f8ff;}#sk-container-id-5 div.sk-toggleable__content pre {margin: 0.2em;color: black;border-radius: 0.25em;background-color: #f0f8ff;}#sk-container-id-5 input.sk-toggleable__control:checked~div.sk-toggleable__content {max-height: 200px;max-width: 100%;overflow: auto;}#sk-container-id-5 input.sk-toggleable__control:checked~label.sk-toggleable__label-arrow:before {content: \"▾\";}#sk-container-id-5 div.sk-estimator input.sk-toggleable__control:checked~label.sk-toggleable__label {background-color: #d4ebff;}#sk-container-id-5 div.sk-label input.sk-toggleable__control:checked~label.sk-toggleable__label {background-color: #d4ebff;}#sk-container-id-5 input.sk-hidden--visually {border: 0;clip: rect(1px 1px 1px 1px);clip: rect(1px, 1px, 1px, 1px);height: 1px;margin: -1px;overflow: hidden;padding: 0;position: absolute;width: 1px;}#sk-container-id-5 div.sk-estimator {font-family: monospace;background-color: #f0f8ff;border: 1px dotted black;border-radius: 0.25em;box-sizing: border-box;margin-bottom: 0.5em;}#sk-container-id-5 div.sk-estimator:hover {background-color: #d4ebff;}#sk-container-id-5 div.sk-parallel-item::after {content: \"\";width: 100%;border-bottom: 1px solid gray;flex-grow: 1;}#sk-container-id-5 div.sk-label:hover label.sk-toggleable__label {background-color: #d4ebff;}#sk-container-id-5 div.sk-serial::before {content: \"\";position: absolute;border-left: 1px solid gray;box-sizing: border-box;top: 0;bottom: 0;left: 50%;z-index: 0;}#sk-container-id-5 div.sk-serial {display: flex;flex-direction: column;align-items: center;background-color: white;padding-right: 0.2em;padding-left: 0.2em;position: relative;}#sk-container-id-5 div.sk-item {position: relative;z-index: 1;}#sk-container-id-5 div.sk-parallel {display: flex;align-items: stretch;justify-content: center;background-color: white;position: relative;}#sk-container-id-5 div.sk-item::before, #sk-container-id-5 div.sk-parallel-item::before {content: \"\";position: absolute;border-left: 1px solid gray;box-sizing: border-box;top: 0;bottom: 0;left: 50%;z-index: -1;}#sk-container-id-5 div.sk-parallel-item {display: flex;flex-direction: column;z-index: 1;position: relative;background-color: white;}#sk-container-id-5 div.sk-parallel-item:first-child::after {align-self: flex-end;width: 50%;}#sk-container-id-5 div.sk-parallel-item:last-child::after {align-self: flex-start;width: 50%;}#sk-container-id-5 div.sk-parallel-item:only-child::after {width: 0;}#sk-container-id-5 div.sk-dashed-wrapped {border: 1px dashed gray;margin: 0 0.4em 0.5em 0.4em;box-sizing: border-box;padding-bottom: 0.4em;background-color: white;}#sk-container-id-5 div.sk-label label {font-family: monospace;font-weight: bold;display: inline-block;line-height: 1.2em;}#sk-container-id-5 div.sk-label-container {text-align: center;}#sk-container-id-5 div.sk-container {/* jupyter's `normalize.less` sets `[hidden] { display: none; }` but bootstrap.min.css set `[hidden] { display: none !important; }` so we also need the `!important` here to be able to override the default hidden behavior on the sphinx rendered scikit-learn.org. See: https://github.com/scikit-learn/scikit-learn/issues/21755 */display: inline-block !important;position: relative;}#sk-container-id-5 div.sk-text-repr-fallback {display: none;}</style><div id=\"sk-container-id-5\" class=\"sk-top-container\"><div class=\"sk-text-repr-fallback\"><pre>GridSearchCV(cv=8, estimator=RandomForestClassifier(),\n",
       "             param_grid={&#x27;criterion&#x27;: [&#x27;gini&#x27;, &#x27;entropy&#x27;, &#x27;log_loss&#x27;],\n",
       "                         &#x27;max_depth&#x27;: [3, 4, 5, 6, 7],\n",
       "                         &#x27;max_features&#x27;: [&#x27;sqrt&#x27;, &#x27;log2&#x27;, &#x27;None&#x27;],\n",
       "                         &#x27;n_estimators&#x27;: [100, 200, 300, 400, 500]})</pre><b>In a Jupyter environment, please rerun this cell to show the HTML representation or trust the notebook. <br />On GitHub, the HTML representation is unable to render, please try loading this page with nbviewer.org.</b></div><div class=\"sk-container\" hidden><div class=\"sk-item sk-dashed-wrapped\"><div class=\"sk-label-container\"><div class=\"sk-label sk-toggleable\"><input class=\"sk-toggleable__control sk-hidden--visually\" id=\"sk-estimator-id-9\" type=\"checkbox\" ><label for=\"sk-estimator-id-9\" class=\"sk-toggleable__label sk-toggleable__label-arrow\">GridSearchCV</label><div class=\"sk-toggleable__content\"><pre>GridSearchCV(cv=8, estimator=RandomForestClassifier(),\n",
       "             param_grid={&#x27;criterion&#x27;: [&#x27;gini&#x27;, &#x27;entropy&#x27;, &#x27;log_loss&#x27;],\n",
       "                         &#x27;max_depth&#x27;: [3, 4, 5, 6, 7],\n",
       "                         &#x27;max_features&#x27;: [&#x27;sqrt&#x27;, &#x27;log2&#x27;, &#x27;None&#x27;],\n",
       "                         &#x27;n_estimators&#x27;: [100, 200, 300, 400, 500]})</pre></div></div></div><div class=\"sk-parallel\"><div class=\"sk-parallel-item\"><div class=\"sk-item\"><div class=\"sk-label-container\"><div class=\"sk-label sk-toggleable\"><input class=\"sk-toggleable__control sk-hidden--visually\" id=\"sk-estimator-id-10\" type=\"checkbox\" ><label for=\"sk-estimator-id-10\" class=\"sk-toggleable__label sk-toggleable__label-arrow\">estimator: RandomForestClassifier</label><div class=\"sk-toggleable__content\"><pre>RandomForestClassifier()</pre></div></div></div><div class=\"sk-serial\"><div class=\"sk-item\"><div class=\"sk-estimator sk-toggleable\"><input class=\"sk-toggleable__control sk-hidden--visually\" id=\"sk-estimator-id-11\" type=\"checkbox\" ><label for=\"sk-estimator-id-11\" class=\"sk-toggleable__label sk-toggleable__label-arrow\">RandomForestClassifier</label><div class=\"sk-toggleable__content\"><pre>RandomForestClassifier()</pre></div></div></div></div></div></div></div></div></div></div>"
      ],
      "text/plain": [
       "GridSearchCV(cv=8, estimator=RandomForestClassifier(),\n",
       "             param_grid={'criterion': ['gini', 'entropy', 'log_loss'],\n",
       "                         'max_depth': [3, 4, 5, 6, 7],\n",
       "                         'max_features': ['sqrt', 'log2', 'None'],\n",
       "                         'n_estimators': [100, 200, 300, 400, 500]})"
      ]
     },
     "execution_count": 113,
     "metadata": {},
     "output_type": "execute_result"
    }
   ],
   "source": [
    "Gs=GridSearchCV(RF,dict1,cv=8)\n",
    "Gs"
   ]
  },
  {
   "cell_type": "code",
   "execution_count": 114,
   "id": "1357db06",
   "metadata": {},
   "outputs": [
    {
     "data": {
      "text/html": [
       "<style>#sk-container-id-6 {color: black;background-color: white;}#sk-container-id-6 pre{padding: 0;}#sk-container-id-6 div.sk-toggleable {background-color: white;}#sk-container-id-6 label.sk-toggleable__label {cursor: pointer;display: block;width: 100%;margin-bottom: 0;padding: 0.3em;box-sizing: border-box;text-align: center;}#sk-container-id-6 label.sk-toggleable__label-arrow:before {content: \"▸\";float: left;margin-right: 0.25em;color: #696969;}#sk-container-id-6 label.sk-toggleable__label-arrow:hover:before {color: black;}#sk-container-id-6 div.sk-estimator:hover label.sk-toggleable__label-arrow:before {color: black;}#sk-container-id-6 div.sk-toggleable__content {max-height: 0;max-width: 0;overflow: hidden;text-align: left;background-color: #f0f8ff;}#sk-container-id-6 div.sk-toggleable__content pre {margin: 0.2em;color: black;border-radius: 0.25em;background-color: #f0f8ff;}#sk-container-id-6 input.sk-toggleable__control:checked~div.sk-toggleable__content {max-height: 200px;max-width: 100%;overflow: auto;}#sk-container-id-6 input.sk-toggleable__control:checked~label.sk-toggleable__label-arrow:before {content: \"▾\";}#sk-container-id-6 div.sk-estimator input.sk-toggleable__control:checked~label.sk-toggleable__label {background-color: #d4ebff;}#sk-container-id-6 div.sk-label input.sk-toggleable__control:checked~label.sk-toggleable__label {background-color: #d4ebff;}#sk-container-id-6 input.sk-hidden--visually {border: 0;clip: rect(1px 1px 1px 1px);clip: rect(1px, 1px, 1px, 1px);height: 1px;margin: -1px;overflow: hidden;padding: 0;position: absolute;width: 1px;}#sk-container-id-6 div.sk-estimator {font-family: monospace;background-color: #f0f8ff;border: 1px dotted black;border-radius: 0.25em;box-sizing: border-box;margin-bottom: 0.5em;}#sk-container-id-6 div.sk-estimator:hover {background-color: #d4ebff;}#sk-container-id-6 div.sk-parallel-item::after {content: \"\";width: 100%;border-bottom: 1px solid gray;flex-grow: 1;}#sk-container-id-6 div.sk-label:hover label.sk-toggleable__label {background-color: #d4ebff;}#sk-container-id-6 div.sk-serial::before {content: \"\";position: absolute;border-left: 1px solid gray;box-sizing: border-box;top: 0;bottom: 0;left: 50%;z-index: 0;}#sk-container-id-6 div.sk-serial {display: flex;flex-direction: column;align-items: center;background-color: white;padding-right: 0.2em;padding-left: 0.2em;position: relative;}#sk-container-id-6 div.sk-item {position: relative;z-index: 1;}#sk-container-id-6 div.sk-parallel {display: flex;align-items: stretch;justify-content: center;background-color: white;position: relative;}#sk-container-id-6 div.sk-item::before, #sk-container-id-6 div.sk-parallel-item::before {content: \"\";position: absolute;border-left: 1px solid gray;box-sizing: border-box;top: 0;bottom: 0;left: 50%;z-index: -1;}#sk-container-id-6 div.sk-parallel-item {display: flex;flex-direction: column;z-index: 1;position: relative;background-color: white;}#sk-container-id-6 div.sk-parallel-item:first-child::after {align-self: flex-end;width: 50%;}#sk-container-id-6 div.sk-parallel-item:last-child::after {align-self: flex-start;width: 50%;}#sk-container-id-6 div.sk-parallel-item:only-child::after {width: 0;}#sk-container-id-6 div.sk-dashed-wrapped {border: 1px dashed gray;margin: 0 0.4em 0.5em 0.4em;box-sizing: border-box;padding-bottom: 0.4em;background-color: white;}#sk-container-id-6 div.sk-label label {font-family: monospace;font-weight: bold;display: inline-block;line-height: 1.2em;}#sk-container-id-6 div.sk-label-container {text-align: center;}#sk-container-id-6 div.sk-container {/* jupyter's `normalize.less` sets `[hidden] { display: none; }` but bootstrap.min.css set `[hidden] { display: none !important; }` so we also need the `!important` here to be able to override the default hidden behavior on the sphinx rendered scikit-learn.org. See: https://github.com/scikit-learn/scikit-learn/issues/21755 */display: inline-block !important;position: relative;}#sk-container-id-6 div.sk-text-repr-fallback {display: none;}</style><div id=\"sk-container-id-6\" class=\"sk-top-container\"><div class=\"sk-text-repr-fallback\"><pre>GridSearchCV(cv=8, estimator=RandomForestClassifier(),\n",
       "             param_grid={&#x27;criterion&#x27;: [&#x27;gini&#x27;, &#x27;entropy&#x27;, &#x27;log_loss&#x27;],\n",
       "                         &#x27;max_depth&#x27;: [3, 4, 5, 6, 7],\n",
       "                         &#x27;max_features&#x27;: [&#x27;sqrt&#x27;, &#x27;log2&#x27;, &#x27;None&#x27;],\n",
       "                         &#x27;n_estimators&#x27;: [100, 200, 300, 400, 500]})</pre><b>In a Jupyter environment, please rerun this cell to show the HTML representation or trust the notebook. <br />On GitHub, the HTML representation is unable to render, please try loading this page with nbviewer.org.</b></div><div class=\"sk-container\" hidden><div class=\"sk-item sk-dashed-wrapped\"><div class=\"sk-label-container\"><div class=\"sk-label sk-toggleable\"><input class=\"sk-toggleable__control sk-hidden--visually\" id=\"sk-estimator-id-12\" type=\"checkbox\" ><label for=\"sk-estimator-id-12\" class=\"sk-toggleable__label sk-toggleable__label-arrow\">GridSearchCV</label><div class=\"sk-toggleable__content\"><pre>GridSearchCV(cv=8, estimator=RandomForestClassifier(),\n",
       "             param_grid={&#x27;criterion&#x27;: [&#x27;gini&#x27;, &#x27;entropy&#x27;, &#x27;log_loss&#x27;],\n",
       "                         &#x27;max_depth&#x27;: [3, 4, 5, 6, 7],\n",
       "                         &#x27;max_features&#x27;: [&#x27;sqrt&#x27;, &#x27;log2&#x27;, &#x27;None&#x27;],\n",
       "                         &#x27;n_estimators&#x27;: [100, 200, 300, 400, 500]})</pre></div></div></div><div class=\"sk-parallel\"><div class=\"sk-parallel-item\"><div class=\"sk-item\"><div class=\"sk-label-container\"><div class=\"sk-label sk-toggleable\"><input class=\"sk-toggleable__control sk-hidden--visually\" id=\"sk-estimator-id-13\" type=\"checkbox\" ><label for=\"sk-estimator-id-13\" class=\"sk-toggleable__label sk-toggleable__label-arrow\">estimator: RandomForestClassifier</label><div class=\"sk-toggleable__content\"><pre>RandomForestClassifier()</pre></div></div></div><div class=\"sk-serial\"><div class=\"sk-item\"><div class=\"sk-estimator sk-toggleable\"><input class=\"sk-toggleable__control sk-hidden--visually\" id=\"sk-estimator-id-14\" type=\"checkbox\" ><label for=\"sk-estimator-id-14\" class=\"sk-toggleable__label sk-toggleable__label-arrow\">RandomForestClassifier</label><div class=\"sk-toggleable__content\"><pre>RandomForestClassifier()</pre></div></div></div></div></div></div></div></div></div></div>"
      ],
      "text/plain": [
       "GridSearchCV(cv=8, estimator=RandomForestClassifier(),\n",
       "             param_grid={'criterion': ['gini', 'entropy', 'log_loss'],\n",
       "                         'max_depth': [3, 4, 5, 6, 7],\n",
       "                         'max_features': ['sqrt', 'log2', 'None'],\n",
       "                         'n_estimators': [100, 200, 300, 400, 500]})"
      ]
     },
     "execution_count": 114,
     "metadata": {},
     "output_type": "execute_result"
    }
   ],
   "source": [
    "Gs.fit(x,y)"
   ]
  },
  {
   "cell_type": "code",
   "execution_count": 115,
   "id": "410dd2e2",
   "metadata": {},
   "outputs": [
    {
     "data": {
      "text/plain": [
       "{'criterion': 'gini',\n",
       " 'max_depth': 7,\n",
       " 'max_features': 'sqrt',\n",
       " 'n_estimators': 400}"
      ]
     },
     "execution_count": 115,
     "metadata": {},
     "output_type": "execute_result"
    }
   ],
   "source": [
    "Gs.best_params_"
   ]
  },
  {
   "cell_type": "code",
   "execution_count": 116,
   "id": "76dbda33",
   "metadata": {},
   "outputs": [
    {
     "data": {
      "text/plain": [
       "0.8634626573574526"
      ]
     },
     "execution_count": 116,
     "metadata": {},
     "output_type": "execute_result"
    }
   ],
   "source": [
    "Gs.best_score_"
   ]
  },
  {
   "cell_type": "code",
   "execution_count": 117,
   "id": "cbddf55b",
   "metadata": {},
   "outputs": [
    {
     "data": {
      "text/html": [
       "<style>#sk-container-id-7 {color: black;background-color: white;}#sk-container-id-7 pre{padding: 0;}#sk-container-id-7 div.sk-toggleable {background-color: white;}#sk-container-id-7 label.sk-toggleable__label {cursor: pointer;display: block;width: 100%;margin-bottom: 0;padding: 0.3em;box-sizing: border-box;text-align: center;}#sk-container-id-7 label.sk-toggleable__label-arrow:before {content: \"▸\";float: left;margin-right: 0.25em;color: #696969;}#sk-container-id-7 label.sk-toggleable__label-arrow:hover:before {color: black;}#sk-container-id-7 div.sk-estimator:hover label.sk-toggleable__label-arrow:before {color: black;}#sk-container-id-7 div.sk-toggleable__content {max-height: 0;max-width: 0;overflow: hidden;text-align: left;background-color: #f0f8ff;}#sk-container-id-7 div.sk-toggleable__content pre {margin: 0.2em;color: black;border-radius: 0.25em;background-color: #f0f8ff;}#sk-container-id-7 input.sk-toggleable__control:checked~div.sk-toggleable__content {max-height: 200px;max-width: 100%;overflow: auto;}#sk-container-id-7 input.sk-toggleable__control:checked~label.sk-toggleable__label-arrow:before {content: \"▾\";}#sk-container-id-7 div.sk-estimator input.sk-toggleable__control:checked~label.sk-toggleable__label {background-color: #d4ebff;}#sk-container-id-7 div.sk-label input.sk-toggleable__control:checked~label.sk-toggleable__label {background-color: #d4ebff;}#sk-container-id-7 input.sk-hidden--visually {border: 0;clip: rect(1px 1px 1px 1px);clip: rect(1px, 1px, 1px, 1px);height: 1px;margin: -1px;overflow: hidden;padding: 0;position: absolute;width: 1px;}#sk-container-id-7 div.sk-estimator {font-family: monospace;background-color: #f0f8ff;border: 1px dotted black;border-radius: 0.25em;box-sizing: border-box;margin-bottom: 0.5em;}#sk-container-id-7 div.sk-estimator:hover {background-color: #d4ebff;}#sk-container-id-7 div.sk-parallel-item::after {content: \"\";width: 100%;border-bottom: 1px solid gray;flex-grow: 1;}#sk-container-id-7 div.sk-label:hover label.sk-toggleable__label {background-color: #d4ebff;}#sk-container-id-7 div.sk-serial::before {content: \"\";position: absolute;border-left: 1px solid gray;box-sizing: border-box;top: 0;bottom: 0;left: 50%;z-index: 0;}#sk-container-id-7 div.sk-serial {display: flex;flex-direction: column;align-items: center;background-color: white;padding-right: 0.2em;padding-left: 0.2em;position: relative;}#sk-container-id-7 div.sk-item {position: relative;z-index: 1;}#sk-container-id-7 div.sk-parallel {display: flex;align-items: stretch;justify-content: center;background-color: white;position: relative;}#sk-container-id-7 div.sk-item::before, #sk-container-id-7 div.sk-parallel-item::before {content: \"\";position: absolute;border-left: 1px solid gray;box-sizing: border-box;top: 0;bottom: 0;left: 50%;z-index: -1;}#sk-container-id-7 div.sk-parallel-item {display: flex;flex-direction: column;z-index: 1;position: relative;background-color: white;}#sk-container-id-7 div.sk-parallel-item:first-child::after {align-self: flex-end;width: 50%;}#sk-container-id-7 div.sk-parallel-item:last-child::after {align-self: flex-start;width: 50%;}#sk-container-id-7 div.sk-parallel-item:only-child::after {width: 0;}#sk-container-id-7 div.sk-dashed-wrapped {border: 1px dashed gray;margin: 0 0.4em 0.5em 0.4em;box-sizing: border-box;padding-bottom: 0.4em;background-color: white;}#sk-container-id-7 div.sk-label label {font-family: monospace;font-weight: bold;display: inline-block;line-height: 1.2em;}#sk-container-id-7 div.sk-label-container {text-align: center;}#sk-container-id-7 div.sk-container {/* jupyter's `normalize.less` sets `[hidden] { display: none; }` but bootstrap.min.css set `[hidden] { display: none !important; }` so we also need the `!important` here to be able to override the default hidden behavior on the sphinx rendered scikit-learn.org. See: https://github.com/scikit-learn/scikit-learn/issues/21755 */display: inline-block !important;position: relative;}#sk-container-id-7 div.sk-text-repr-fallback {display: none;}</style><div id=\"sk-container-id-7\" class=\"sk-top-container\"><div class=\"sk-text-repr-fallback\"><pre>RandomForestClassifier(max_depth=7, n_estimators=400)</pre><b>In a Jupyter environment, please rerun this cell to show the HTML representation or trust the notebook. <br />On GitHub, the HTML representation is unable to render, please try loading this page with nbviewer.org.</b></div><div class=\"sk-container\" hidden><div class=\"sk-item\"><div class=\"sk-estimator sk-toggleable\"><input class=\"sk-toggleable__control sk-hidden--visually\" id=\"sk-estimator-id-15\" type=\"checkbox\" checked><label for=\"sk-estimator-id-15\" class=\"sk-toggleable__label sk-toggleable__label-arrow\">RandomForestClassifier</label><div class=\"sk-toggleable__content\"><pre>RandomForestClassifier(max_depth=7, n_estimators=400)</pre></div></div></div></div></div>"
      ],
      "text/plain": [
       "RandomForestClassifier(max_depth=7, n_estimators=400)"
      ]
     },
     "execution_count": 117,
     "metadata": {},
     "output_type": "execute_result"
    }
   ],
   "source": [
    "Gs.best_estimator_"
   ]
  },
  {
   "cell_type": "code",
   "execution_count": 110,
   "id": "8f4a72ce",
   "metadata": {},
   "outputs": [],
   "source": [
    "# Here Gradient boosting classifier have 86.26% accuracy"
   ]
  },
  {
   "cell_type": "markdown",
   "id": "1af44e64",
   "metadata": {},
   "source": [
    "# Analysis model with full feature"
   ]
  },
  {
   "cell_type": "code",
   "execution_count": 118,
   "id": "c8d0804d",
   "metadata": {},
   "outputs": [
    {
     "name": "stdout",
     "output_type": "stream",
     "text": [
      "Confusion Matrix : [[ 91   5]\n",
      " [ 17 107]]\n",
      "Classification Report :               precision    recall  f1-score   support\n",
      "\n",
      "           0       0.84      0.95      0.89        96\n",
      "           1       0.96      0.86      0.91       124\n",
      "\n",
      "    accuracy                           0.90       220\n",
      "   macro avg       0.90      0.91      0.90       220\n",
      "weighted avg       0.91      0.90      0.90       220\n",
      "\n",
      "Accuracy Score of Model  : 90.0\n",
      "Dataset Score : 92.25512528473804\n"
     ]
    }
   ],
   "source": [
    "Rf=RandomForestClassifier(criterion='gini',max_features='sqrt',n_estimators=400,max_depth=7)\n",
    "Rf.fit(x_train,y_train)\n",
    "pred_test=Rf.predict(x_test)\n",
    "print(f\"Confusion Matrix : {confusion_matrix(y_test,pred_test)}\")\n",
    "print(f\"Classification Report : {classification_report(y_test,pred_test)}\")\n",
    "print(f\"Accuracy Score of Model  : {(accuracy_score(y_test,pred_test)*100)}\")\n",
    "print(f\"Dataset Score : {(Rf.score(x_train,y_train))*100}\")"
   ]
  },
  {
   "cell_type": "raw",
   "id": "a01d6a04",
   "metadata": {},
   "source": [
    "It  give 90 hightest accuracy with 92.25 accuracy for dataset working with this model \n",
    "Avarge=90%"
   ]
  },
  {
   "cell_type": "markdown",
   "id": "5fd33888",
   "metadata": {},
   "source": [
    "# ROC AUC PLOT"
   ]
  },
  {
   "cell_type": "code",
   "execution_count": 119,
   "id": "0984c587",
   "metadata": {},
   "outputs": [],
   "source": [
    "from sklearn.metrics import plot_roc_curve"
   ]
  },
  {
   "cell_type": "code",
   "execution_count": 120,
   "id": "35c866cb",
   "metadata": {
    "scrolled": true
   },
   "outputs": [
    {
     "data": {
      "image/png": "[encoded data removed]",
      "text/plain": [
       "<Figure size 432x288 with 1 Axes>"
      ]
     },
     "metadata": {
      "needs_background": "light"
     },
     "output_type": "display_data"
    }
   ],
   "source": [
    "plot_roc_curve(Gs.best_estimator_,x_test,y_test)\n",
    "plt.title('ROC AUC CURVE')\n",
    "plt.show()"
   ]
  },
  {
   "cell_type": "markdown",
   "id": "cbfd4e61",
   "metadata": {},
   "source": [
    "#### We cleary see that our model give 0.99 auc acccuracy.it mean it working in best situation"
   ]
  },
  {
   "cell_type": "markdown",
   "id": "5b96687d",
   "metadata": {},
   "source": [
    "# Predict Data"
   ]
  },
  {
   "cell_type": "code",
   "execution_count": 121,
   "id": "3e7289d4",
   "metadata": {},
   "outputs": [],
   "source": [
    "def testpredict(a):\n",
    "    a=a.reshape(1,-1)\n",
    "    print('a.shape is',a.shape)\n",
    "    predval=Rf.predict(a)\n",
    "    print(predval)"
   ]
  },
  {
   "cell_type": "code",
   "execution_count": 122,
   "id": "8c9f1714",
   "metadata": {},
   "outputs": [
    {
     "name": "stdout",
     "output_type": "stream",
     "text": [
      "a.shape is (1, 9)\n",
      "[0]\n"
     ]
    }
   ],
   "source": [
    "a=np.array([3,1,22.0,1,0,523,7.2500,47,2])\n",
    "testpredict(a)"
   ]
  },
  {
   "cell_type": "markdown",
   "id": "81d96856",
   "metadata": {},
   "source": [
    "It mean the passenger has not surrived."
   ]
  },
  {
   "cell_type": "markdown",
   "id": "1d4dfd35",
   "metadata": {},
   "source": [
    "# Save the best model"
   ]
  },
  {
   "cell_type": "code",
   "execution_count": 123,
   "id": "eacf0aeb",
   "metadata": {},
   "outputs": [],
   "source": [
    "import joblib"
   ]
  },
  {
   "cell_type": "code",
   "execution_count": 124,
   "id": "33fa4b3c",
   "metadata": {},
   "outputs": [
    {
     "data": {
      "text/plain": [
       "['Random_forestfile.obj']"
      ]
     },
     "execution_count": 124,
     "metadata": {},
     "output_type": "execute_result"
    }
   ],
   "source": [
    "#save the model as a object file\n",
    "joblib.dump(Rf,'Random_forestfile.obj')"
   ]
  },
  {
   "cell_type": "markdown",
   "id": "b44e078b",
   "metadata": {},
   "source": [
    "# we sane  our best model after analysis no.of model"
   ]
  },
  {
   "cell_type": "code",
   "execution_count": null,
   "id": "48e6024a",
   "metadata": {},
   "outputs": [],
   "source": []
  },
  {
   "cell_type": "code",
   "execution_count": null,
   "id": "907a3162",
   "metadata": {},
   "outputs": [],
   "source": []
  }
 ],
 "metadata": {
  "kernelspec": {
   "display_name": "Python 3 (ipykernel)",
   "language": "python",
   "name": "python3"
  },
  "language_info": {
   "codemirror_mode": {
    "name": "ipython",
    "version": 3
   },
   "file_extension": ".py",
   "mimetype": "text/x-python",
   "name": "python",
   "nbconvert_exporter": "python",
   "pygments_lexer": "ipython3",
   "version": "3.9.7"
  }
 },
 "nbformat": 4,
 "nbformat_minor": 5
}
