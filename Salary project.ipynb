{
 "cells": [
  {
   "cell_type": "code",
   "execution_count": 1,
   "id": "5c93fc16",
   "metadata": {},
   "outputs": [],
   "source": [
    "import pandas as pd\n",
    "import numpy  as np\n",
    "import matplotlib.pyplot as plt\n",
    "import seaborn as sns\n",
    "import warnings\n",
    "warnings.filterwarnings('ignore')"
   ]
  },
  {
   "cell_type": "code",
   "execution_count": 2,
   "id": "000a4bf4",
   "metadata": {},
   "outputs": [],
   "source": [
    "import sklearn\n",
    "from sklearn.preprocessing import LabelEncoder\n",
    "from sklearn.preprocessing import power_transform\n",
    "from sklearn.preprocessing import StandardScaler"
   ]
  },
  {
   "cell_type": "code",
   "execution_count": 3,
   "id": "ddef0dd3",
   "metadata": {},
   "outputs": [
    {
     "data": {
      "text/html": [
       "<div>\n",
       "<style scoped>\n",
       "    .dataframe tbody tr th:only-of-type {\n",
       "        vertical-align: middle;\n",
       "    }\n",
       "\n",
       "    .dataframe tbody tr th {\n",
       "        vertical-align: top;\n",
       "    }\n",
       "\n",
       "    .dataframe thead th {\n",
       "        text-align: right;\n",
       "    }\n",
       "</style>\n",
       "<table border=\"1\" class=\"dataframe\">\n",
       "  <thead>\n",
       "    <tr style=\"text-align: right;\">\n",
       "      <th></th>\n",
       "      <th>rank</th>\n",
       "      <th>discipline</th>\n",
       "      <th>yrs.since.phd</th>\n",
       "      <th>yrs.service</th>\n",
       "      <th>sex</th>\n",
       "      <th>salary</th>\n",
       "    </tr>\n",
       "  </thead>\n",
       "  <tbody>\n",
       "    <tr>\n",
       "      <th>0</th>\n",
       "      <td>Prof</td>\n",
       "      <td>B</td>\n",
       "      <td>19</td>\n",
       "      <td>18</td>\n",
       "      <td>Male</td>\n",
       "      <td>139750</td>\n",
       "    </tr>\n",
       "    <tr>\n",
       "      <th>1</th>\n",
       "      <td>Prof</td>\n",
       "      <td>B</td>\n",
       "      <td>20</td>\n",
       "      <td>16</td>\n",
       "      <td>Male</td>\n",
       "      <td>173200</td>\n",
       "    </tr>\n",
       "    <tr>\n",
       "      <th>2</th>\n",
       "      <td>AsstProf</td>\n",
       "      <td>B</td>\n",
       "      <td>4</td>\n",
       "      <td>3</td>\n",
       "      <td>Male</td>\n",
       "      <td>79750</td>\n",
       "    </tr>\n",
       "    <tr>\n",
       "      <th>3</th>\n",
       "      <td>Prof</td>\n",
       "      <td>B</td>\n",
       "      <td>45</td>\n",
       "      <td>39</td>\n",
       "      <td>Male</td>\n",
       "      <td>115000</td>\n",
       "    </tr>\n",
       "    <tr>\n",
       "      <th>4</th>\n",
       "      <td>Prof</td>\n",
       "      <td>B</td>\n",
       "      <td>40</td>\n",
       "      <td>41</td>\n",
       "      <td>Male</td>\n",
       "      <td>141500</td>\n",
       "    </tr>\n",
       "    <tr>\n",
       "      <th>...</th>\n",
       "      <td>...</td>\n",
       "      <td>...</td>\n",
       "      <td>...</td>\n",
       "      <td>...</td>\n",
       "      <td>...</td>\n",
       "      <td>...</td>\n",
       "    </tr>\n",
       "    <tr>\n",
       "      <th>392</th>\n",
       "      <td>Prof</td>\n",
       "      <td>A</td>\n",
       "      <td>33</td>\n",
       "      <td>30</td>\n",
       "      <td>Male</td>\n",
       "      <td>103106</td>\n",
       "    </tr>\n",
       "    <tr>\n",
       "      <th>393</th>\n",
       "      <td>Prof</td>\n",
       "      <td>A</td>\n",
       "      <td>31</td>\n",
       "      <td>19</td>\n",
       "      <td>Male</td>\n",
       "      <td>150564</td>\n",
       "    </tr>\n",
       "    <tr>\n",
       "      <th>394</th>\n",
       "      <td>Prof</td>\n",
       "      <td>A</td>\n",
       "      <td>42</td>\n",
       "      <td>25</td>\n",
       "      <td>Male</td>\n",
       "      <td>101738</td>\n",
       "    </tr>\n",
       "    <tr>\n",
       "      <th>395</th>\n",
       "      <td>Prof</td>\n",
       "      <td>A</td>\n",
       "      <td>25</td>\n",
       "      <td>15</td>\n",
       "      <td>Male</td>\n",
       "      <td>95329</td>\n",
       "    </tr>\n",
       "    <tr>\n",
       "      <th>396</th>\n",
       "      <td>AsstProf</td>\n",
       "      <td>A</td>\n",
       "      <td>8</td>\n",
       "      <td>4</td>\n",
       "      <td>Male</td>\n",
       "      <td>81035</td>\n",
       "    </tr>\n",
       "  </tbody>\n",
       "</table>\n",
       "<p>397 rows × 6 columns</p>\n",
       "</div>"
      ],
      "text/plain": [
       "         rank discipline  yrs.since.phd  yrs.service   sex  salary\n",
       "0        Prof          B             19           18  Male  139750\n",
       "1        Prof          B             20           16  Male  173200\n",
       "2    AsstProf          B              4            3  Male   79750\n",
       "3        Prof          B             45           39  Male  115000\n",
       "4        Prof          B             40           41  Male  141500\n",
       "..        ...        ...            ...          ...   ...     ...\n",
       "392      Prof          A             33           30  Male  103106\n",
       "393      Prof          A             31           19  Male  150564\n",
       "394      Prof          A             42           25  Male  101738\n",
       "395      Prof          A             25           15  Male   95329\n",
       "396  AsstProf          A              8            4  Male   81035\n",
       "\n",
       "[397 rows x 6 columns]"
      ]
     },
     "execution_count": 3,
     "metadata": {},
     "output_type": "execute_result"
    }
   ],
   "source": [
    "ds=pd.read_csv('salary project.csv')\n",
    "df=pd.DataFrame(ds)\n",
    "df"
   ]
  },
  {
   "cell_type": "code",
   "execution_count": 4,
   "id": "007ee8ce",
   "metadata": {},
   "outputs": [
    {
     "data": {
      "text/plain": [
       "rank             0\n",
       "discipline       0\n",
       "yrs.since.phd    0\n",
       "yrs.service      0\n",
       "sex              0\n",
       "salary           0\n",
       "dtype: int64"
      ]
     },
     "execution_count": 4,
     "metadata": {},
     "output_type": "execute_result"
    }
   ],
   "source": [
    "df.isnull().sum()"
   ]
  },
  {
   "cell_type": "code",
   "execution_count": 5,
   "id": "0de64cc9",
   "metadata": {},
   "outputs": [
    {
     "data": {
      "text/plain": [
       "rank             object\n",
       "discipline       object\n",
       "yrs.since.phd     int64\n",
       "yrs.service       int64\n",
       "sex              object\n",
       "salary            int64\n",
       "dtype: object"
      ]
     },
     "execution_count": 5,
     "metadata": {},
     "output_type": "execute_result"
    }
   ],
   "source": [
    "df.dtypes"
   ]
  },
  {
   "cell_type": "markdown",
   "id": "3e313c62",
   "metadata": {},
   "source": [
    "# Apply encoder"
   ]
  },
  {
   "cell_type": "code",
   "execution_count": 6,
   "id": "e3a5ef16",
   "metadata": {},
   "outputs": [],
   "source": [
    "la=LabelEncoder()"
   ]
  },
  {
   "cell_type": "code",
   "execution_count": 7,
   "id": "8b7142d0",
   "metadata": {},
   "outputs": [],
   "source": [
    "list1=['rank','discipline','sex']\n",
    "for i in list1:\n",
    "    df[i]=la.fit_transform(df[i])"
   ]
  },
  {
   "cell_type": "code",
   "execution_count": 8,
   "id": "222f1d5c",
   "metadata": {
    "scrolled": true
   },
   "outputs": [
    {
     "data": {
      "text/plain": [
       "rank             int32\n",
       "discipline       int32\n",
       "yrs.since.phd    int64\n",
       "yrs.service      int64\n",
       "sex              int32\n",
       "salary           int64\n",
       "dtype: object"
      ]
     },
     "execution_count": 8,
     "metadata": {},
     "output_type": "execute_result"
    }
   ],
   "source": [
    "df.dtypes"
   ]
  },
  {
   "cell_type": "code",
   "execution_count": 9,
   "id": "84caf77d",
   "metadata": {},
   "outputs": [
    {
     "data": {
      "text/html": [
       "<div>\n",
       "<style scoped>\n",
       "    .dataframe tbody tr th:only-of-type {\n",
       "        vertical-align: middle;\n",
       "    }\n",
       "\n",
       "    .dataframe tbody tr th {\n",
       "        vertical-align: top;\n",
       "    }\n",
       "\n",
       "    .dataframe thead th {\n",
       "        text-align: right;\n",
       "    }\n",
       "</style>\n",
       "<table border=\"1\" class=\"dataframe\">\n",
       "  <thead>\n",
       "    <tr style=\"text-align: right;\">\n",
       "      <th></th>\n",
       "      <th>rank</th>\n",
       "      <th>discipline</th>\n",
       "      <th>yrs.since.phd</th>\n",
       "      <th>yrs.service</th>\n",
       "      <th>sex</th>\n",
       "      <th>salary</th>\n",
       "    </tr>\n",
       "  </thead>\n",
       "  <tbody>\n",
       "    <tr>\n",
       "      <th>0</th>\n",
       "      <td>2</td>\n",
       "      <td>1</td>\n",
       "      <td>19</td>\n",
       "      <td>18</td>\n",
       "      <td>1</td>\n",
       "      <td>139750</td>\n",
       "    </tr>\n",
       "    <tr>\n",
       "      <th>1</th>\n",
       "      <td>2</td>\n",
       "      <td>1</td>\n",
       "      <td>20</td>\n",
       "      <td>16</td>\n",
       "      <td>1</td>\n",
       "      <td>173200</td>\n",
       "    </tr>\n",
       "    <tr>\n",
       "      <th>2</th>\n",
       "      <td>1</td>\n",
       "      <td>1</td>\n",
       "      <td>4</td>\n",
       "      <td>3</td>\n",
       "      <td>1</td>\n",
       "      <td>79750</td>\n",
       "    </tr>\n",
       "    <tr>\n",
       "      <th>3</th>\n",
       "      <td>2</td>\n",
       "      <td>1</td>\n",
       "      <td>45</td>\n",
       "      <td>39</td>\n",
       "      <td>1</td>\n",
       "      <td>115000</td>\n",
       "    </tr>\n",
       "    <tr>\n",
       "      <th>4</th>\n",
       "      <td>2</td>\n",
       "      <td>1</td>\n",
       "      <td>40</td>\n",
       "      <td>41</td>\n",
       "      <td>1</td>\n",
       "      <td>141500</td>\n",
       "    </tr>\n",
       "    <tr>\n",
       "      <th>...</th>\n",
       "      <td>...</td>\n",
       "      <td>...</td>\n",
       "      <td>...</td>\n",
       "      <td>...</td>\n",
       "      <td>...</td>\n",
       "      <td>...</td>\n",
       "    </tr>\n",
       "    <tr>\n",
       "      <th>392</th>\n",
       "      <td>2</td>\n",
       "      <td>0</td>\n",
       "      <td>33</td>\n",
       "      <td>30</td>\n",
       "      <td>1</td>\n",
       "      <td>103106</td>\n",
       "    </tr>\n",
       "    <tr>\n",
       "      <th>393</th>\n",
       "      <td>2</td>\n",
       "      <td>0</td>\n",
       "      <td>31</td>\n",
       "      <td>19</td>\n",
       "      <td>1</td>\n",
       "      <td>150564</td>\n",
       "    </tr>\n",
       "    <tr>\n",
       "      <th>394</th>\n",
       "      <td>2</td>\n",
       "      <td>0</td>\n",
       "      <td>42</td>\n",
       "      <td>25</td>\n",
       "      <td>1</td>\n",
       "      <td>101738</td>\n",
       "    </tr>\n",
       "    <tr>\n",
       "      <th>395</th>\n",
       "      <td>2</td>\n",
       "      <td>0</td>\n",
       "      <td>25</td>\n",
       "      <td>15</td>\n",
       "      <td>1</td>\n",
       "      <td>95329</td>\n",
       "    </tr>\n",
       "    <tr>\n",
       "      <th>396</th>\n",
       "      <td>1</td>\n",
       "      <td>0</td>\n",
       "      <td>8</td>\n",
       "      <td>4</td>\n",
       "      <td>1</td>\n",
       "      <td>81035</td>\n",
       "    </tr>\n",
       "  </tbody>\n",
       "</table>\n",
       "<p>397 rows × 6 columns</p>\n",
       "</div>"
      ],
      "text/plain": [
       "     rank  discipline  yrs.since.phd  yrs.service  sex  salary\n",
       "0       2           1             19           18    1  139750\n",
       "1       2           1             20           16    1  173200\n",
       "2       1           1              4            3    1   79750\n",
       "3       2           1             45           39    1  115000\n",
       "4       2           1             40           41    1  141500\n",
       "..    ...         ...            ...          ...  ...     ...\n",
       "392     2           0             33           30    1  103106\n",
       "393     2           0             31           19    1  150564\n",
       "394     2           0             42           25    1  101738\n",
       "395     2           0             25           15    1   95329\n",
       "396     1           0              8            4    1   81035\n",
       "\n",
       "[397 rows x 6 columns]"
      ]
     },
     "execution_count": 9,
     "metadata": {},
     "output_type": "execute_result"
    }
   ],
   "source": [
    "df"
   ]
  },
  {
   "cell_type": "markdown",
   "id": "95af6536",
   "metadata": {},
   "source": [
    "# Summary of statistic"
   ]
  },
  {
   "cell_type": "code",
   "execution_count": 10,
   "id": "04945ffe",
   "metadata": {},
   "outputs": [
    {
     "data": {
      "text/html": [
       "<div>\n",
       "<style scoped>\n",
       "    .dataframe tbody tr th:only-of-type {\n",
       "        vertical-align: middle;\n",
       "    }\n",
       "\n",
       "    .dataframe tbody tr th {\n",
       "        vertical-align: top;\n",
       "    }\n",
       "\n",
       "    .dataframe thead th {\n",
       "        text-align: right;\n",
       "    }\n",
       "</style>\n",
       "<table border=\"1\" class=\"dataframe\">\n",
       "  <thead>\n",
       "    <tr style=\"text-align: right;\">\n",
       "      <th></th>\n",
       "      <th>rank</th>\n",
       "      <th>discipline</th>\n",
       "      <th>yrs.since.phd</th>\n",
       "      <th>yrs.service</th>\n",
       "      <th>sex</th>\n",
       "      <th>salary</th>\n",
       "    </tr>\n",
       "  </thead>\n",
       "  <tbody>\n",
       "    <tr>\n",
       "      <th>count</th>\n",
       "      <td>397.000000</td>\n",
       "      <td>397.000000</td>\n",
       "      <td>397.000000</td>\n",
       "      <td>397.000000</td>\n",
       "      <td>397.000000</td>\n",
       "      <td>397.000000</td>\n",
       "    </tr>\n",
       "    <tr>\n",
       "      <th>mean</th>\n",
       "      <td>1.508816</td>\n",
       "      <td>0.544081</td>\n",
       "      <td>22.314861</td>\n",
       "      <td>17.614610</td>\n",
       "      <td>0.901763</td>\n",
       "      <td>113706.458438</td>\n",
       "    </tr>\n",
       "    <tr>\n",
       "      <th>std</th>\n",
       "      <td>0.757486</td>\n",
       "      <td>0.498682</td>\n",
       "      <td>12.887003</td>\n",
       "      <td>13.006024</td>\n",
       "      <td>0.298010</td>\n",
       "      <td>30289.038695</td>\n",
       "    </tr>\n",
       "    <tr>\n",
       "      <th>min</th>\n",
       "      <td>0.000000</td>\n",
       "      <td>0.000000</td>\n",
       "      <td>1.000000</td>\n",
       "      <td>0.000000</td>\n",
       "      <td>0.000000</td>\n",
       "      <td>57800.000000</td>\n",
       "    </tr>\n",
       "    <tr>\n",
       "      <th>25%</th>\n",
       "      <td>1.000000</td>\n",
       "      <td>0.000000</td>\n",
       "      <td>12.000000</td>\n",
       "      <td>7.000000</td>\n",
       "      <td>1.000000</td>\n",
       "      <td>91000.000000</td>\n",
       "    </tr>\n",
       "    <tr>\n",
       "      <th>50%</th>\n",
       "      <td>2.000000</td>\n",
       "      <td>1.000000</td>\n",
       "      <td>21.000000</td>\n",
       "      <td>16.000000</td>\n",
       "      <td>1.000000</td>\n",
       "      <td>107300.000000</td>\n",
       "    </tr>\n",
       "    <tr>\n",
       "      <th>75%</th>\n",
       "      <td>2.000000</td>\n",
       "      <td>1.000000</td>\n",
       "      <td>32.000000</td>\n",
       "      <td>27.000000</td>\n",
       "      <td>1.000000</td>\n",
       "      <td>134185.000000</td>\n",
       "    </tr>\n",
       "    <tr>\n",
       "      <th>max</th>\n",
       "      <td>2.000000</td>\n",
       "      <td>1.000000</td>\n",
       "      <td>56.000000</td>\n",
       "      <td>60.000000</td>\n",
       "      <td>1.000000</td>\n",
       "      <td>231545.000000</td>\n",
       "    </tr>\n",
       "  </tbody>\n",
       "</table>\n",
       "</div>"
      ],
      "text/plain": [
       "             rank  discipline  yrs.since.phd  yrs.service         sex  \\\n",
       "count  397.000000  397.000000     397.000000   397.000000  397.000000   \n",
       "mean     1.508816    0.544081      22.314861    17.614610    0.901763   \n",
       "std      0.757486    0.498682      12.887003    13.006024    0.298010   \n",
       "min      0.000000    0.000000       1.000000     0.000000    0.000000   \n",
       "25%      1.000000    0.000000      12.000000     7.000000    1.000000   \n",
       "50%      2.000000    1.000000      21.000000    16.000000    1.000000   \n",
       "75%      2.000000    1.000000      32.000000    27.000000    1.000000   \n",
       "max      2.000000    1.000000      56.000000    60.000000    1.000000   \n",
       "\n",
       "              salary  \n",
       "count     397.000000  \n",
       "mean   113706.458438  \n",
       "std     30289.038695  \n",
       "min     57800.000000  \n",
       "25%     91000.000000  \n",
       "50%    107300.000000  \n",
       "75%    134185.000000  \n",
       "max    231545.000000  "
      ]
     },
     "execution_count": 10,
     "metadata": {},
     "output_type": "execute_result"
    }
   ],
   "source": [
    "df.describe()"
   ]
  },
  {
   "cell_type": "raw",
   "id": "bd1cea61",
   "metadata": {},
   "source": [
    "KEY OBSERVATION:\n",
    "1.mean>median i.e. right side skewness is present--> yrs.since.phd,yrs.service,salary\n",
    "2.median>mean i.e. left side skewness is present-->rank,dicipline,sex\n",
    "3.outliers:yrs.since.phd,yrs.service,salary"
   ]
  },
  {
   "cell_type": "code",
   "execution_count": 11,
   "id": "b0cd152a",
   "metadata": {},
   "outputs": [
    {
     "data": {
      "text/plain": [
       "<AxesSubplot:>"
      ]
     },
     "execution_count": 11,
     "metadata": {},
     "output_type": "execute_result"
    },
    {
     "data": {
      "image/png": "[encoded data removed]",
      "text/plain": [
       "<Figure size 720x360 with 2 Axes>"
      ]
     },
     "metadata": {
      "needs_background": "light"
     },
     "output_type": "display_data"
    }
   ],
   "source": [
    "plt.figure(figsize=(10,5))\n",
    "sns.heatmap(df.describe(),annot=True,linewidth=2)"
   ]
  },
  {
   "cell_type": "markdown",
   "id": "5f655d38",
   "metadata": {},
   "source": [
    "# UNI_VARIENT ANALYSIS"
   ]
  },
  {
   "cell_type": "code",
   "execution_count": 12,
   "id": "bbde1866",
   "metadata": {},
   "outputs": [
    {
     "data": {
      "image/png": "[encoded data removed]",
      "text/plain": [
       "<Figure size 432x288 with 1 Axes>"
      ]
     },
     "metadata": {
      "needs_background": "light"
     },
     "output_type": "display_data"
    },
    {
     "data": {
      "image/png": "[encoded data removed]",
      "text/plain": [
       "<Figure size 432x288 with 1 Axes>"
      ]
     },
     "metadata": {
      "needs_background": "light"
     },
     "output_type": "display_data"
    },
    {
     "data": {
      "image/png": "[encoded data removed]",
      "text/plain": [
       "<Figure size 432x288 with 1 Axes>"
      ]
     },
     "metadata": {
      "needs_background": "light"
     },
     "output_type": "display_data"
    },
    {
     "data": {
      "image/png": "[encoded data removed]",
      "text/plain": [
       "<Figure size 432x288 with 1 Axes>"
      ]
     },
     "metadata": {
      "needs_background": "light"
     },
     "output_type": "display_data"
    },
    {
     "data": {
      "image/png": "[encoded data removed]",
      "text/plain": [
       "<Figure size 432x288 with 1 Axes>"
      ]
     },
     "metadata": {
      "needs_background": "light"
     },
     "output_type": "display_data"
    },
    {
     "data": {
      "image/png": "[encoded data removed]",
      "text/plain": [
       "<Figure size 432x288 with 1 Axes>"
      ]
     },
     "metadata": {
      "needs_background": "light"
     },
     "output_type": "display_data"
    }
   ],
   "source": [
    "for i in ds.columns:\n",
    "    plt.figure()\n",
    "    plt.title(i)\n",
    "    plt.hist(df[i])"
   ]
  },
  {
   "cell_type": "code",
   "execution_count": 13,
   "id": "c550511e",
   "metadata": {},
   "outputs": [
    {
     "data": {
      "text/plain": [
       "6"
      ]
     },
     "execution_count": 13,
     "metadata": {},
     "output_type": "execute_result"
    }
   ],
   "source": [
    "col=df.columns\n",
    "nrows=15\n",
    "ncol=30\n",
    "len(col)"
   ]
  },
  {
   "cell_type": "code",
   "execution_count": 14,
   "id": "712350ae",
   "metadata": {},
   "outputs": [
    {
     "data": {
      "image/png": "[encoded data removed]",
      "text/plain": [
       "<Figure size 2160x6480 with 6 Axes>"
      ]
     },
     "metadata": {
      "needs_background": "light"
     },
     "output_type": "display_data"
    }
   ],
   "source": [
    "plt.figure(figsize=(ncol,3*ncol))\n",
    "for i in range(len(col)):\n",
    "    plt.subplot(nrows,ncol,i+1)\n",
    "    plt.title(i)\n",
    "    sns.boxplot(data=df[col[i]],color='green',linewidth=2)\n",
    "    plt.tight_layout()"
   ]
  },
  {
   "cell_type": "markdown",
   "id": "3fbad771",
   "metadata": {},
   "source": [
    "# TO BE CHECK CORRELATION"
   ]
  },
  {
   "cell_type": "code",
   "execution_count": 15,
   "id": "161fbb80",
   "metadata": {},
   "outputs": [
    {
     "data": {
      "text/html": [
       "<div>\n",
       "<style scoped>\n",
       "    .dataframe tbody tr th:only-of-type {\n",
       "        vertical-align: middle;\n",
       "    }\n",
       "\n",
       "    .dataframe tbody tr th {\n",
       "        vertical-align: top;\n",
       "    }\n",
       "\n",
       "    .dataframe thead th {\n",
       "        text-align: right;\n",
       "    }\n",
       "</style>\n",
       "<table border=\"1\" class=\"dataframe\">\n",
       "  <thead>\n",
       "    <tr style=\"text-align: right;\">\n",
       "      <th></th>\n",
       "      <th>rank</th>\n",
       "      <th>discipline</th>\n",
       "      <th>yrs.since.phd</th>\n",
       "      <th>yrs.service</th>\n",
       "      <th>sex</th>\n",
       "      <th>salary</th>\n",
       "    </tr>\n",
       "  </thead>\n",
       "  <tbody>\n",
       "    <tr>\n",
       "      <th>rank</th>\n",
       "      <td>1.000000</td>\n",
       "      <td>-0.086266</td>\n",
       "      <td>0.525500</td>\n",
       "      <td>0.447499</td>\n",
       "      <td>0.132492</td>\n",
       "      <td>0.522207</td>\n",
       "    </tr>\n",
       "    <tr>\n",
       "      <th>discipline</th>\n",
       "      <td>-0.086266</td>\n",
       "      <td>1.000000</td>\n",
       "      <td>-0.218087</td>\n",
       "      <td>-0.164599</td>\n",
       "      <td>0.003724</td>\n",
       "      <td>0.156084</td>\n",
       "    </tr>\n",
       "    <tr>\n",
       "      <th>yrs.since.phd</th>\n",
       "      <td>0.525500</td>\n",
       "      <td>-0.218087</td>\n",
       "      <td>1.000000</td>\n",
       "      <td>0.909649</td>\n",
       "      <td>0.148788</td>\n",
       "      <td>0.419231</td>\n",
       "    </tr>\n",
       "    <tr>\n",
       "      <th>yrs.service</th>\n",
       "      <td>0.447499</td>\n",
       "      <td>-0.164599</td>\n",
       "      <td>0.909649</td>\n",
       "      <td>1.000000</td>\n",
       "      <td>0.153740</td>\n",
       "      <td>0.334745</td>\n",
       "    </tr>\n",
       "    <tr>\n",
       "      <th>sex</th>\n",
       "      <td>0.132492</td>\n",
       "      <td>0.003724</td>\n",
       "      <td>0.148788</td>\n",
       "      <td>0.153740</td>\n",
       "      <td>1.000000</td>\n",
       "      <td>0.138610</td>\n",
       "    </tr>\n",
       "    <tr>\n",
       "      <th>salary</th>\n",
       "      <td>0.522207</td>\n",
       "      <td>0.156084</td>\n",
       "      <td>0.419231</td>\n",
       "      <td>0.334745</td>\n",
       "      <td>0.138610</td>\n",
       "      <td>1.000000</td>\n",
       "    </tr>\n",
       "  </tbody>\n",
       "</table>\n",
       "</div>"
      ],
      "text/plain": [
       "                   rank  discipline  yrs.since.phd  yrs.service       sex  \\\n",
       "rank           1.000000   -0.086266       0.525500     0.447499  0.132492   \n",
       "discipline    -0.086266    1.000000      -0.218087    -0.164599  0.003724   \n",
       "yrs.since.phd  0.525500   -0.218087       1.000000     0.909649  0.148788   \n",
       "yrs.service    0.447499   -0.164599       0.909649     1.000000  0.153740   \n",
       "sex            0.132492    0.003724       0.148788     0.153740  1.000000   \n",
       "salary         0.522207    0.156084       0.419231     0.334745  0.138610   \n",
       "\n",
       "                 salary  \n",
       "rank           0.522207  \n",
       "discipline     0.156084  \n",
       "yrs.since.phd  0.419231  \n",
       "yrs.service    0.334745  \n",
       "sex            0.138610  \n",
       "salary         1.000000  "
      ]
     },
     "execution_count": 15,
     "metadata": {},
     "output_type": "execute_result"
    }
   ],
   "source": [
    "df.corr()"
   ]
  },
  {
   "cell_type": "code",
   "execution_count": 16,
   "id": "ce60ee7e",
   "metadata": {},
   "outputs": [
    {
     "data": {
      "text/plain": [
       "<AxesSubplot:>"
      ]
     },
     "execution_count": 16,
     "metadata": {},
     "output_type": "execute_result"
    },
    {
     "data": {
      "image/png": "[encoded data removed]",
      "text/plain": [
       "<Figure size 1080x576 with 2 Axes>"
      ]
     },
     "metadata": {
      "needs_background": "light"
     },
     "output_type": "display_data"
    }
   ],
   "source": [
    "plt.figure(figsize=(15,8))\n",
    "sns.heatmap(df.corr(),annot=True)"
   ]
  },
  {
   "cell_type": "raw",
   "id": "2d73d092",
   "metadata": {},
   "source": [
    "Key observation:All the columns of the datasets is positively correlated with the target columns\n",
    "There is  multicolonility problem\n",
    "\n",
    "1.Rank has 52% correlation with the target column which can be considered as a strong bond\n",
    "2.Dicilpine has 16% correlation with the target column which can be considered as a weak bond\n",
    "3.Yrs.since.phd has 42% correlation with the target column which can be considered as a good bond\n",
    "4.Yrs.service has 33% correlation with the target column which can be considered as a good bond\n",
    "5.Sex has 14% correlation with the target column which can be considered as a weak bond"
   ]
  },
  {
   "cell_type": "markdown",
   "id": "656e7848",
   "metadata": {},
   "source": [
    "# BI_VARIENT ANALYSIS"
   ]
  },
  {
   "cell_type": "code",
   "execution_count": 17,
   "id": "71b5392f",
   "metadata": {},
   "outputs": [],
   "source": [
    "a=df.drop('salary',axis=1)\n",
    "b=df.salary"
   ]
  },
  {
   "cell_type": "code",
   "execution_count": 18,
   "id": "02d2161a",
   "metadata": {},
   "outputs": [
    {
     "data": {
      "image/png": "[encoded data removed]",
      "text/plain": [
       "<Figure size 432x288 with 1 Axes>"
      ]
     },
     "metadata": {
      "needs_background": "light"
     },
     "output_type": "display_data"
    },
    {
     "data": {
      "image/png": "[encoded data removed]",
      "text/plain": [
       "<Figure size 432x288 with 1 Axes>"
      ]
     },
     "metadata": {
      "needs_background": "light"
     },
     "output_type": "display_data"
    },
    {
     "data": {
      "image/png": "[encoded data removed]",
      "text/plain": [
       "<Figure size 432x288 with 1 Axes>"
      ]
     },
     "metadata": {
      "needs_background": "light"
     },
     "output_type": "display_data"
    },
    {
     "data": {
      "image/png": "[encoded data removed]",
      "text/plain": [
       "<Figure size 432x288 with 1 Axes>"
      ]
     },
     "metadata": {
      "needs_background": "light"
     },
     "output_type": "display_data"
    },
    {
     "data": {
      "image/png": "[encoded data removed]",
      "text/plain": [
       "<Figure size 432x288 with 1 Axes>"
      ]
     },
     "metadata": {
      "needs_background": "light"
     },
     "output_type": "display_data"
    }
   ],
   "source": [
    "for i in a.columns:\n",
    "    plt.figure()\n",
    "    plt.title(i)\n",
    "    sns.scatterplot(x=b,y=df[i])"
   ]
  },
  {
   "cell_type": "raw",
   "id": "9b6bdff7",
   "metadata": {},
   "source": [
    "KEY OBSERVATION:\n",
    "1.As rank increase salary is also increase\n",
    "2.we see that dicipline and salary both are parallel\n",
    "3.Yrs.since.phs and Yrs.service increases salary also increase\n",
    "4.Compare to female male have more salary"
   ]
  },
  {
   "cell_type": "markdown",
   "id": "31cd91b4",
   "metadata": {},
   "source": [
    "# REMOVING OUTLIERS"
   ]
  },
  {
   "cell_type": "code",
   "execution_count": 19,
   "id": "79f16196",
   "metadata": {},
   "outputs": [],
   "source": [
    "from scipy.stats import zscore"
   ]
  },
  {
   "cell_type": "code",
   "execution_count": 20,
   "id": "603ee9d3",
   "metadata": {},
   "outputs": [
    {
     "data": {
      "text/plain": [
       "(array([  9,  19,  24,  34,  35,  43,  47,  48,  52,  63,  68,  84,  90,\n",
       "        103, 114, 119, 123, 127, 131, 132, 133, 148, 153, 179, 186, 218,\n",
       "        230, 231, 233, 237, 245, 253, 254, 274, 316, 323, 330, 332, 334,\n",
       "        341, 358, 361, 364], dtype=int64),\n",
       " array([4, 4, 4, 4, 4, 5, 4, 4, 4, 4, 4, 4, 4, 4, 4, 4, 4, 4, 3, 4, 4, 4,\n",
       "        4, 4, 4, 4, 4, 4, 4, 4, 4, 4, 4, 4, 4, 4, 3, 4, 4, 4, 4, 4, 5],\n",
       "       dtype=int64))"
      ]
     },
     "execution_count": 20,
     "metadata": {},
     "output_type": "execute_result"
    }
   ],
   "source": [
    "z=np.abs(zscore(df))\n",
    "threshold=3\n",
    "np.where(z>3)"
   ]
  },
  {
   "cell_type": "code",
   "execution_count": 21,
   "id": "5e7064a6",
   "metadata": {},
   "outputs": [
    {
     "data": {
      "text/html": [
       "<div>\n",
       "<style scoped>\n",
       "    .dataframe tbody tr th:only-of-type {\n",
       "        vertical-align: middle;\n",
       "    }\n",
       "\n",
       "    .dataframe tbody tr th {\n",
       "        vertical-align: top;\n",
       "    }\n",
       "\n",
       "    .dataframe thead th {\n",
       "        text-align: right;\n",
       "    }\n",
       "</style>\n",
       "<table border=\"1\" class=\"dataframe\">\n",
       "  <thead>\n",
       "    <tr style=\"text-align: right;\">\n",
       "      <th></th>\n",
       "      <th>rank</th>\n",
       "      <th>discipline</th>\n",
       "      <th>yrs.since.phd</th>\n",
       "      <th>yrs.service</th>\n",
       "      <th>sex</th>\n",
       "      <th>salary</th>\n",
       "    </tr>\n",
       "  </thead>\n",
       "  <tbody>\n",
       "    <tr>\n",
       "      <th>0</th>\n",
       "      <td>2</td>\n",
       "      <td>1</td>\n",
       "      <td>19</td>\n",
       "      <td>18</td>\n",
       "      <td>1</td>\n",
       "      <td>139750</td>\n",
       "    </tr>\n",
       "    <tr>\n",
       "      <th>1</th>\n",
       "      <td>2</td>\n",
       "      <td>1</td>\n",
       "      <td>20</td>\n",
       "      <td>16</td>\n",
       "      <td>1</td>\n",
       "      <td>173200</td>\n",
       "    </tr>\n",
       "    <tr>\n",
       "      <th>2</th>\n",
       "      <td>1</td>\n",
       "      <td>1</td>\n",
       "      <td>4</td>\n",
       "      <td>3</td>\n",
       "      <td>1</td>\n",
       "      <td>79750</td>\n",
       "    </tr>\n",
       "    <tr>\n",
       "      <th>3</th>\n",
       "      <td>2</td>\n",
       "      <td>1</td>\n",
       "      <td>45</td>\n",
       "      <td>39</td>\n",
       "      <td>1</td>\n",
       "      <td>115000</td>\n",
       "    </tr>\n",
       "    <tr>\n",
       "      <th>4</th>\n",
       "      <td>2</td>\n",
       "      <td>1</td>\n",
       "      <td>40</td>\n",
       "      <td>41</td>\n",
       "      <td>1</td>\n",
       "      <td>141500</td>\n",
       "    </tr>\n",
       "    <tr>\n",
       "      <th>...</th>\n",
       "      <td>...</td>\n",
       "      <td>...</td>\n",
       "      <td>...</td>\n",
       "      <td>...</td>\n",
       "      <td>...</td>\n",
       "      <td>...</td>\n",
       "    </tr>\n",
       "    <tr>\n",
       "      <th>392</th>\n",
       "      <td>2</td>\n",
       "      <td>0</td>\n",
       "      <td>33</td>\n",
       "      <td>30</td>\n",
       "      <td>1</td>\n",
       "      <td>103106</td>\n",
       "    </tr>\n",
       "    <tr>\n",
       "      <th>393</th>\n",
       "      <td>2</td>\n",
       "      <td>0</td>\n",
       "      <td>31</td>\n",
       "      <td>19</td>\n",
       "      <td>1</td>\n",
       "      <td>150564</td>\n",
       "    </tr>\n",
       "    <tr>\n",
       "      <th>394</th>\n",
       "      <td>2</td>\n",
       "      <td>0</td>\n",
       "      <td>42</td>\n",
       "      <td>25</td>\n",
       "      <td>1</td>\n",
       "      <td>101738</td>\n",
       "    </tr>\n",
       "    <tr>\n",
       "      <th>395</th>\n",
       "      <td>2</td>\n",
       "      <td>0</td>\n",
       "      <td>25</td>\n",
       "      <td>15</td>\n",
       "      <td>1</td>\n",
       "      <td>95329</td>\n",
       "    </tr>\n",
       "    <tr>\n",
       "      <th>396</th>\n",
       "      <td>1</td>\n",
       "      <td>0</td>\n",
       "      <td>8</td>\n",
       "      <td>4</td>\n",
       "      <td>1</td>\n",
       "      <td>81035</td>\n",
       "    </tr>\n",
       "  </tbody>\n",
       "</table>\n",
       "<p>354 rows × 6 columns</p>\n",
       "</div>"
      ],
      "text/plain": [
       "     rank  discipline  yrs.since.phd  yrs.service  sex  salary\n",
       "0       2           1             19           18    1  139750\n",
       "1       2           1             20           16    1  173200\n",
       "2       1           1              4            3    1   79750\n",
       "3       2           1             45           39    1  115000\n",
       "4       2           1             40           41    1  141500\n",
       "..    ...         ...            ...          ...  ...     ...\n",
       "392     2           0             33           30    1  103106\n",
       "393     2           0             31           19    1  150564\n",
       "394     2           0             42           25    1  101738\n",
       "395     2           0             25           15    1   95329\n",
       "396     1           0              8            4    1   81035\n",
       "\n",
       "[354 rows x 6 columns]"
      ]
     },
     "execution_count": 21,
     "metadata": {},
     "output_type": "execute_result"
    }
   ],
   "source": [
    "df_new=df[(z<3).all(axis=1)]\n",
    "df_new"
   ]
  },
  {
   "cell_type": "code",
   "execution_count": 22,
   "id": "3a471cbb",
   "metadata": {},
   "outputs": [
    {
     "data": {
      "text/plain": [
       "(397, 6)"
      ]
     },
     "execution_count": 22,
     "metadata": {},
     "output_type": "execute_result"
    }
   ],
   "source": [
    "df.shape"
   ]
  },
  {
   "cell_type": "code",
   "execution_count": 23,
   "id": "3ae4dbeb",
   "metadata": {},
   "outputs": [
    {
     "data": {
      "text/plain": [
       "(354, 6)"
      ]
     },
     "execution_count": 23,
     "metadata": {},
     "output_type": "execute_result"
    }
   ],
   "source": [
    "df_new.shape"
   ]
  },
  {
   "cell_type": "code",
   "execution_count": 24,
   "id": "6d562f25",
   "metadata": {},
   "outputs": [
    {
     "data": {
      "text/plain": [
       "10.831234256926953"
      ]
     },
     "execution_count": 24,
     "metadata": {},
     "output_type": "execute_result"
    }
   ],
   "source": [
    "Data_loss=((397-354)/397)*100\n",
    "Data_loss"
   ]
  },
  {
   "cell_type": "markdown",
   "id": "b42619a7",
   "metadata": {},
   "source": [
    "AS we see that the loss value is too high so we not take data from ds_new and no outliers is only in target value but we not touch "
   ]
  },
  {
   "cell_type": "markdown",
   "id": "cb9e4167",
   "metadata": {},
   "source": [
    "# Remove skewness "
   ]
  },
  {
   "cell_type": "code",
   "execution_count": 25,
   "id": "fa9f28b6",
   "metadata": {
    "scrolled": true
   },
   "outputs": [
    {
     "data": {
      "text/plain": [
       "rank            -1.151164\n",
       "discipline      -0.177684\n",
       "yrs.since.phd    0.300880\n",
       "yrs.service      0.650569\n",
       "sex             -2.709958\n",
       "salary           0.714568\n",
       "dtype: float64"
      ]
     },
     "execution_count": 25,
     "metadata": {},
     "output_type": "execute_result"
    }
   ],
   "source": [
    "df.skew()"
   ]
  },
  {
   "cell_type": "raw",
   "id": "f66fb800",
   "metadata": {},
   "source": [
    "Due to multi colonility we drop yrs.service"
   ]
  },
  {
   "cell_type": "code",
   "execution_count": 26,
   "id": "3acde666",
   "metadata": {},
   "outputs": [],
   "source": [
    "ds=df.drop('yrs.service',axis=1)"
   ]
  },
  {
   "cell_type": "code",
   "execution_count": 27,
   "id": "6ac202e3",
   "metadata": {},
   "outputs": [
    {
     "data": {
      "text/plain": [
       "rank             int32\n",
       "discipline       int32\n",
       "yrs.since.phd    int64\n",
       "sex              int32\n",
       "salary           int64\n",
       "dtype: object"
      ]
     },
     "execution_count": 27,
     "metadata": {},
     "output_type": "execute_result"
    }
   ],
   "source": [
    "ds.dtypes"
   ]
  },
  {
   "cell_type": "code",
   "execution_count": 28,
   "id": "2e46b9fd",
   "metadata": {},
   "outputs": [],
   "source": [
    "from sklearn.preprocessing import power_transform"
   ]
  },
  {
   "cell_type": "code",
   "execution_count": 29,
   "id": "c5b68152",
   "metadata": {},
   "outputs": [
    {
     "data": {
      "text/plain": [
       "array([[ 0.69005113,  0.91540317, -0.12729454,  0.3300584 ],\n",
       "       [ 0.69005113,  0.91540317, -0.04917821,  0.3300584 ],\n",
       "       [-1.09153554,  0.91540317, -1.62812069,  0.3300584 ],\n",
       "       ...,\n",
       "       [ 0.69005113, -1.09241483,  1.39552477,  0.3300584 ],\n",
       "       [ 0.69005113, -1.09241483,  0.32017198,  0.3300584 ],\n",
       "       [-1.09153554, -1.09241483, -1.13497737,  0.3300584 ]])"
      ]
     },
     "execution_count": 29,
     "metadata": {},
     "output_type": "execute_result"
    }
   ],
   "source": [
    "s=ds.drop('salary',axis=1)\n",
    "x=power_transform(s,method='yeo-johnson')\n",
    "x"
   ]
  },
  {
   "cell_type": "code",
   "execution_count": 30,
   "id": "567ba376",
   "metadata": {},
   "outputs": [
    {
     "data": {
      "text/plain": [
       "array([[ 0.69005113,  0.91540317, -0.12729454,  0.3300584 ],\n",
       "       [ 0.69005113,  0.91540317, -0.04917821,  0.3300584 ],\n",
       "       [-1.09153554,  0.91540317, -1.62812069,  0.3300584 ],\n",
       "       ...,\n",
       "       [ 0.69005113, -1.09241483,  1.39552477,  0.3300584 ],\n",
       "       [ 0.69005113, -1.09241483,  0.32017198,  0.3300584 ],\n",
       "       [-1.09153554, -1.09241483, -1.13497737,  0.3300584 ]])"
      ]
     },
     "execution_count": 30,
     "metadata": {},
     "output_type": "execute_result"
    }
   ],
   "source": [
    "st=StandardScaler()\n",
    "x=st.fit_transform(x)\n",
    "x"
   ]
  },
  {
   "cell_type": "code",
   "execution_count": 31,
   "id": "192e5a21",
   "metadata": {},
   "outputs": [],
   "source": [
    "y=ds.salary"
   ]
  },
  {
   "cell_type": "code",
   "execution_count": 32,
   "id": "936e3d41",
   "metadata": {},
   "outputs": [
    {
     "data": {
      "text/plain": [
       "(397, 4)"
      ]
     },
     "execution_count": 32,
     "metadata": {},
     "output_type": "execute_result"
    }
   ],
   "source": [
    "x.shape\n"
   ]
  },
  {
   "cell_type": "markdown",
   "id": "74f06791",
   "metadata": {},
   "source": [
    "# Now we apply diffrent model to find that which is best"
   ]
  },
  {
   "cell_type": "code",
   "execution_count": 33,
   "id": "c8432c49",
   "metadata": {},
   "outputs": [],
   "source": [
    "from sklearn.linear_model import LinearRegression\n",
    "from sklearn.model_selection import train_test_split\n",
    "from sklearn.metrics import r2_score,mean_absolute_error,mean_squared_error"
   ]
  },
  {
   "cell_type": "code",
   "execution_count": 34,
   "id": "0859905c",
   "metadata": {},
   "outputs": [],
   "source": [
    "li=LinearRegression()"
   ]
  },
  {
   "cell_type": "code",
   "execution_count": 35,
   "id": "2580d9ca",
   "metadata": {},
   "outputs": [
    {
     "name": "stdout",
     "output_type": "stream",
     "text": [
      "At random state 0,the training accuracy is :0.39854803047885967\n",
      "aT random state 0,the testing accuracy is:0.4544049678920856\n",
      "\n",
      "\n",
      "At random state 1,the training accuracy is :0.40036816066577297\n",
      "aT random state 1,the testing accuracy is:0.4534699839526318\n",
      "\n",
      "\n",
      "At random state 2,the training accuracy is :0.41210497019033265\n",
      "aT random state 2,the testing accuracy is:0.4089368617231841\n",
      "\n",
      "\n",
      "At random state 3,the training accuracy is :0.43040389942018586\n",
      "aT random state 3,the testing accuracy is:0.3445466685099533\n",
      "\n",
      "\n",
      "At random state 4,the training accuracy is :0.4252396825563858\n",
      "aT random state 4,the testing accuracy is:0.3384564415389214\n",
      "\n",
      "\n",
      "At random state 5,the training accuracy is :0.4276507011616195\n",
      "aT random state 5,the testing accuracy is:0.3364277522335196\n",
      "\n",
      "\n",
      "At random state 6,the training accuracy is :0.3979321183469823\n",
      "aT random state 6,the testing accuracy is:0.47380317239434533\n",
      "\n",
      "\n",
      "At random state 7,the training accuracy is :0.3921873218066\n",
      "aT random state 7,the testing accuracy is:0.4988865859529096\n",
      "\n",
      "\n",
      "At random state 8,the training accuracy is :0.40822623412685766\n",
      "aT random state 8,the testing accuracy is:0.4016226374944838\n",
      "\n",
      "\n",
      "At random state 9,the training accuracy is :0.4100636509572835\n",
      "aT random state 9,the testing accuracy is:0.4150438450091317\n",
      "\n",
      "\n",
      "At random state 10,the training accuracy is :0.40476563369733776\n",
      "aT random state 10,the testing accuracy is:0.43149573919939554\n",
      "\n",
      "\n",
      "At random state 11,the training accuracy is :0.4336694933132339\n",
      "aT random state 11,the testing accuracy is:0.2916421596533789\n",
      "\n",
      "\n",
      "At random state 12,the training accuracy is :0.41110835112652533\n",
      "aT random state 12,the testing accuracy is:0.40766948650308343\n",
      "\n",
      "\n",
      "At random state 13,the training accuracy is :0.40875059942189007\n",
      "aT random state 13,the testing accuracy is:0.39296217367028274\n",
      "\n",
      "\n",
      "At random state 14,the training accuracy is :0.4564595272346167\n",
      "aT random state 14,the testing accuracy is:0.18405238186649198\n",
      "\n",
      "\n",
      "At random state 15,the training accuracy is :0.41702667923825176\n",
      "aT random state 15,the testing accuracy is:0.3823318472235282\n",
      "\n",
      "\n",
      "At random state 16,the training accuracy is :0.42785903611588405\n",
      "aT random state 16,the testing accuracy is:0.3340186342882432\n",
      "\n",
      "\n",
      "At random state 17,the training accuracy is :0.4176427089484328\n",
      "aT random state 17,the testing accuracy is:0.364376865111553\n",
      "\n",
      "\n",
      "At random state 18,the training accuracy is :0.40152637832859595\n",
      "aT random state 18,the testing accuracy is:0.4282491652925918\n",
      "\n",
      "\n",
      "At random state 19,the training accuracy is :0.40075642582491133\n",
      "aT random state 19,the testing accuracy is:0.45167749181755246\n",
      "\n",
      "\n",
      "At random state 20,the training accuracy is :0.394147758513393\n",
      "aT random state 20,the testing accuracy is:0.4684218155211224\n",
      "\n",
      "\n",
      "At random state 21,the training accuracy is :0.432012183060246\n",
      "aT random state 21,the testing accuracy is:0.3243455118899228\n",
      "\n",
      "\n",
      "At random state 22,the training accuracy is :0.4137356837194486\n",
      "aT random state 22,the testing accuracy is:0.39541511547490815\n",
      "\n",
      "\n",
      "At random state 23,the training accuracy is :0.4298102157726589\n",
      "aT random state 23,the testing accuracy is:0.33664617969652\n",
      "\n",
      "\n",
      "At random state 24,the training accuracy is :0.4344981669236735\n",
      "aT random state 24,the testing accuracy is:0.3019310338968708\n",
      "\n",
      "\n",
      "At random state 25,the training accuracy is :0.41877001070757847\n",
      "aT random state 25,the testing accuracy is:0.3717775097084337\n",
      "\n",
      "\n",
      "At random state 26,the training accuracy is :0.40692300773117684\n",
      "aT random state 26,the testing accuracy is:0.4290027469027473\n",
      "\n",
      "\n",
      "At random state 27,the training accuracy is :0.42567402576003044\n",
      "aT random state 27,the testing accuracy is:0.35482224297809895\n",
      "\n",
      "\n",
      "At random state 28,the training accuracy is :0.4441840322535172\n",
      "aT random state 28,the testing accuracy is:0.2683238900728485\n",
      "\n",
      "\n",
      "At random state 29,the training accuracy is :0.43535394425161456\n",
      "aT random state 29,the testing accuracy is:0.2796640016593064\n",
      "\n",
      "\n",
      "At random state 30,the training accuracy is :0.4108098303979053\n",
      "aT random state 30,the testing accuracy is:0.40439904737327836\n",
      "\n",
      "\n",
      "At random state 31,the training accuracy is :0.42568511552917865\n",
      "aT random state 31,the testing accuracy is:0.3408186248778793\n",
      "\n",
      "\n",
      "At random state 32,the training accuracy is :0.4063501057020412\n",
      "aT random state 32,the testing accuracy is:0.4125827778531651\n",
      "\n",
      "\n",
      "At random state 33,the training accuracy is :0.4078664981993465\n",
      "aT random state 33,the testing accuracy is:0.42824572887603984\n",
      "\n",
      "\n",
      "At random state 34,the training accuracy is :0.4019054273560715\n",
      "aT random state 34,the testing accuracy is:0.4466017228436381\n",
      "\n",
      "\n",
      "At random state 35,the training accuracy is :0.4160315474751065\n",
      "aT random state 35,the testing accuracy is:0.3933528566078852\n",
      "\n",
      "\n",
      "At random state 36,the training accuracy is :0.4250928326222756\n",
      "aT random state 36,the testing accuracy is:0.29382913990668247\n",
      "\n",
      "\n",
      "At random state 37,the training accuracy is :0.39287961731501264\n",
      "aT random state 37,the testing accuracy is:0.43745727956440483\n",
      "\n",
      "\n",
      "At random state 38,the training accuracy is :0.42558809654753216\n",
      "aT random state 38,the testing accuracy is:0.3249812076852172\n",
      "\n",
      "\n",
      "At random state 39,the training accuracy is :0.40343924205158155\n",
      "aT random state 39,the testing accuracy is:0.43578454812490675\n",
      "\n",
      "\n",
      "At random state 40,the training accuracy is :0.4032770300648094\n",
      "aT random state 40,the testing accuracy is:0.4315350648553987\n",
      "\n",
      "\n",
      "At random state 41,the training accuracy is :0.3959241855739939\n",
      "aT random state 41,the testing accuracy is:0.46110911644223285\n",
      "\n",
      "\n",
      "At random state 42,the training accuracy is :0.4614094430865745\n",
      "aT random state 42,the testing accuracy is:0.144232592347739\n",
      "\n",
      "\n",
      "At random state 43,the training accuracy is :0.44252279248472703\n",
      "aT random state 43,the testing accuracy is:0.29796874754563873\n",
      "\n",
      "\n",
      "At random state 44,the training accuracy is :0.40980469744216563\n",
      "aT random state 44,the testing accuracy is:0.41034259010424845\n",
      "\n",
      "\n",
      "At random state 45,the training accuracy is :0.4557989666297826\n",
      "aT random state 45,the testing accuracy is:0.25821307310968855\n",
      "\n",
      "\n",
      "At random state 46,the training accuracy is :0.39484922794623334\n",
      "aT random state 46,the testing accuracy is:0.4029068913403646\n",
      "\n",
      "\n",
      "At random state 47,the training accuracy is :0.4118741955740757\n",
      "aT random state 47,the testing accuracy is:0.39028052952998304\n",
      "\n",
      "\n",
      "At random state 48,the training accuracy is :0.40154311666127873\n",
      "aT random state 48,the testing accuracy is:0.4439400309139945\n",
      "\n",
      "\n",
      "At random state 49,the training accuracy is :0.4275098774274664\n",
      "aT random state 49,the testing accuracy is:0.3300714731393969\n",
      "\n",
      "\n",
      "At random state 50,the training accuracy is :0.4205786954333902\n",
      "aT random state 50,the testing accuracy is:0.370640309247678\n",
      "\n",
      "\n",
      "At random state 51,the training accuracy is :0.4117103029879401\n",
      "aT random state 51,the testing accuracy is:0.3975333773105978\n",
      "\n",
      "\n",
      "At random state 52,the training accuracy is :0.40911972742337277\n",
      "aT random state 52,the testing accuracy is:0.4067620853170245\n",
      "\n",
      "\n",
      "At random state 53,the training accuracy is :0.3952071630764168\n",
      "aT random state 53,the testing accuracy is:0.47025792293599344\n",
      "\n",
      "\n",
      "At random state 54,the training accuracy is :0.42057695144914586\n",
      "aT random state 54,the testing accuracy is:0.3612215086416405\n",
      "\n",
      "\n",
      "At random state 55,the training accuracy is :0.42719942255614696\n",
      "aT random state 55,the testing accuracy is:0.3466531160592232\n",
      "\n",
      "\n",
      "At random state 56,the training accuracy is :0.4276751634679411\n",
      "aT random state 56,the testing accuracy is:0.3060918883870547\n",
      "\n",
      "\n",
      "At random state 57,the training accuracy is :0.4051440808745411\n",
      "aT random state 57,the testing accuracy is:0.43377995842678674\n",
      "\n",
      "\n",
      "At random state 58,the training accuracy is :0.43563443893147324\n",
      "aT random state 58,the testing accuracy is:0.31230301423222717\n",
      "\n",
      "\n",
      "At random state 59,the training accuracy is :0.4026100128207609\n",
      "aT random state 59,the testing accuracy is:0.42498493609384735\n",
      "\n",
      "\n",
      "At random state 60,the training accuracy is :0.3994364058188449\n",
      "aT random state 60,the testing accuracy is:0.4832261840861095\n",
      "\n",
      "\n",
      "At random state 61,the training accuracy is :0.39326710768414486\n",
      "aT random state 61,the testing accuracy is:0.4874605710057598\n",
      "\n",
      "\n",
      "At random state 62,the training accuracy is :0.41575763395652476\n",
      "aT random state 62,the testing accuracy is:0.3499475037854056\n",
      "\n",
      "\n",
      "At random state 63,the training accuracy is :0.39823929916036827\n",
      "aT random state 63,the testing accuracy is:0.4500197548689354\n",
      "\n",
      "\n",
      "At random state 64,the training accuracy is :0.38165930140388127\n",
      "aT random state 64,the testing accuracy is:0.516264712579314\n",
      "\n",
      "\n",
      "At random state 65,the training accuracy is :0.4417638583494109\n",
      "aT random state 65,the testing accuracy is:0.29009067672048816\n",
      "\n",
      "\n",
      "At random state 66,the training accuracy is :0.4072208189913793\n",
      "aT random state 66,the testing accuracy is:0.41879913725368145\n",
      "\n",
      "\n",
      "At random state 67,the training accuracy is :0.39484200079888065\n",
      "aT random state 67,the testing accuracy is:0.45910990687274666\n",
      "\n",
      "\n",
      "At random state 68,the training accuracy is :0.45557437171693027\n",
      "aT random state 68,the testing accuracy is:0.2258480290825985\n",
      "\n",
      "\n",
      "At random state 69,the training accuracy is :0.39156331997903326\n",
      "aT random state 69,the testing accuracy is:0.47132801172166905\n",
      "\n",
      "\n",
      "At random state 70,the training accuracy is :0.4384724014679623\n",
      "aT random state 70,the testing accuracy is:0.20971177134787145\n",
      "\n",
      "\n",
      "At random state 71,the training accuracy is :0.4172188104458854\n",
      "aT random state 71,the testing accuracy is:0.37423221451735267\n",
      "\n",
      "\n",
      "At random state 72,the training accuracy is :0.4187529807130509\n",
      "aT random state 72,the testing accuracy is:0.3578877720116176\n",
      "\n",
      "\n",
      "At random state 73,the training accuracy is :0.4096022513283126\n",
      "aT random state 73,the testing accuracy is:0.4078639331025028\n",
      "\n",
      "\n",
      "At random state 74,the training accuracy is :0.4019859418328672\n",
      "aT random state 74,the testing accuracy is:0.45296437533922684\n",
      "\n",
      "\n",
      "At random state 75,the training accuracy is :0.40466077644518184\n",
      "aT random state 75,the testing accuracy is:0.42946332190673975\n",
      "\n",
      "\n"
     ]
    },
    {
     "name": "stdout",
     "output_type": "stream",
     "text": [
      "At random state 76,the training accuracy is :0.43165382349647896\n",
      "aT random state 76,the testing accuracy is:0.2722086962236886\n",
      "\n",
      "\n",
      "At random state 77,the training accuracy is :0.4003476624711729\n",
      "aT random state 77,the testing accuracy is:0.42903460775640645\n",
      "\n",
      "\n",
      "At random state 78,the training accuracy is :0.42249866117947354\n",
      "aT random state 78,the testing accuracy is:0.3647481030001678\n",
      "\n",
      "\n",
      "At random state 79,the training accuracy is :0.38448546365355496\n",
      "aT random state 79,the testing accuracy is:0.5260152501047866\n",
      "\n",
      "\n",
      "At random state 80,the training accuracy is :0.38880006643190756\n",
      "aT random state 80,the testing accuracy is:0.5407557236936091\n",
      "\n",
      "\n",
      "At random state 81,the training accuracy is :0.39239187702618783\n",
      "aT random state 81,the testing accuracy is:0.4633382316528326\n",
      "\n",
      "\n",
      "At random state 82,the training accuracy is :0.41016124526852993\n",
      "aT random state 82,the testing accuracy is:0.41023228116050503\n",
      "\n",
      "\n",
      "At random state 83,the training accuracy is :0.4066653837511971\n",
      "aT random state 83,the testing accuracy is:0.41915578155696787\n",
      "\n",
      "\n",
      "At random state 84,the training accuracy is :0.4018616449438863\n",
      "aT random state 84,the testing accuracy is:0.4327758801497418\n",
      "\n",
      "\n",
      "At random state 85,the training accuracy is :0.41419086130364813\n",
      "aT random state 85,the testing accuracy is:0.3925703607244353\n",
      "\n",
      "\n",
      "At random state 86,the training accuracy is :0.4044049907718824\n",
      "aT random state 86,the testing accuracy is:0.440101848568329\n",
      "\n",
      "\n",
      "At random state 87,the training accuracy is :0.4209682442807302\n",
      "aT random state 87,the testing accuracy is:0.29364939175413174\n",
      "\n",
      "\n",
      "At random state 88,the training accuracy is :0.3962895845569987\n",
      "aT random state 88,the testing accuracy is:0.47452565253857437\n",
      "\n",
      "\n",
      "At random state 89,the training accuracy is :0.4201319527704527\n",
      "aT random state 89,the testing accuracy is:0.3690186791380622\n",
      "\n",
      "\n",
      "At random state 90,the training accuracy is :0.3910365280438808\n",
      "aT random state 90,the testing accuracy is:0.47026111817202476\n",
      "\n",
      "\n",
      "At random state 91,the training accuracy is :0.4075226883074975\n",
      "aT random state 91,the testing accuracy is:0.40908403169330754\n",
      "\n",
      "\n",
      "At random state 92,the training accuracy is :0.40916709922684635\n",
      "aT random state 92,the testing accuracy is:0.4141324199656343\n",
      "\n",
      "\n",
      "At random state 93,the training accuracy is :0.4434898585254192\n",
      "aT random state 93,the testing accuracy is:0.26725532211295633\n",
      "\n",
      "\n",
      "At random state 94,the training accuracy is :0.42614798997991465\n",
      "aT random state 94,the testing accuracy is:0.3396608631508612\n",
      "\n",
      "\n",
      "At random state 95,the training accuracy is :0.42708997611382016\n",
      "aT random state 95,the testing accuracy is:0.332272734484391\n",
      "\n",
      "\n",
      "At random state 96,the training accuracy is :0.39192636465979214\n",
      "aT random state 96,the testing accuracy is:0.4689730845600488\n",
      "\n",
      "\n",
      "At random state 97,the training accuracy is :0.3979338908579928\n",
      "aT random state 97,the testing accuracy is:0.47739464998931724\n",
      "\n",
      "\n",
      "At random state 98,the training accuracy is :0.39093746073246227\n",
      "aT random state 98,the testing accuracy is:0.4646185619437392\n",
      "\n",
      "\n",
      "At random state 99,the training accuracy is :0.4009402969568031\n",
      "aT random state 99,the testing accuracy is:0.45773359122461466\n",
      "\n",
      "\n"
     ]
    }
   ],
   "source": [
    "for i in range(0,100):\n",
    "    x_train,x_test,y_train,y_test=train_test_split(x,y,test_size=0.20,random_state=i)\n",
    "    li.fit(x_train,y_train)\n",
    "    pred_train=li.predict(x_train)\n",
    "    pred_test=li.predict(x_test)\n",
    "    print(f\"At random state {i},the training accuracy is :{r2_score(y_train,pred_train)}\")\n",
    "    print(f'aT random state {i},the testing accuracy is:{r2_score(y_test,pred_test)}')\n",
    "    print('\\n')"
   ]
  },
  {
   "cell_type": "code",
   "execution_count": 36,
   "id": "53178e13",
   "metadata": {},
   "outputs": [
    {
     "name": "stdout",
     "output_type": "stream",
     "text": [
      "r2_score is:0.41023228116050503\n",
      "Score is:0.41016124526852993\n"
     ]
    }
   ],
   "source": [
    "x_train,x_test,y_train,y_test=train_test_split(x,y,test_size=0.20,random_state=82)\n",
    "li.fit(x_train,y_train)\n",
    "pred_test=li.predict(x_test)\n",
    "print(f'r2_score is:{r2_score(y_test,pred_test)}')\n",
    "print(f'Score is:{li.score(x_train,y_train)}')"
   ]
  },
  {
   "cell_type": "markdown",
   "id": "d3091253",
   "metadata": {},
   "source": [
    "# CROSS-VALIDATION OF THE MODEL"
   ]
  },
  {
   "cell_type": "code",
   "execution_count": 37,
   "id": "e8a3159c",
   "metadata": {},
   "outputs": [
    {
     "name": "stdout",
     "output_type": "stream",
     "text": [
      "At cross fold 2 the cv score is 0.399507782033976 and accuracy score for training is -0.36672930967557904 and accuracy score for testing is 0.41023228116050503\n",
      "\n",
      "\n",
      "At cross fold 3 the cv score is 0.36912982480570605 and accuracy score for training is -0.36672930967557904 and accuracy score for testing is 0.41023228116050503\n",
      "\n",
      "\n",
      "At cross fold 4 the cv score is 0.3901442428283225 and accuracy score for training is -0.36672930967557904 and accuracy score for testing is 0.41023228116050503\n",
      "\n",
      "\n",
      "At cross fold 5 the cv score is 0.37526292854885296 and accuracy score for training is -0.36672930967557904 and accuracy score for testing is 0.41023228116050503\n",
      "\n",
      "\n",
      "At cross fold 6 the cv score is 0.3843226418696622 and accuracy score for training is -0.36672930967557904 and accuracy score for testing is 0.41023228116050503\n",
      "\n",
      "\n",
      "At cross fold 7 the cv score is 0.3779134160433642 and accuracy score for training is -0.36672930967557904 and accuracy score for testing is 0.41023228116050503\n",
      "\n",
      "\n",
      "At cross fold 8 the cv score is 0.38721730087812634 and accuracy score for training is -0.36672930967557904 and accuracy score for testing is 0.41023228116050503\n",
      "\n",
      "\n",
      "At cross fold 9 the cv score is 0.36268186502219923 and accuracy score for training is -0.36672930967557904 and accuracy score for testing is 0.41023228116050503\n",
      "\n",
      "\n"
     ]
    }
   ],
   "source": [
    "train_accuracy=r2_score(y_train,pred_train)\n",
    "test_accuracy=r2_score(y_test,pred_test)\n",
    "\n",
    "from sklearn.model_selection import cross_val_score\n",
    "for j in range(2,10):\n",
    "    cv_score=cross_val_score(li,x,y,cv=j)\n",
    "    cv_mean=cv_score.mean()\n",
    "    cv_std=cv_score.std()\n",
    "    print(f'At cross fold {j} the cv score is {cv_mean} and accuracy score for training is {train_accuracy} and accuracy score for testing is {test_accuracy}')\n",
    "    print('\\n')"
   ]
  },
  {
   "cell_type": "raw",
   "id": "d4d05ac9",
   "metadata": {},
   "source": [
    "Here at cv=2 have very closely to r2_score so we take cv=2"
   ]
  },
  {
   "cell_type": "markdown",
   "id": "2049d679",
   "metadata": {},
   "source": [
    "Here we have handle the problem of the oveerfitting and underfitting by checking the training and testing score"
   ]
  },
  {
   "cell_type": "code",
   "execution_count": 38,
   "id": "6c1285ef",
   "metadata": {},
   "outputs": [
    {
     "data": {
      "image/png": "[encoded data removed]",
      "text/plain": [
       "<Figure size 720x576 with 1 Axes>"
      ]
     },
     "metadata": {
      "needs_background": "light"
     },
     "output_type": "display_data"
    }
   ],
   "source": [
    "plt.figure(figsize=(10,8))\n",
    "plt.scatter(x=y_test,y=pred_test,color='r')\n",
    "plt.plot(y_test,y_test,color='b')\n",
    "\n",
    "plt.xlabel('Actual charges',fontsize=14)\n",
    "plt.ylabel('predicted charges',fontsize=14)\n",
    "plt.title('Linear Regression',fontsize=20)\n",
    "plt.savefig('li.png')\n",
    "plt.show()"
   ]
  },
  {
   "cell_type": "markdown",
   "id": "1f0fb792",
   "metadata": {},
   "source": [
    "# Regularization"
   ]
  },
  {
   "cell_type": "code",
   "execution_count": 39,
   "id": "7b8b064d",
   "metadata": {},
   "outputs": [],
   "source": [
    "from sklearn.model_selection import GridSearchCV"
   ]
  },
  {
   "cell_type": "code",
   "execution_count": 40,
   "id": "f256aece",
   "metadata": {},
   "outputs": [],
   "source": [
    "dict1={'alpha':[0.001,0.001,0.01,0.1,1],'random_state':list(range(0,10))}"
   ]
  },
  {
   "cell_type": "code",
   "execution_count": 41,
   "id": "e81784d4",
   "metadata": {},
   "outputs": [],
   "source": [
    "from sklearn.linear_model import Lasso\n",
    "model=Lasso()"
   ]
  },
  {
   "cell_type": "code",
   "execution_count": 42,
   "id": "60a6ac7d",
   "metadata": {},
   "outputs": [],
   "source": [
    "gd=GridSearchCV(estimator=model,param_grid=dict1)"
   ]
  },
  {
   "cell_type": "code",
   "execution_count": 43,
   "id": "70746c62",
   "metadata": {},
   "outputs": [
    {
     "data": {
      "text/html": [
       "<style>#sk-container-id-1 {color: black;background-color: white;}#sk-container-id-1 pre{padding: 0;}#sk-container-id-1 div.sk-toggleable {background-color: white;}#sk-container-id-1 label.sk-toggleable__label {cursor: pointer;display: block;width: 100%;margin-bottom: 0;padding: 0.3em;box-sizing: border-box;text-align: center;}#sk-container-id-1 label.sk-toggleable__label-arrow:before {content: \"▸\";float: left;margin-right: 0.25em;color: #696969;}#sk-container-id-1 label.sk-toggleable__label-arrow:hover:before {color: black;}#sk-container-id-1 div.sk-estimator:hover label.sk-toggleable__label-arrow:before {color: black;}#sk-container-id-1 div.sk-toggleable__content {max-height: 0;max-width: 0;overflow: hidden;text-align: left;background-color: #f0f8ff;}#sk-container-id-1 div.sk-toggleable__content pre {margin: 0.2em;color: black;border-radius: 0.25em;background-color: #f0f8ff;}#sk-container-id-1 input.sk-toggleable__control:checked~div.sk-toggleable__content {max-height: 200px;max-width: 100%;overflow: auto;}#sk-container-id-1 input.sk-toggleable__control:checked~label.sk-toggleable__label-arrow:before {content: \"▾\";}#sk-container-id-1 div.sk-estimator input.sk-toggleable__control:checked~label.sk-toggleable__label {background-color: #d4ebff;}#sk-container-id-1 div.sk-label input.sk-toggleable__control:checked~label.sk-toggleable__label {background-color: #d4ebff;}#sk-container-id-1 input.sk-hidden--visually {border: 0;clip: rect(1px 1px 1px 1px);clip: rect(1px, 1px, 1px, 1px);height: 1px;margin: -1px;overflow: hidden;padding: 0;position: absolute;width: 1px;}#sk-container-id-1 div.sk-estimator {font-family: monospace;background-color: #f0f8ff;border: 1px dotted black;border-radius: 0.25em;box-sizing: border-box;margin-bottom: 0.5em;}#sk-container-id-1 div.sk-estimator:hover {background-color: #d4ebff;}#sk-container-id-1 div.sk-parallel-item::after {content: \"\";width: 100%;border-bottom: 1px solid gray;flex-grow: 1;}#sk-container-id-1 div.sk-label:hover label.sk-toggleable__label {background-color: #d4ebff;}#sk-container-id-1 div.sk-serial::before {content: \"\";position: absolute;border-left: 1px solid gray;box-sizing: border-box;top: 0;bottom: 0;left: 50%;z-index: 0;}#sk-container-id-1 div.sk-serial {display: flex;flex-direction: column;align-items: center;background-color: white;padding-right: 0.2em;padding-left: 0.2em;position: relative;}#sk-container-id-1 div.sk-item {position: relative;z-index: 1;}#sk-container-id-1 div.sk-parallel {display: flex;align-items: stretch;justify-content: center;background-color: white;position: relative;}#sk-container-id-1 div.sk-item::before, #sk-container-id-1 div.sk-parallel-item::before {content: \"\";position: absolute;border-left: 1px solid gray;box-sizing: border-box;top: 0;bottom: 0;left: 50%;z-index: -1;}#sk-container-id-1 div.sk-parallel-item {display: flex;flex-direction: column;z-index: 1;position: relative;background-color: white;}#sk-container-id-1 div.sk-parallel-item:first-child::after {align-self: flex-end;width: 50%;}#sk-container-id-1 div.sk-parallel-item:last-child::after {align-self: flex-start;width: 50%;}#sk-container-id-1 div.sk-parallel-item:only-child::after {width: 0;}#sk-container-id-1 div.sk-dashed-wrapped {border: 1px dashed gray;margin: 0 0.4em 0.5em 0.4em;box-sizing: border-box;padding-bottom: 0.4em;background-color: white;}#sk-container-id-1 div.sk-label label {font-family: monospace;font-weight: bold;display: inline-block;line-height: 1.2em;}#sk-container-id-1 div.sk-label-container {text-align: center;}#sk-container-id-1 div.sk-container {/* jupyter's `normalize.less` sets `[hidden] { display: none; }` but bootstrap.min.css set `[hidden] { display: none !important; }` so we also need the `!important` here to be able to override the default hidden behavior on the sphinx rendered scikit-learn.org. See: https://github.com/scikit-learn/scikit-learn/issues/21755 */display: inline-block !important;position: relative;}#sk-container-id-1 div.sk-text-repr-fallback {display: none;}</style><div id=\"sk-container-id-1\" class=\"sk-top-container\"><div class=\"sk-text-repr-fallback\"><pre>GridSearchCV(estimator=Lasso(),\n",
       "             param_grid={&#x27;alpha&#x27;: [0.001, 0.001, 0.01, 0.1, 1],\n",
       "                         &#x27;random_state&#x27;: [0, 1, 2, 3, 4, 5, 6, 7, 8, 9]})</pre><b>In a Jupyter environment, please rerun this cell to show the HTML representation or trust the notebook. <br />On GitHub, the HTML representation is unable to render, please try loading this page with nbviewer.org.</b></div><div class=\"sk-container\" hidden><div class=\"sk-item sk-dashed-wrapped\"><div class=\"sk-label-container\"><div class=\"sk-label sk-toggleable\"><input class=\"sk-toggleable__control sk-hidden--visually\" id=\"sk-estimator-id-1\" type=\"checkbox\" ><label for=\"sk-estimator-id-1\" class=\"sk-toggleable__label sk-toggleable__label-arrow\">GridSearchCV</label><div class=\"sk-toggleable__content\"><pre>GridSearchCV(estimator=Lasso(),\n",
       "             param_grid={&#x27;alpha&#x27;: [0.001, 0.001, 0.01, 0.1, 1],\n",
       "                         &#x27;random_state&#x27;: [0, 1, 2, 3, 4, 5, 6, 7, 8, 9]})</pre></div></div></div><div class=\"sk-parallel\"><div class=\"sk-parallel-item\"><div class=\"sk-item\"><div class=\"sk-label-container\"><div class=\"sk-label sk-toggleable\"><input class=\"sk-toggleable__control sk-hidden--visually\" id=\"sk-estimator-id-2\" type=\"checkbox\" ><label for=\"sk-estimator-id-2\" class=\"sk-toggleable__label sk-toggleable__label-arrow\">estimator: Lasso</label><div class=\"sk-toggleable__content\"><pre>Lasso()</pre></div></div></div><div class=\"sk-serial\"><div class=\"sk-item\"><div class=\"sk-estimator sk-toggleable\"><input class=\"sk-toggleable__control sk-hidden--visually\" id=\"sk-estimator-id-3\" type=\"checkbox\" ><label for=\"sk-estimator-id-3\" class=\"sk-toggleable__label sk-toggleable__label-arrow\">Lasso</label><div class=\"sk-toggleable__content\"><pre>Lasso()</pre></div></div></div></div></div></div></div></div></div></div>"
      ],
      "text/plain": [
       "GridSearchCV(estimator=Lasso(),\n",
       "             param_grid={'alpha': [0.001, 0.001, 0.01, 0.1, 1],\n",
       "                         'random_state': [0, 1, 2, 3, 4, 5, 6, 7, 8, 9]})"
      ]
     },
     "execution_count": 43,
     "metadata": {},
     "output_type": "execute_result"
    }
   ],
   "source": [
    "gd.fit(x,y)"
   ]
  },
  {
   "cell_type": "code",
   "execution_count": 44,
   "id": "7c11fd24",
   "metadata": {},
   "outputs": [
    {
     "data": {
      "text/plain": [
       "{'alpha': 1, 'random_state': 0}"
      ]
     },
     "execution_count": 44,
     "metadata": {},
     "output_type": "execute_result"
    }
   ],
   "source": [
    "gd.best_params_"
   ]
  },
  {
   "cell_type": "code",
   "execution_count": 45,
   "id": "c5a8e197",
   "metadata": {},
   "outputs": [
    {
     "data": {
      "text/plain": [
       "0.37526356252604653"
      ]
     },
     "execution_count": 45,
     "metadata": {},
     "output_type": "execute_result"
    }
   ],
   "source": [
    "gd.best_score_"
   ]
  },
  {
   "cell_type": "code",
   "execution_count": 46,
   "id": "c20aedd6",
   "metadata": {},
   "outputs": [
    {
     "name": "stdout",
     "output_type": "stream",
     "text": [
      "0.40980030886217866\n"
     ]
    }
   ],
   "source": [
    "ls=Lasso(alpha=0.0001,random_state=0)  \n",
    "ls.fit(x,y)\n",
    "print(ls.score(x_train,y_train))\n",
    "pred_ls=ls.predict(x_test)"
   ]
  },
  {
   "cell_type": "markdown",
   "id": "bbca3238",
   "metadata": {},
   "source": [
    "in best_params_ give alpha=1 at 0.40977 but insted of alpha=0.0001 give 0.409800 so we take alpha=0.0001"
   ]
  },
  {
   "cell_type": "markdown",
   "id": "06250868",
   "metadata": {},
   "source": [
    "# Ensemble technique"
   ]
  },
  {
   "cell_type": "code",
   "execution_count": 47,
   "id": "7003fa3c",
   "metadata": {},
   "outputs": [],
   "source": [
    "from sklearn.ensemble import RandomForestRegressor"
   ]
  },
  {
   "cell_type": "code",
   "execution_count": 48,
   "id": "da2bd81a",
   "metadata": {},
   "outputs": [
    {
     "data": {
      "text/plain": [
       "{'criterion': 'mae', 'max_features': 'sqrt'}"
      ]
     },
     "execution_count": 48,
     "metadata": {},
     "output_type": "execute_result"
    }
   ],
   "source": [
    "parameter={'criterion':['mse','mae'],'max_features':['auto','sqrt','log2']}\n",
    "rf=RandomForestRegressor()\n",
    "clf=GridSearchCV(rf,parameter)\n",
    "clf.fit(x,y)\n",
    "clf.best_params_"
   ]
  },
  {
   "cell_type": "code",
   "execution_count": 49,
   "id": "68dac808",
   "metadata": {},
   "outputs": [
    {
     "name": "stdout",
     "output_type": "stream",
     "text": [
      "R2 score: 0.14838629159091354\n",
      "cross val score: 0.31711981393579214\n"
     ]
    }
   ],
   "source": [
    "rf=RandomForestRegressor(criterion='mae',max_features='log2')\n",
    "rf.fit(x_train,y_train)\n",
    "rf.score(x_train,y_train)\n",
    "pred_rf=rf.predict(x_test)\n",
    "print('R2 score:',r2_score(y_test,pred_rf))\n",
    "\n",
    "rfscore=cross_val_score(rf,x,y,cv=2)\n",
    "print('cross val score:',rfscore.mean())"
   ]
  },
  {
   "cell_type": "markdown",
   "id": "5cfb1581",
   "metadata": {},
   "source": [
    "# Conclusion= We get maximun score is 41%"
   ]
  },
  {
   "cell_type": "code",
   "execution_count": null,
   "id": "ca28ccc5",
   "metadata": {},
   "outputs": [],
   "source": []
  }
 ],
 "metadata": {
  "kernelspec": {
   "display_name": "Python 3 (ipykernel)",
   "language": "python",
   "name": "python3"
  },
  "language_info": {
   "codemirror_mode": {
    "name": "ipython",
    "version": 3
   },
   "file_extension": ".py",
   "mimetype": "text/x-python",
   "name": "python",
   "nbconvert_exporter": "python",
   "pygments_lexer": "ipython3",
   "version": "3.9.7"
  }
 },
 "nbformat": 4,
 "nbformat_minor": 5
}
