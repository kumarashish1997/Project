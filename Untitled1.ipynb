{
 "cells": [
  {
   "cell_type": "code",
   "execution_count": 1,
   "id": "32d07dd4",
   "metadata": {},
   "outputs": [],
   "source": [
    "import selenium\n",
    "import pandas as pd\n",
    "import numpy as np\n",
    "import warnings\n",
    "warnings.filterwarnings('ignore')\n",
    "from selenium import webdriver\n",
    "from selenium.common.exceptions import StaleElementReferenceException, NoSuchElementException\n",
    "from selenium.webdriver.common.by import By\n",
    "from selenium.webdriver.support.ui import WebDriverWait\n",
    "import time "
   ]
  },
  {
   "cell_type": "code",
   "execution_count": 2,
   "id": "2e93236c",
   "metadata": {},
   "outputs": [],
   "source": [
    "# let first connect to driver\n",
    "driver=webdriver.Chrome(r\"chromedriver.exe\")"
   ]
  },
  {
   "cell_type": "markdown",
   "id": "ae5c454f",
   "metadata": {},
   "source": [
    "# Scraping used car data from www.cardekho.com"
   ]
  },
  {
   "cell_type": "code",
   "execution_count": 3,
   "id": "c289d91a",
   "metadata": {},
   "outputs": [],
   "source": [
    "# opening cardekho page in driver\n",
    "driver.get(\"https://www.cardekho.com/\")\n",
    "time.sleep(3)"
   ]
  },
  {
   "cell_type": "code",
   "execution_count": 4,
   "id": "466fbc45",
   "metadata": {},
   "outputs": [],
   "source": [
    "# opening used car page in cardekho website\n",
    "car_page=driver.find_element(By.CLASS_NAME,\"used-cars-india\")\n",
    "car_page.click()"
   ]
  },
  {
   "cell_type": "code",
   "execution_count": 5,
   "id": "d112e598",
   "metadata": {},
   "outputs": [],
   "source": [
    "# Blank list for variables\n",
    "brand=[]\n",
    "model=[]\n",
    "price=[]\n",
    "driven=[]\n",
    "fuel=[]\n",
    "gear=[]\n",
    "car_url=[]"
   ]
  },
  {
   "cell_type": "code",
   "execution_count": 6,
   "id": "28083a7f",
   "metadata": {},
   "outputs": [],
   "source": [
    "# scroll more data\n",
    "for _ in range(350):\n",
    "    time.sleep(2)\n",
    "    driver.execute_script(\"window.scrollBy(0,1000)\")\n",
    "    # scraping brand name from used car page\n",
    "    for i in driver.find_elements(By.XPATH,'//div[@class=\"gsc_col-xs-7  carsName\"]'):\n",
    "        brand.append(i.text)\n",
    "    \n",
    "    # scraping model name from used car page\n",
    "    for i in driver.find_elements(By.XPATH,'//div[@class=\"car_variant\"]'):\n",
    "        model.append(i.text)\n",
    "    \n",
    "    # scraping price from used car page\n",
    "    for i in driver.find_elements(By.XPATH,'//*[@class=\"amnt \"]'):\n",
    "        price.append(i.text)\n",
    "    \n",
    "    # Scraping driven kilometers of the used cars page\n",
    "    for i in driver.find_elements(By.XPATH,'//div[@class=\"truncate dotlist-2\"]//div[1]'):\n",
    "        driven.append(i.text)\n",
    "    \n",
    "    # Scraping fuel type of the use car page \n",
    "    for i in driver.find_elements(By.XPATH,'//div[@class=\"truncate dotlist-2\"]//div[2]'):\n",
    "        fuel.append(i.text)\n",
    "    \n",
    "    #Scraping transmission of the used car page\n",
    "    for i in driver.find_elements(By.XPATH,'//div[@class=\"truncate dotlist-2\"]//div[3]'):\n",
    "        gear.append(i.text)\n",
    "    \n",
    "    # scraping car url from  used car page\n",
    "    for i in driver.find_elements(By.XPATH,'//div[@class=\"gsc_col-xs-7  carsName\"]/a'):\n",
    "        car_url.append(i.get_attribute('href'))"
   ]
  },
  {
   "cell_type": "code",
   "execution_count": 7,
   "id": "40431790",
   "metadata": {},
   "outputs": [
    {
     "name": "stdout",
     "output_type": "stream",
     "text": [
      "0 0 0 0 0 0 0\n"
     ]
    }
   ],
   "source": [
    "# for check equal length of variable\n",
    "print(len(brand),len(model),len(price),len(driven),len(fuel),len(gear),len(car_url))"
   ]
  },
  {
   "cell_type": "markdown",
   "id": "70a3d894",
   "metadata": {},
   "source": [
    "### Now scrap more details from insight of used car"
   ]
  },
  {
   "cell_type": "code",
   "execution_count": 8,
   "id": "54888171",
   "metadata": {},
   "outputs": [],
   "source": [
    "# Creating empty list to scrap the specification of the used cars\n",
    "milage=[]\n",
    "engine=[]\n",
    "max_power=[]\n",
    "torque=[]\n",
    "seats=[]\n",
    "color=[]\n",
    "gear_speed=[]\n",
    "drive_type=[]\n",
    "steering_type=[]\n",
    "front_brake_type=[]\n",
    "rear_brake_type=[]\n",
    "alloy_wheel_size=[]\n",
    "cylinders=[]\n",
    "cargo_vol = []\n",
    "top_speed = []\n",
    "height = []\n",
    "width = []\n",
    "length = []\n",
    "weight = []\n",
    "inspection_score = []\n",
    "owner=[]\n",
    "year=[]"
   ]
  },
  {
   "cell_type": "code",
   "execution_count": 9,
   "id": "7ee28c6c",
   "metadata": {},
   "outputs": [],
   "source": [
    "# for loop to get car urls\n",
    "for i in car_url:\n",
    "    driver.get(i)\n",
    "    time.sleep(2)\n",
    "\n",
    "    # Clicking on view all specifications button to view more features of the cars\n",
    "    try:\n",
    "        view_more = driver.find_element(By.XPATH,'//*[text() = \"View All Specifications\" or text() = \"View More\"]')\n",
    "        driver.execute_script(\"arguments[0].scrollIntoView();\", view_more)\n",
    "        driver.execute_script(\"arguments[0].click();\", view_more)\n",
    "        time.sleep(2)\n",
    "    except NoSuchElementException:\n",
    "        pass\n",
    "    \n",
    "    # Fetching Mileage of the cars\n",
    "    try:\n",
    "        mil = driver.find_element(By.XPATH,\"//*[text()='Mileage']/following-sibling::div\")\n",
    "        milage.append(mil.text)\n",
    "    except NoSuchElementException:\n",
    "        milage.append('-')\n",
    "\n",
    "    # Fetching engine of the cars\n",
    "    try:\n",
    "        for i in driver.find_elements(By.XPATH,\"//*[text()='Engine']/following-sibling::div\") :\n",
    "            engine.append(i.text.replace('CC',''))\n",
    "    except NoSuchElementException:\n",
    "        engine.append('-')\n",
    "        \n",
    "    # Fetching Maximum power of the cars\n",
    "    try:\n",
    "        pwr = driver.find_element(By.XPATH,\"//*[text()='Max Power']/following-sibling::div\")\n",
    "        max_power.append(pwr.text.replace('bhp',''))\n",
    "    except NoSuchElementException:\n",
    "        max_power.append('-')\n",
    "        \n",
    "    # Fetching torque of the cars\n",
    "    try:\n",
    "        for i in driver.find_elements(By.XPATH,\"//*[text()='Torque']/following-sibling::div\") :\n",
    "            torque.append(i.text)\n",
    "    except NoSuchElementException:\n",
    "        torque.append('-')\n",
    "        \n",
    "        \n",
    "     # Fetching seats of the cars\n",
    "    try:\n",
    "        for i in driver.find_elements(By.XPATH,\"//*[text()='Seats']/following-sibling::div\") :\n",
    "            seats.append(i.text)\n",
    "    except NoSuchElementException:\n",
    "        seats.append('-')\n",
    "        \n",
    "     # Fetching color of the cars\n",
    "    try:\n",
    "        for i in driver.find_elements(By.XPATH,\"//*[text()='Color']/following-sibling::div\") :\n",
    "            color.append(i.text)\n",
    "    except NoSuchElementException:\n",
    "        color.append('-')\n",
    "        \n",
    "        \n",
    "     # Fetching front brake of the cars\n",
    "    try:\n",
    "        for i in driver.find_elements(By.XPATH,\"//*[text()='Front Brake Type']/following-sibling::div\") :\n",
    "            front_brake_type.append(i.text)\n",
    "    except NoSuchElementException:\n",
    "        front_brake_type.append('-')\n",
    "        \n",
    "     # Fetching rear break of the cars\n",
    "    try:\n",
    "        for i in driver.find_elements(By.XPATH,\"//*[text()='Rear Brake Type']/following-sibling::div\") :\n",
    "            rear_brake_type.append(i.text)\n",
    "    except NoSuchElementException:\n",
    "        rear_brake_type.append('-')\n",
    "    \n",
    "        \n",
    "     # Fetching Cylinders of the cars\n",
    "    try:\n",
    "        for i in driver.find_elements(By.XPATH,\"//*[text()='Values per Cylinder']/following-sibling::div\") :\n",
    "            cylinders.append(i.text)\n",
    "    except NoSuchElementException:\n",
    "        cylinders.append('-')\n",
    "        \n",
    "    # Fetching details of cargo volume of the cars\n",
    "    try:\n",
    "        vol = driver.find_element(By.XPATH,\"//*[text()='Cargo Volumn']/following-sibling::div\")\n",
    "        cargo_vol.append(vol.text)\n",
    "    except NoSuchElementException:\n",
    "        cargo_vol.append('-')\n",
    "        \n",
    "    # Fetching top speed of the cars\n",
    "    try:\n",
    "        speed = driver.find_element(By.XPATH,\"//*[text()='Top Speed']/following-sibling::div\")\n",
    "        top_speed.append(speed.text)\n",
    "    except NoSuchElementException:\n",
    "        top_speed.append('-')\n",
    "        \n",
    "    # Fetching height of the cars\n",
    "    try:\n",
    "        hgt = driver.find_element(By.XPATH,\"//*[text()='Height']/following-sibling::div\")\n",
    "        height.append(hgt.text.replace('mm',''))\n",
    "    except NoSuchElementException:\n",
    "        height.append('-')\n",
    "        \n",
    "    # Fetching width of the cars\n",
    "    try:\n",
    "        wth = driver.find_element(By.XPATH,\"//*[text()='Width']/following-sibling::div\")\n",
    "        width.append(wth.text.replace('mm',''))\n",
    "    except NoSuchElementException:\n",
    "        width.append('-')\n",
    "        \n",
    "    # Fetching length of the cars\n",
    "    try:\n",
    "        lth = driver.find_element(By.XPATH,\"//*[text()='Length']/following-sibling::div\")\n",
    "        length.append(lth.text.replace('mm',''))\n",
    "    except NoSuchElementException:\n",
    "        length.append('-')\n",
    "        \n",
    "    # Fetching gross Weight of the cars\n",
    "    try:\n",
    "        weigh = driver.find_element(By.XPATH,\"//*[text()='Gross Weight']/following-sibling::div\")\n",
    "        weight.append(weigh.text.replace('kg',''))\n",
    "    except NoSuchElementException:\n",
    "        weight.append('-')\n",
    "        \n",
    "    # Fetching Inspection score of the cars\n",
    "    try:\n",
    "        Insp = driver.find_element(By.XPATH,\"//div[@class='inspectionRating right-side gsc_col-xs-5 text-right']/span\")\n",
    "        inspection_score.append(insp.text)\n",
    "    except NoSuchElementException:\n",
    "        inspection_score.append('-')   \n",
    "        \n",
    "    # Fetching No of owner of the cars\n",
    "    try:\n",
    "        owner = driver.find_element(By.XPATH,\"//*[text()='No Of Owner(s)']/following-sibling::div\")\n",
    "        owner.append(owner.text)\n",
    "    except NoSuchElementException:\n",
    "        owner.append('-') \n",
    "        \n",
    "    # Fetching No of owner of the cars\n",
    "    try:\n",
    "        make = driver.find_element(By.XPATH,\"//*[text()='Make Year']/following-sibling::div\")\n",
    "        year.append(make.text)\n",
    "    except NoSuchElementException:\n",
    "        year.append('-') "
   ]
  },
  {
   "cell_type": "code",
   "execution_count": 10,
   "id": "6eb18bfa",
   "metadata": {},
   "outputs": [
    {
     "name": "stdout",
     "output_type": "stream",
     "text": [
      "0 0 0 0 0 0 0 0 0 0 0 0 0 0 0 0 0 0\n"
     ]
    }
   ],
   "source": [
    "print(len(milage),len(engine),len(max_power),len(torque),len(seats),len(color),len(front_brake_type),len(rear_brake_type),len(cylinders),len(cargo_vol),len(top_speed),len(height),len(width),len(length),len(weight),len(inspection_score),len(owner),len(year))"
   ]
  },
  {
   "cell_type": "code",
   "execution_count": 18,
   "id": "0be2e556",
   "metadata": {},
   "outputs": [],
   "source": [
    "df=pd.DataFrame({'Brand':brand,'Model':model,'Driven_type':driven,'Fuel_type':fuel,'Gear':gear,'Car_url':car_url,'Milage':milage,'Engine':engine,'Max_power':max_power,'Torque':torque,'Seats':seats,'Color':color,'Front_brake_type':front_brake_type,'Rear_brake_type':rear_brake_type,'Cylinders':cylinders,'Top_speed':top_speed,'Height':height,'Width':width,'Length':length,'Weight':weight,'Inspection_score':inspection_score,'Owner':owner,'Buy_year':year,'Price':price})"
   ]
  },
  {
   "cell_type": "code",
   "execution_count": 19,
   "id": "c27dc475",
   "metadata": {},
   "outputs": [
    {
     "data": {
      "text/html": [
       "<div>\n",
       "<style scoped>\n",
       "    .dataframe tbody tr th:only-of-type {\n",
       "        vertical-align: middle;\n",
       "    }\n",
       "\n",
       "    .dataframe tbody tr th {\n",
       "        vertical-align: top;\n",
       "    }\n",
       "\n",
       "    .dataframe thead th {\n",
       "        text-align: right;\n",
       "    }\n",
       "</style>\n",
       "<table border=\"1\" class=\"dataframe\">\n",
       "  <thead>\n",
       "    <tr style=\"text-align: right;\">\n",
       "      <th></th>\n",
       "      <th>Brand</th>\n",
       "      <th>Model</th>\n",
       "      <th>Driven_type</th>\n",
       "      <th>Fuel_type</th>\n",
       "      <th>Gear</th>\n",
       "      <th>Car_url</th>\n",
       "      <th>Milage</th>\n",
       "      <th>Engine</th>\n",
       "      <th>Max_power</th>\n",
       "      <th>Torque</th>\n",
       "      <th>...</th>\n",
       "      <th>Cylinders</th>\n",
       "      <th>Top_speed</th>\n",
       "      <th>Height</th>\n",
       "      <th>Width</th>\n",
       "      <th>Length</th>\n",
       "      <th>Weight</th>\n",
       "      <th>Inspection_score</th>\n",
       "      <th>Owner</th>\n",
       "      <th>Buy_year</th>\n",
       "      <th>Price</th>\n",
       "    </tr>\n",
       "  </thead>\n",
       "  <tbody>\n",
       "  </tbody>\n",
       "</table>\n",
       "<p>0 rows × 24 columns</p>\n",
       "</div>"
      ],
      "text/plain": [
       "Empty DataFrame\n",
       "Columns: [Brand, Model, Driven_type, Fuel_type, Gear, Car_url, Milage, Engine, Max_power, Torque, Seats, Color, Front_brake_type, Rear_brake_type, Cylinders, Top_speed, Height, Width, Length, Weight, Inspection_score, Owner, Buy_year, Price]\n",
       "Index: []\n",
       "\n",
       "[0 rows x 24 columns]"
      ]
     },
     "execution_count": 19,
     "metadata": {},
     "output_type": "execute_result"
    }
   ],
   "source": [
    "df"
   ]
  },
  {
   "cell_type": "code",
   "execution_count": 20,
   "id": "fbfdc976",
   "metadata": {},
   "outputs": [],
   "source": [
    "# Saving the scraped data into excel file\n",
    "df.to_excel(\"Used_Cars.xlsx\")"
   ]
  },
  {
   "cell_type": "code",
   "execution_count": null,
   "id": "b88414c8",
   "metadata": {},
   "outputs": [],
   "source": []
  }
 ],
 "metadata": {
  "kernelspec": {
   "display_name": "Python 3 (ipykernel)",
   "language": "python",
   "name": "python3"
  },
  "language_info": {
   "codemirror_mode": {
    "name": "ipython",
    "version": 3
   },
   "file_extension": ".py",
   "mimetype": "text/x-python",
   "name": "python",
   "nbconvert_exporter": "python",
   "pygments_lexer": "ipython3",
   "version": "3.9.12"
  }
 },
 "nbformat": 4,
 "nbformat_minor": 5
}
