{
 "cells": [
  {
   "cell_type": "code",
   "execution_count": 1,
   "id": "32d07dd4",
   "metadata": {},
   "outputs": [],
   "source": [
    "import selenium\n",
    "import pandas as pd\n",
    "import numpy as np\n",
    "import warnings\n",
    "warnings.filterwarnings('ignore')\n",
    "from selenium import webdriver\n",
    "from selenium.common.exceptions import StaleElementReferenceException, NoSuchElementException\n",
    "from selenium.webdriver.common.by import By\n",
    "from selenium.webdriver.support.ui import WebDriverWait\n",
    "import time "
   ]
  },
  {
   "cell_type": "code",
   "execution_count": 2,
   "id": "2e93236c",
   "metadata": {},
   "outputs": [],
   "source": [
    "# let first connect to driver\n",
    "driver=webdriver.Chrome(r\"chromedriver.exe\")"
   ]
  },
  {
   "cell_type": "markdown",
   "id": "ae5c454f",
   "metadata": {},
   "source": [
    "# Scraping used car data from www.cardekho.com"
   ]
  },
  {
   "cell_type": "code",
   "execution_count": 3,
   "id": "c289d91a",
   "metadata": {},
   "outputs": [],
   "source": [
    "# opening cardekho page in driver\n",
    "driver.get(\"https://www.cardekho.com/\")\n",
    "time.sleep(3)"
   ]
  },
  {
   "cell_type": "code",
   "execution_count": 4,
   "id": "466fbc45",
   "metadata": {},
   "outputs": [],
   "source": [
    "# opening used car page in cardekho website\n",
    "car_page=driver.find_element(By.CLASS_NAME,\"used-cars-india\")\n",
    "car_page.click()"
   ]
  },
  {
   "cell_type": "code",
   "execution_count": 9,
   "id": "28083a7f",
   "metadata": {},
   "outputs": [],
   "source": [
    "# Blank list for variables\n",
    "Brand=[]\n",
    "Model=[]\n",
    "Price=[]\n",
    "Driven=[]\n",
    "Fuel=[]\n",
    "Gear=[]\n",
    "Car_url=[]\n",
    "\n",
    "f\n",
    "    # scroll more data\n",
    "for _ in range(150):\n",
    "    time.sleep(2)\n",
    "    driver.execute_script(\"window.scrollBy(0,1000)\")\n",
    "    current_url = driver.current_url\n",
    "    # scraping brand name from used car page\n",
    "    brand=driver.find_elements(By.XPATH,'//div[@class=\"gsc_col-xs-7  carsName\"]')\n",
    "    for i in brand:\n",
    "        bran=i.text\n",
    "        Brand.append(bran)\n",
    "    \n",
    "    # scraping model name from used car page\n",
    "    model=driver.find_elements(By.XPATH,'//div[@class=\"car_variant\"]')\n",
    "    for i in model:\n",
    "        Model.append(i.text)\n",
    "    \n",
    "    # scraping price from used car page\n",
    "    price=driver.find_elements(By.XPATH,'//*[@class=\"amnt \"]')\n",
    "    for i in price:\n",
    "        Price.append(i.text)\n",
    "    \n",
    "    # Scraping driven kilometers of the used cars page\n",
    "    for i in driver.find_elements(By.XPATH,'//div[@class=\"truncate dotlist-2\"]//div[1]'):\n",
    "        Driven.append(i.text)\n",
    "    \n",
    "    # Scraping fuel type of the use car page \n",
    "    for i in driver.find_elements(By.XPATH,'//div[@class=\"truncate dotlist-2\"]//div[2]'):\n",
    "        Fuel.append(i.text)\n",
    "    \n",
    "    #Scraping transmission of the used car page\n",
    "    for i in driver.find_elements(By.XPATH,'//div[@class=\"truncate dotlist-2\"]//div[3]'):\n",
    "        Gear.append(i.text)\n",
    "    \n",
    "    # scraping car url from  used car page\n",
    "    car_brand = driver.find_elements(By.XPATH,'//div[@class=\"gsc_col-xs-7  carsName\"]/a')\n",
    "    for i in car_brand:\n",
    "        Car_url.append(i.get_attribute('href'))"
   ]
  },
  {
   "cell_type": "code",
   "execution_count": 10,
   "id": "40431790",
   "metadata": {},
   "outputs": [
    {
     "name": "stdout",
     "output_type": "stream",
     "text": [
      "0 0 0 0 0 0 0\n"
     ]
    }
   ],
   "source": [
    "# for check equal length of variable\n",
    "print(len(Brand),len(Model),len(Price),len(Driven),len(Fuel),len(Gear),len(Car_url))"
   ]
  },
  {
   "cell_type": "markdown",
   "id": "70a3d894",
   "metadata": {},
   "source": [
    "### Now scrap more details from insight of used car"
   ]
  },
  {
   "cell_type": "code",
   "execution_count": 11,
   "id": "54888171",
   "metadata": {},
   "outputs": [],
   "source": [
    "# Creating empty list to scrap the specification of the used cars\n",
    "Milage=[]\n",
    "Engine=[]\n",
    "Max_power=[]\n",
    "Torque=[]\n",
    "Seats=[]\n",
    "Color=[]\n",
    "Gear_speed=[]\n",
    "Drive_type=[]\n",
    "Steering_type=[]\n",
    "Front_brake_type=[]\n",
    "Rear_brake_type=[]\n",
    "Alloy_wheel_size=[]\n",
    "Cylinders=[]\n",
    "Cargo_vol = []\n",
    "Top_speed = []\n",
    "Height = []\n",
    "Width = []\n",
    "Length = []\n",
    "Weight = []\n",
    "Inspection_score = []\n",
    "Owner=[]\n",
    "Year=[]"
   ]
  },
  {
   "cell_type": "code",
   "execution_count": 12,
   "id": "7ee28c6c",
   "metadata": {},
   "outputs": [],
   "source": [
    "# for loop to get car urls\n",
    "for i in Car_url:\n",
    "    driver.get(i)\n",
    "    time.sleep(2)\n",
    "\n",
    "    # Clicking on view all specifications button to view more features of the cars\n",
    "    try:\n",
    "        view_more = driver.find_element(By.XPATH,'//*[text() = \"View All Specifications\" or text() = \"View More\"]')\n",
    "        driver.execute_script(\"arguments[0].scrollIntoView();\", view_more)\n",
    "        driver.execute_script(\"arguments[0].click();\", view_more)\n",
    "        time.sleep(2)\n",
    "    except NoSuchElementException:\n",
    "        pass\n",
    "    \n",
    "    # Fetching Mileage of the cars\n",
    "    try:\n",
    "        mil = driver.find_element(By.XPATH,\"//*[text()='Mileage']/following-sibling::div\")\n",
    "        Milage.append(mil.text)\n",
    "    except NoSuchElementException:\n",
    "        Milage.append('-')\n",
    "\n",
    "    # Fetching engine of the cars\n",
    "    try:\n",
    "        for i in driver.find_elements(By.XPATH,\"//*[text()='Engine']/following-sibling::div\") :\n",
    "            Engine.append(i.text.replace('CC',''))\n",
    "    except NoSuchElementException:\n",
    "        Engine.append('-')\n",
    "        \n",
    "    # Fetching Maximum power of the cars\n",
    "    try:\n",
    "        pwr = driver.find_element(By.XPATH,\"//*[text()='Max Power']/following-sibling::div\")\n",
    "        Max_power.append(pwr.text.replace('bhp',''))\n",
    "    except NoSuchElementException:\n",
    "        Max_power.append('-')\n",
    "        \n",
    "    # Fetching torque of the cars\n",
    "    try:\n",
    "        for i in driver.find_elements(By.XPATH,\"//*[text()='Torque']/following-sibling::div\") :\n",
    "            Torque.append(i.text)\n",
    "    except NoSuchElementException:\n",
    "        Torque.append('-')\n",
    "        \n",
    "        \n",
    "     # Fetching seats of the cars\n",
    "    try:\n",
    "        for i in driver.find_elements(By.XPATH,\"//*[text()='Seats']/following-sibling::div\") :\n",
    "            Seats.append(i.text)\n",
    "    except NoSuchElementException:\n",
    "        Seats.append('-')\n",
    "        \n",
    "     # Fetching color of the cars\n",
    "    try:\n",
    "        for i in driver.find_elements(By.XPATH,\"//*[text()='Color']/following-sibling::div\") :\n",
    "            Color.append(i.text)\n",
    "    except NoSuchElementException:\n",
    "        Color.append('-')\n",
    "        \n",
    "        \n",
    "     # Fetching front brake of the cars\n",
    "    try:\n",
    "        for i in driver.find_elements(By.XPATH,\"//*[text()='Front Brake Type']/following-sibling::div\") :\n",
    "            Front_brake_type.append(i.text)\n",
    "    except NoSuchElementException:\n",
    "        Front_brake_type.append('-')\n",
    "        \n",
    "     # Fetching rear break of the cars\n",
    "    try:\n",
    "        for i in driver.find_elements(By.XPATH,\"//*[text()='Rear Brake Type']/following-sibling::div\") :\n",
    "            Rear_brake_type.append(i.text)\n",
    "    except NoSuchElementException:\n",
    "        Rear_brake_type.append('-')\n",
    "    \n",
    "        \n",
    "     # Fetching Cylinders of the cars\n",
    "    try:\n",
    "        for i in driver.find_elements(By.XPATH,\"//*[text()='Values per Cylinder']/following-sibling::div\") :\n",
    "            Cylinders.append(i.text)\n",
    "    except NoSuchElementException:\n",
    "        Cylinders.append('-')\n",
    "        \n",
    "    # Fetching details of cargo volume of the cars\n",
    "    try:\n",
    "        vol = driver.find_element(By.XPATH,\"//*[text()='Cargo Volumn']/following-sibling::div\")\n",
    "        Cargo_vol.append(vol.text)\n",
    "    except NoSuchElementException:\n",
    "        Cargo_vol.append('-')\n",
    "        \n",
    "    # Fetching top speed of the cars\n",
    "    try:\n",
    "        speed = driver.find_element(By.XPATH,\"//*[text()='Top Speed']/following-sibling::div\")\n",
    "        Top_speed.append(speed.text)\n",
    "    except NoSuchElementException:\n",
    "        Top_speed.append('-')\n",
    "        \n",
    "    # Fetching height of the cars\n",
    "    try:\n",
    "        hgt = driver.find_element(By.XPATH,\"//*[text()='Height']/following-sibling::div\")\n",
    "        Height.append(hgt.text.replace('mm',''))\n",
    "    except NoSuchElementException:\n",
    "        Height.append('-')\n",
    "        \n",
    "    # Fetching width of the cars\n",
    "    try:\n",
    "        wth = driver.find_element(By.XPATH,\"//*[text()='Width']/following-sibling::div\")\n",
    "        Width.append(wth.text.replace('mm',''))\n",
    "    except NoSuchElementException:\n",
    "        Width.append('-')\n",
    "        \n",
    "    # Fetching length of the cars\n",
    "    try:\n",
    "        lth = driver.find_element(By.XPATH,\"//*[text()='Length']/following-sibling::div\")\n",
    "        Length.append(lth.text.replace('mm',''))\n",
    "    except NoSuchElementException:\n",
    "        Length.append('-')\n",
    "        \n",
    "    # Fetching gross Weight of the cars\n",
    "    try:\n",
    "        weigh = driver.find_element(By.XPATH,\"//*[text()='Gross Weight']/following-sibling::div\")\n",
    "        Weight.append(weigh.text.replace('kg',''))\n",
    "    except NoSuchElementException:\n",
    "        Weight.append('-')\n",
    "        \n",
    "    # Fetching Inspection score of the cars\n",
    "    try:\n",
    "        Insp = driver.find_element(By.XPATH,\"//div[@class='inspectionRating right-side gsc_col-xs-5 text-right']/span\")\n",
    "        Inspection_score.append(insp.text)\n",
    "    except NoSuchElementException:\n",
    "        Inspection_score.append('-')   \n",
    "        \n",
    "    # Fetching No of owner of the cars\n",
    "    try:\n",
    "        owner = driver.find_element(By.XPATH,\"//*[text()='No Of Owner(s)']/following-sibling::div\")\n",
    "        Owner.append(owner.text)\n",
    "    except NoSuchElementException:\n",
    "        Owner.append('-') \n",
    "        \n",
    "    # Fetching No of owner of the cars\n",
    "    try:\n",
    "        make = driver.find_element(By.XPATH,\"//*[text()='Make Year']/following-sibling::div\")\n",
    "        Year.append(make.text)\n",
    "    except NoSuchElementException:\n",
    "        Year.append('-') "
   ]
  },
  {
   "cell_type": "code",
   "execution_count": 13,
   "id": "6eb18bfa",
   "metadata": {},
   "outputs": [
    {
     "name": "stdout",
     "output_type": "stream",
     "text": [
      "0 0 0 0 0 0 0 0 0 0 0 0 0 0 0 0 0 0\n"
     ]
    }
   ],
   "source": [
    "print(len(Milage),len(Engine),len(Max_power),len(Torque),len(Seats),len(Color),len(Front_brake_type),len(Rear_brake_type),len(Cylinders),len(Cargo_vol),len(Top_speed),len(Height),len(Width),len(Length),len(Weight),len(Inspection_score),len(Owner),len(Year))"
   ]
  },
  {
   "cell_type": "code",
   "execution_count": 14,
   "id": "ac1285a7",
   "metadata": {},
   "outputs": [
    {
     "ename": "SyntaxError",
     "evalue": "invalid syntax (4284110096.py, line 2)",
     "output_type": "error",
     "traceback": [
      "\u001b[1;36m  Input \u001b[1;32mIn [14]\u001b[1;36m\u001b[0m\n\u001b[1;33m    df=pd.DataFrame({'Brand':Brand,'Model':Model,'Driven_type':Driven,'Fuel_type':Fuel,'Gear':Gear,'Car_url':Car:url,'Milage':Milage,'Engine':Engine,'Max_power':Max_power,'Torque':Torque,'Seats':Seats,'Color':Color,'Front_brake_type':Front_brake_type,'Rear_brake_type':Rear_brake_type,'Cylinders':Cylinders,'Top_speed':Top_speed,'Height':Height,'Width','Length':Length,'Weight':Weight,'Inspection_score':Inspection_score,'Owner':Owner,'Buy_Year':Year,'Price':Price})\u001b[0m\n\u001b[1;37m                                                                                                                ^\u001b[0m\n\u001b[1;31mSyntaxError\u001b[0m\u001b[1;31m:\u001b[0m invalid syntax\n"
     ]
    }
   ],
   "source": [
    "# put into frame\n",
    "df=pd.DataFrame({'Brand':Brand,'Model':Model,'Driven_type':Driven,'Fuel_type':Fuel,'Gear':Gear,'Car_url':Car:url,'Milage':Milage,'Engine':Engine,'Max_power':Max_power,'Torque':Torque,'Seats':Seats,'Color':Color,'Front_brake_type':Front_brake_type,'Rear_brake_type':Rear_brake_type,'Cylinders':Cylinders,'Top_speed':Top_speed,'Height':Height,'Width','Length':Length,'Weight':Weight,'Inspection_score':Inspection_score,'Owner':Owner,'Buy_Year':Year,'Price':Price})"
   ]
  },
  {
   "cell_type": "code",
   "execution_count": null,
   "id": "0be2e556",
   "metadata": {},
   "outputs": [],
   "source": []
  }
 ],
 "metadata": {
  "kernelspec": {
   "display_name": "Python 3 (ipykernel)",
   "language": "python",
   "name": "python3"
  },
  "language_info": {
   "codemirror_mode": {
    "name": "ipython",
    "version": 3
   },
   "file_extension": ".py",
   "mimetype": "text/x-python",
   "name": "python",
   "nbconvert_exporter": "python",
   "pygments_lexer": "ipython3",
   "version": "3.9.12"
  }
 },
 "nbformat": 4,
 "nbformat_minor": 5
}
