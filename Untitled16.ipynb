{
 "cells": [
  {
   "cell_type": "code",
   "execution_count": 1,
   "id": "8e481281",
   "metadata": {},
   "outputs": [],
   "source": [
    "#  import libaries\n",
    "import pandas as pd\n",
    "import numpy as np\n",
    "import matplotlib.pyplot as plt\n",
    "import seaborn as sns\n",
    "\n",
    "import warnings\n",
    "warnings.filterwarnings('ignore')"
   ]
  },
  {
   "cell_type": "code",
   "execution_count": 2,
   "id": "69e0e1ae",
   "metadata": {},
   "outputs": [],
   "source": [
    "import sklearn\n",
    "from sklearn.linear_model import LinearRegression\n",
    "from sklearn.model_selection import train_test_split\n",
    "from sklearn.metrics import mean_absolute_error,mean_squared_error,r2_score"
   ]
  },
  {
   "cell_type": "code",
   "execution_count": 3,
   "id": "283e99bc",
   "metadata": {},
   "outputs": [
    {
     "data": {
      "text/html": [
       "<div>\n",
       "<style scoped>\n",
       "    .dataframe tbody tr th:only-of-type {\n",
       "        vertical-align: middle;\n",
       "    }\n",
       "\n",
       "    .dataframe tbody tr th {\n",
       "        vertical-align: top;\n",
       "    }\n",
       "\n",
       "    .dataframe thead th {\n",
       "        text-align: right;\n",
       "    }\n",
       "</style>\n",
       "<table border=\"1\" class=\"dataframe\">\n",
       "  <thead>\n",
       "    <tr style=\"text-align: right;\">\n",
       "      <th></th>\n",
       "      <th>fixed acidity</th>\n",
       "      <th>volatile acidity</th>\n",
       "      <th>citric acid</th>\n",
       "      <th>residual sugar</th>\n",
       "      <th>chlorides</th>\n",
       "      <th>free sulfur dioxide</th>\n",
       "      <th>total sulfur dioxide</th>\n",
       "      <th>density</th>\n",
       "      <th>pH</th>\n",
       "      <th>sulphates</th>\n",
       "      <th>alcohol</th>\n",
       "      <th>quality</th>\n",
       "    </tr>\n",
       "  </thead>\n",
       "  <tbody>\n",
       "    <tr>\n",
       "      <th>0</th>\n",
       "      <td>7.4</td>\n",
       "      <td>0.700</td>\n",
       "      <td>0.00</td>\n",
       "      <td>1.9</td>\n",
       "      <td>0.076</td>\n",
       "      <td>11.0</td>\n",
       "      <td>34.0</td>\n",
       "      <td>0.99780</td>\n",
       "      <td>3.51</td>\n",
       "      <td>0.56</td>\n",
       "      <td>9.4</td>\n",
       "      <td>5</td>\n",
       "    </tr>\n",
       "    <tr>\n",
       "      <th>1</th>\n",
       "      <td>7.8</td>\n",
       "      <td>0.880</td>\n",
       "      <td>0.00</td>\n",
       "      <td>2.6</td>\n",
       "      <td>0.098</td>\n",
       "      <td>25.0</td>\n",
       "      <td>67.0</td>\n",
       "      <td>0.99680</td>\n",
       "      <td>3.20</td>\n",
       "      <td>0.68</td>\n",
       "      <td>9.8</td>\n",
       "      <td>5</td>\n",
       "    </tr>\n",
       "    <tr>\n",
       "      <th>2</th>\n",
       "      <td>7.8</td>\n",
       "      <td>0.760</td>\n",
       "      <td>0.04</td>\n",
       "      <td>2.3</td>\n",
       "      <td>0.092</td>\n",
       "      <td>15.0</td>\n",
       "      <td>54.0</td>\n",
       "      <td>0.99700</td>\n",
       "      <td>3.26</td>\n",
       "      <td>0.65</td>\n",
       "      <td>9.8</td>\n",
       "      <td>5</td>\n",
       "    </tr>\n",
       "    <tr>\n",
       "      <th>3</th>\n",
       "      <td>11.2</td>\n",
       "      <td>0.280</td>\n",
       "      <td>0.56</td>\n",
       "      <td>1.9</td>\n",
       "      <td>0.075</td>\n",
       "      <td>17.0</td>\n",
       "      <td>60.0</td>\n",
       "      <td>0.99800</td>\n",
       "      <td>3.16</td>\n",
       "      <td>0.58</td>\n",
       "      <td>9.8</td>\n",
       "      <td>6</td>\n",
       "    </tr>\n",
       "    <tr>\n",
       "      <th>4</th>\n",
       "      <td>7.4</td>\n",
       "      <td>0.700</td>\n",
       "      <td>0.00</td>\n",
       "      <td>1.9</td>\n",
       "      <td>0.076</td>\n",
       "      <td>11.0</td>\n",
       "      <td>34.0</td>\n",
       "      <td>0.99780</td>\n",
       "      <td>3.51</td>\n",
       "      <td>0.56</td>\n",
       "      <td>9.4</td>\n",
       "      <td>5</td>\n",
       "    </tr>\n",
       "    <tr>\n",
       "      <th>...</th>\n",
       "      <td>...</td>\n",
       "      <td>...</td>\n",
       "      <td>...</td>\n",
       "      <td>...</td>\n",
       "      <td>...</td>\n",
       "      <td>...</td>\n",
       "      <td>...</td>\n",
       "      <td>...</td>\n",
       "      <td>...</td>\n",
       "      <td>...</td>\n",
       "      <td>...</td>\n",
       "      <td>...</td>\n",
       "    </tr>\n",
       "    <tr>\n",
       "      <th>1594</th>\n",
       "      <td>6.2</td>\n",
       "      <td>0.600</td>\n",
       "      <td>0.08</td>\n",
       "      <td>2.0</td>\n",
       "      <td>0.090</td>\n",
       "      <td>32.0</td>\n",
       "      <td>44.0</td>\n",
       "      <td>0.99490</td>\n",
       "      <td>3.45</td>\n",
       "      <td>0.58</td>\n",
       "      <td>10.5</td>\n",
       "      <td>5</td>\n",
       "    </tr>\n",
       "    <tr>\n",
       "      <th>1595</th>\n",
       "      <td>5.9</td>\n",
       "      <td>0.550</td>\n",
       "      <td>0.10</td>\n",
       "      <td>2.2</td>\n",
       "      <td>0.062</td>\n",
       "      <td>39.0</td>\n",
       "      <td>51.0</td>\n",
       "      <td>0.99512</td>\n",
       "      <td>3.52</td>\n",
       "      <td>0.76</td>\n",
       "      <td>11.2</td>\n",
       "      <td>6</td>\n",
       "    </tr>\n",
       "    <tr>\n",
       "      <th>1596</th>\n",
       "      <td>6.3</td>\n",
       "      <td>0.510</td>\n",
       "      <td>0.13</td>\n",
       "      <td>2.3</td>\n",
       "      <td>0.076</td>\n",
       "      <td>29.0</td>\n",
       "      <td>40.0</td>\n",
       "      <td>0.99574</td>\n",
       "      <td>3.42</td>\n",
       "      <td>0.75</td>\n",
       "      <td>11.0</td>\n",
       "      <td>6</td>\n",
       "    </tr>\n",
       "    <tr>\n",
       "      <th>1597</th>\n",
       "      <td>5.9</td>\n",
       "      <td>0.645</td>\n",
       "      <td>0.12</td>\n",
       "      <td>2.0</td>\n",
       "      <td>0.075</td>\n",
       "      <td>32.0</td>\n",
       "      <td>44.0</td>\n",
       "      <td>0.99547</td>\n",
       "      <td>3.57</td>\n",
       "      <td>0.71</td>\n",
       "      <td>10.2</td>\n",
       "      <td>5</td>\n",
       "    </tr>\n",
       "    <tr>\n",
       "      <th>1598</th>\n",
       "      <td>6.0</td>\n",
       "      <td>0.310</td>\n",
       "      <td>0.47</td>\n",
       "      <td>3.6</td>\n",
       "      <td>0.067</td>\n",
       "      <td>18.0</td>\n",
       "      <td>42.0</td>\n",
       "      <td>0.99549</td>\n",
       "      <td>3.39</td>\n",
       "      <td>0.66</td>\n",
       "      <td>11.0</td>\n",
       "      <td>6</td>\n",
       "    </tr>\n",
       "  </tbody>\n",
       "</table>\n",
       "<p>1599 rows × 12 columns</p>\n",
       "</div>"
      ],
      "text/plain": [
       "      fixed acidity  volatile acidity  citric acid  residual sugar  chlorides  \\\n",
       "0               7.4             0.700         0.00             1.9      0.076   \n",
       "1               7.8             0.880         0.00             2.6      0.098   \n",
       "2               7.8             0.760         0.04             2.3      0.092   \n",
       "3              11.2             0.280         0.56             1.9      0.075   \n",
       "4               7.4             0.700         0.00             1.9      0.076   \n",
       "...             ...               ...          ...             ...        ...   \n",
       "1594            6.2             0.600         0.08             2.0      0.090   \n",
       "1595            5.9             0.550         0.10             2.2      0.062   \n",
       "1596            6.3             0.510         0.13             2.3      0.076   \n",
       "1597            5.9             0.645         0.12             2.0      0.075   \n",
       "1598            6.0             0.310         0.47             3.6      0.067   \n",
       "\n",
       "      free sulfur dioxide  total sulfur dioxide  density    pH  sulphates  \\\n",
       "0                    11.0                  34.0  0.99780  3.51       0.56   \n",
       "1                    25.0                  67.0  0.99680  3.20       0.68   \n",
       "2                    15.0                  54.0  0.99700  3.26       0.65   \n",
       "3                    17.0                  60.0  0.99800  3.16       0.58   \n",
       "4                    11.0                  34.0  0.99780  3.51       0.56   \n",
       "...                   ...                   ...      ...   ...        ...   \n",
       "1594                 32.0                  44.0  0.99490  3.45       0.58   \n",
       "1595                 39.0                  51.0  0.99512  3.52       0.76   \n",
       "1596                 29.0                  40.0  0.99574  3.42       0.75   \n",
       "1597                 32.0                  44.0  0.99547  3.57       0.71   \n",
       "1598                 18.0                  42.0  0.99549  3.39       0.66   \n",
       "\n",
       "      alcohol  quality  \n",
       "0         9.4        5  \n",
       "1         9.8        5  \n",
       "2         9.8        5  \n",
       "3         9.8        6  \n",
       "4         9.4        5  \n",
       "...       ...      ...  \n",
       "1594     10.5        5  \n",
       "1595     11.2        6  \n",
       "1596     11.0        6  \n",
       "1597     10.2        5  \n",
       "1598     11.0        6  \n",
       "\n",
       "[1599 rows x 12 columns]"
      ]
     },
     "execution_count": 3,
     "metadata": {},
     "output_type": "execute_result"
    }
   ],
   "source": [
    "# loaded data\n",
    "ds=pd.read_csv('winequality.csv')\n",
    "\n",
    "# put data into dataframe\n",
    "df=pd.DataFrame(data=ds)\n",
    "df"
   ]
  },
  {
   "cell_type": "code",
   "execution_count": 4,
   "id": "5ea8cb32",
   "metadata": {},
   "outputs": [
    {
     "data": {
      "text/plain": [
       "fixed acidity           float64\n",
       "volatile acidity        float64\n",
       "citric acid             float64\n",
       "residual sugar          float64\n",
       "chlorides               float64\n",
       "free sulfur dioxide     float64\n",
       "total sulfur dioxide    float64\n",
       "density                 float64\n",
       "pH                      float64\n",
       "sulphates               float64\n",
       "alcohol                 float64\n",
       "quality                   int64\n",
       "dtype: object"
      ]
     },
     "execution_count": 4,
     "metadata": {},
     "output_type": "execute_result"
    }
   ],
   "source": [
    "df.dtypes"
   ]
  },
  {
   "cell_type": "raw",
   "id": "b1d6dc93",
   "metadata": {},
   "source": [
    "Our dataset have float value except target - quality and there are no categorical data is present in dataset"
   ]
  },
  {
   "cell_type": "code",
   "execution_count": null,
   "id": "ba4941c9",
   "metadata": {},
   "outputs": [],
   "source": []
  },
  {
   "cell_type": "code",
   "execution_count": 5,
   "id": "78888ca6",
   "metadata": {},
   "outputs": [
    {
     "name": "stdout",
     "output_type": "stream",
     "text": [
      "<class 'pandas.core.frame.DataFrame'>\n",
      "RangeIndex: 1599 entries, 0 to 1598\n",
      "Data columns (total 12 columns):\n",
      " #   Column                Non-Null Count  Dtype  \n",
      "---  ------                --------------  -----  \n",
      " 0   fixed acidity         1599 non-null   float64\n",
      " 1   volatile acidity      1599 non-null   float64\n",
      " 2   citric acid           1599 non-null   float64\n",
      " 3   residual sugar        1599 non-null   float64\n",
      " 4   chlorides             1599 non-null   float64\n",
      " 5   free sulfur dioxide   1599 non-null   float64\n",
      " 6   total sulfur dioxide  1599 non-null   float64\n",
      " 7   density               1599 non-null   float64\n",
      " 8   pH                    1599 non-null   float64\n",
      " 9   sulphates             1599 non-null   float64\n",
      " 10  alcohol               1599 non-null   float64\n",
      " 11  quality               1599 non-null   int64  \n",
      "dtypes: float64(11), int64(1)\n",
      "memory usage: 150.0 KB\n"
     ]
    }
   ],
   "source": [
    "df.info()"
   ]
  },
  {
   "cell_type": "raw",
   "id": "6e1222f3",
   "metadata": {},
   "source": [
    "we have 1598 row  and 12 columns. in this no null value  are present\n",
    "Here 11 variable columns have float value and only one variable contain value in int form"
   ]
  },
  {
   "cell_type": "code",
   "execution_count": null,
   "id": "69cdfe4f",
   "metadata": {},
   "outputs": [],
   "source": []
  },
  {
   "cell_type": "code",
   "execution_count": 6,
   "id": "741b189c",
   "metadata": {},
   "outputs": [
    {
     "name": "stdout",
     "output_type": "stream",
     "text": [
      "fixed acidity           0\n",
      "volatile acidity        0\n",
      "citric acid             0\n",
      "residual sugar          0\n",
      "chlorides               0\n",
      "free sulfur dioxide     0\n",
      "total sulfur dioxide    0\n",
      "density                 0\n",
      "pH                      0\n",
      "sulphates               0\n",
      "alcohol                 0\n",
      "quality                 0\n",
      "dtype: int64\n"
     ]
    },
    {
     "data": {
      "text/plain": [
       "<AxesSubplot:>"
      ]
     },
     "execution_count": 6,
     "metadata": {},
     "output_type": "execute_result"
    },
    {
     "data": {
      "image/png": "[encoded data removed]",
      "text/plain": [
       "<Figure size 432x288 with 2 Axes>"
      ]
     },
     "metadata": {
      "needs_background": "light"
     },
     "output_type": "display_data"
    }
   ],
   "source": [
    "# check null value with value and visualization\n",
    "print(df.isnull().sum())\n",
    "sns.heatmap(df.isnull())"
   ]
  },
  {
   "cell_type": "raw",
   "id": "75f1d1e3",
   "metadata": {},
   "source": [
    "By this visulaization we see that in our dataset  null values are not present"
   ]
  },
  {
   "cell_type": "code",
   "execution_count": null,
   "id": "5b840728",
   "metadata": {},
   "outputs": [],
   "source": []
  },
  {
   "cell_type": "code",
   "execution_count": 7,
   "id": "3ceb3719",
   "metadata": {},
   "outputs": [
    {
     "name": "stdout",
     "output_type": "stream",
     "text": [
      "[5 6 7 4 8 3]\n",
      "6\n"
     ]
    }
   ],
   "source": [
    "# check unique value in target-quality\n",
    "print(df['quality'].unique())\n",
    "print(df['quality'].nunique())"
   ]
  },
  {
   "cell_type": "raw",
   "id": "7cdd967b",
   "metadata": {},
   "source": [
    "in our target have 6 values,which contain numbers-[3,4,5,6,7,8]"
   ]
  },
  {
   "cell_type": "code",
   "execution_count": 8,
   "id": "c5cba3fb",
   "metadata": {},
   "outputs": [
    {
     "name": "stdout",
     "output_type": "stream",
     "text": [
      "5    681\n",
      "6    638\n",
      "7    199\n",
      "4     53\n",
      "8     18\n",
      "3     10\n",
      "Name: quality, dtype: int64\n"
     ]
    },
    {
     "data": {
      "text/plain": [
       "<AxesSubplot:xlabel='quality', ylabel='count'>"
      ]
     },
     "execution_count": 8,
     "metadata": {},
     "output_type": "execute_result"
    },
    {
     "data": {
      "image/png": "[encoded data removed]",
      "text/plain": [
       "<Figure size 432x288 with 1 Axes>"
      ]
     },
     "metadata": {
      "needs_background": "light"
     },
     "output_type": "display_data"
    }
   ],
   "source": [
    "# for better understanding we plot count visulaization\n",
    "print(df['quality'].value_counts())\n",
    "sns.countplot(df['quality'])"
   ]
  },
  {
   "cell_type": "raw",
   "id": "7206665c",
   "metadata": {},
   "source": [
    "As we see that our target value is not same,they have diffrent rows"
   ]
  },
  {
   "cell_type": "code",
   "execution_count": null,
   "id": "c5c3874d",
   "metadata": {},
   "outputs": [],
   "source": []
  },
  {
   "cell_type": "markdown",
   "id": "81101dc0",
   "metadata": {},
   "source": [
    "# VISULAIZATION"
   ]
  },
  {
   "cell_type": "markdown",
   "id": "d88bb09a",
   "metadata": {},
   "source": [
    "### Uni varient Analysis"
   ]
  },
  {
   "cell_type": "code",
   "execution_count": 9,
   "id": "7d903bb5",
   "metadata": {},
   "outputs": [],
   "source": [
    "col=df.columns\n",
    "nrow=20\n",
    "ncol=30"
   ]
  },
  {
   "cell_type": "code",
   "execution_count": null,
   "id": "d4033bbd",
   "metadata": {},
   "outputs": [],
   "source": [
    "plt.figure(figsize=(ncol,3*ncol))\n",
    "for i in range(len(col)):\n",
    "    plt.subplot(nrow,ncol,i+1)\n",
    "    plt.title(i)\n",
    "    sns.boxplot(data=df[col[i]],color='r',orient='v')\n",
    "    plt.savefig('Wine quality')\n",
    "    plt.tight_layout()"
   ]
  },
  {
   "cell_type": "raw",
   "id": "1eda6f34",
   "metadata": {},
   "source": [
    "By the help of boxplot we analyse that in our dataset contain ouliers, we remove it later"
   ]
  },
  {
   "cell_type": "code",
   "execution_count": null,
   "id": "5920363e",
   "metadata": {},
   "outputs": [],
   "source": []
  },
  {
   "cell_type": "markdown",
   "id": "39afdf7b",
   "metadata": {},
   "source": [
    "### Bi-Varient Analysis--->Scatter plot"
   ]
  },
  {
   "cell_type": "code",
   "execution_count": null,
   "id": "82566e6d",
   "metadata": {},
   "outputs": [],
   "source": [
    "sns.scatterplot(data=df,x='fixed acidity' ,y='quality')"
   ]
  },
  {
   "cell_type": "raw",
   "id": "4308ff1e",
   "metadata": {},
   "source": [
    "Obseravation:- My quality number is 3 then my fixed acidity is low value 12 approx.\n",
    "               My quality number is 4,8 then fixed acidity increase,both have same approx value 13.\n",
    "               My quality number is 5,7 then fixed acidity is very high value 16.\n",
    "               My quality number is 6 then fixed acidity is high but less than 5,7. at this stage value 14.\n",
    "\n",
    "Sequence of quality:-5>7>6>4>8>"
   ]
  },
  {
   "cell_type": "code",
   "execution_count": null,
   "id": "25fd8af2",
   "metadata": {},
   "outputs": [],
   "source": [
    "sns.scatterplot(data=df,x='volatile acidity' ,y='quality')"
   ]
  },
  {
   "cell_type": "raw",
   "id": "d4d1615a",
   "metadata": {},
   "source": [
    "Observation:- When my quality  is  decresre from 8 to 3 then my volatile acidity value is on very high value 1.6\n",
    "              when my quality is at 8 then it have very low volatile value 1.0\n",
    "              \n",
    "Sequence of quality:-3>5>4>6>7>8"
   ]
  },
  {
   "cell_type": "code",
   "execution_count": null,
   "id": "4a015787",
   "metadata": {},
   "outputs": [],
   "source": [
    "sns.scatterplot(data=df,x='citric acid' ,y='quality')"
   ]
  },
  {
   "cell_type": "raw",
   "id": "f38719e3",
   "metadata": {},
   "source": [
    "Observation:-Citic acid value is very low at number 0.75 when my quality number is 3 and 8\n",
    "             Citic acid value is very high at number 1.0 when my quality number is 4\n",
    "             Citic acid value is same  at number 0.8 when my quality number is 5,6 and 7\n",
    "\n",
    "Sequence of quality:-4>5>6>7>8>3"
   ]
  },
  {
   "cell_type": "code",
   "execution_count": null,
   "id": "5769c3f3",
   "metadata": {},
   "outputs": [],
   "source": [
    "sns.scatterplot(data=df,x='residual sugar' ,y='quality')"
   ]
  },
  {
   "cell_type": "raw",
   "id": "374286f2",
   "metadata": {},
   "source": [
    "Obseravtion:-Residual sugar value is very low at no.6 when my quality is 3 and 8\n",
    "             Residual sugar value is very high at no. 16 when my quality is 5 and 6\n",
    "             \n",
    "Sequence of quality:-5>6>4>7>8>3           "
   ]
  },
  {
   "cell_type": "code",
   "execution_count": null,
   "id": "32edae3f",
   "metadata": {},
   "outputs": [],
   "source": [
    "sns.scatterplot(data=df,x='chlorides' ,y='quality')"
   ]
  },
  {
   "cell_type": "raw",
   "id": "a0d5210c",
   "metadata": {},
   "source": [
    "Observation:-Chlorides  value is very low at no.0.1 when my quality no. is 8\n",
    "             Chlorides value is very high at no. 0.6 when my quality no. is 5 and 4\n",
    "             \n",
    "Sequence of quality:-5=4>6>7>3>8             "
   ]
  },
  {
   "cell_type": "code",
   "execution_count": null,
   "id": "3d6dea39",
   "metadata": {},
   "outputs": [],
   "source": [
    "sns.scatterplot(data=df,x='total sulfur dioxide' ,y='quality')"
   ]
  },
  {
   "cell_type": "raw",
   "id": "8a88def7",
   "metadata": {},
   "source": [
    "Observation:-Total sulfur dioxide is very low at no. 50 when my quality is 3\n",
    "             Total sulfur dioxide is very high at no. 300 when my quallity is 7\n",
    "             \n",
    "Sequence of quality:-7>6>5>4>7>8>3            "
   ]
  },
  {
   "cell_type": "code",
   "execution_count": null,
   "id": "62760ad7",
   "metadata": {},
   "outputs": [],
   "source": [
    "sns.scatterplot(data=df,x='density' ,y='quality')"
   ]
  },
  {
   "cell_type": "raw",
   "id": "e71a1ae3",
   "metadata": {},
   "source": [
    "Observation:-Density is very less when quality no. is 3 but when quality no. is 6 it is very high\n",
    "\n",
    "Sequence of quality:-6>7>58>4>3"
   ]
  },
  {
   "cell_type": "code",
   "execution_count": null,
   "id": "4bbca29e",
   "metadata": {},
   "outputs": [],
   "source": [
    "sns.scatterplot(data=df,x='pH' ,y='quality')"
   ]
  },
  {
   "cell_type": "raw",
   "id": "927548c9",
   "metadata": {},
   "source": [
    "Observation:-pH value is very high  when quality is 6 but less when quality is 3 it is very less\n",
    "\n",
    "Sequence of quality:-6>4>7>8>5>3"
   ]
  },
  {
   "cell_type": "code",
   "execution_count": null,
   "id": "56accd0a",
   "metadata": {},
   "outputs": [],
   "source": []
  },
  {
   "cell_type": "markdown",
   "id": "0740719e",
   "metadata": {},
   "source": [
    "# SUMMARY OF  STATISTIC "
   ]
  },
  {
   "cell_type": "code",
   "execution_count": null,
   "id": "4e4f0c8e",
   "metadata": {},
   "outputs": [],
   "source": [
    "df.describe()"
   ]
  },
  {
   "cell_type": "raw",
   "id": "c8baa977",
   "metadata": {},
   "source": [
    "Observation:\n",
    "1.Right side skew i.e mean>median:-fixed acidity,volitle acidity,citric acid,residual sugar,chlorides,free sulfur dioxide,\n",
    "                                   total sulfur dioxide,density,pH,\n",
    "2.Left side skew i.e median>mean:-quality\n",
    "    \n",
    "3.Outliers:-citric acid,residual sugar,free sulfur dioxide,total sulfur dioxide,sulphates"
   ]
  },
  {
   "cell_type": "code",
   "execution_count": null,
   "id": "303d1dce",
   "metadata": {},
   "outputs": [],
   "source": [
    "# for better understand plot heatmap\n",
    "plt.figure(figsize=(15,5))\n",
    "sns.heatmap(data=df.describe()[1:],linewidth=2,annot=True,linecolor='r')\n",
    "plt.title('Wine Quality Statistic Summary')\n",
    "plt.savefig('Wine Quality Statistic Summary')\n",
    "plt.show()"
   ]
  },
  {
   "cell_type": "code",
   "execution_count": null,
   "id": "a29b2387",
   "metadata": {},
   "outputs": [],
   "source": []
  },
  {
   "cell_type": "markdown",
   "id": "cce97857",
   "metadata": {},
   "source": [
    "# CORRELATION "
   ]
  },
  {
   "cell_type": "code",
   "execution_count": null,
   "id": "3d48c877",
   "metadata": {},
   "outputs": [],
   "source": [
    "# correlation between dataset\n",
    "df.corr()"
   ]
  },
  {
   "cell_type": "code",
   "execution_count": null,
   "id": "e163dd60",
   "metadata": {},
   "outputs": [],
   "source": [
    "# better unserstand plot haetmap\n",
    "plt.figure(figsize=(15,5))\n",
    "sns.heatmap(df.corr(),annot=True,linewidth=1,linecolor='yellow')\n",
    "plt.title('Correlation between dataset')\n",
    "plt.savefig('Correlation between dataset')\n",
    "plt.show()"
   ]
  },
  {
   "cell_type": "raw",
   "id": "ebe0db6c",
   "metadata": {},
   "source": [
    "Observation from correaltion with target value:\n",
    "1.Fixed acidity has 12% correlation with the target column which can be considered as a good bond.\n",
    "2.Volatile acidity has -39% correlation with the target column which can be considered as a good  bond in negative.\n",
    "3.Citric acid has 23% correlation with the target column which can be considered as a good bond.\n",
    "4.Residual sugar has 1.4% correlation with the target column which can be considered as a weak bond.\n",
    "5.Chlorides has -13% correlation with the target column which can be considered as a weak bond.\n",
    "6.Free sulfur dioxide has -5.1% correlation with the target column which can be considered as a weak bond.\n",
    "7.Total sulfur dioxide has -19% correlation with the target column which can be considered as a good bond.\n",
    "8.Density has -17% correlation with the target column which can be considered as a good bond.\n",
    "9.pH has -5.8% correlation with the target column which can be considered as a weak bond.\n",
    "10.Sulphates has 25% correlation with the target column which can be considered as a good bond.\n",
    "11.Alchol has 48% correlation with the target column which can be considered as a strong bond."
   ]
  },
  {
   "cell_type": "raw",
   "id": "4ae72b86",
   "metadata": {},
   "source": [
    "Here free sulfur dioxide and pH has very less corelated with target, so we remove it."
   ]
  },
  {
   "cell_type": "code",
   "execution_count": null,
   "id": "763aabae",
   "metadata": {},
   "outputs": [],
   "source": [
    "df=df.drop(['free sulfur dioxide','pH'],axis=1)\n",
    "df"
   ]
  },
  {
   "cell_type": "code",
   "execution_count": null,
   "id": "06bc94a7",
   "metadata": {},
   "outputs": [],
   "source": []
  },
  {
   "cell_type": "markdown",
   "id": "5053348c",
   "metadata": {},
   "source": [
    "# OUTLIERS"
   ]
  },
  {
   "cell_type": "code",
   "execution_count": null,
   "id": "d8ec48b6",
   "metadata": {},
   "outputs": [],
   "source": [
    "# remove outliers with help of zscore\n",
    "from scipy.stats import zscore"
   ]
  },
  {
   "cell_type": "code",
   "execution_count": null,
   "id": "0ce816cf",
   "metadata": {},
   "outputs": [],
   "source": [
    "x1=df.drop('quality',axis=1)"
   ]
  },
  {
   "cell_type": "code",
   "execution_count": null,
   "id": "3aa18951",
   "metadata": {},
   "outputs": [],
   "source": [
    "(np.abs(zscore(x1))<3).all().all()"
   ]
  },
  {
   "cell_type": "raw",
   "id": "27922651",
   "metadata": {},
   "source": [
    "we have outliers so we remove first of before apply skewness and its transform method"
   ]
  },
  {
   "cell_type": "code",
   "execution_count": null,
   "id": "7e2a9f91",
   "metadata": {},
   "outputs": [],
   "source": [
    "z=np.abs(zscore(df))\n",
    "threshold=3\n",
    "np.where(z>3)"
   ]
  },
  {
   "cell_type": "code",
   "execution_count": null,
   "id": "eeea1205",
   "metadata": {},
   "outputs": [],
   "source": [
    "df_new=df[(z<3).all(axis=1)]\n",
    "df_new"
   ]
  },
  {
   "cell_type": "code",
   "execution_count": null,
   "id": "e090d2ce",
   "metadata": {},
   "outputs": [],
   "source": [
    "df.shape"
   ]
  },
  {
   "cell_type": "code",
   "execution_count": null,
   "id": "76f1949f",
   "metadata": {},
   "outputs": [],
   "source": [
    "df_new.shape"
   ]
  },
  {
   "cell_type": "code",
   "execution_count": null,
   "id": "5675425f",
   "metadata": {},
   "outputs": [],
   "source": [
    "data_loss=((1599-1471)/1599)*100\n",
    "print('Data_loss',data_loss)"
   ]
  },
  {
   "cell_type": "raw",
   "id": "4ed5016a",
   "metadata": {},
   "source": [
    "my data_loss is very high so we take another outliers removal method"
   ]
  },
  {
   "cell_type": "markdown",
   "id": "1446660f",
   "metadata": {},
   "source": [
    "# IQR METHOD"
   ]
  },
  {
   "cell_type": "code",
   "execution_count": null,
   "id": "bf6641f7",
   "metadata": {},
   "outputs": [],
   "source": []
  },
  {
   "cell_type": "code",
   "execution_count": null,
   "id": "e7cf61f5",
   "metadata": {},
   "outputs": [],
   "source": []
  },
  {
   "cell_type": "code",
   "execution_count": null,
   "id": "2a6fec5c",
   "metadata": {},
   "outputs": [],
   "source": [
    "Q1=df.quantile(0.25)\n",
    "Q1"
   ]
  },
  {
   "cell_type": "code",
   "execution_count": null,
   "id": "86928b8c",
   "metadata": {},
   "outputs": [],
   "source": [
    "Q2=df.quantile(0.75)\n",
    "Q2"
   ]
  },
  {
   "cell_type": "code",
   "execution_count": null,
   "id": "1b3f0691",
   "metadata": {},
   "outputs": [],
   "source": [
    "IQR=Q2-Q1\n",
    "IQR"
   ]
  },
  {
   "cell_type": "code",
   "execution_count": null,
   "id": "9ec8bb99",
   "metadata": {},
   "outputs": [],
   "source": [
    "IQR.shape"
   ]
  },
  {
   "cell_type": "code",
   "execution_count": null,
   "id": "ad966aad",
   "metadata": {},
   "outputs": [],
   "source": [
    "x=IQR.drop('quality',axis=1)"
   ]
  },
  {
   "cell_type": "code",
   "execution_count": null,
   "id": "1d7e90c2",
   "metadata": {},
   "outputs": [],
   "source": [
    "y=IQR.quality"
   ]
  },
  {
   "cell_type": "code",
   "execution_count": null,
   "id": "99e6bcba",
   "metadata": {},
   "outputs": [],
   "source": []
  },
  {
   "cell_type": "markdown",
   "id": "4db1f9a3",
   "metadata": {},
   "source": [
    "# CHECK SKWENESS"
   ]
  },
  {
   "cell_type": "code",
   "execution_count": null,
   "id": "fbea7e98",
   "metadata": {},
   "outputs": [],
   "source": [
    "x.skew()"
   ]
  },
  {
   "cell_type": "code",
   "execution_count": null,
   "id": "dc2c9417",
   "metadata": {},
   "outputs": [],
   "source": []
  }
 ],
 "metadata": {
  "kernelspec": {
   "display_name": "Python 3 (ipykernel)",
   "language": "python",
   "name": "python3"
  },
  "language_info": {
   "codemirror_mode": {
    "name": "ipython",
    "version": 3
   },
   "file_extension": ".py",
   "mimetype": "text/x-python",
   "name": "python",
   "nbconvert_exporter": "python",
   "pygments_lexer": "ipython3",
   "version": "3.9.7"
  }
 },
 "nbformat": 4,
 "nbformat_minor": 5
}
